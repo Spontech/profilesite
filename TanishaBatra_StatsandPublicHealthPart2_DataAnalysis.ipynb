{
 "cells": [
  {
   "cell_type": "markdown",
   "id": "40a498d4",
   "metadata": {},
   "source": [
    "# Stats and Public Health Part 2 - Data Analysis"
   ]
  },
  {
   "cell_type": "markdown",
   "id": "ccd0d3f3",
   "metadata": {},
   "source": [
    "West Nile Virus (WNV) is a viral illness largely spread by mosquitoes. The disease is transmitted to a person when an infected mosquito bites them.\n",
    "\n",
    "The city of Chicago, Illinois has been keeping track of mosquito populations and WNV prevalence using a series of traps that they place around the city. They are then able to study the captured specimens and monitor the state of WNV spread in the city.\n",
    "\n",
    "This report is based on mosquito tracking data from 2008 to 2019 - it's important to keep this in mind while performing data analysis."
   ]
  },
  {
   "cell_type": "markdown",
   "id": "d7484c3a",
   "metadata": {},
   "source": [
    "This report will provide a series of analyses on the relationship between the different variables and the mosquito number, as well as the probability of finding West Nile Virus (WNV) at any particular time and location."
   ]
  },
  {
   "cell_type": "markdown",
   "id": "24afc38d",
   "metadata": {},
   "source": [
    "Notes: Majority of the code and markdown has been derived from the Brainstation lectures. If inspiration is taken from an outside source, then it will be mentioned in markdown. Most of the verbatim markdown will be notes with the (FL) *from lecture* notation. Code taken from the previous assignment will be noted with the (PA) *previous assignment* notation."
   ]
  },
  {
   "cell_type": "markdown",
   "id": "f56d70a0",
   "metadata": {},
   "source": [
    "## Part 0: Initial Exploration"
   ]
  },
  {
   "cell_type": "markdown",
   "id": "84a351bc",
   "metadata": {},
   "source": [
    "### Getting a look and feel of the data"
   ]
  },
  {
   "cell_type": "code",
   "execution_count": 384,
   "id": "864862d3",
   "metadata": {},
   "outputs": [],
   "source": [
    "#importing relevant libraries\n",
    "import numpy as np\n",
    "import pandas as pd\n",
    "import matplotlib.pyplot as plt\n",
    "import seaborn as sns\n",
    "from scipy import stats\n",
    "from scipy.stats import norm #used for plotting\n",
    "from numpy.random import randn\n",
    "from scipy.stats import ttest_ind\n",
    "# import statsmodels linear model for our regression\n",
    "from statsmodels.regression import linear_model \n",
    "import statsmodels.api as sm"
   ]
  },
  {
   "cell_type": "code",
   "execution_count": 385,
   "id": "b06288ce",
   "metadata": {},
   "outputs": [
    {
     "data": {
      "text/html": [
       "<div>\n",
       "<style scoped>\n",
       "    .dataframe tbody tr th:only-of-type {\n",
       "        vertical-align: middle;\n",
       "    }\n",
       "\n",
       "    .dataframe tbody tr th {\n",
       "        vertical-align: top;\n",
       "    }\n",
       "\n",
       "    .dataframe thead th {\n",
       "        text-align: right;\n",
       "    }\n",
       "</style>\n",
       "<table border=\"1\" class=\"dataframe\">\n",
       "  <thead>\n",
       "    <tr style=\"text-align: right;\">\n",
       "      <th></th>\n",
       "      <th>Year</th>\n",
       "      <th>Week</th>\n",
       "      <th>Address Block</th>\n",
       "      <th>Block</th>\n",
       "      <th>Trap</th>\n",
       "      <th>Trap type</th>\n",
       "      <th>Date</th>\n",
       "      <th>Mosquito number</th>\n",
       "      <th>Mosquito ID</th>\n",
       "      <th>WNV Present</th>\n",
       "      <th>Species</th>\n",
       "      <th>Lat</th>\n",
       "      <th>Lon</th>\n",
       "    </tr>\n",
       "  </thead>\n",
       "  <tbody>\n",
       "    <tr>\n",
       "      <th>0</th>\n",
       "      <td>2019</td>\n",
       "      <td>39</td>\n",
       "      <td>100XX W OHARE AIRPORT</td>\n",
       "      <td>100</td>\n",
       "      <td>T910</td>\n",
       "      <td>GRAVID</td>\n",
       "      <td>2019-09-26 00:09:00</td>\n",
       "      <td>2</td>\n",
       "      <td>Res</td>\n",
       "      <td>negative</td>\n",
       "      <td>CULEX RESTUANS</td>\n",
       "      <td>NaN</td>\n",
       "      <td>NaN</td>\n",
       "    </tr>\n",
       "    <tr>\n",
       "      <th>1</th>\n",
       "      <td>2019</td>\n",
       "      <td>39</td>\n",
       "      <td>52XX S KOLMAR AVE</td>\n",
       "      <td>52</td>\n",
       "      <td>T114</td>\n",
       "      <td>GRAVID</td>\n",
       "      <td>2019-09-26 00:09:00</td>\n",
       "      <td>1</td>\n",
       "      <td>Res</td>\n",
       "      <td>negative</td>\n",
       "      <td>CULEX RESTUANS</td>\n",
       "      <td>41.798211</td>\n",
       "      <td>-87.736925</td>\n",
       "    </tr>\n",
       "    <tr>\n",
       "      <th>2</th>\n",
       "      <td>2019</td>\n",
       "      <td>39</td>\n",
       "      <td>58XX N WESTERN AVE</td>\n",
       "      <td>58</td>\n",
       "      <td>T028</td>\n",
       "      <td>GRAVID</td>\n",
       "      <td>2019-09-26 00:09:00</td>\n",
       "      <td>2</td>\n",
       "      <td>Res</td>\n",
       "      <td>negative</td>\n",
       "      <td>CULEX RESTUANS</td>\n",
       "      <td>41.987245</td>\n",
       "      <td>-87.689417</td>\n",
       "    </tr>\n",
       "    <tr>\n",
       "      <th>3</th>\n",
       "      <td>2019</td>\n",
       "      <td>39</td>\n",
       "      <td>39XX N SPRINGFIELD AVE</td>\n",
       "      <td>39</td>\n",
       "      <td>T228</td>\n",
       "      <td>GRAVID</td>\n",
       "      <td>2019-09-26 00:09:00</td>\n",
       "      <td>1</td>\n",
       "      <td>Res</td>\n",
       "      <td>negative</td>\n",
       "      <td>CULEX RESTUANS</td>\n",
       "      <td>41.953664</td>\n",
       "      <td>-87.724987</td>\n",
       "    </tr>\n",
       "    <tr>\n",
       "      <th>4</th>\n",
       "      <td>2019</td>\n",
       "      <td>39</td>\n",
       "      <td>131XX S BRANDON AVE</td>\n",
       "      <td>131</td>\n",
       "      <td>T209</td>\n",
       "      <td>GRAVID</td>\n",
       "      <td>2019-09-26 00:09:00</td>\n",
       "      <td>9</td>\n",
       "      <td>Res</td>\n",
       "      <td>negative</td>\n",
       "      <td>CULEX RESTUANS</td>\n",
       "      <td>41.657069</td>\n",
       "      <td>-87.546049</td>\n",
       "    </tr>\n",
       "  </tbody>\n",
       "</table>\n",
       "</div>"
      ],
      "text/plain": [
       "   Year  Week           Address Block  Block  Trap Trap type  \\\n",
       "0  2019    39   100XX W OHARE AIRPORT    100  T910    GRAVID   \n",
       "1  2019    39       52XX S KOLMAR AVE     52  T114    GRAVID   \n",
       "2  2019    39      58XX N WESTERN AVE     58  T028    GRAVID   \n",
       "3  2019    39  39XX N SPRINGFIELD AVE     39  T228    GRAVID   \n",
       "4  2019    39     131XX S BRANDON AVE    131  T209    GRAVID   \n",
       "\n",
       "                  Date  Mosquito number Mosquito ID WNV Present  \\\n",
       "0  2019-09-26 00:09:00                2         Res    negative   \n",
       "1  2019-09-26 00:09:00                1         Res    negative   \n",
       "2  2019-09-26 00:09:00                2         Res    negative   \n",
       "3  2019-09-26 00:09:00                1         Res    negative   \n",
       "4  2019-09-26 00:09:00                9         Res    negative   \n",
       "\n",
       "          Species        Lat        Lon  \n",
       "0  CULEX RESTUANS        NaN        NaN  \n",
       "1  CULEX RESTUANS  41.798211 -87.736925  \n",
       "2  CULEX RESTUANS  41.987245 -87.689417  \n",
       "3  CULEX RESTUANS  41.953664 -87.724987  \n",
       "4  CULEX RESTUANS  41.657069 -87.546049  "
      ]
     },
     "execution_count": 385,
     "metadata": {},
     "output_type": "execute_result"
    }
   ],
   "source": [
    "#Taking a peek into the data\n",
    "df = pd.read_csv('mosquito_data.csv')\n",
    "df.head() # display the top 5 rows"
   ]
  },
  {
   "cell_type": "markdown",
   "id": "6b569190",
   "metadata": {},
   "source": [
    "The block column seems to show the first few digits of the trap's address. There are NaN values for the first row in Lat and Lon, which may need to be dealt with later. Also, it seems like the Mosquito ID and Species column store similar information, which we will also deal with later."
   ]
  },
  {
   "cell_type": "code",
   "execution_count": 386,
   "id": "8defc4e8",
   "metadata": {},
   "outputs": [
    {
     "name": "stdout",
     "output_type": "stream",
     "text": [
      "Columns\n"
     ]
    },
    {
     "data": {
      "text/plain": [
       "Index(['Year', 'Week', 'Address Block', 'Block', 'Trap', 'Trap type', 'Date',\n",
       "       'Mosquito number', 'Mosquito ID', 'WNV Present', 'Species', 'Lat',\n",
       "       'Lon'],\n",
       "      dtype='object')"
      ]
     },
     "metadata": {},
     "output_type": "display_data"
    },
    {
     "name": "stdout",
     "output_type": "stream",
     "text": [
      "\n",
      " Information\n"
     ]
    },
    {
     "data": {
      "text/plain": [
       "<bound method DataFrame.info of        Year  Week           Address Block  Block   Trap Trap type  \\\n",
       "0      2019    39   100XX W OHARE AIRPORT    100   T910    GRAVID   \n",
       "1      2019    39       52XX S KOLMAR AVE     52   T114    GRAVID   \n",
       "2      2019    39      58XX N WESTERN AVE     58   T028    GRAVID   \n",
       "3      2019    39  39XX N SPRINGFIELD AVE     39   T228    GRAVID   \n",
       "4      2019    39     131XX S BRANDON AVE    131   T209    GRAVID   \n",
       "...     ...   ...                     ...    ...    ...       ...   \n",
       "18490  2016    36           3XX W 18TH ST      3   T043    GRAVID   \n",
       "18491  2007    34    46XX N MILWAUKEE AVE     46   T003    GRAVID   \n",
       "18492  2016    30        127XX S DOTY AVE    127   T115    GRAVID   \n",
       "18493  2017    33      20XX N DOMINICK ST     20  T240B  SENTINEL   \n",
       "18494  2015    33   100XX W OHARE AIRPORT    100   T902    GRAVID   \n",
       "\n",
       "                      Date  Mosquito number Mosquito ID WNV Present  \\\n",
       "0      2019-09-26 00:09:00                2         Res    negative   \n",
       "1      2019-09-26 00:09:00                1         Res    negative   \n",
       "2      2019-09-26 00:09:00                2         Res    negative   \n",
       "3      2019-09-26 00:09:00                1         Res    negative   \n",
       "4      2019-09-26 00:09:00                9         Res    negative   \n",
       "...                    ...              ...         ...         ...   \n",
       "18490  2016-09-09 00:09:00                4         Pip    positive   \n",
       "18491  2007-08-24 00:08:00               19         Pip    positive   \n",
       "18492  2016-07-27 00:07:00               34         Res    positive   \n",
       "18493  2017-08-17 00:08:00               50         Res    positive   \n",
       "18494  2015-08-20 00:08:00                6         Res    positive   \n",
       "\n",
       "              Species        Lat        Lon  \n",
       "0      CULEX RESTUANS        NaN        NaN  \n",
       "1      CULEX RESTUANS  41.798211 -87.736925  \n",
       "2      CULEX RESTUANS  41.987245 -87.689417  \n",
       "3      CULEX RESTUANS  41.953664 -87.724987  \n",
       "4      CULEX RESTUANS  41.657069 -87.546049  \n",
       "...               ...        ...        ...  \n",
       "18490   CULEX PIPIENS  41.857843 -87.635858  \n",
       "18491   CULEX PIPIENS  41.965376 -87.758403  \n",
       "18492  CULEX RESTUANS  41.662395 -87.590176  \n",
       "18493  CULEX RESTUANS  41.919197 -87.664758  \n",
       "18494  CULEX RESTUANS        NaN        NaN  \n",
       "\n",
       "[18495 rows x 13 columns]>"
      ]
     },
     "metadata": {},
     "output_type": "display_data"
    },
    {
     "name": "stdout",
     "output_type": "stream",
     "text": [
      "\n",
      " Summary Statistics\n"
     ]
    },
    {
     "data": {
      "text/html": [
       "<div>\n",
       "<style scoped>\n",
       "    .dataframe tbody tr th:only-of-type {\n",
       "        vertical-align: middle;\n",
       "    }\n",
       "\n",
       "    .dataframe tbody tr th {\n",
       "        vertical-align: top;\n",
       "    }\n",
       "\n",
       "    .dataframe thead th {\n",
       "        text-align: right;\n",
       "    }\n",
       "</style>\n",
       "<table border=\"1\" class=\"dataframe\">\n",
       "  <thead>\n",
       "    <tr style=\"text-align: right;\">\n",
       "      <th></th>\n",
       "      <th>Year</th>\n",
       "      <th>Week</th>\n",
       "      <th>Block</th>\n",
       "      <th>Mosquito number</th>\n",
       "      <th>Lat</th>\n",
       "      <th>Lon</th>\n",
       "    </tr>\n",
       "  </thead>\n",
       "  <tbody>\n",
       "    <tr>\n",
       "      <th>count</th>\n",
       "      <td>18495.000000</td>\n",
       "      <td>18495.000000</td>\n",
       "      <td>18495.000000</td>\n",
       "      <td>18495.000000</td>\n",
       "      <td>15571.000000</td>\n",
       "      <td>15571.000000</td>\n",
       "    </tr>\n",
       "    <tr>\n",
       "      <th>mean</th>\n",
       "      <td>2012.905812</td>\n",
       "      <td>31.004001</td>\n",
       "      <td>54.314788</td>\n",
       "      <td>10.879913</td>\n",
       "      <td>41.839963</td>\n",
       "      <td>-87.691642</td>\n",
       "    </tr>\n",
       "    <tr>\n",
       "      <th>std</th>\n",
       "      <td>3.725857</td>\n",
       "      <td>4.332020</td>\n",
       "      <td>36.712796</td>\n",
       "      <td>13.475066</td>\n",
       "      <td>0.111374</td>\n",
       "      <td>0.076545</td>\n",
       "    </tr>\n",
       "    <tr>\n",
       "      <th>min</th>\n",
       "      <td>2007.000000</td>\n",
       "      <td>20.000000</td>\n",
       "      <td>1.000000</td>\n",
       "      <td>1.000000</td>\n",
       "      <td>41.644720</td>\n",
       "      <td>-87.854473</td>\n",
       "    </tr>\n",
       "    <tr>\n",
       "      <th>25%</th>\n",
       "      <td>2010.000000</td>\n",
       "      <td>28.000000</td>\n",
       "      <td>22.000000</td>\n",
       "      <td>2.000000</td>\n",
       "      <td>41.742670</td>\n",
       "      <td>-87.747459</td>\n",
       "    </tr>\n",
       "    <tr>\n",
       "      <th>50%</th>\n",
       "      <td>2013.000000</td>\n",
       "      <td>31.000000</td>\n",
       "      <td>51.000000</td>\n",
       "      <td>5.000000</td>\n",
       "      <td>41.845715</td>\n",
       "      <td>-87.691698</td>\n",
       "    </tr>\n",
       "    <tr>\n",
       "      <th>75%</th>\n",
       "      <td>2016.000000</td>\n",
       "      <td>34.000000</td>\n",
       "      <td>89.000000</td>\n",
       "      <td>14.000000</td>\n",
       "      <td>41.945961</td>\n",
       "      <td>-87.637873</td>\n",
       "    </tr>\n",
       "    <tr>\n",
       "      <th>max</th>\n",
       "      <td>2019.000000</td>\n",
       "      <td>40.000000</td>\n",
       "      <td>132.000000</td>\n",
       "      <td>50.000000</td>\n",
       "      <td>42.017801</td>\n",
       "      <td>-87.531051</td>\n",
       "    </tr>\n",
       "  </tbody>\n",
       "</table>\n",
       "</div>"
      ],
      "text/plain": [
       "               Year          Week         Block  Mosquito number  \\\n",
       "count  18495.000000  18495.000000  18495.000000     18495.000000   \n",
       "mean    2012.905812     31.004001     54.314788        10.879913   \n",
       "std        3.725857      4.332020     36.712796        13.475066   \n",
       "min     2007.000000     20.000000      1.000000         1.000000   \n",
       "25%     2010.000000     28.000000     22.000000         2.000000   \n",
       "50%     2013.000000     31.000000     51.000000         5.000000   \n",
       "75%     2016.000000     34.000000     89.000000        14.000000   \n",
       "max     2019.000000     40.000000    132.000000        50.000000   \n",
       "\n",
       "                Lat           Lon  \n",
       "count  15571.000000  15571.000000  \n",
       "mean      41.839963    -87.691642  \n",
       "std        0.111374      0.076545  \n",
       "min       41.644720    -87.854473  \n",
       "25%       41.742670    -87.747459  \n",
       "50%       41.845715    -87.691698  \n",
       "75%       41.945961    -87.637873  \n",
       "max       42.017801    -87.531051  "
      ]
     },
     "execution_count": 386,
     "metadata": {},
     "output_type": "execute_result"
    }
   ],
   "source": [
    "print(\"Columns\")\n",
    "display(df.columns)\n",
    "\n",
    "print(\"\\n Information\")\n",
    "display(df.info)\n",
    "\n",
    "print(\"\\n Summary Statistics\")\n",
    "df.describe()"
   ]
  },
  {
   "cell_type": "markdown",
   "id": "903d656d",
   "metadata": {},
   "source": [
    "### Dealing with Nulls"
   ]
  },
  {
   "cell_type": "markdown",
   "id": "95113b93",
   "metadata": {},
   "source": [
    "Now that I have an initial glance at the entire dataset, it's time to look at individual columns. Based on the previous assignment, I had learned that the latitude column has bimodal distibution, and it has nulls. So, when it comes to dealing with the null values, \"mean would not be our most effective value to fill \n",
    "with for the nulls\". For simplicity indead of using an outside source for the address blocks, I will drop the null values for now."
   ]
  },
  {
   "cell_type": "code",
   "execution_count": 387,
   "id": "8e7daab4",
   "metadata": {},
   "outputs": [
    {
     "data": {
      "image/png": "[encoded data removed]",
      "text/plain": [
       "<Figure size 432x288 with 1 Axes>"
      ]
     },
     "metadata": {
      "needs_background": "light"
     },
     "output_type": "display_data"
    }
   ],
   "source": [
    "#distribution of latitude\n",
    "lat_df = pd.DataFrame(df['Lat'])\n",
    "plt.figure()\n",
    "plt.title(\"Distribution of Trap Latitude\")\n",
    "#plt.ylim(0,51) #because max is 50\n",
    "sns.histplot(lat_df['Lat'],kde=False)\n",
    "#sns.boxplot(x=num_m['Mosquito number'])\n",
    "plt.show()\n",
    "#PA"
   ]
  },
  {
   "cell_type": "markdown",
   "id": "31740a89",
   "metadata": {},
   "source": [
    "- multimodal distribution\n",
    "- many of the rows of data reflect  were set farther North, around 42\n",
    "- many traps were also set (with a smaller peak) around a latitude of 41.80 and more south\n",
    "(insights from previous assignment)"
   ]
  },
  {
   "cell_type": "code",
   "execution_count": 389,
   "id": "bf87f663",
   "metadata": {},
   "outputs": [
    {
     "data": {
      "text/plain": [
       "Year                  0\n",
       "Week                  0\n",
       "Address Block         0\n",
       "Block                 0\n",
       "Trap                  0\n",
       "Trap type             0\n",
       "Date                  0\n",
       "Mosquito number       0\n",
       "Mosquito ID           0\n",
       "WNV Present           0\n",
       "Species               0\n",
       "Lat                2924\n",
       "Lon                2924\n",
       "dtype: int64"
      ]
     },
     "execution_count": 389,
     "metadata": {},
     "output_type": "execute_result"
    }
   ],
   "source": [
    "#Before dropping null values\n",
    "df.isnull().sum()"
   ]
  },
  {
   "cell_type": "code",
   "execution_count": 390,
   "id": "e19c6c3e",
   "metadata": {},
   "outputs": [
    {
     "data": {
      "text/plain": [
       "(18495, 13)"
      ]
     },
     "execution_count": 390,
     "metadata": {},
     "output_type": "execute_result"
    }
   ],
   "source": [
    "df.shape"
   ]
  },
  {
   "cell_type": "markdown",
   "id": "59678acb",
   "metadata": {},
   "source": [
    "There are 18495 rows and 13 columns in the dataset. It seems only the Lat and Lon columns have NaNs present. (NaNs and nulls are used interchangeably in this report"
   ]
  },
  {
   "cell_type": "code",
   "execution_count": 392,
   "id": "a6deca2a",
   "metadata": {},
   "outputs": [],
   "source": [
    "#Dropping nulls\n",
    "df.dropna(axis=0, inplace = True)"
   ]
  },
  {
   "cell_type": "code",
   "execution_count": 393,
   "id": "ab1ab53f",
   "metadata": {},
   "outputs": [
    {
     "data": {
      "text/plain": [
       "Year               0\n",
       "Week               0\n",
       "Address Block      0\n",
       "Block              0\n",
       "Trap               0\n",
       "Trap type          0\n",
       "Date               0\n",
       "Mosquito number    0\n",
       "Mosquito ID        0\n",
       "WNV Present        0\n",
       "Species            0\n",
       "Lat                0\n",
       "Lon                0\n",
       "dtype: int64"
      ]
     },
     "execution_count": 393,
     "metadata": {},
     "output_type": "execute_result"
    }
   ],
   "source": [
    "#Before dropping null values\n",
    "df.isnull().sum()"
   ]
  },
  {
   "cell_type": "markdown",
   "id": "9b2535b9",
   "metadata": {},
   "source": [
    "Help with the dropna() function: https://www.journaldev.com/33492/pandas-dropna-drop-null-na-values-from-dataframe"
   ]
  },
  {
   "cell_type": "markdown",
   "id": "fe25f0c4",
   "metadata": {},
   "source": [
    "As we can see, it looks like there are no longer any nulls in the Lat and Lon columns. To confirm this, let's see if the shape of the data has changed - I anticipate less rows."
   ]
  },
  {
   "cell_type": "code",
   "execution_count": 394,
   "id": "e82107a3",
   "metadata": {},
   "outputs": [
    {
     "data": {
      "text/plain": [
       "(15571, 13)"
      ]
     },
     "execution_count": 394,
     "metadata": {},
     "output_type": "execute_result"
    }
   ],
   "source": [
    "df.shape"
   ]
  },
  {
   "cell_type": "markdown",
   "id": "3d14e290",
   "metadata": {},
   "source": [
    "The number of columns after these operations are the same. Now the dataframe has 15571 rows, less compared to 18495 now that the nulls are removed"
   ]
  },
  {
   "cell_type": "markdown",
   "id": "99f91f0b",
   "metadata": {},
   "source": [
    "### Dealing columns with duplicate information"
   ]
  },
  {
   "cell_type": "markdown",
   "id": "c39e2c87",
   "metadata": {},
   "source": [
    "As previously mentioned, it looked like the mosquito ID and Species column shared the same information. Let's use value counts to get an approximate idea of whether the two columns match."
   ]
  },
  {
   "cell_type": "code",
   "execution_count": 395,
   "id": "4c7abcb1",
   "metadata": {},
   "outputs": [
    {
     "data": {
      "text/plain": [
       "Res    9922\n",
       "Pip    4653\n",
       "Ter     826\n",
       "Sal     170\n",
       "Name: Mosquito ID, dtype: int64"
      ]
     },
     "execution_count": 395,
     "metadata": {},
     "output_type": "execute_result"
    }
   ],
   "source": [
    "df[\"Mosquito ID\"].value_counts()"
   ]
  },
  {
   "cell_type": "code",
   "execution_count": 396,
   "id": "8b717e1c",
   "metadata": {},
   "outputs": [
    {
     "data": {
      "text/plain": [
       "CULEX RESTUANS      9922\n",
       "CULEX PIPIENS       4653\n",
       "CULEX TERRITANS      826\n",
       "CULEX SALINARIUS     170\n",
       "Name: Species, dtype: int64"
      ]
     },
     "execution_count": 396,
     "metadata": {},
     "output_type": "execute_result"
    }
   ],
   "source": [
    "df['Species'].value_counts()"
   ]
  },
  {
   "cell_type": "markdown",
   "id": "d9f232db",
   "metadata": {},
   "source": [
    "This was a rough way to check if the columns match. The mosquito ID looks like a shorter denotation of the species. So I will drop the Mosquito ID column since it is essentially sharing the same information - about the mosquito species."
   ]
  },
  {
   "cell_type": "code",
   "execution_count": 397,
   "id": "5f52c329",
   "metadata": {},
   "outputs": [
    {
     "data": {
      "text/plain": [
       "Index(['Year', 'Week', 'Address Block', 'Block', 'Trap', 'Trap type', 'Date',\n",
       "       'Mosquito number', 'WNV Present', 'Species', 'Lat', 'Lon'],\n",
       "      dtype='object')"
      ]
     },
     "execution_count": 397,
     "metadata": {},
     "output_type": "execute_result"
    }
   ],
   "source": [
    "df = df.drop(columns = 'Mosquito ID')\n",
    "#checking to see if the column got dropped\n",
    "df.columns"
   ]
  },
  {
   "cell_type": "markdown",
   "id": "ab4de80c",
   "metadata": {},
   "source": [
    "It looks like the mosquito ID column has successful been dropped. The year, week and date column are also showing the same information. It seems premature to decide which to drop. This will be decided after some basic analysis."
   ]
  },
  {
   "cell_type": "markdown",
   "id": "e24f7409",
   "metadata": {},
   "source": [
    "## Part 1: Basic Analysis"
   ]
  },
  {
   "cell_type": "markdown",
   "id": "cc0195ef",
   "metadata": {},
   "source": [
    "### Objective: Convert the WNV Present column into a binary column"
   ]
  },
  {
   "cell_type": "code",
   "execution_count": 398,
   "id": "c3bbac4d",
   "metadata": {},
   "outputs": [
    {
     "data": {
      "text/plain": [
       "negative    12453\n",
       "positive     3118\n",
       "Name: WNV Present, dtype: int64"
      ]
     },
     "execution_count": 398,
     "metadata": {},
     "output_type": "execute_result"
    }
   ],
   "source": [
    "#seeing the different types of values in the WNV present column\n",
    "#looking out for any unexpected values besides positive and negative\n",
    "\n",
    "df['WNV Present'].value_counts()"
   ]
  },
  {
   "cell_type": "code",
   "execution_count": 399,
   "id": "e3e7e22c",
   "metadata": {},
   "outputs": [],
   "source": [
    "df['WNV Present'] = df['WNV Present'].replace({'positive':1, 'negative':0})"
   ]
  },
  {
   "cell_type": "code",
   "execution_count": 400,
   "id": "4c2add63",
   "metadata": {},
   "outputs": [],
   "source": [
    "#checking to see if the column got binarized"
   ]
  },
  {
   "cell_type": "code",
   "execution_count": 401,
   "id": "584b3d28",
   "metadata": {},
   "outputs": [
    {
     "data": {
      "text/plain": [
       "0    12453\n",
       "1     3118\n",
       "Name: WNV Present, dtype: int64"
      ]
     },
     "execution_count": 401,
     "metadata": {},
     "output_type": "execute_result"
    }
   ],
   "source": [
    "df['WNV Present'].value_counts()"
   ]
  },
  {
   "cell_type": "code",
   "execution_count": 404,
   "id": "712f8fc0",
   "metadata": {},
   "outputs": [
    {
     "data": {
      "text/plain": [
       "array([0, 1], dtype=int64)"
      ]
     },
     "execution_count": 404,
     "metadata": {},
     "output_type": "execute_result"
    }
   ],
   "source": [
    "df['WNV Present'].unique()"
   ]
  },
  {
   "cell_type": "markdown",
   "id": "6d2ec972",
   "metadata": {},
   "source": [
    "Now there are 12453 counts of the value 0, whereas before it was for 'negative'. There are 3118 counts for the value 1, as it was before for 'positive'. We have confirmed that the column has been successfully binarized."
   ]
  },
  {
   "cell_type": "markdown",
   "id": "1f84431f",
   "metadata": {},
   "source": [
    "### Objective: create dummy variables from the Trap type column."
   ]
  },
  {
   "cell_type": "code",
   "execution_count": 33,
   "id": "ef3d128d",
   "metadata": {},
   "outputs": [
    {
     "data": {
      "text/html": [
       "<div>\n",
       "<style scoped>\n",
       "    .dataframe tbody tr th:only-of-type {\n",
       "        vertical-align: middle;\n",
       "    }\n",
       "\n",
       "    .dataframe tbody tr th {\n",
       "        vertical-align: top;\n",
       "    }\n",
       "\n",
       "    .dataframe thead th {\n",
       "        text-align: right;\n",
       "    }\n",
       "</style>\n",
       "<table border=\"1\" class=\"dataframe\">\n",
       "  <thead>\n",
       "    <tr style=\"text-align: right;\">\n",
       "      <th></th>\n",
       "      <th>CDC</th>\n",
       "      <th>GRAVID</th>\n",
       "      <th>OVI</th>\n",
       "      <th>SENTINEL</th>\n",
       "    </tr>\n",
       "  </thead>\n",
       "  <tbody>\n",
       "    <tr>\n",
       "      <th>1</th>\n",
       "      <td>0</td>\n",
       "      <td>1</td>\n",
       "      <td>0</td>\n",
       "      <td>0</td>\n",
       "    </tr>\n",
       "    <tr>\n",
       "      <th>2</th>\n",
       "      <td>0</td>\n",
       "      <td>1</td>\n",
       "      <td>0</td>\n",
       "      <td>0</td>\n",
       "    </tr>\n",
       "    <tr>\n",
       "      <th>3</th>\n",
       "      <td>0</td>\n",
       "      <td>1</td>\n",
       "      <td>0</td>\n",
       "      <td>0</td>\n",
       "    </tr>\n",
       "    <tr>\n",
       "      <th>4</th>\n",
       "      <td>0</td>\n",
       "      <td>1</td>\n",
       "      <td>0</td>\n",
       "      <td>0</td>\n",
       "    </tr>\n",
       "    <tr>\n",
       "      <th>5</th>\n",
       "      <td>0</td>\n",
       "      <td>1</td>\n",
       "      <td>0</td>\n",
       "      <td>0</td>\n",
       "    </tr>\n",
       "    <tr>\n",
       "      <th>...</th>\n",
       "      <td>...</td>\n",
       "      <td>...</td>\n",
       "      <td>...</td>\n",
       "      <td>...</td>\n",
       "    </tr>\n",
       "    <tr>\n",
       "      <th>18489</th>\n",
       "      <td>0</td>\n",
       "      <td>1</td>\n",
       "      <td>0</td>\n",
       "      <td>0</td>\n",
       "    </tr>\n",
       "    <tr>\n",
       "      <th>18490</th>\n",
       "      <td>0</td>\n",
       "      <td>1</td>\n",
       "      <td>0</td>\n",
       "      <td>0</td>\n",
       "    </tr>\n",
       "    <tr>\n",
       "      <th>18491</th>\n",
       "      <td>0</td>\n",
       "      <td>1</td>\n",
       "      <td>0</td>\n",
       "      <td>0</td>\n",
       "    </tr>\n",
       "    <tr>\n",
       "      <th>18492</th>\n",
       "      <td>0</td>\n",
       "      <td>1</td>\n",
       "      <td>0</td>\n",
       "      <td>0</td>\n",
       "    </tr>\n",
       "    <tr>\n",
       "      <th>18493</th>\n",
       "      <td>0</td>\n",
       "      <td>0</td>\n",
       "      <td>0</td>\n",
       "      <td>1</td>\n",
       "    </tr>\n",
       "  </tbody>\n",
       "</table>\n",
       "<p>15571 rows × 4 columns</p>\n",
       "</div>"
      ],
      "text/plain": [
       "       CDC  GRAVID  OVI  SENTINEL\n",
       "1        0       1    0         0\n",
       "2        0       1    0         0\n",
       "3        0       1    0         0\n",
       "4        0       1    0         0\n",
       "5        0       1    0         0\n",
       "...    ...     ...  ...       ...\n",
       "18489    0       1    0         0\n",
       "18490    0       1    0         0\n",
       "18491    0       1    0         0\n",
       "18492    0       1    0         0\n",
       "18493    0       0    0         1\n",
       "\n",
       "[15571 rows x 4 columns]"
      ]
     },
     "execution_count": 33,
     "metadata": {},
     "output_type": "execute_result"
    }
   ],
   "source": [
    "dummy_df = pd.get_dummies(df['Trap type'])\n",
    "dummy_df"
   ]
  },
  {
   "cell_type": "markdown",
   "id": "f7b494f7",
   "metadata": {},
   "source": [
    "Four types of traps seems to be CDC< GRAVID, OVI and SENTINEL"
   ]
  },
  {
   "cell_type": "markdown",
   "id": "85947bde",
   "metadata": {},
   "source": [
    "Now I can't compare the data frame with the dummy variables and the original dataframe. I will merge them now via concatentation."
   ]
  },
  {
   "cell_type": "code",
   "execution_count": 34,
   "id": "0acd9f3c",
   "metadata": {},
   "outputs": [
    {
     "data": {
      "text/html": [
       "<div>\n",
       "<style scoped>\n",
       "    .dataframe tbody tr th:only-of-type {\n",
       "        vertical-align: middle;\n",
       "    }\n",
       "\n",
       "    .dataframe tbody tr th {\n",
       "        vertical-align: top;\n",
       "    }\n",
       "\n",
       "    .dataframe thead th {\n",
       "        text-align: right;\n",
       "    }\n",
       "</style>\n",
       "<table border=\"1\" class=\"dataframe\">\n",
       "  <thead>\n",
       "    <tr style=\"text-align: right;\">\n",
       "      <th></th>\n",
       "      <th>Year</th>\n",
       "      <th>Week</th>\n",
       "      <th>Address Block</th>\n",
       "      <th>Block</th>\n",
       "      <th>Trap</th>\n",
       "      <th>Trap type</th>\n",
       "      <th>Date</th>\n",
       "      <th>Mosquito number</th>\n",
       "      <th>WNV Present</th>\n",
       "      <th>Species</th>\n",
       "      <th>Lat</th>\n",
       "      <th>Lon</th>\n",
       "      <th>CDC</th>\n",
       "      <th>GRAVID</th>\n",
       "      <th>OVI</th>\n",
       "      <th>SENTINEL</th>\n",
       "    </tr>\n",
       "  </thead>\n",
       "  <tbody>\n",
       "    <tr>\n",
       "      <th>1</th>\n",
       "      <td>2019</td>\n",
       "      <td>39</td>\n",
       "      <td>52XX S KOLMAR AVE</td>\n",
       "      <td>52</td>\n",
       "      <td>T114</td>\n",
       "      <td>GRAVID</td>\n",
       "      <td>2019-09-26 00:09:00</td>\n",
       "      <td>1</td>\n",
       "      <td>0</td>\n",
       "      <td>CULEX RESTUANS</td>\n",
       "      <td>41.798211</td>\n",
       "      <td>-87.736925</td>\n",
       "      <td>0</td>\n",
       "      <td>1</td>\n",
       "      <td>0</td>\n",
       "      <td>0</td>\n",
       "    </tr>\n",
       "    <tr>\n",
       "      <th>2</th>\n",
       "      <td>2019</td>\n",
       "      <td>39</td>\n",
       "      <td>58XX N WESTERN AVE</td>\n",
       "      <td>58</td>\n",
       "      <td>T028</td>\n",
       "      <td>GRAVID</td>\n",
       "      <td>2019-09-26 00:09:00</td>\n",
       "      <td>2</td>\n",
       "      <td>0</td>\n",
       "      <td>CULEX RESTUANS</td>\n",
       "      <td>41.987245</td>\n",
       "      <td>-87.689417</td>\n",
       "      <td>0</td>\n",
       "      <td>1</td>\n",
       "      <td>0</td>\n",
       "      <td>0</td>\n",
       "    </tr>\n",
       "    <tr>\n",
       "      <th>3</th>\n",
       "      <td>2019</td>\n",
       "      <td>39</td>\n",
       "      <td>39XX N SPRINGFIELD AVE</td>\n",
       "      <td>39</td>\n",
       "      <td>T228</td>\n",
       "      <td>GRAVID</td>\n",
       "      <td>2019-09-26 00:09:00</td>\n",
       "      <td>1</td>\n",
       "      <td>0</td>\n",
       "      <td>CULEX RESTUANS</td>\n",
       "      <td>41.953664</td>\n",
       "      <td>-87.724987</td>\n",
       "      <td>0</td>\n",
       "      <td>1</td>\n",
       "      <td>0</td>\n",
       "      <td>0</td>\n",
       "    </tr>\n",
       "    <tr>\n",
       "      <th>4</th>\n",
       "      <td>2019</td>\n",
       "      <td>39</td>\n",
       "      <td>131XX S BRANDON AVE</td>\n",
       "      <td>131</td>\n",
       "      <td>T209</td>\n",
       "      <td>GRAVID</td>\n",
       "      <td>2019-09-26 00:09:00</td>\n",
       "      <td>9</td>\n",
       "      <td>0</td>\n",
       "      <td>CULEX RESTUANS</td>\n",
       "      <td>41.657069</td>\n",
       "      <td>-87.546049</td>\n",
       "      <td>0</td>\n",
       "      <td>1</td>\n",
       "      <td>0</td>\n",
       "      <td>0</td>\n",
       "    </tr>\n",
       "    <tr>\n",
       "      <th>5</th>\n",
       "      <td>2019</td>\n",
       "      <td>39</td>\n",
       "      <td>21XX N CANNON DR</td>\n",
       "      <td>21</td>\n",
       "      <td>T054C</td>\n",
       "      <td>GRAVID</td>\n",
       "      <td>2019-09-26 00:09:00</td>\n",
       "      <td>2</td>\n",
       "      <td>0</td>\n",
       "      <td>CULEX RESTUANS</td>\n",
       "      <td>41.921777</td>\n",
       "      <td>-87.632140</td>\n",
       "      <td>0</td>\n",
       "      <td>1</td>\n",
       "      <td>0</td>\n",
       "      <td>0</td>\n",
       "    </tr>\n",
       "  </tbody>\n",
       "</table>\n",
       "</div>"
      ],
      "text/plain": [
       "   Year  Week           Address Block  Block   Trap Trap type  \\\n",
       "1  2019    39       52XX S KOLMAR AVE     52   T114    GRAVID   \n",
       "2  2019    39      58XX N WESTERN AVE     58   T028    GRAVID   \n",
       "3  2019    39  39XX N SPRINGFIELD AVE     39   T228    GRAVID   \n",
       "4  2019    39     131XX S BRANDON AVE    131   T209    GRAVID   \n",
       "5  2019    39        21XX N CANNON DR     21  T054C    GRAVID   \n",
       "\n",
       "                  Date  Mosquito number  WNV Present         Species  \\\n",
       "1  2019-09-26 00:09:00                1            0  CULEX RESTUANS   \n",
       "2  2019-09-26 00:09:00                2            0  CULEX RESTUANS   \n",
       "3  2019-09-26 00:09:00                1            0  CULEX RESTUANS   \n",
       "4  2019-09-26 00:09:00                9            0  CULEX RESTUANS   \n",
       "5  2019-09-26 00:09:00                2            0  CULEX RESTUANS   \n",
       "\n",
       "         Lat        Lon  CDC  GRAVID  OVI  SENTINEL  \n",
       "1  41.798211 -87.736925    0       1    0         0  \n",
       "2  41.987245 -87.689417    0       1    0         0  \n",
       "3  41.953664 -87.724987    0       1    0         0  \n",
       "4  41.657069 -87.546049    0       1    0         0  \n",
       "5  41.921777 -87.632140    0       1    0         0  "
      ]
     },
     "execution_count": 34,
     "metadata": {},
     "output_type": "execute_result"
    }
   ],
   "source": [
    "df = pd.concat([df, dummy_df], axis = 1)\n",
    "df.head()"
   ]
  },
  {
   "cell_type": "markdown",
   "id": "51eb903d",
   "metadata": {},
   "source": [
    "I can see some columns on the far right, with various trap types and ones and zeroes as the value. I will likely need to remove the trap type column later since it is not numerical later, when I think about linear models."
   ]
  },
  {
   "cell_type": "markdown",
   "id": "81a50029",
   "metadata": {},
   "source": [
    "### Objective: What is the average number of mosquitoes for each month?"
   ]
  },
  {
   "cell_type": "markdown",
   "id": "d2264297",
   "metadata": {},
   "source": [
    "The original dataset does not have a column that refers to solely month. So next I will extract the month of when the moquitos were caught from the date column"
   ]
  },
  {
   "cell_type": "code",
   "execution_count": 405,
   "id": "d4ad07b1",
   "metadata": {},
   "outputs": [
    {
     "data": {
      "text/plain": [
       "array([9, 9, 9, ..., 8, 7, 8], dtype=int64)"
      ]
     },
     "execution_count": 405,
     "metadata": {},
     "output_type": "execute_result"
    }
   ],
   "source": [
    "df['Month'] = pd.DatetimeIndex(df['Date']).month\n",
    "month_nums = df['Month']\n",
    "month_nums.values"
   ]
  },
  {
   "cell_type": "markdown",
   "id": "d45223c8",
   "metadata": {},
   "source": [
    "Help with converting date to month: https://www.codegrepper.com/code-examples/python/numpy+get+year+only+from+year+month+-pandas"
   ]
  },
  {
   "cell_type": "code",
   "execution_count": 59,
   "id": "f928d6ea",
   "metadata": {},
   "outputs": [],
   "source": [
    "#trying to get the total mosquito counts"
   ]
  },
  {
   "cell_type": "code",
   "execution_count": 60,
   "id": "502cfbf0",
   "metadata": {},
   "outputs": [
    {
     "data": {
      "text/plain": [
       "array([3730, 1966, 1342,  948,  775,  613,  525,  455,  438,  337,  311,\n",
       "        292,  276,  255,  200,  190,  189,  164,  149,  144,  121,  118,\n",
       "        115,  115,  109,  102,   99,   97,   96,   95,   79,   79,   76,\n",
       "         73,   70,   70,   69,   66,   66,   60,   59,   55,   55,   54,\n",
       "         53,   52,   49,   41,   41,   38], dtype=int64)"
      ]
     },
     "execution_count": 60,
     "metadata": {},
     "output_type": "execute_result"
    }
   ],
   "source": [
    "mosquito_number_counts = df['Mosquito number'].value_counts()\n",
    "#mosquito_number_counts.index\n",
    "mosquito_number_counts.values"
   ]
  },
  {
   "cell_type": "code",
   "execution_count": 61,
   "id": "db710f32",
   "metadata": {},
   "outputs": [],
   "source": [
    "# can't plot a bar graph with different shapes. So stating assumptions after the chart..."
   ]
  },
  {
   "cell_type": "code",
   "execution_count": 408,
   "id": "ad5d974e",
   "metadata": {},
   "outputs": [
    {
     "data": {
      "text/plain": [
       "Month\n",
       "5      1.972973\n",
       "6      8.747635\n",
       "7     10.701800\n",
       "8     11.664663\n",
       "9      8.312563\n",
       "10     5.368421\n",
       "Name: Mosquito number, dtype: float64"
      ]
     },
     "execution_count": 408,
     "metadata": {},
     "output_type": "execute_result"
    }
   ],
   "source": [
    "mpm = df.groupby('Month')['Mosquito number'].mean()\n",
    "mpm"
   ]
  },
  {
   "cell_type": "code",
   "execution_count": 409,
   "id": "88133de3",
   "metadata": {},
   "outputs": [
    {
     "data": {
      "image/png": "[encoded data removed]",
      "text/plain": [
       "<Figure size 432x288 with 1 Axes>"
      ]
     },
     "metadata": {
      "needs_background": "light"
     },
     "output_type": "display_data"
    }
   ],
   "source": [
    "plt.figure()\n",
    "mpm.plot(kind='bar')\n",
    "plt.title(\"Mean Number of Mosquitos Captured per Month\", fontsize = 10)\n",
    "plt.xlabel(\"Month\", fontsize = 8)\n",
    "plt.ylabel(\"Mean number of mosquitos caught\", fontsize = 8)\n",
    "plt.show()"
   ]
  },
  {
   "cell_type": "markdown",
   "id": "3cf44154",
   "metadata": {},
   "source": [
    "- These test results are organized in such a way that when the number of mosquitoes exceed 50, they are split into another record (another row in the dataset), such that the number of mosquitoes are capped at 50.\n",
    "- Mosquitos were only caught between May and October\n",
    "- We could assume that the researchers meant to add 50+ when typing 50, and didn't want to write more\n",
    "- One key insight we can garner from this is that on average, most mosquitoes were caught in August\n",
    "- More generally, we can say that on average more mosquitos were caught in the hot summer months of July and August, as compared to months closer to spring and fall\n",
    "- Someone with more domain knowledge could make further inferences, such as how mosquitos thrive in a warmer climate"
   ]
  },
  {
   "cell_type": "markdown",
   "id": "9235b40b",
   "metadata": {},
   "source": [
    "## Part 2 - Statistical Analysis"
   ]
  },
  {
   "cell_type": "markdown",
   "id": "b834db20",
   "metadata": {},
   "source": [
    "### Objective: Determine whether there is a statistically significant difference between the different mosquito species when looking at the occurrence of West Nile Virus?"
   ]
  },
  {
   "cell_type": "markdown",
   "id": "f7f4f485",
   "metadata": {},
   "source": [
    "Taking an initial glance at the differences between mosquito species that have West Nile Virus present in them."
   ]
  },
  {
   "cell_type": "code",
   "execution_count": 410,
   "id": "3ba0b6d9",
   "metadata": {},
   "outputs": [
    {
     "data": {
      "text/html": [
       "<div>\n",
       "<style scoped>\n",
       "    .dataframe tbody tr th:only-of-type {\n",
       "        vertical-align: middle;\n",
       "    }\n",
       "\n",
       "    .dataframe tbody tr th {\n",
       "        vertical-align: top;\n",
       "    }\n",
       "\n",
       "    .dataframe thead th {\n",
       "        text-align: right;\n",
       "    }\n",
       "</style>\n",
       "<table border=\"1\" class=\"dataframe\">\n",
       "  <thead>\n",
       "    <tr style=\"text-align: right;\">\n",
       "      <th></th>\n",
       "      <th>Species</th>\n",
       "      <th>WNV Present</th>\n",
       "    </tr>\n",
       "  </thead>\n",
       "  <tbody>\n",
       "    <tr>\n",
       "      <th>0</th>\n",
       "      <td>CULEX PIPIENS</td>\n",
       "      <td>1175</td>\n",
       "    </tr>\n",
       "    <tr>\n",
       "      <th>1</th>\n",
       "      <td>CULEX RESTUANS</td>\n",
       "      <td>1924</td>\n",
       "    </tr>\n",
       "    <tr>\n",
       "      <th>2</th>\n",
       "      <td>CULEX SALINARIUS</td>\n",
       "      <td>5</td>\n",
       "    </tr>\n",
       "    <tr>\n",
       "      <th>3</th>\n",
       "      <td>CULEX TERRITANS</td>\n",
       "      <td>14</td>\n",
       "    </tr>\n",
       "  </tbody>\n",
       "</table>\n",
       "</div>"
      ],
      "text/plain": [
       "            Species  WNV Present\n",
       "0     CULEX PIPIENS         1175\n",
       "1    CULEX RESTUANS         1924\n",
       "2  CULEX SALINARIUS            5\n",
       "3   CULEX TERRITANS           14"
      ]
     },
     "execution_count": 410,
     "metadata": {},
     "output_type": "execute_result"
    }
   ],
   "source": [
    "g1 = df.groupby( 'Species')['WNV Present'].sum().reset_index()\n",
    "g1"
   ]
  },
  {
   "cell_type": "markdown",
   "id": "25552a99",
   "metadata": {},
   "source": [
    "It looks like CULEX PIPIENS had the more west nile virus present in them, with CULEX SALINARIUS only having 5 rows with mosquitos having WNV. Let's visualize this distrubution."
   ]
  },
  {
   "cell_type": "code",
   "execution_count": 417,
   "id": "e7b38f11",
   "metadata": {},
   "outputs": [
    {
     "data": {
      "image/png": "[encoded data removed]",
      "text/plain": [
       "<Figure size 1440x720 with 1 Axes>"
      ]
     },
     "metadata": {
      "needs_background": "light"
     },
     "output_type": "display_data"
    }
   ],
   "source": [
    "plt.figure(figsize = (20,10))\n",
    "plt.bar(g1['Species'], g1['WNV Present'])\n",
    "plt.title(\"Occurence of West Nile Virus among Mosquito Species\",fontsize = 20)\n",
    "plt.xlabel(\"Mosquito Species\",fontsize = 15)\n",
    "plt.ylabel(\"Rows of MOsquitoes with WNV Present\",fontsize = 15)\n",
    "plt.show()"
   ]
  },
  {
   "cell_type": "markdown",
   "id": "f2b0a85f",
   "metadata": {},
   "source": [
    "Thus far it looks like CULEX RESTUANS species has way more rows indicating mosquitoes with WNV than the others. However, we don't just want to look at rows, it's important to look at mosquito numbers. This is with the assumption that when WNV is positive, *all* of the mosquitos trapped had West Nile Virus present in them."
   ]
  },
  {
   "cell_type": "code",
   "execution_count": 423,
   "id": "e1187f4e",
   "metadata": {},
   "outputs": [
    {
     "data": {
      "text/html": [
       "<div>\n",
       "<style scoped>\n",
       "    .dataframe tbody tr th:only-of-type {\n",
       "        vertical-align: middle;\n",
       "    }\n",
       "\n",
       "    .dataframe tbody tr th {\n",
       "        vertical-align: top;\n",
       "    }\n",
       "\n",
       "    .dataframe thead th {\n",
       "        text-align: right;\n",
       "    }\n",
       "</style>\n",
       "<table border=\"1\" class=\"dataframe\">\n",
       "  <thead>\n",
       "    <tr style=\"text-align: right;\">\n",
       "      <th></th>\n",
       "      <th>Year</th>\n",
       "      <th>Week</th>\n",
       "      <th>Address Block</th>\n",
       "      <th>Block</th>\n",
       "      <th>Trap</th>\n",
       "      <th>Trap type</th>\n",
       "      <th>Date</th>\n",
       "      <th>Mosquito number</th>\n",
       "      <th>WNV Present</th>\n",
       "      <th>Species</th>\n",
       "      <th>Lat</th>\n",
       "      <th>Lon</th>\n",
       "      <th>Month</th>\n",
       "      <th>WNV Mosquitos</th>\n",
       "    </tr>\n",
       "  </thead>\n",
       "  <tbody>\n",
       "    <tr>\n",
       "      <th>1</th>\n",
       "      <td>2019</td>\n",
       "      <td>39</td>\n",
       "      <td>52XX S KOLMAR AVE</td>\n",
       "      <td>52</td>\n",
       "      <td>T114</td>\n",
       "      <td>GRAVID</td>\n",
       "      <td>2019-09-26 00:09:00</td>\n",
       "      <td>1</td>\n",
       "      <td>0</td>\n",
       "      <td>CULEX RESTUANS</td>\n",
       "      <td>41.798211</td>\n",
       "      <td>-87.736925</td>\n",
       "      <td>9</td>\n",
       "      <td>0</td>\n",
       "    </tr>\n",
       "    <tr>\n",
       "      <th>2</th>\n",
       "      <td>2019</td>\n",
       "      <td>39</td>\n",
       "      <td>58XX N WESTERN AVE</td>\n",
       "      <td>58</td>\n",
       "      <td>T028</td>\n",
       "      <td>GRAVID</td>\n",
       "      <td>2019-09-26 00:09:00</td>\n",
       "      <td>2</td>\n",
       "      <td>0</td>\n",
       "      <td>CULEX RESTUANS</td>\n",
       "      <td>41.987245</td>\n",
       "      <td>-87.689417</td>\n",
       "      <td>9</td>\n",
       "      <td>0</td>\n",
       "    </tr>\n",
       "    <tr>\n",
       "      <th>3</th>\n",
       "      <td>2019</td>\n",
       "      <td>39</td>\n",
       "      <td>39XX N SPRINGFIELD AVE</td>\n",
       "      <td>39</td>\n",
       "      <td>T228</td>\n",
       "      <td>GRAVID</td>\n",
       "      <td>2019-09-26 00:09:00</td>\n",
       "      <td>1</td>\n",
       "      <td>0</td>\n",
       "      <td>CULEX RESTUANS</td>\n",
       "      <td>41.953664</td>\n",
       "      <td>-87.724987</td>\n",
       "      <td>9</td>\n",
       "      <td>0</td>\n",
       "    </tr>\n",
       "    <tr>\n",
       "      <th>4</th>\n",
       "      <td>2019</td>\n",
       "      <td>39</td>\n",
       "      <td>131XX S BRANDON AVE</td>\n",
       "      <td>131</td>\n",
       "      <td>T209</td>\n",
       "      <td>GRAVID</td>\n",
       "      <td>2019-09-26 00:09:00</td>\n",
       "      <td>9</td>\n",
       "      <td>0</td>\n",
       "      <td>CULEX RESTUANS</td>\n",
       "      <td>41.657069</td>\n",
       "      <td>-87.546049</td>\n",
       "      <td>9</td>\n",
       "      <td>0</td>\n",
       "    </tr>\n",
       "    <tr>\n",
       "      <th>5</th>\n",
       "      <td>2019</td>\n",
       "      <td>39</td>\n",
       "      <td>21XX N CANNON DR</td>\n",
       "      <td>21</td>\n",
       "      <td>T054C</td>\n",
       "      <td>GRAVID</td>\n",
       "      <td>2019-09-26 00:09:00</td>\n",
       "      <td>2</td>\n",
       "      <td>0</td>\n",
       "      <td>CULEX RESTUANS</td>\n",
       "      <td>41.921777</td>\n",
       "      <td>-87.632140</td>\n",
       "      <td>9</td>\n",
       "      <td>0</td>\n",
       "    </tr>\n",
       "  </tbody>\n",
       "</table>\n",
       "</div>"
      ],
      "text/plain": [
       "   Year  Week           Address Block  Block   Trap Trap type  \\\n",
       "1  2019    39       52XX S KOLMAR AVE     52   T114    GRAVID   \n",
       "2  2019    39      58XX N WESTERN AVE     58   T028    GRAVID   \n",
       "3  2019    39  39XX N SPRINGFIELD AVE     39   T228    GRAVID   \n",
       "4  2019    39     131XX S BRANDON AVE    131   T209    GRAVID   \n",
       "5  2019    39        21XX N CANNON DR     21  T054C    GRAVID   \n",
       "\n",
       "                  Date  Mosquito number  WNV Present         Species  \\\n",
       "1  2019-09-26 00:09:00                1            0  CULEX RESTUANS   \n",
       "2  2019-09-26 00:09:00                2            0  CULEX RESTUANS   \n",
       "3  2019-09-26 00:09:00                1            0  CULEX RESTUANS   \n",
       "4  2019-09-26 00:09:00                9            0  CULEX RESTUANS   \n",
       "5  2019-09-26 00:09:00                2            0  CULEX RESTUANS   \n",
       "\n",
       "         Lat        Lon  Month  WNV Mosquitos  \n",
       "1  41.798211 -87.736925      9              0  \n",
       "2  41.987245 -87.689417      9              0  \n",
       "3  41.953664 -87.724987      9              0  \n",
       "4  41.657069 -87.546049      9              0  \n",
       "5  41.921777 -87.632140      9              0  "
      ]
     },
     "execution_count": 423,
     "metadata": {},
     "output_type": "execute_result"
    }
   ],
   "source": [
    "#Creating a column that keeps a track of mosquito numbers only with WNV in them\n",
    "\n",
    "df[\"WNV Mosquitos\"] = np.where(df['WNV Present'] == 1, df['Mosquito number'], 0)\n",
    "df.head()"
   ]
  },
  {
   "cell_type": "code",
   "execution_count": 424,
   "id": "03b57f2f",
   "metadata": {},
   "outputs": [
    {
     "data": {
      "text/plain": [
       "26114"
      ]
     },
     "execution_count": 424,
     "metadata": {},
     "output_type": "execute_result"
    }
   ],
   "source": [
    "#Making sure the new column does not have all 0s\n",
    "anova_data[\"CULEX PIPIENS\"].sum()"
   ]
  },
  {
   "cell_type": "markdown",
   "id": "31f676d5",
   "metadata": {},
   "source": [
    "Using an ANOVA test to see if there's a significant difference between WNV mosquit numbers. "
   ]
  },
  {
   "cell_type": "code",
   "execution_count": 425,
   "id": "fcef8733",
   "metadata": {},
   "outputs": [],
   "source": [
    "anova_data = {}\n",
    "species_types = df[\"Species\"].unique()\n",
    "\n",
    "# slice out the mosquitos caught for each browser type\n",
    "for species in species_types:\n",
    "    anova_data[species] = df.loc[df[\"Species\"] == species, \"WNV Mosquitos\"]"
   ]
  },
  {
   "cell_type": "code",
   "execution_count": 426,
   "id": "91ab08bb",
   "metadata": {},
   "outputs": [
    {
     "data": {
      "text/plain": [
       "array(['CULEX RESTUANS', 'CULEX TERRITANS', 'CULEX SALINARIUS',\n",
       "       'CULEX PIPIENS'], dtype=object)"
      ]
     },
     "execution_count": 426,
     "metadata": {},
     "output_type": "execute_result"
    }
   ],
   "source": [
    "df['Species'].unique() #making the text easily available to plug into the f_oneway function"
   ]
  },
  {
   "cell_type": "code",
   "execution_count": 428,
   "id": "118c431a",
   "metadata": {},
   "outputs": [
    {
     "data": {
      "text/plain": [
       "F_onewayResult(statistic=66.09110965970119, pvalue=2.5314081318516574e-42)"
      ]
     },
     "execution_count": 428,
     "metadata": {},
     "output_type": "execute_result"
    }
   ],
   "source": [
    "stats.f_oneway(anova_data[\"CULEX PIPIENS\"], \n",
    "               anova_data['CULEX TERRITANS'], \n",
    "               anova_data['CULEX SALINARIUS'],\n",
    "               anova_data['CULEX PIPIENS'])"
   ]
  },
  {
   "cell_type": "markdown",
   "id": "44d7f366",
   "metadata": {},
   "source": [
    "The p-value is way more than 0.5. So we cannot reject the null hypothesis. There is not enough statistically statistic evidence that species affects the number of mosquitos with WNV present in them."
   ]
  },
  {
   "cell_type": "markdown",
   "id": "9a10a163",
   "metadata": {},
   "source": [
    "The ANOVA test does assume that the sobervations for mosquito number are independent, and the variance for all the groups are the same."
   ]
  },
  {
   "cell_type": "markdown",
   "id": "243eed48",
   "metadata": {},
   "source": [
    "Another key assumption make with the above calculations, is that if WNV Present was tested positive, then that means all of the mosquitos caught have WNV. There would need to be more contact with the science team to confirm this assumption."
   ]
  },
  {
   "cell_type": "markdown",
   "id": "409b88d8",
   "metadata": {},
   "source": [
    "### Which columns are positively correlated with the number of mosquitoes caught? Which columns are negatively correlated? Are these correlations statistically significant?"
   ]
  },
  {
   "cell_type": "code",
   "execution_count": 429,
   "id": "d2116fa1",
   "metadata": {},
   "outputs": [
    {
     "data": {
      "text/plain": [
       "Lon               -0.100425\n",
       "Month             -0.009376\n",
       "Week               0.000448\n",
       "Lat                0.059195\n",
       "Block              0.081334\n",
       "Year               0.117062\n",
       "WNV Present        0.417179\n",
       "WNV Mosquitos      0.665169\n",
       "Mosquito number    1.000000\n",
       "Name: Mosquito number, dtype: float64"
      ]
     },
     "execution_count": 429,
     "metadata": {},
     "output_type": "execute_result"
    }
   ],
   "source": [
    "mn_corr = df.corr()\n",
    "mn_corr['Mosquito number'].sort_values()"
   ]
  },
  {
   "cell_type": "code",
   "execution_count": 434,
   "id": "fc2e7bc3",
   "metadata": {},
   "outputs": [
    {
     "data": {
      "text/html": [
       "<div>\n",
       "<style scoped>\n",
       "    .dataframe tbody tr th:only-of-type {\n",
       "        vertical-align: middle;\n",
       "    }\n",
       "\n",
       "    .dataframe tbody tr th {\n",
       "        vertical-align: top;\n",
       "    }\n",
       "\n",
       "    .dataframe thead th {\n",
       "        text-align: right;\n",
       "    }\n",
       "</style>\n",
       "<table border=\"1\" class=\"dataframe\">\n",
       "  <thead>\n",
       "    <tr style=\"text-align: right;\">\n",
       "      <th></th>\n",
       "      <th>Year</th>\n",
       "      <th>Week</th>\n",
       "      <th>Block</th>\n",
       "      <th>Mosquito number</th>\n",
       "      <th>WNV Present</th>\n",
       "      <th>Lat</th>\n",
       "      <th>Lon</th>\n",
       "      <th>Month</th>\n",
       "      <th>WNV Mosquitos</th>\n",
       "    </tr>\n",
       "  </thead>\n",
       "  <tbody>\n",
       "    <tr>\n",
       "      <th>Year</th>\n",
       "      <td>1.000000</td>\n",
       "      <td>-0.020908</td>\n",
       "      <td>-0.067612</td>\n",
       "      <td>0.117062</td>\n",
       "      <td>0.141943</td>\n",
       "      <td>0.064088</td>\n",
       "      <td>-0.040140</td>\n",
       "      <td>-0.102231</td>\n",
       "      <td>0.095452</td>\n",
       "    </tr>\n",
       "    <tr>\n",
       "      <th>Week</th>\n",
       "      <td>-0.020908</td>\n",
       "      <td>1.000000</td>\n",
       "      <td>-0.009073</td>\n",
       "      <td>0.000448</td>\n",
       "      <td>0.183040</td>\n",
       "      <td>-0.001914</td>\n",
       "      <td>-0.009174</td>\n",
       "      <td>0.949340</td>\n",
       "      <td>0.127010</td>\n",
       "    </tr>\n",
       "    <tr>\n",
       "      <th>Block</th>\n",
       "      <td>-0.067612</td>\n",
       "      <td>-0.009073</td>\n",
       "      <td>1.000000</td>\n",
       "      <td>0.081334</td>\n",
       "      <td>0.008864</td>\n",
       "      <td>-0.261829</td>\n",
       "      <td>0.099292</td>\n",
       "      <td>0.001560</td>\n",
       "      <td>0.061468</td>\n",
       "    </tr>\n",
       "    <tr>\n",
       "      <th>Mosquito number</th>\n",
       "      <td>0.117062</td>\n",
       "      <td>0.000448</td>\n",
       "      <td>0.081334</td>\n",
       "      <td>1.000000</td>\n",
       "      <td>0.417179</td>\n",
       "      <td>0.059195</td>\n",
       "      <td>-0.100425</td>\n",
       "      <td>-0.009376</td>\n",
       "      <td>0.665169</td>\n",
       "    </tr>\n",
       "    <tr>\n",
       "      <th>WNV Present</th>\n",
       "      <td>0.141943</td>\n",
       "      <td>0.183040</td>\n",
       "      <td>0.008864</td>\n",
       "      <td>0.417179</td>\n",
       "      <td>1.000000</td>\n",
       "      <td>0.072799</td>\n",
       "      <td>-0.126576</td>\n",
       "      <td>0.169369</td>\n",
       "      <td>0.768942</td>\n",
       "    </tr>\n",
       "    <tr>\n",
       "      <th>Lat</th>\n",
       "      <td>0.064088</td>\n",
       "      <td>-0.001914</td>\n",
       "      <td>-0.261829</td>\n",
       "      <td>0.059195</td>\n",
       "      <td>0.072799</td>\n",
       "      <td>1.000000</td>\n",
       "      <td>-0.695048</td>\n",
       "      <td>-0.007202</td>\n",
       "      <td>0.074832</td>\n",
       "    </tr>\n",
       "    <tr>\n",
       "      <th>Lon</th>\n",
       "      <td>-0.040140</td>\n",
       "      <td>-0.009174</td>\n",
       "      <td>0.099292</td>\n",
       "      <td>-0.100425</td>\n",
       "      <td>-0.126576</td>\n",
       "      <td>-0.695048</td>\n",
       "      <td>1.000000</td>\n",
       "      <td>-0.006613</td>\n",
       "      <td>-0.106157</td>\n",
       "    </tr>\n",
       "    <tr>\n",
       "      <th>Month</th>\n",
       "      <td>-0.102231</td>\n",
       "      <td>0.949340</td>\n",
       "      <td>0.001560</td>\n",
       "      <td>-0.009376</td>\n",
       "      <td>0.169369</td>\n",
       "      <td>-0.007202</td>\n",
       "      <td>-0.006613</td>\n",
       "      <td>1.000000</td>\n",
       "      <td>0.120109</td>\n",
       "    </tr>\n",
       "    <tr>\n",
       "      <th>WNV Mosquitos</th>\n",
       "      <td>0.095452</td>\n",
       "      <td>0.127010</td>\n",
       "      <td>0.061468</td>\n",
       "      <td>0.665169</td>\n",
       "      <td>0.768942</td>\n",
       "      <td>0.074832</td>\n",
       "      <td>-0.106157</td>\n",
       "      <td>0.120109</td>\n",
       "      <td>1.000000</td>\n",
       "    </tr>\n",
       "  </tbody>\n",
       "</table>\n",
       "</div>"
      ],
      "text/plain": [
       "                     Year      Week     Block  Mosquito number  WNV Present  \\\n",
       "Year             1.000000 -0.020908 -0.067612         0.117062     0.141943   \n",
       "Week            -0.020908  1.000000 -0.009073         0.000448     0.183040   \n",
       "Block           -0.067612 -0.009073  1.000000         0.081334     0.008864   \n",
       "Mosquito number  0.117062  0.000448  0.081334         1.000000     0.417179   \n",
       "WNV Present      0.141943  0.183040  0.008864         0.417179     1.000000   \n",
       "Lat              0.064088 -0.001914 -0.261829         0.059195     0.072799   \n",
       "Lon             -0.040140 -0.009174  0.099292        -0.100425    -0.126576   \n",
       "Month           -0.102231  0.949340  0.001560        -0.009376     0.169369   \n",
       "WNV Mosquitos    0.095452  0.127010  0.061468         0.665169     0.768942   \n",
       "\n",
       "                      Lat       Lon     Month  WNV Mosquitos  \n",
       "Year             0.064088 -0.040140 -0.102231       0.095452  \n",
       "Week            -0.001914 -0.009174  0.949340       0.127010  \n",
       "Block           -0.261829  0.099292  0.001560       0.061468  \n",
       "Mosquito number  0.059195 -0.100425 -0.009376       0.665169  \n",
       "WNV Present      0.072799 -0.126576  0.169369       0.768942  \n",
       "Lat              1.000000 -0.695048 -0.007202       0.074832  \n",
       "Lon             -0.695048  1.000000 -0.006613      -0.106157  \n",
       "Month           -0.007202 -0.006613  1.000000       0.120109  \n",
       "WNV Mosquitos    0.074832 -0.106157  0.120109       1.000000  "
      ]
     },
     "execution_count": 434,
     "metadata": {},
     "output_type": "execute_result"
    }
   ],
   "source": [
    "mn_corr"
   ]
  },
  {
   "cell_type": "markdown",
   "id": "8ec0d064",
   "metadata": {},
   "source": [
    "It looks like the Longitude, and month are negatively correlated with mosquito number. All the other columns seem to have a positive correlation."
   ]
  },
  {
   "cell_type": "code",
   "execution_count": 430,
   "id": "4e399bfb",
   "metadata": {},
   "outputs": [
    {
     "data": {
      "image/png": "[encoded data removed]",
      "text/plain": [
       "<Figure size 432x288 with 2 Axes>"
      ]
     },
     "metadata": {
      "needs_background": "light"
     },
     "output_type": "display_data"
    }
   ],
   "source": [
    "sns.heatmap(mn_corr, cmap='coolwarm')\n",
    "sns.heatmap;"
   ]
  },
  {
   "cell_type": "code",
   "execution_count": null,
   "id": "71a56f02",
   "metadata": {},
   "outputs": [],
   "source": [
    "no.corrcooef()"
   ]
  },
  {
   "cell_type": "markdown",
   "id": "cdd7c9bc",
   "metadata": {},
   "source": [
    "The derived column I made with mosquito numbers understandably have a high correlation with the WNV present column. This is understandable because the WNV Mosquitos column was formed via a calculation with the mosquito number. \n",
    "Besides that, SENTINEL trap and year seem to have a slightly higher correlation compared to other variables."
   ]
  },
  {
   "cell_type": "code",
   "execution_count": 435,
   "id": "3bd32d3f",
   "metadata": {},
   "outputs": [],
   "source": [
    "X = df.drop(columns = ['Mosquito number'])"
   ]
  },
  {
   "cell_type": "markdown",
   "id": "f214c414",
   "metadata": {},
   "source": [
    "It looks like the correlations are mostly under 0.05. More collinear are week and month, latitude and longitude, and Mosquito and WNV Mosquito (particularly their correlations). We state this to be addressing collinearity in the dataset to a sufficient degree and now can continue to the modeling. We have checked for collinearity being present in the independent variables by performing a correlation analysis. Note that this does not exclude the existence of multi-collinearity. To properly check for this, we would need to employ other techniques, in particular looking at Variance Inflation Factor (VIF). VIF has not been reccommended for this analysis, so it will not be used. (FL"
   ]
  },
  {
   "cell_type": "markdown",
   "id": "762e8514",
   "metadata": {},
   "source": [
    "## Part 3 - Advanced Statistical Analysis"
   ]
  },
  {
   "cell_type": "markdown",
   "id": "5cfaf815",
   "metadata": {},
   "source": [
    "### Linear Regression"
   ]
  },
  {
   "cell_type": "markdown",
   "id": "d2608462",
   "metadata": {},
   "source": [
    "Objective: run a linear regression to determine how the independent variables affect the number of mosquitoes caught. Explain your model construction process. Analyze the model and the results, and discuss the model’s limitations. This may end up being an iterative process.\n",
    "Note:\n",
    "\n",
    "You will likely see a low R^2 value, that is to be expected.\n",
    "This dataset does not respond well to performing VIF analysis, so this is not required.\n",
    "WNV Present must not be one of your independent variables."
   ]
  },
  {
   "cell_type": "code",
   "execution_count": 196,
   "id": "d4d3f64f",
   "metadata": {},
   "outputs": [],
   "source": [
    "#making a copy of the original data frame. Will make changes to this new one to be suited to linear regression\n",
    "mdf = df.copy()"
   ]
  },
  {
   "cell_type": "markdown",
   "id": "ea08c081",
   "metadata": {},
   "source": [
    "#### Preparation and Pre-processing"
   ]
  },
  {
   "cell_type": "markdown",
   "id": "4b4ee7e5",
   "metadata": {},
   "source": [
    "The datatypes of the columns should be numerical before we run them through a linear or logisitical model. So first I will see the data types of columns that are non-numerical, and try to address them appropriately."
   ]
  },
  {
   "cell_type": "code",
   "execution_count": 197,
   "id": "6bcae481",
   "metadata": {
    "scrolled": true
   },
   "outputs": [
    {
     "name": "stdout",
     "output_type": "stream",
     "text": [
      "<class 'pandas.core.frame.DataFrame'>\n",
      "Int64Index: 15571 entries, 1 to 18493\n",
      "Data columns (total 18 columns):\n",
      " #   Column           Non-Null Count  Dtype  \n",
      "---  ------           --------------  -----  \n",
      " 0   Year             15571 non-null  int64  \n",
      " 1   Week             15571 non-null  int64  \n",
      " 2   Address Block    15571 non-null  object \n",
      " 3   Block            15571 non-null  int64  \n",
      " 4   Trap             15571 non-null  object \n",
      " 5   Trap type        15571 non-null  object \n",
      " 6   Date             15571 non-null  object \n",
      " 7   Mosquito number  15571 non-null  int64  \n",
      " 8   WNV Present      15571 non-null  int64  \n",
      " 9   Species          15571 non-null  object \n",
      " 10  Lat              15571 non-null  float64\n",
      " 11  Lon              15571 non-null  float64\n",
      " 12  CDC              15571 non-null  uint8  \n",
      " 13  GRAVID           15571 non-null  uint8  \n",
      " 14  OVI              15571 non-null  uint8  \n",
      " 15  SENTINEL         15571 non-null  uint8  \n",
      " 16  Month            15571 non-null  int64  \n",
      " 17  WNV Mosquitos    15571 non-null  int64  \n",
      "dtypes: float64(2), int64(7), object(5), uint8(4)\n",
      "memory usage: 1.8+ MB\n"
     ]
    }
   ],
   "source": [
    "mdf.info()"
   ]
  },
  {
   "cell_type": "markdown",
   "id": "5dab92ea",
   "metadata": {},
   "source": [
    "It looks like all the columns have numerical datatypes except for Species, Date, Trap type, Trap and Address Block. This next section aims to convert all of their data types into numerical."
   ]
  },
  {
   "cell_type": "markdown",
   "id": "67a96ab4",
   "metadata": {},
   "source": [
    "Address block already seems to be in a derived, numeric form in the block column. Thus we will drop the Address Block column."
   ]
  },
  {
   "cell_type": "code",
   "execution_count": 198,
   "id": "d49dccfd",
   "metadata": {},
   "outputs": [],
   "source": [
    "mdf = mdf.drop(columns = \"Address Block\")"
   ]
  },
  {
   "cell_type": "code",
   "execution_count": 200,
   "id": "554e707c",
   "metadata": {},
   "outputs": [
    {
     "data": {
      "text/plain": [
       "Index(['Year', 'Week', 'Block', 'Trap', 'Trap type', 'Date', 'Mosquito number',\n",
       "       'WNV Present', 'Species', 'Lat', 'Lon', 'CDC', 'GRAVID', 'OVI',\n",
       "       'SENTINEL', 'Month', 'WNV Mosquitos'],\n",
       "      dtype='object')"
      ]
     },
     "execution_count": 200,
     "metadata": {},
     "output_type": "execute_result"
    }
   ],
   "source": [
    "#Confirming that the column has been dropped successfully\n",
    "mdf.columns"
   ]
  },
  {
   "cell_type": "markdown",
   "id": "9f75dfb2",
   "metadata": {},
   "source": [
    "The trap type column has already been binarized and converted to dummy variables. So the original column can now be dropped."
   ]
  },
  {
   "cell_type": "code",
   "execution_count": 202,
   "id": "945e0452",
   "metadata": {},
   "outputs": [],
   "source": [
    "mdf = mdf.drop(columns = \"Trap type\")"
   ]
  },
  {
   "cell_type": "code",
   "execution_count": 203,
   "id": "1dcfb96a",
   "metadata": {},
   "outputs": [
    {
     "data": {
      "text/plain": [
       "Index(['Year', 'Week', 'Block', 'Trap', 'Date', 'Mosquito number',\n",
       "       'WNV Present', 'Species', 'Lat', 'Lon', 'CDC', 'GRAVID', 'OVI',\n",
       "       'SENTINEL', 'Month', 'WNV Mosquitos'],\n",
       "      dtype='object')"
      ]
     },
     "execution_count": 203,
     "metadata": {},
     "output_type": "execute_result"
    }
   ],
   "source": [
    "#Confirming that the column has been dropped successfully\n",
    "mdf.columns"
   ]
  },
  {
   "cell_type": "markdown",
   "id": "3a094ec0",
   "metadata": {},
   "source": [
    "Date is already present in the dataframe in the form of year, month and week. That's enough information for our analysis, so we can drop the date function as well."
   ]
  },
  {
   "cell_type": "code",
   "execution_count": 204,
   "id": "b21f218c",
   "metadata": {},
   "outputs": [
    {
     "data": {
      "text/html": [
       "<div>\n",
       "<style scoped>\n",
       "    .dataframe tbody tr th:only-of-type {\n",
       "        vertical-align: middle;\n",
       "    }\n",
       "\n",
       "    .dataframe tbody tr th {\n",
       "        vertical-align: top;\n",
       "    }\n",
       "\n",
       "    .dataframe thead th {\n",
       "        text-align: right;\n",
       "    }\n",
       "</style>\n",
       "<table border=\"1\" class=\"dataframe\">\n",
       "  <thead>\n",
       "    <tr style=\"text-align: right;\">\n",
       "      <th></th>\n",
       "      <th>Year</th>\n",
       "      <th>Week</th>\n",
       "      <th>Block</th>\n",
       "      <th>Trap</th>\n",
       "      <th>Mosquito number</th>\n",
       "      <th>WNV Present</th>\n",
       "      <th>Species</th>\n",
       "      <th>Lat</th>\n",
       "      <th>Lon</th>\n",
       "      <th>CDC</th>\n",
       "      <th>GRAVID</th>\n",
       "      <th>OVI</th>\n",
       "      <th>SENTINEL</th>\n",
       "      <th>Month</th>\n",
       "      <th>WNV Mosquitos</th>\n",
       "    </tr>\n",
       "  </thead>\n",
       "  <tbody>\n",
       "    <tr>\n",
       "      <th>1</th>\n",
       "      <td>2019</td>\n",
       "      <td>39</td>\n",
       "      <td>52</td>\n",
       "      <td>T114</td>\n",
       "      <td>1</td>\n",
       "      <td>0</td>\n",
       "      <td>CULEX RESTUANS</td>\n",
       "      <td>41.798211</td>\n",
       "      <td>-87.736925</td>\n",
       "      <td>0</td>\n",
       "      <td>1</td>\n",
       "      <td>0</td>\n",
       "      <td>0</td>\n",
       "      <td>9</td>\n",
       "      <td>0</td>\n",
       "    </tr>\n",
       "    <tr>\n",
       "      <th>2</th>\n",
       "      <td>2019</td>\n",
       "      <td>39</td>\n",
       "      <td>58</td>\n",
       "      <td>T028</td>\n",
       "      <td>2</td>\n",
       "      <td>0</td>\n",
       "      <td>CULEX RESTUANS</td>\n",
       "      <td>41.987245</td>\n",
       "      <td>-87.689417</td>\n",
       "      <td>0</td>\n",
       "      <td>1</td>\n",
       "      <td>0</td>\n",
       "      <td>0</td>\n",
       "      <td>9</td>\n",
       "      <td>0</td>\n",
       "    </tr>\n",
       "    <tr>\n",
       "      <th>3</th>\n",
       "      <td>2019</td>\n",
       "      <td>39</td>\n",
       "      <td>39</td>\n",
       "      <td>T228</td>\n",
       "      <td>1</td>\n",
       "      <td>0</td>\n",
       "      <td>CULEX RESTUANS</td>\n",
       "      <td>41.953664</td>\n",
       "      <td>-87.724987</td>\n",
       "      <td>0</td>\n",
       "      <td>1</td>\n",
       "      <td>0</td>\n",
       "      <td>0</td>\n",
       "      <td>9</td>\n",
       "      <td>0</td>\n",
       "    </tr>\n",
       "    <tr>\n",
       "      <th>4</th>\n",
       "      <td>2019</td>\n",
       "      <td>39</td>\n",
       "      <td>131</td>\n",
       "      <td>T209</td>\n",
       "      <td>9</td>\n",
       "      <td>0</td>\n",
       "      <td>CULEX RESTUANS</td>\n",
       "      <td>41.657069</td>\n",
       "      <td>-87.546049</td>\n",
       "      <td>0</td>\n",
       "      <td>1</td>\n",
       "      <td>0</td>\n",
       "      <td>0</td>\n",
       "      <td>9</td>\n",
       "      <td>0</td>\n",
       "    </tr>\n",
       "    <tr>\n",
       "      <th>5</th>\n",
       "      <td>2019</td>\n",
       "      <td>39</td>\n",
       "      <td>21</td>\n",
       "      <td>T054C</td>\n",
       "      <td>2</td>\n",
       "      <td>0</td>\n",
       "      <td>CULEX RESTUANS</td>\n",
       "      <td>41.921777</td>\n",
       "      <td>-87.632140</td>\n",
       "      <td>0</td>\n",
       "      <td>1</td>\n",
       "      <td>0</td>\n",
       "      <td>0</td>\n",
       "      <td>9</td>\n",
       "      <td>0</td>\n",
       "    </tr>\n",
       "  </tbody>\n",
       "</table>\n",
       "</div>"
      ],
      "text/plain": [
       "   Year  Week  Block   Trap  Mosquito number  WNV Present         Species  \\\n",
       "1  2019    39     52   T114                1            0  CULEX RESTUANS   \n",
       "2  2019    39     58   T028                2            0  CULEX RESTUANS   \n",
       "3  2019    39     39   T228                1            0  CULEX RESTUANS   \n",
       "4  2019    39    131   T209                9            0  CULEX RESTUANS   \n",
       "5  2019    39     21  T054C                2            0  CULEX RESTUANS   \n",
       "\n",
       "         Lat        Lon  CDC  GRAVID  OVI  SENTINEL  Month  WNV Mosquitos  \n",
       "1  41.798211 -87.736925    0       1    0         0      9              0  \n",
       "2  41.987245 -87.689417    0       1    0         0      9              0  \n",
       "3  41.953664 -87.724987    0       1    0         0      9              0  \n",
       "4  41.657069 -87.546049    0       1    0         0      9              0  \n",
       "5  41.921777 -87.632140    0       1    0         0      9              0  "
      ]
     },
     "execution_count": 204,
     "metadata": {},
     "output_type": "execute_result"
    }
   ],
   "source": [
    "mdf = mdf.drop(columns = \"Date\")"
   ]
  },
  {
   "cell_type": "code",
   "execution_count": 205,
   "id": "943bd0fb",
   "metadata": {},
   "outputs": [
    {
     "data": {
      "text/plain": [
       "Index(['Year', 'Week', 'Block', 'Trap', 'Mosquito number', 'WNV Present',\n",
       "       'Species', 'Lat', 'Lon', 'CDC', 'GRAVID', 'OVI', 'SENTINEL', 'Month',\n",
       "       'WNV Mosquitos'],\n",
       "      dtype='object')"
      ]
     },
     "execution_count": 205,
     "metadata": {},
     "output_type": "execute_result"
    }
   ],
   "source": [
    "#checking to see if the column has been dropped\n",
    "mdf.columns"
   ]
  },
  {
   "cell_type": "markdown",
   "id": "b8135a1f",
   "metadata": {},
   "source": [
    "The trap looks like it's an ID for the trap. There's no indication that the values in trap column mean that the traps are distinct from each other in any way. They could be the exact trap, with different id numbers. This is the inference being made for now."
   ]
  },
  {
   "cell_type": "code",
   "execution_count": 211,
   "id": "0da948ae",
   "metadata": {},
   "outputs": [],
   "source": [
    "mdf = mdf.drop(columns = \"Trap\")"
   ]
  },
  {
   "cell_type": "code",
   "execution_count": 212,
   "id": "467b4b14",
   "metadata": {},
   "outputs": [
    {
     "data": {
      "text/plain": [
       "Index(['Year', 'Week', 'Block', 'Mosquito number', 'WNV Present', 'Species',\n",
       "       'Lat', 'Lon', 'CDC', 'GRAVID', 'OVI', 'SENTINEL', 'Month',\n",
       "       'WNV Mosquitos', 'CULEX PIPIENS', 'CULEX RESTUANS', 'CULEX SALINARIUS',\n",
       "       'CULEX TERRITANS'],\n",
       "      dtype='object')"
      ]
     },
     "execution_count": 212,
     "metadata": {},
     "output_type": "execute_result"
    }
   ],
   "source": [
    "#Confirming trap column has been dropped\n",
    "mdf.columns"
   ]
  },
  {
   "cell_type": "markdown",
   "id": "f01b3019",
   "metadata": {},
   "source": [
    "Binarizing the species column using dummy variables:"
   ]
  },
  {
   "cell_type": "code",
   "execution_count": 213,
   "id": "81310c7f",
   "metadata": {},
   "outputs": [
    {
     "data": {
      "text/html": [
       "<div>\n",
       "<style scoped>\n",
       "    .dataframe tbody tr th:only-of-type {\n",
       "        vertical-align: middle;\n",
       "    }\n",
       "\n",
       "    .dataframe tbody tr th {\n",
       "        vertical-align: top;\n",
       "    }\n",
       "\n",
       "    .dataframe thead th {\n",
       "        text-align: right;\n",
       "    }\n",
       "</style>\n",
       "<table border=\"1\" class=\"dataframe\">\n",
       "  <thead>\n",
       "    <tr style=\"text-align: right;\">\n",
       "      <th></th>\n",
       "      <th>CULEX PIPIENS</th>\n",
       "      <th>CULEX RESTUANS</th>\n",
       "      <th>CULEX SALINARIUS</th>\n",
       "      <th>CULEX TERRITANS</th>\n",
       "    </tr>\n",
       "  </thead>\n",
       "  <tbody>\n",
       "    <tr>\n",
       "      <th>1</th>\n",
       "      <td>0</td>\n",
       "      <td>1</td>\n",
       "      <td>0</td>\n",
       "      <td>0</td>\n",
       "    </tr>\n",
       "    <tr>\n",
       "      <th>2</th>\n",
       "      <td>0</td>\n",
       "      <td>1</td>\n",
       "      <td>0</td>\n",
       "      <td>0</td>\n",
       "    </tr>\n",
       "    <tr>\n",
       "      <th>3</th>\n",
       "      <td>0</td>\n",
       "      <td>1</td>\n",
       "      <td>0</td>\n",
       "      <td>0</td>\n",
       "    </tr>\n",
       "    <tr>\n",
       "      <th>4</th>\n",
       "      <td>0</td>\n",
       "      <td>1</td>\n",
       "      <td>0</td>\n",
       "      <td>0</td>\n",
       "    </tr>\n",
       "    <tr>\n",
       "      <th>5</th>\n",
       "      <td>0</td>\n",
       "      <td>1</td>\n",
       "      <td>0</td>\n",
       "      <td>0</td>\n",
       "    </tr>\n",
       "    <tr>\n",
       "      <th>...</th>\n",
       "      <td>...</td>\n",
       "      <td>...</td>\n",
       "      <td>...</td>\n",
       "      <td>...</td>\n",
       "    </tr>\n",
       "    <tr>\n",
       "      <th>18489</th>\n",
       "      <td>1</td>\n",
       "      <td>0</td>\n",
       "      <td>0</td>\n",
       "      <td>0</td>\n",
       "    </tr>\n",
       "    <tr>\n",
       "      <th>18490</th>\n",
       "      <td>1</td>\n",
       "      <td>0</td>\n",
       "      <td>0</td>\n",
       "      <td>0</td>\n",
       "    </tr>\n",
       "    <tr>\n",
       "      <th>18491</th>\n",
       "      <td>1</td>\n",
       "      <td>0</td>\n",
       "      <td>0</td>\n",
       "      <td>0</td>\n",
       "    </tr>\n",
       "    <tr>\n",
       "      <th>18492</th>\n",
       "      <td>0</td>\n",
       "      <td>1</td>\n",
       "      <td>0</td>\n",
       "      <td>0</td>\n",
       "    </tr>\n",
       "    <tr>\n",
       "      <th>18493</th>\n",
       "      <td>0</td>\n",
       "      <td>1</td>\n",
       "      <td>0</td>\n",
       "      <td>0</td>\n",
       "    </tr>\n",
       "  </tbody>\n",
       "</table>\n",
       "<p>15571 rows × 4 columns</p>\n",
       "</div>"
      ],
      "text/plain": [
       "       CULEX PIPIENS  CULEX RESTUANS  CULEX SALINARIUS  CULEX TERRITANS\n",
       "1                  0               1                 0                0\n",
       "2                  0               1                 0                0\n",
       "3                  0               1                 0                0\n",
       "4                  0               1                 0                0\n",
       "5                  0               1                 0                0\n",
       "...              ...             ...               ...              ...\n",
       "18489              1               0                 0                0\n",
       "18490              1               0                 0                0\n",
       "18491              1               0                 0                0\n",
       "18492              0               1                 0                0\n",
       "18493              0               1                 0                0\n",
       "\n",
       "[15571 rows x 4 columns]"
      ]
     },
     "execution_count": 213,
     "metadata": {},
     "output_type": "execute_result"
    }
   ],
   "source": [
    "dummy_df_species = pd.get_dummies(df['Species'])\n",
    "dummy_df_species"
   ]
  },
  {
   "cell_type": "code",
   "execution_count": 209,
   "id": "09d241d0",
   "metadata": {},
   "outputs": [
    {
     "data": {
      "text/html": [
       "<div>\n",
       "<style scoped>\n",
       "    .dataframe tbody tr th:only-of-type {\n",
       "        vertical-align: middle;\n",
       "    }\n",
       "\n",
       "    .dataframe tbody tr th {\n",
       "        vertical-align: top;\n",
       "    }\n",
       "\n",
       "    .dataframe thead th {\n",
       "        text-align: right;\n",
       "    }\n",
       "</style>\n",
       "<table border=\"1\" class=\"dataframe\">\n",
       "  <thead>\n",
       "    <tr style=\"text-align: right;\">\n",
       "      <th></th>\n",
       "      <th>Year</th>\n",
       "      <th>Week</th>\n",
       "      <th>Block</th>\n",
       "      <th>Trap</th>\n",
       "      <th>Mosquito number</th>\n",
       "      <th>WNV Present</th>\n",
       "      <th>Species</th>\n",
       "      <th>Lat</th>\n",
       "      <th>Lon</th>\n",
       "      <th>CDC</th>\n",
       "      <th>GRAVID</th>\n",
       "      <th>OVI</th>\n",
       "      <th>SENTINEL</th>\n",
       "      <th>Month</th>\n",
       "      <th>WNV Mosquitos</th>\n",
       "      <th>CULEX PIPIENS</th>\n",
       "      <th>CULEX RESTUANS</th>\n",
       "      <th>CULEX SALINARIUS</th>\n",
       "      <th>CULEX TERRITANS</th>\n",
       "    </tr>\n",
       "  </thead>\n",
       "  <tbody>\n",
       "    <tr>\n",
       "      <th>1</th>\n",
       "      <td>2019</td>\n",
       "      <td>39</td>\n",
       "      <td>52</td>\n",
       "      <td>T114</td>\n",
       "      <td>1</td>\n",
       "      <td>0</td>\n",
       "      <td>CULEX RESTUANS</td>\n",
       "      <td>41.798211</td>\n",
       "      <td>-87.736925</td>\n",
       "      <td>0</td>\n",
       "      <td>1</td>\n",
       "      <td>0</td>\n",
       "      <td>0</td>\n",
       "      <td>9</td>\n",
       "      <td>0</td>\n",
       "      <td>0</td>\n",
       "      <td>1</td>\n",
       "      <td>0</td>\n",
       "      <td>0</td>\n",
       "    </tr>\n",
       "    <tr>\n",
       "      <th>2</th>\n",
       "      <td>2019</td>\n",
       "      <td>39</td>\n",
       "      <td>58</td>\n",
       "      <td>T028</td>\n",
       "      <td>2</td>\n",
       "      <td>0</td>\n",
       "      <td>CULEX RESTUANS</td>\n",
       "      <td>41.987245</td>\n",
       "      <td>-87.689417</td>\n",
       "      <td>0</td>\n",
       "      <td>1</td>\n",
       "      <td>0</td>\n",
       "      <td>0</td>\n",
       "      <td>9</td>\n",
       "      <td>0</td>\n",
       "      <td>0</td>\n",
       "      <td>1</td>\n",
       "      <td>0</td>\n",
       "      <td>0</td>\n",
       "    </tr>\n",
       "    <tr>\n",
       "      <th>3</th>\n",
       "      <td>2019</td>\n",
       "      <td>39</td>\n",
       "      <td>39</td>\n",
       "      <td>T228</td>\n",
       "      <td>1</td>\n",
       "      <td>0</td>\n",
       "      <td>CULEX RESTUANS</td>\n",
       "      <td>41.953664</td>\n",
       "      <td>-87.724987</td>\n",
       "      <td>0</td>\n",
       "      <td>1</td>\n",
       "      <td>0</td>\n",
       "      <td>0</td>\n",
       "      <td>9</td>\n",
       "      <td>0</td>\n",
       "      <td>0</td>\n",
       "      <td>1</td>\n",
       "      <td>0</td>\n",
       "      <td>0</td>\n",
       "    </tr>\n",
       "    <tr>\n",
       "      <th>4</th>\n",
       "      <td>2019</td>\n",
       "      <td>39</td>\n",
       "      <td>131</td>\n",
       "      <td>T209</td>\n",
       "      <td>9</td>\n",
       "      <td>0</td>\n",
       "      <td>CULEX RESTUANS</td>\n",
       "      <td>41.657069</td>\n",
       "      <td>-87.546049</td>\n",
       "      <td>0</td>\n",
       "      <td>1</td>\n",
       "      <td>0</td>\n",
       "      <td>0</td>\n",
       "      <td>9</td>\n",
       "      <td>0</td>\n",
       "      <td>0</td>\n",
       "      <td>1</td>\n",
       "      <td>0</td>\n",
       "      <td>0</td>\n",
       "    </tr>\n",
       "    <tr>\n",
       "      <th>5</th>\n",
       "      <td>2019</td>\n",
       "      <td>39</td>\n",
       "      <td>21</td>\n",
       "      <td>T054C</td>\n",
       "      <td>2</td>\n",
       "      <td>0</td>\n",
       "      <td>CULEX RESTUANS</td>\n",
       "      <td>41.921777</td>\n",
       "      <td>-87.632140</td>\n",
       "      <td>0</td>\n",
       "      <td>1</td>\n",
       "      <td>0</td>\n",
       "      <td>0</td>\n",
       "      <td>9</td>\n",
       "      <td>0</td>\n",
       "      <td>0</td>\n",
       "      <td>1</td>\n",
       "      <td>0</td>\n",
       "      <td>0</td>\n",
       "    </tr>\n",
       "  </tbody>\n",
       "</table>\n",
       "</div>"
      ],
      "text/plain": [
       "   Year  Week  Block   Trap  Mosquito number  WNV Present         Species  \\\n",
       "1  2019    39     52   T114                1            0  CULEX RESTUANS   \n",
       "2  2019    39     58   T028                2            0  CULEX RESTUANS   \n",
       "3  2019    39     39   T228                1            0  CULEX RESTUANS   \n",
       "4  2019    39    131   T209                9            0  CULEX RESTUANS   \n",
       "5  2019    39     21  T054C                2            0  CULEX RESTUANS   \n",
       "\n",
       "         Lat        Lon  CDC  GRAVID  OVI  SENTINEL  Month  WNV Mosquitos  \\\n",
       "1  41.798211 -87.736925    0       1    0         0      9              0   \n",
       "2  41.987245 -87.689417    0       1    0         0      9              0   \n",
       "3  41.953664 -87.724987    0       1    0         0      9              0   \n",
       "4  41.657069 -87.546049    0       1    0         0      9              0   \n",
       "5  41.921777 -87.632140    0       1    0         0      9              0   \n",
       "\n",
       "   CULEX PIPIENS  CULEX RESTUANS  CULEX SALINARIUS  CULEX TERRITANS  \n",
       "1              0               1                 0                0  \n",
       "2              0               1                 0                0  \n",
       "3              0               1                 0                0  \n",
       "4              0               1                 0                0  \n",
       "5              0               1                 0                0  "
      ]
     },
     "execution_count": 209,
     "metadata": {},
     "output_type": "execute_result"
    }
   ],
   "source": [
    "#seeing if the columns have been binarized - checking for 0s and 1s in the rows.\n",
    "mdf = pd.concat([mdf, dummy_df_species], axis = 1)\n",
    "mdf.head()"
   ]
  },
  {
   "cell_type": "markdown",
   "id": "bfa320a6",
   "metadata": {},
   "source": [
    "Now that the species column has been binarized, I can drop the original species column where the data was not numerical."
   ]
  },
  {
   "cell_type": "code",
   "execution_count": 240,
   "id": "b3dd253d",
   "metadata": {},
   "outputs": [],
   "source": [
    "mdf = mdf.drop(columns = \"Species\")"
   ]
  },
  {
   "cell_type": "markdown",
   "id": "66126438",
   "metadata": {},
   "source": [
    "Progress check to see if all the columns are numeric now"
   ]
  },
  {
   "cell_type": "code",
   "execution_count": 241,
   "id": "4dec7c9a",
   "metadata": {},
   "outputs": [
    {
     "name": "stdout",
     "output_type": "stream",
     "text": [
      "<class 'pandas.core.frame.DataFrame'>\n",
      "Int64Index: 15571 entries, 1 to 18493\n",
      "Data columns (total 17 columns):\n",
      " #   Column            Non-Null Count  Dtype  \n",
      "---  ------            --------------  -----  \n",
      " 0   Year              15571 non-null  int64  \n",
      " 1   Week              15571 non-null  int64  \n",
      " 2   Block             15571 non-null  int64  \n",
      " 3   Mosquito number   15571 non-null  int64  \n",
      " 4   WNV Present       15571 non-null  int64  \n",
      " 5   Lat               15571 non-null  float64\n",
      " 6   Lon               15571 non-null  float64\n",
      " 7   CDC               15571 non-null  uint8  \n",
      " 8   GRAVID            15571 non-null  uint8  \n",
      " 9   OVI               15571 non-null  uint8  \n",
      " 10  SENTINEL          15571 non-null  uint8  \n",
      " 11  Month             15571 non-null  int64  \n",
      " 12  WNV Mosquitos     15571 non-null  int64  \n",
      " 13  CULEX PIPIENS     15571 non-null  uint8  \n",
      " 14  CULEX RESTUANS    15571 non-null  uint8  \n",
      " 15  CULEX SALINARIUS  15571 non-null  uint8  \n",
      " 16  CULEX TERRITANS   15571 non-null  uint8  \n",
      "dtypes: float64(2), int64(7), uint8(8)\n",
      "memory usage: 1.3 MB\n"
     ]
    }
   ],
   "source": [
    "mdf.info()"
   ]
  },
  {
   "cell_type": "markdown",
   "id": "55a46497",
   "metadata": {},
   "source": [
    "All of the data types look numerical! Which means it's ready to go into a computation model such as linear regression."
   ]
  },
  {
   "cell_type": "markdown",
   "id": "bded509b",
   "metadata": {},
   "source": [
    "I will use a copy of this data frame )mdf) for logistical regression later too. So for now, I will take a copy of the dataframe for linear regression"
   ]
  },
  {
   "cell_type": "code",
   "execution_count": 242,
   "id": "c360838d",
   "metadata": {},
   "outputs": [
    {
     "name": "stdout",
     "output_type": "stream",
     "text": [
      "<class 'pandas.core.frame.DataFrame'>\n",
      "Int64Index: 15571 entries, 1 to 18493\n",
      "Data columns (total 17 columns):\n",
      " #   Column            Non-Null Count  Dtype  \n",
      "---  ------            --------------  -----  \n",
      " 0   Year              15571 non-null  int64  \n",
      " 1   Week              15571 non-null  int64  \n",
      " 2   Block             15571 non-null  int64  \n",
      " 3   Mosquito number   15571 non-null  int64  \n",
      " 4   WNV Present       15571 non-null  int64  \n",
      " 5   Lat               15571 non-null  float64\n",
      " 6   Lon               15571 non-null  float64\n",
      " 7   CDC               15571 non-null  uint8  \n",
      " 8   GRAVID            15571 non-null  uint8  \n",
      " 9   OVI               15571 non-null  uint8  \n",
      " 10  SENTINEL          15571 non-null  uint8  \n",
      " 11  Month             15571 non-null  int64  \n",
      " 12  WNV Mosquitos     15571 non-null  int64  \n",
      " 13  CULEX PIPIENS     15571 non-null  uint8  \n",
      " 14  CULEX RESTUANS    15571 non-null  uint8  \n",
      " 15  CULEX SALINARIUS  15571 non-null  uint8  \n",
      " 16  CULEX TERRITANS   15571 non-null  uint8  \n",
      "dtypes: float64(2), int64(7), uint8(8)\n",
      "memory usage: 1.3 MB\n"
     ]
    }
   ],
   "source": [
    "lin_df = mdf.copy()\n",
    "#seeing if the data frame got copied properly\n",
    "lin_df.info()"
   ]
  },
  {
   "cell_type": "markdown",
   "id": "aa15e477",
   "metadata": {},
   "source": [
    "#### Checking for Linearity"
   ]
  },
  {
   "cell_type": "markdown",
   "id": "3d4e4dd0",
   "metadata": {},
   "source": [
    "We need to make sure that there is a linear relationship between any of the variables, and the number of mosquitos caught. WNV Mosquitos is a derived column from mosquito number, so that will also need to be dropped as it would skew the results. First Let's check for linearity visually."
   ]
  },
  {
   "cell_type": "code",
   "execution_count": 312,
   "id": "ec7d9738",
   "metadata": {},
   "outputs": [],
   "source": [
    "#the column WNV Mosquitos is servived from the y variable, mosquito number. So that column can be dropped\n",
    "lin_df = lin_df.drop(columns = ['WNV Mosquitos', 'WNV Present'])"
   ]
  },
  {
   "cell_type": "code",
   "execution_count": 313,
   "id": "e8720e6f",
   "metadata": {},
   "outputs": [
    {
     "data": {
      "text/plain": [
       "Index(['Year', 'Week', 'Block', 'Mosquito number', 'Lat', 'Lon', 'CDC',\n",
       "       'GRAVID', 'OVI', 'SENTINEL', 'Month', 'CULEX PIPIENS', 'CULEX RESTUANS',\n",
       "       'CULEX SALINARIUS', 'CULEX TERRITANS'],\n",
       "      dtype='object')"
      ]
     },
     "execution_count": 313,
     "metadata": {},
     "output_type": "execute_result"
    }
   ],
   "source": [
    "lin_df.columns"
   ]
  },
  {
   "cell_type": "code",
   "execution_count": 439,
   "id": "2042b0dc",
   "metadata": {},
   "outputs": [
    {
     "data": {
      "text/plain": [
       "Index(['Year', 'Week', 'Block', 'WNV Present', 'Lat', 'Lon', 'CDC', 'GRAVID',\n",
       "       'OVI', 'SENTINEL', 'Month', 'WNV Mosquitos', 'CULEX PIPIENS',\n",
       "       'CULEX RESTUANS', 'CULEX SALINARIUS', 'CULEX TERRITANS'],\n",
       "      dtype='object')"
      ]
     },
     "execution_count": 439,
     "metadata": {},
     "output_type": "execute_result"
    }
   ],
   "source": [
    "X = lin_df.drop(columns = ['Mosquito number'])\n",
    "X.columns"
   ]
  },
  {
   "cell_type": "code",
   "execution_count": 440,
   "id": "c7e8e763",
   "metadata": {},
   "outputs": [
    {
     "data": {
      "text/plain": [
       "1    1\n",
       "2    2\n",
       "3    1\n",
       "4    9\n",
       "5    2\n",
       "Name: Mosquito number, dtype: int64"
      ]
     },
     "execution_count": 440,
     "metadata": {},
     "output_type": "execute_result"
    }
   ],
   "source": [
    "y = lin_df['Mosquito number']\n",
    "y.head()"
   ]
  },
  {
   "cell_type": "code",
   "execution_count": 441,
   "id": "d2f8e503",
   "metadata": {},
   "outputs": [
    {
     "name": "stdout",
     "output_type": "stream",
     "text": [
      "Original data set had 15571 rows and 17 columns.\n",
      "X has 15571 rows and 16 columns.\n",
      "y has 15571 rows and 1 column.\n"
     ]
    }
   ],
   "source": [
    "# Checking the shape of X and y variables\n",
    "\n",
    "print(f'Original data set had {lin_df.shape[0]} rows and {lin_df.shape[1]} columns.')\n",
    "print(f'X has {X.shape[0]} rows and {X.shape[1]} columns.')\n",
    "print(f'y has {y.shape[0]} rows and 1 column.')"
   ]
  },
  {
   "cell_type": "code",
   "execution_count": 317,
   "id": "25edc97f",
   "metadata": {},
   "outputs": [
    {
     "data": {
      "image/png": "[encoded data removed]",
      "text/plain": [
       "<Figure size 1440x1080 with 16 Axes>"
      ]
     },
     "metadata": {
      "needs_background": "light"
     },
     "output_type": "display_data"
    }
   ],
   "source": [
    "# Loop over the columns and plot the relationship between each column and the target\n",
    "plt.subplots(4,4, figsize=(20,15))\n",
    "\n",
    "count = 1\n",
    "\n",
    "for col in X.columns:\n",
    "    plt.subplot(4,4,count)\n",
    "    plt.scatter(X[col],y)\n",
    "    plt.title(col)\n",
    "    \n",
    "    count += 1\n",
    "    \n",
    "plt.tight_layout()\n",
    "plt.show()"
   ]
  },
  {
   "cell_type": "markdown",
   "id": "ed8b0c2f",
   "metadata": {},
   "source": [
    "It looks like there isn't a linear relationship with any of the variables! Our derived column which checks for the mosquito numbers with WNV virus correlates. This could likely be because these test results are organized in such a way that when the number of mosquitoes exceed 50, they are split into another record (another row in the dataset), such that the number of mosquitoes are capped at 50. Additionally, we have quite a few binarized column which could lead to a binary distribution, as seem with many of the graphs (e.x. two vertical lines)."
   ]
  },
  {
   "cell_type": "markdown",
   "id": "056cb255",
   "metadata": {},
   "source": [
    "#### Checking for Collinearity"
   ]
  },
  {
   "cell_type": "markdown",
   "id": "75caa893",
   "metadata": {},
   "source": [
    "The predictor variables for mosquito number should be independent of each other."
   ]
  },
  {
   "cell_type": "code",
   "execution_count": 442,
   "id": "8ffa25ed",
   "metadata": {},
   "outputs": [
    {
     "data": {
      "text/html": [
       "<div>\n",
       "<style scoped>\n",
       "    .dataframe tbody tr th:only-of-type {\n",
       "        vertical-align: middle;\n",
       "    }\n",
       "\n",
       "    .dataframe tbody tr th {\n",
       "        vertical-align: top;\n",
       "    }\n",
       "\n",
       "    .dataframe thead th {\n",
       "        text-align: right;\n",
       "    }\n",
       "</style>\n",
       "<table border=\"1\" class=\"dataframe\">\n",
       "  <thead>\n",
       "    <tr style=\"text-align: right;\">\n",
       "      <th></th>\n",
       "      <th>Year</th>\n",
       "      <th>Week</th>\n",
       "      <th>Block</th>\n",
       "      <th>WNV Present</th>\n",
       "      <th>Lat</th>\n",
       "      <th>Lon</th>\n",
       "      <th>CDC</th>\n",
       "      <th>GRAVID</th>\n",
       "      <th>OVI</th>\n",
       "      <th>SENTINEL</th>\n",
       "      <th>Month</th>\n",
       "      <th>WNV Mosquitos</th>\n",
       "      <th>CULEX PIPIENS</th>\n",
       "      <th>CULEX RESTUANS</th>\n",
       "      <th>CULEX SALINARIUS</th>\n",
       "      <th>CULEX TERRITANS</th>\n",
       "    </tr>\n",
       "  </thead>\n",
       "  <tbody>\n",
       "    <tr>\n",
       "      <th>Year</th>\n",
       "      <td>1.000000</td>\n",
       "      <td>-0.020908</td>\n",
       "      <td>-0.067612</td>\n",
       "      <td>0.141943</td>\n",
       "      <td>0.064088</td>\n",
       "      <td>-0.040140</td>\n",
       "      <td>-0.262816</td>\n",
       "      <td>0.136232</td>\n",
       "      <td>-0.012419</td>\n",
       "      <td>0.141569</td>\n",
       "      <td>-0.102231</td>\n",
       "      <td>0.095452</td>\n",
       "      <td>-0.355760</td>\n",
       "      <td>0.348782</td>\n",
       "      <td>-0.064900</td>\n",
       "      <td>0.008454</td>\n",
       "    </tr>\n",
       "    <tr>\n",
       "      <th>Week</th>\n",
       "      <td>-0.020908</td>\n",
       "      <td>1.000000</td>\n",
       "      <td>-0.009073</td>\n",
       "      <td>0.183040</td>\n",
       "      <td>-0.001914</td>\n",
       "      <td>-0.009174</td>\n",
       "      <td>0.031948</td>\n",
       "      <td>-0.051971</td>\n",
       "      <td>-0.014846</td>\n",
       "      <td>0.045293</td>\n",
       "      <td>0.949340</td>\n",
       "      <td>0.127010</td>\n",
       "      <td>0.318720</td>\n",
       "      <td>-0.317461</td>\n",
       "      <td>-0.011617</td>\n",
       "      <td>0.035480</td>\n",
       "    </tr>\n",
       "    <tr>\n",
       "      <th>Block</th>\n",
       "      <td>-0.067612</td>\n",
       "      <td>-0.009073</td>\n",
       "      <td>1.000000</td>\n",
       "      <td>0.008864</td>\n",
       "      <td>-0.261829</td>\n",
       "      <td>0.099292</td>\n",
       "      <td>0.066832</td>\n",
       "      <td>-0.052968</td>\n",
       "      <td>-0.010015</td>\n",
       "      <td>-0.003327</td>\n",
       "      <td>0.001560</td>\n",
       "      <td>0.061468</td>\n",
       "      <td>0.042972</td>\n",
       "      <td>-0.041398</td>\n",
       "      <td>-0.002110</td>\n",
       "      <td>0.002022</td>\n",
       "    </tr>\n",
       "    <tr>\n",
       "      <th>WNV Present</th>\n",
       "      <td>0.141943</td>\n",
       "      <td>0.183040</td>\n",
       "      <td>0.008864</td>\n",
       "      <td>1.000000</td>\n",
       "      <td>0.072799</td>\n",
       "      <td>-0.126576</td>\n",
       "      <td>0.013321</td>\n",
       "      <td>-0.043974</td>\n",
       "      <td>-0.004010</td>\n",
       "      <td>0.057386</td>\n",
       "      <td>0.169369</td>\n",
       "      <td>0.768942</td>\n",
       "      <td>0.085287</td>\n",
       "      <td>-0.020968</td>\n",
       "      <td>-0.044850</td>\n",
       "      <td>-0.108408</td>\n",
       "    </tr>\n",
       "    <tr>\n",
       "      <th>Lat</th>\n",
       "      <td>0.064088</td>\n",
       "      <td>-0.001914</td>\n",
       "      <td>-0.261829</td>\n",
       "      <td>0.072799</td>\n",
       "      <td>1.000000</td>\n",
       "      <td>-0.695048</td>\n",
       "      <td>-0.066512</td>\n",
       "      <td>0.058505</td>\n",
       "      <td>0.002368</td>\n",
       "      <td>-0.006196</td>\n",
       "      <td>-0.007202</td>\n",
       "      <td>0.074832</td>\n",
       "      <td>-0.057362</td>\n",
       "      <td>0.072622</td>\n",
       "      <td>-0.017966</td>\n",
       "      <td>-0.030309</td>\n",
       "    </tr>\n",
       "    <tr>\n",
       "      <th>Lon</th>\n",
       "      <td>-0.040140</td>\n",
       "      <td>-0.009174</td>\n",
       "      <td>0.099292</td>\n",
       "      <td>-0.126576</td>\n",
       "      <td>-0.695048</td>\n",
       "      <td>1.000000</td>\n",
       "      <td>0.082689</td>\n",
       "      <td>-0.093253</td>\n",
       "      <td>-0.007653</td>\n",
       "      <td>0.043587</td>\n",
       "      <td>-0.006613</td>\n",
       "      <td>-0.106157</td>\n",
       "      <td>0.013107</td>\n",
       "      <td>-0.041137</td>\n",
       "      <td>0.020638</td>\n",
       "      <td>0.051910</td>\n",
       "    </tr>\n",
       "    <tr>\n",
       "      <th>CDC</th>\n",
       "      <td>-0.262816</td>\n",
       "      <td>0.031948</td>\n",
       "      <td>0.066832</td>\n",
       "      <td>0.013321</td>\n",
       "      <td>-0.066512</td>\n",
       "      <td>0.082689</td>\n",
       "      <td>1.000000</td>\n",
       "      <td>-0.815817</td>\n",
       "      <td>-0.001360</td>\n",
       "      <td>-0.019797</td>\n",
       "      <td>0.075081</td>\n",
       "      <td>0.068042</td>\n",
       "      <td>0.164741</td>\n",
       "      <td>-0.152071</td>\n",
       "      <td>0.027122</td>\n",
       "      <td>-0.022803</td>\n",
       "    </tr>\n",
       "    <tr>\n",
       "      <th>GRAVID</th>\n",
       "      <td>0.136232</td>\n",
       "      <td>-0.051971</td>\n",
       "      <td>-0.052968</td>\n",
       "      <td>-0.043974</td>\n",
       "      <td>0.058505</td>\n",
       "      <td>-0.093253</td>\n",
       "      <td>-0.815817</td>\n",
       "      <td>1.000000</td>\n",
       "      <td>-0.038521</td>\n",
       "      <td>-0.560648</td>\n",
       "      <td>-0.082920</td>\n",
       "      <td>-0.122122</td>\n",
       "      <td>-0.105506</td>\n",
       "      <td>0.090183</td>\n",
       "      <td>-0.018431</td>\n",
       "      <td>0.030561</td>\n",
       "    </tr>\n",
       "    <tr>\n",
       "      <th>OVI</th>\n",
       "      <td>-0.012419</td>\n",
       "      <td>-0.014846</td>\n",
       "      <td>-0.010015</td>\n",
       "      <td>-0.004010</td>\n",
       "      <td>0.002368</td>\n",
       "      <td>-0.007653</td>\n",
       "      <td>-0.001360</td>\n",
       "      <td>-0.038521</td>\n",
       "      <td>1.000000</td>\n",
       "      <td>-0.000935</td>\n",
       "      <td>-0.013117</td>\n",
       "      <td>-0.003084</td>\n",
       "      <td>0.012276</td>\n",
       "      <td>-0.010621</td>\n",
       "      <td>-0.000842</td>\n",
       "      <td>-0.001897</td>\n",
       "    </tr>\n",
       "    <tr>\n",
       "      <th>SENTINEL</th>\n",
       "      <td>0.141569</td>\n",
       "      <td>0.045293</td>\n",
       "      <td>-0.003327</td>\n",
       "      <td>0.057386</td>\n",
       "      <td>-0.006196</td>\n",
       "      <td>0.043587</td>\n",
       "      <td>-0.019797</td>\n",
       "      <td>-0.560648</td>\n",
       "      <td>-0.000935</td>\n",
       "      <td>1.000000</td>\n",
       "      <td>0.036968</td>\n",
       "      <td>0.114294</td>\n",
       "      <td>-0.054200</td>\n",
       "      <td>0.062474</td>\n",
       "      <td>-0.006884</td>\n",
       "      <td>-0.020137</td>\n",
       "    </tr>\n",
       "    <tr>\n",
       "      <th>Month</th>\n",
       "      <td>-0.102231</td>\n",
       "      <td>0.949340</td>\n",
       "      <td>0.001560</td>\n",
       "      <td>0.169369</td>\n",
       "      <td>-0.007202</td>\n",
       "      <td>-0.006613</td>\n",
       "      <td>0.075081</td>\n",
       "      <td>-0.082920</td>\n",
       "      <td>-0.013117</td>\n",
       "      <td>0.036968</td>\n",
       "      <td>1.000000</td>\n",
       "      <td>0.120109</td>\n",
       "      <td>0.335537</td>\n",
       "      <td>-0.331990</td>\n",
       "      <td>-0.009691</td>\n",
       "      <td>0.031411</td>\n",
       "    </tr>\n",
       "    <tr>\n",
       "      <th>WNV Mosquitos</th>\n",
       "      <td>0.095452</td>\n",
       "      <td>0.127010</td>\n",
       "      <td>0.061468</td>\n",
       "      <td>0.768942</td>\n",
       "      <td>0.074832</td>\n",
       "      <td>-0.106157</td>\n",
       "      <td>0.068042</td>\n",
       "      <td>-0.122122</td>\n",
       "      <td>-0.003084</td>\n",
       "      <td>0.114294</td>\n",
       "      <td>0.120109</td>\n",
       "      <td>1.000000</td>\n",
       "      <td>0.082779</td>\n",
       "      <td>-0.028095</td>\n",
       "      <td>-0.040143</td>\n",
       "      <td>-0.090179</td>\n",
       "    </tr>\n",
       "    <tr>\n",
       "      <th>CULEX PIPIENS</th>\n",
       "      <td>-0.355760</td>\n",
       "      <td>0.318720</td>\n",
       "      <td>0.042972</td>\n",
       "      <td>0.085287</td>\n",
       "      <td>-0.057362</td>\n",
       "      <td>0.013107</td>\n",
       "      <td>0.164741</td>\n",
       "      <td>-0.105506</td>\n",
       "      <td>0.012276</td>\n",
       "      <td>-0.054200</td>\n",
       "      <td>0.335537</td>\n",
       "      <td>0.082779</td>\n",
       "      <td>1.000000</td>\n",
       "      <td>-0.865185</td>\n",
       "      <td>-0.068588</td>\n",
       "      <td>-0.154512</td>\n",
       "    </tr>\n",
       "    <tr>\n",
       "      <th>CULEX RESTUANS</th>\n",
       "      <td>0.348782</td>\n",
       "      <td>-0.317461</td>\n",
       "      <td>-0.041398</td>\n",
       "      <td>-0.020968</td>\n",
       "      <td>0.072622</td>\n",
       "      <td>-0.041137</td>\n",
       "      <td>-0.152071</td>\n",
       "      <td>0.090183</td>\n",
       "      <td>-0.010621</td>\n",
       "      <td>0.062474</td>\n",
       "      <td>-0.331990</td>\n",
       "      <td>-0.028095</td>\n",
       "      <td>-0.865185</td>\n",
       "      <td>1.000000</td>\n",
       "      <td>-0.139240</td>\n",
       "      <td>-0.313676</td>\n",
       "    </tr>\n",
       "    <tr>\n",
       "      <th>CULEX SALINARIUS</th>\n",
       "      <td>-0.064900</td>\n",
       "      <td>-0.011617</td>\n",
       "      <td>-0.002110</td>\n",
       "      <td>-0.044850</td>\n",
       "      <td>-0.017966</td>\n",
       "      <td>0.020638</td>\n",
       "      <td>0.027122</td>\n",
       "      <td>-0.018431</td>\n",
       "      <td>-0.000842</td>\n",
       "      <td>-0.006884</td>\n",
       "      <td>-0.009691</td>\n",
       "      <td>-0.040143</td>\n",
       "      <td>-0.068588</td>\n",
       "      <td>-0.139240</td>\n",
       "      <td>1.000000</td>\n",
       "      <td>-0.024867</td>\n",
       "    </tr>\n",
       "    <tr>\n",
       "      <th>CULEX TERRITANS</th>\n",
       "      <td>0.008454</td>\n",
       "      <td>0.035480</td>\n",
       "      <td>0.002022</td>\n",
       "      <td>-0.108408</td>\n",
       "      <td>-0.030309</td>\n",
       "      <td>0.051910</td>\n",
       "      <td>-0.022803</td>\n",
       "      <td>0.030561</td>\n",
       "      <td>-0.001897</td>\n",
       "      <td>-0.020137</td>\n",
       "      <td>0.031411</td>\n",
       "      <td>-0.090179</td>\n",
       "      <td>-0.154512</td>\n",
       "      <td>-0.313676</td>\n",
       "      <td>-0.024867</td>\n",
       "      <td>1.000000</td>\n",
       "    </tr>\n",
       "  </tbody>\n",
       "</table>\n",
       "</div>"
      ],
      "text/plain": [
       "                      Year      Week     Block  WNV Present       Lat  \\\n",
       "Year              1.000000 -0.020908 -0.067612     0.141943  0.064088   \n",
       "Week             -0.020908  1.000000 -0.009073     0.183040 -0.001914   \n",
       "Block            -0.067612 -0.009073  1.000000     0.008864 -0.261829   \n",
       "WNV Present       0.141943  0.183040  0.008864     1.000000  0.072799   \n",
       "Lat               0.064088 -0.001914 -0.261829     0.072799  1.000000   \n",
       "Lon              -0.040140 -0.009174  0.099292    -0.126576 -0.695048   \n",
       "CDC              -0.262816  0.031948  0.066832     0.013321 -0.066512   \n",
       "GRAVID            0.136232 -0.051971 -0.052968    -0.043974  0.058505   \n",
       "OVI              -0.012419 -0.014846 -0.010015    -0.004010  0.002368   \n",
       "SENTINEL          0.141569  0.045293 -0.003327     0.057386 -0.006196   \n",
       "Month            -0.102231  0.949340  0.001560     0.169369 -0.007202   \n",
       "WNV Mosquitos     0.095452  0.127010  0.061468     0.768942  0.074832   \n",
       "CULEX PIPIENS    -0.355760  0.318720  0.042972     0.085287 -0.057362   \n",
       "CULEX RESTUANS    0.348782 -0.317461 -0.041398    -0.020968  0.072622   \n",
       "CULEX SALINARIUS -0.064900 -0.011617 -0.002110    -0.044850 -0.017966   \n",
       "CULEX TERRITANS   0.008454  0.035480  0.002022    -0.108408 -0.030309   \n",
       "\n",
       "                       Lon       CDC    GRAVID       OVI  SENTINEL     Month  \\\n",
       "Year             -0.040140 -0.262816  0.136232 -0.012419  0.141569 -0.102231   \n",
       "Week             -0.009174  0.031948 -0.051971 -0.014846  0.045293  0.949340   \n",
       "Block             0.099292  0.066832 -0.052968 -0.010015 -0.003327  0.001560   \n",
       "WNV Present      -0.126576  0.013321 -0.043974 -0.004010  0.057386  0.169369   \n",
       "Lat              -0.695048 -0.066512  0.058505  0.002368 -0.006196 -0.007202   \n",
       "Lon               1.000000  0.082689 -0.093253 -0.007653  0.043587 -0.006613   \n",
       "CDC               0.082689  1.000000 -0.815817 -0.001360 -0.019797  0.075081   \n",
       "GRAVID           -0.093253 -0.815817  1.000000 -0.038521 -0.560648 -0.082920   \n",
       "OVI              -0.007653 -0.001360 -0.038521  1.000000 -0.000935 -0.013117   \n",
       "SENTINEL          0.043587 -0.019797 -0.560648 -0.000935  1.000000  0.036968   \n",
       "Month            -0.006613  0.075081 -0.082920 -0.013117  0.036968  1.000000   \n",
       "WNV Mosquitos    -0.106157  0.068042 -0.122122 -0.003084  0.114294  0.120109   \n",
       "CULEX PIPIENS     0.013107  0.164741 -0.105506  0.012276 -0.054200  0.335537   \n",
       "CULEX RESTUANS   -0.041137 -0.152071  0.090183 -0.010621  0.062474 -0.331990   \n",
       "CULEX SALINARIUS  0.020638  0.027122 -0.018431 -0.000842 -0.006884 -0.009691   \n",
       "CULEX TERRITANS   0.051910 -0.022803  0.030561 -0.001897 -0.020137  0.031411   \n",
       "\n",
       "                  WNV Mosquitos  CULEX PIPIENS  CULEX RESTUANS  \\\n",
       "Year                   0.095452      -0.355760        0.348782   \n",
       "Week                   0.127010       0.318720       -0.317461   \n",
       "Block                  0.061468       0.042972       -0.041398   \n",
       "WNV Present            0.768942       0.085287       -0.020968   \n",
       "Lat                    0.074832      -0.057362        0.072622   \n",
       "Lon                   -0.106157       0.013107       -0.041137   \n",
       "CDC                    0.068042       0.164741       -0.152071   \n",
       "GRAVID                -0.122122      -0.105506        0.090183   \n",
       "OVI                   -0.003084       0.012276       -0.010621   \n",
       "SENTINEL               0.114294      -0.054200        0.062474   \n",
       "Month                  0.120109       0.335537       -0.331990   \n",
       "WNV Mosquitos          1.000000       0.082779       -0.028095   \n",
       "CULEX PIPIENS          0.082779       1.000000       -0.865185   \n",
       "CULEX RESTUANS        -0.028095      -0.865185        1.000000   \n",
       "CULEX SALINARIUS      -0.040143      -0.068588       -0.139240   \n",
       "CULEX TERRITANS       -0.090179      -0.154512       -0.313676   \n",
       "\n",
       "                  CULEX SALINARIUS  CULEX TERRITANS  \n",
       "Year                     -0.064900         0.008454  \n",
       "Week                     -0.011617         0.035480  \n",
       "Block                    -0.002110         0.002022  \n",
       "WNV Present              -0.044850        -0.108408  \n",
       "Lat                      -0.017966        -0.030309  \n",
       "Lon                       0.020638         0.051910  \n",
       "CDC                       0.027122        -0.022803  \n",
       "GRAVID                   -0.018431         0.030561  \n",
       "OVI                      -0.000842        -0.001897  \n",
       "SENTINEL                 -0.006884        -0.020137  \n",
       "Month                    -0.009691         0.031411  \n",
       "WNV Mosquitos            -0.040143        -0.090179  \n",
       "CULEX PIPIENS            -0.068588        -0.154512  \n",
       "CULEX RESTUANS           -0.139240        -0.313676  \n",
       "CULEX SALINARIUS          1.000000        -0.024867  \n",
       "CULEX TERRITANS          -0.024867         1.000000  "
      ]
     },
     "execution_count": 442,
     "metadata": {},
     "output_type": "execute_result"
    }
   ],
   "source": [
    "# Correlation between independent variables\n",
    "X_corr = X.corr()\n",
    "X_corr"
   ]
  },
  {
   "cell_type": "markdown",
   "id": "66bf350e",
   "metadata": {},
   "source": [
    "This is difficult to parse through - am putting these values into a heatmap."
   ]
  },
  {
   "cell_type": "code",
   "execution_count": 319,
   "id": "0176290f",
   "metadata": {},
   "outputs": [
    {
     "data": {
      "image/png": "[encoded data removed]",
      "text/plain": [
       "<Figure size 1440x720 with 2 Axes>"
      ]
     },
     "metadata": {
      "needs_background": "light"
     },
     "output_type": "display_data"
    }
   ],
   "source": [
    "# Correlation of the variables in a heatmap\n",
    "plt.figure(figsize=(20,10))\n",
    "matrix = np.triu(X.corr())\n",
    "sns.heatmap(X.corr(), annot=True, mask=matrix, cmap='coolwarm')\n",
    "plt.show()"
   ]
  },
  {
   "cell_type": "markdown",
   "id": "62592217",
   "metadata": {},
   "source": [
    " The species CULEX PIPIENS as wekk as CULEX RESTUANS have a stronger negative correlations (-0.87). This may be due to domain knowledge I am not familiar with (they should share common attributes). The CDC and GRAVID tests also have a strong negative correlation (-0.85). Perhaps these tests are similar,this is also something related to the domain, something to ask the scientists on the team. So I will not drop these variables yet."
   ]
  },
  {
   "cell_type": "markdown",
   "id": "51335e88",
   "metadata": {},
   "source": [
    "There's quite a bit of colinearity in the dataset - especially between week and month (they have a high positive correlation). Additionally, the latitude and longitude have a high correlation since the data is collected in the smaller city of Chicago. This may prevent us from making broader predictions about WNV in mosquitos in general, or across the country USA."
   ]
  },
  {
   "cell_type": "code",
   "execution_count": 443,
   "id": "80bbf933",
   "metadata": {},
   "outputs": [
    {
     "data": {
      "text/plain": [
       "array([2019, 2018, 2017, 2016, 2015, 2014, 2013, 2012, 2011, 2010, 2009,\n",
       "       2008, 2007], dtype=int64)"
      ]
     },
     "execution_count": 443,
     "metadata": {},
     "output_type": "execute_result"
    }
   ],
   "source": [
    "lin_df[\"Year\"].unique()"
   ]
  },
  {
   "cell_type": "markdown",
   "id": "d4d40237",
   "metadata": {},
   "source": [
    "Even though I could easily drop year due to its high correlation, I will keep it for now because it would be interesting to see the influence of year on mosquito number in our model. I will keep this in mind in the future, if the model is coming out to be less effective."
   ]
  },
  {
   "cell_type": "markdown",
   "id": "0f3bdaca",
   "metadata": {},
   "source": [
    "\"This dataset does not respond well to performing VIF analysis, so this is not required.\""
   ]
  },
  {
   "cell_type": "markdown",
   "id": "1c1df253",
   "metadata": {},
   "source": [
    "FL\n",
    "#### 2.3. Residuals Are Normally Distributed\n",
    "Linear regression assumes normality for the residual errors $\\epsilon$, which represent variation in $Y$ which is not explained by the predictor variables. \n",
    "We will address it after modelling, right now we don't have any model, therefore we don't have errors to test. \n",
    "#### 2.4. Homoscedasticity\n",
    "The assumption of equal variances (i.e. assumption of homoscedasticity) assumes that different samples have the same variance, even if they came from different populations. We will address it after modelling as well. (Insights grom lecture (kickoff))"
   ]
  },
  {
   "cell_type": "markdown",
   "id": "50d048f8",
   "metadata": {},
   "source": [
    "#### Choosing Variable for Model: Top-Down Approach"
   ]
  },
  {
   "cell_type": "markdown",
   "id": "46d25f56",
   "metadata": {},
   "source": [
    "First I will use all the relevant independent variables to construct a linear model. Then I will gradually remove variables that could be leading to a less optimal/predictive result."
   ]
  },
  {
   "cell_type": "code",
   "execution_count": 444,
   "id": "1aec34ce",
   "metadata": {},
   "outputs": [
    {
     "name": "stdout",
     "output_type": "stream",
     "text": [
      "<class 'pandas.core.frame.DataFrame'>\n",
      "Int64Index: 15571 entries, 1 to 18493\n",
      "Data columns (total 17 columns):\n",
      " #   Column            Non-Null Count  Dtype  \n",
      "---  ------            --------------  -----  \n",
      " 0   const             15571 non-null  float64\n",
      " 1   Year              15571 non-null  int64  \n",
      " 2   Week              15571 non-null  int64  \n",
      " 3   Block             15571 non-null  int64  \n",
      " 4   WNV Present       15571 non-null  int64  \n",
      " 5   Lat               15571 non-null  float64\n",
      " 6   Lon               15571 non-null  float64\n",
      " 7   CDC               15571 non-null  uint8  \n",
      " 8   GRAVID            15571 non-null  uint8  \n",
      " 9   OVI               15571 non-null  uint8  \n",
      " 10  SENTINEL          15571 non-null  uint8  \n",
      " 11  Month             15571 non-null  int64  \n",
      " 12  WNV Mosquitos     15571 non-null  int64  \n",
      " 13  CULEX PIPIENS     15571 non-null  uint8  \n",
      " 14  CULEX RESTUANS    15571 non-null  uint8  \n",
      " 15  CULEX SALINARIUS  15571 non-null  uint8  \n",
      " 16  CULEX TERRITANS   15571 non-null  uint8  \n",
      "dtypes: float64(3), int64(6), uint8(8)\n",
      "memory usage: 1.8 MB\n"
     ]
    },
    {
     "name": "stderr",
     "output_type": "stream",
     "text": [
      "C:\\Users\\jsmba\\anaconda3\\lib\\site-packages\\statsmodels\\tsa\\tsatools.py:142: FutureWarning: In a future version of pandas all arguments of concat except for the argument 'objs' will be keyword-only\n",
      "  x = pd.concat(x[::order], 1)\n"
     ]
    }
   ],
   "source": [
    "# Make sure we add our constant\n",
    "X_const = sm.add_constant(X)\n",
    "X_const.info()"
   ]
  },
  {
   "cell_type": "code",
   "execution_count": 445,
   "id": "a1fda80e",
   "metadata": {
    "scrolled": false
   },
   "outputs": [
    {
     "data": {
      "text/html": [
       "<table class=\"simpletable\">\n",
       "<caption>OLS Regression Results</caption>\n",
       "<tr>\n",
       "  <th>Dep. Variable:</th>     <td>Mosquito number</td> <th>  R-squared:         </th> <td>   0.498</td> \n",
       "</tr>\n",
       "<tr>\n",
       "  <th>Model:</th>                   <td>OLS</td>       <th>  Adj. R-squared:    </th> <td>   0.498</td> \n",
       "</tr>\n",
       "<tr>\n",
       "  <th>Method:</th>             <td>Least Squares</td>  <th>  F-statistic:       </th> <td>   1104.</td> \n",
       "</tr>\n",
       "<tr>\n",
       "  <th>Date:</th>             <td>Mon, 16 May 2022</td> <th>  Prob (F-statistic):</th>  <td>  0.00</td>  \n",
       "</tr>\n",
       "<tr>\n",
       "  <th>Time:</th>                 <td>02:35:46</td>     <th>  Log-Likelihood:    </th> <td> -56685.</td> \n",
       "</tr>\n",
       "<tr>\n",
       "  <th>No. Observations:</th>      <td> 15571</td>      <th>  AIC:               </th> <td>1.134e+05</td>\n",
       "</tr>\n",
       "<tr>\n",
       "  <th>Df Residuals:</th>          <td> 15556</td>      <th>  BIC:               </th> <td>1.135e+05</td>\n",
       "</tr>\n",
       "<tr>\n",
       "  <th>Df Model:</th>              <td>    14</td>      <th>                     </th>     <td> </td>    \n",
       "</tr>\n",
       "<tr>\n",
       "  <th>Covariance Type:</th>      <td>nonrobust</td>    <th>                     </th>     <td> </td>    \n",
       "</tr>\n",
       "</table>\n",
       "<table class=\"simpletable\">\n",
       "<tr>\n",
       "          <td></td>            <th>coef</th>     <th>std err</th>      <th>t</th>      <th>P>|t|</th>  <th>[0.025</th>    <th>0.975]</th>  \n",
       "</tr>\n",
       "<tr>\n",
       "  <th>const</th>            <td> -960.4227</td> <td>   71.489</td> <td>  -13.435</td> <td> 0.000</td> <td>-1100.549</td> <td> -820.296</td>\n",
       "</tr>\n",
       "<tr>\n",
       "  <th>Year</th>             <td>    0.3023</td> <td>    0.023</td> <td>   13.201</td> <td> 0.000</td> <td>    0.257</td> <td>    0.347</td>\n",
       "</tr>\n",
       "<tr>\n",
       "  <th>Week</th>             <td>    0.0460</td> <td>    0.056</td> <td>    0.818</td> <td> 0.414</td> <td>   -0.064</td> <td>    0.156</td>\n",
       "</tr>\n",
       "<tr>\n",
       "  <th>Block</th>            <td>    0.0124</td> <td>    0.002</td> <td>    5.507</td> <td> 0.000</td> <td>    0.008</td> <td>    0.017</td>\n",
       "</tr>\n",
       "<tr>\n",
       "  <th>WNV Present</th>      <td>   -7.6203</td> <td>    0.296</td> <td>  -25.703</td> <td> 0.000</td> <td>   -8.201</td> <td>   -7.039</td>\n",
       "</tr>\n",
       "<tr>\n",
       "  <th>Lat</th>              <td>   -2.6996</td> <td>    0.962</td> <td>   -2.805</td> <td> 0.005</td> <td>   -4.586</td> <td>   -0.813</td>\n",
       "</tr>\n",
       "<tr>\n",
       "  <th>Lon</th>              <td>  -10.9240</td> <td>    1.367</td> <td>   -7.991</td> <td> 0.000</td> <td>  -13.603</td> <td>   -8.244</td>\n",
       "</tr>\n",
       "<tr>\n",
       "  <th>CDC</th>              <td> -233.6918</td> <td>   17.911</td> <td>  -13.047</td> <td> 0.000</td> <td> -268.800</td> <td> -198.583</td>\n",
       "</tr>\n",
       "<tr>\n",
       "  <th>GRAVID</th>           <td> -241.5657</td> <td>   17.980</td> <td>  -13.435</td> <td> 0.000</td> <td> -276.808</td> <td> -206.323</td>\n",
       "</tr>\n",
       "<tr>\n",
       "  <th>OVI</th>              <td> -248.3397</td> <td>   19.353</td> <td>  -12.832</td> <td> 0.000</td> <td> -286.274</td> <td> -210.406</td>\n",
       "</tr>\n",
       "<tr>\n",
       "  <th>SENTINEL</th>         <td> -236.8256</td> <td>   17.984</td> <td>  -13.169</td> <td> 0.000</td> <td> -272.076</td> <td> -201.575</td>\n",
       "</tr>\n",
       "<tr>\n",
       "  <th>Month</th>            <td>   -1.0921</td> <td>    0.244</td> <td>   -4.471</td> <td> 0.000</td> <td>   -1.571</td> <td>   -0.613</td>\n",
       "</tr>\n",
       "<tr>\n",
       "  <th>WNV Mosquitos</th>    <td>    0.9676</td> <td>    0.011</td> <td>   90.304</td> <td> 0.000</td> <td>    0.947</td> <td>    0.989</td>\n",
       "</tr>\n",
       "<tr>\n",
       "  <th>CULEX PIPIENS</th>    <td> -237.1340</td> <td>   17.866</td> <td>  -13.273</td> <td> 0.000</td> <td> -272.154</td> <td> -202.114</td>\n",
       "</tr>\n",
       "<tr>\n",
       "  <th>CULEX RESTUANS</th>   <td> -237.4292</td> <td>   17.892</td> <td>  -13.270</td> <td> 0.000</td> <td> -272.500</td> <td> -202.358</td>\n",
       "</tr>\n",
       "<tr>\n",
       "  <th>CULEX SALINARIUS</th> <td> -242.9931</td> <td>   17.867</td> <td>  -13.600</td> <td> 0.000</td> <td> -278.015</td> <td> -207.971</td>\n",
       "</tr>\n",
       "<tr>\n",
       "  <th>CULEX TERRITANS</th>  <td> -242.8665</td> <td>   17.877</td> <td>  -13.586</td> <td> 0.000</td> <td> -277.907</td> <td> -207.826</td>\n",
       "</tr>\n",
       "</table>\n",
       "<table class=\"simpletable\">\n",
       "<tr>\n",
       "  <th>Omnibus:</th>       <td>8239.567</td> <th>  Durbin-Watson:     </th> <td>   1.624</td> \n",
       "</tr>\n",
       "<tr>\n",
       "  <th>Prob(Omnibus):</th>  <td> 0.000</td>  <th>  Jarque-Bera (JB):  </th> <td>51478.549</td>\n",
       "</tr>\n",
       "<tr>\n",
       "  <th>Skew:</th>           <td> 2.562</td>  <th>  Prob(JB):          </th> <td>    0.00</td> \n",
       "</tr>\n",
       "<tr>\n",
       "  <th>Kurtosis:</th>       <td>10.287</td>  <th>  Cond. No.          </th> <td>5.47e+19</td> \n",
       "</tr>\n",
       "</table><br/><br/>Notes:<br/>[1] Standard Errors assume that the covariance matrix of the errors is correctly specified.<br/>[2] The smallest eigenvalue is 2.12e-29. This might indicate that there are<br/>strong multicollinearity problems or that the design matrix is singular."
      ],
      "text/plain": [
       "<class 'statsmodels.iolib.summary.Summary'>\n",
       "\"\"\"\n",
       "                            OLS Regression Results                            \n",
       "==============================================================================\n",
       "Dep. Variable:        Mosquito number   R-squared:                       0.498\n",
       "Model:                            OLS   Adj. R-squared:                  0.498\n",
       "Method:                 Least Squares   F-statistic:                     1104.\n",
       "Date:                Mon, 16 May 2022   Prob (F-statistic):               0.00\n",
       "Time:                        02:35:46   Log-Likelihood:                -56685.\n",
       "No. Observations:               15571   AIC:                         1.134e+05\n",
       "Df Residuals:                   15556   BIC:                         1.135e+05\n",
       "Df Model:                          14                                         \n",
       "Covariance Type:            nonrobust                                         \n",
       "====================================================================================\n",
       "                       coef    std err          t      P>|t|      [0.025      0.975]\n",
       "------------------------------------------------------------------------------------\n",
       "const             -960.4227     71.489    -13.435      0.000   -1100.549    -820.296\n",
       "Year                 0.3023      0.023     13.201      0.000       0.257       0.347\n",
       "Week                 0.0460      0.056      0.818      0.414      -0.064       0.156\n",
       "Block                0.0124      0.002      5.507      0.000       0.008       0.017\n",
       "WNV Present         -7.6203      0.296    -25.703      0.000      -8.201      -7.039\n",
       "Lat                 -2.6996      0.962     -2.805      0.005      -4.586      -0.813\n",
       "Lon                -10.9240      1.367     -7.991      0.000     -13.603      -8.244\n",
       "CDC               -233.6918     17.911    -13.047      0.000    -268.800    -198.583\n",
       "GRAVID            -241.5657     17.980    -13.435      0.000    -276.808    -206.323\n",
       "OVI               -248.3397     19.353    -12.832      0.000    -286.274    -210.406\n",
       "SENTINEL          -236.8256     17.984    -13.169      0.000    -272.076    -201.575\n",
       "Month               -1.0921      0.244     -4.471      0.000      -1.571      -0.613\n",
       "WNV Mosquitos        0.9676      0.011     90.304      0.000       0.947       0.989\n",
       "CULEX PIPIENS     -237.1340     17.866    -13.273      0.000    -272.154    -202.114\n",
       "CULEX RESTUANS    -237.4292     17.892    -13.270      0.000    -272.500    -202.358\n",
       "CULEX SALINARIUS  -242.9931     17.867    -13.600      0.000    -278.015    -207.971\n",
       "CULEX TERRITANS   -242.8665     17.877    -13.586      0.000    -277.907    -207.826\n",
       "==============================================================================\n",
       "Omnibus:                     8239.567   Durbin-Watson:                   1.624\n",
       "Prob(Omnibus):                  0.000   Jarque-Bera (JB):            51478.549\n",
       "Skew:                           2.562   Prob(JB):                         0.00\n",
       "Kurtosis:                      10.287   Cond. No.                     5.47e+19\n",
       "==============================================================================\n",
       "\n",
       "Notes:\n",
       "[1] Standard Errors assume that the covariance matrix of the errors is correctly specified.\n",
       "[2] The smallest eigenvalue is 2.12e-29. This might indicate that there are\n",
       "strong multicollinearity problems or that the design matrix is singular.\n",
       "\"\"\""
      ]
     },
     "execution_count": 445,
     "metadata": {},
     "output_type": "execute_result"
    }
   ],
   "source": [
    "# fit our first linear model\n",
    "my_linreg1 = linear_model.OLS(y, X_const).fit()\n",
    "\n",
    "my_linreg1.summary()"
   ]
  },
  {
   "cell_type": "markdown",
   "id": "93cf6585",
   "metadata": {},
   "source": [
    "**Model Assessment with R<sup>2<sup/>** <br>\n",
    " \n",
    "| Model   | R<sup>2<sup/>   | \n",
    "|-------------|-------|\n",
    "| Model 1.1.1 | 0.498 |"
   ]
  },
  {
   "cell_type": "markdown",
   "id": "59bd450a",
   "metadata": {},
   "source": [
    "The p-value for `Week` is quite high, which shows there is no evidence showing this variable is statistically significant to our model.\n",
    "\n",
    "We will drop this column and try building another model."
   ]
  },
  {
   "cell_type": "code",
   "execution_count": 446,
   "id": "46da60f0",
   "metadata": {},
   "outputs": [
    {
     "data": {
      "text/html": [
       "<table class=\"simpletable\">\n",
       "<caption>OLS Regression Results</caption>\n",
       "<tr>\n",
       "  <th>Dep. Variable:</th>     <td>Mosquito number</td> <th>  R-squared:         </th> <td>   0.498</td> \n",
       "</tr>\n",
       "<tr>\n",
       "  <th>Model:</th>                   <td>OLS</td>       <th>  Adj. R-squared:    </th> <td>   0.498</td> \n",
       "</tr>\n",
       "<tr>\n",
       "  <th>Method:</th>             <td>Least Squares</td>  <th>  F-statistic:       </th> <td>   1189.</td> \n",
       "</tr>\n",
       "<tr>\n",
       "  <th>Date:</th>             <td>Mon, 16 May 2022</td> <th>  Prob (F-statistic):</th>  <td>  0.00</td>  \n",
       "</tr>\n",
       "<tr>\n",
       "  <th>Time:</th>                 <td>02:36:42</td>     <th>  Log-Likelihood:    </th> <td> -56685.</td> \n",
       "</tr>\n",
       "<tr>\n",
       "  <th>No. Observations:</th>      <td> 15571</td>      <th>  AIC:               </th> <td>1.134e+05</td>\n",
       "</tr>\n",
       "<tr>\n",
       "  <th>Df Residuals:</th>          <td> 15557</td>      <th>  BIC:               </th> <td>1.135e+05</td>\n",
       "</tr>\n",
       "<tr>\n",
       "  <th>Df Model:</th>              <td>    13</td>      <th>                     </th>     <td> </td>    \n",
       "</tr>\n",
       "<tr>\n",
       "  <th>Covariance Type:</th>      <td>nonrobust</td>    <th>                     </th>     <td> </td>    \n",
       "</tr>\n",
       "</table>\n",
       "<table class=\"simpletable\">\n",
       "<tr>\n",
       "          <td></td>            <th>coef</th>     <th>std err</th>      <th>t</th>      <th>P>|t|</th>  <th>[0.025</th>    <th>0.975]</th>  \n",
       "</tr>\n",
       "<tr>\n",
       "  <th>const</th>            <td> -965.7053</td> <td>   71.196</td> <td>  -13.564</td> <td> 0.000</td> <td>-1105.257</td> <td> -826.154</td>\n",
       "</tr>\n",
       "<tr>\n",
       "  <th>Year</th>             <td>    0.3066</td> <td>    0.022</td> <td>   13.757</td> <td> 0.000</td> <td>    0.263</td> <td>    0.350</td>\n",
       "</tr>\n",
       "<tr>\n",
       "  <th>Block</th>            <td>    0.0124</td> <td>    0.002</td> <td>    5.495</td> <td> 0.000</td> <td>    0.008</td> <td>    0.017</td>\n",
       "</tr>\n",
       "<tr>\n",
       "  <th>WNV Present</th>      <td>   -7.6132</td> <td>    0.296</td> <td>  -25.690</td> <td> 0.000</td> <td>   -8.194</td> <td>   -7.032</td>\n",
       "</tr>\n",
       "<tr>\n",
       "  <th>Lat</th>              <td>   -2.6972</td> <td>    0.962</td> <td>   -2.803</td> <td> 0.005</td> <td>   -4.584</td> <td>   -0.811</td>\n",
       "</tr>\n",
       "<tr>\n",
       "  <th>Lon</th>              <td>  -10.9142</td> <td>    1.367</td> <td>   -7.984</td> <td> 0.000</td> <td>  -13.594</td> <td>   -8.235</td>\n",
       "</tr>\n",
       "<tr>\n",
       "  <th>CDC</th>              <td> -235.0221</td> <td>   17.837</td> <td>  -13.176</td> <td> 0.000</td> <td> -269.985</td> <td> -200.059</td>\n",
       "</tr>\n",
       "<tr>\n",
       "  <th>GRAVID</th>           <td> -242.8677</td> <td>   17.909</td> <td>  -13.561</td> <td> 0.000</td> <td> -277.971</td> <td> -207.764</td>\n",
       "</tr>\n",
       "<tr>\n",
       "  <th>OVI</th>              <td> -249.6883</td> <td>   19.282</td> <td>  -12.949</td> <td> 0.000</td> <td> -287.484</td> <td> -211.893</td>\n",
       "</tr>\n",
       "<tr>\n",
       "  <th>SENTINEL</th>         <td> -238.1271</td> <td>   17.913</td> <td>  -13.294</td> <td> 0.000</td> <td> -273.239</td> <td> -203.016</td>\n",
       "</tr>\n",
       "<tr>\n",
       "  <th>Month</th>            <td>   -0.9033</td> <td>    0.080</td> <td>  -11.304</td> <td> 0.000</td> <td>   -1.060</td> <td>   -0.747</td>\n",
       "</tr>\n",
       "<tr>\n",
       "  <th>WNV Mosquitos</th>    <td>    0.9675</td> <td>    0.011</td> <td>   90.301</td> <td> 0.000</td> <td>    0.947</td> <td>    0.989</td>\n",
       "</tr>\n",
       "<tr>\n",
       "  <th>CULEX PIPIENS</th>    <td> -238.4485</td> <td>   17.794</td> <td>  -13.401</td> <td> 0.000</td> <td> -273.326</td> <td> -203.571</td>\n",
       "</tr>\n",
       "<tr>\n",
       "  <th>CULEX RESTUANS</th>   <td> -238.7594</td> <td>   17.818</td> <td>  -13.400</td> <td> 0.000</td> <td> -273.685</td> <td> -203.834</td>\n",
       "</tr>\n",
       "<tr>\n",
       "  <th>CULEX SALINARIUS</th> <td> -244.3107</td> <td>   17.794</td> <td>  -13.730</td> <td> 0.000</td> <td> -279.189</td> <td> -209.432</td>\n",
       "</tr>\n",
       "<tr>\n",
       "  <th>CULEX TERRITANS</th>  <td> -244.1866</td> <td>   17.803</td> <td>  -13.716</td> <td> 0.000</td> <td> -279.083</td> <td> -209.290</td>\n",
       "</tr>\n",
       "</table>\n",
       "<table class=\"simpletable\">\n",
       "<tr>\n",
       "  <th>Omnibus:</th>       <td>8238.701</td> <th>  Durbin-Watson:     </th> <td>   1.624</td> \n",
       "</tr>\n",
       "<tr>\n",
       "  <th>Prob(Omnibus):</th>  <td> 0.000</td>  <th>  Jarque-Bera (JB):  </th> <td>51464.472</td>\n",
       "</tr>\n",
       "<tr>\n",
       "  <th>Skew:</th>           <td> 2.561</td>  <th>  Prob(JB):          </th> <td>    0.00</td> \n",
       "</tr>\n",
       "<tr>\n",
       "  <th>Kurtosis:</th>       <td>10.286</td>  <th>  Cond. No.          </th> <td>1.29e+20</td> \n",
       "</tr>\n",
       "</table><br/><br/>Notes:<br/>[1] Standard Errors assume that the covariance matrix of the errors is correctly specified.<br/>[2] The smallest eigenvalue is 3.78e-30. This might indicate that there are<br/>strong multicollinearity problems or that the design matrix is singular."
      ],
      "text/plain": [
       "<class 'statsmodels.iolib.summary.Summary'>\n",
       "\"\"\"\n",
       "                            OLS Regression Results                            \n",
       "==============================================================================\n",
       "Dep. Variable:        Mosquito number   R-squared:                       0.498\n",
       "Model:                            OLS   Adj. R-squared:                  0.498\n",
       "Method:                 Least Squares   F-statistic:                     1189.\n",
       "Date:                Mon, 16 May 2022   Prob (F-statistic):               0.00\n",
       "Time:                        02:36:42   Log-Likelihood:                -56685.\n",
       "No. Observations:               15571   AIC:                         1.134e+05\n",
       "Df Residuals:                   15557   BIC:                         1.135e+05\n",
       "Df Model:                          13                                         \n",
       "Covariance Type:            nonrobust                                         \n",
       "====================================================================================\n",
       "                       coef    std err          t      P>|t|      [0.025      0.975]\n",
       "------------------------------------------------------------------------------------\n",
       "const             -965.7053     71.196    -13.564      0.000   -1105.257    -826.154\n",
       "Year                 0.3066      0.022     13.757      0.000       0.263       0.350\n",
       "Block                0.0124      0.002      5.495      0.000       0.008       0.017\n",
       "WNV Present         -7.6132      0.296    -25.690      0.000      -8.194      -7.032\n",
       "Lat                 -2.6972      0.962     -2.803      0.005      -4.584      -0.811\n",
       "Lon                -10.9142      1.367     -7.984      0.000     -13.594      -8.235\n",
       "CDC               -235.0221     17.837    -13.176      0.000    -269.985    -200.059\n",
       "GRAVID            -242.8677     17.909    -13.561      0.000    -277.971    -207.764\n",
       "OVI               -249.6883     19.282    -12.949      0.000    -287.484    -211.893\n",
       "SENTINEL          -238.1271     17.913    -13.294      0.000    -273.239    -203.016\n",
       "Month               -0.9033      0.080    -11.304      0.000      -1.060      -0.747\n",
       "WNV Mosquitos        0.9675      0.011     90.301      0.000       0.947       0.989\n",
       "CULEX PIPIENS     -238.4485     17.794    -13.401      0.000    -273.326    -203.571\n",
       "CULEX RESTUANS    -238.7594     17.818    -13.400      0.000    -273.685    -203.834\n",
       "CULEX SALINARIUS  -244.3107     17.794    -13.730      0.000    -279.189    -209.432\n",
       "CULEX TERRITANS   -244.1866     17.803    -13.716      0.000    -279.083    -209.290\n",
       "==============================================================================\n",
       "Omnibus:                     8238.701   Durbin-Watson:                   1.624\n",
       "Prob(Omnibus):                  0.000   Jarque-Bera (JB):            51464.472\n",
       "Skew:                           2.561   Prob(JB):                         0.00\n",
       "Kurtosis:                      10.286   Cond. No.                     1.29e+20\n",
       "==============================================================================\n",
       "\n",
       "Notes:\n",
       "[1] Standard Errors assume that the covariance matrix of the errors is correctly specified.\n",
       "[2] The smallest eigenvalue is 3.78e-30. This might indicate that there are\n",
       "strong multicollinearity problems or that the design matrix is singular.\n",
       "\"\"\""
      ]
     },
     "execution_count": 446,
     "metadata": {},
     "output_type": "execute_result"
    }
   ],
   "source": [
    "# we will drop the 'Week' variable and perform another regression\n",
    "X_new = X_const.drop(columns=['Week'])\n",
    "\n",
    "my_linreg2 = linear_model.OLS(y, X_new).fit()\n",
    "my_linreg2.summary()"
   ]
  },
  {
   "cell_type": "markdown",
   "id": "25fbe336",
   "metadata": {},
   "source": [
    "**Model Assessment with R<sup>2<sup/>** <br>\n",
    "    \n",
    "| Model   | R<sup>2<sup/>   | \n",
    "|-------------|-------|\n",
    "| Model 1.1.1 | 0.498 |\n",
    "| Model 1.1.2 | 0.498 |"
   ]
  },
  {
   "cell_type": "markdown",
   "id": "0ab3c51a",
   "metadata": {},
   "source": [
    "Although the R squared is the same (explaining approximately 49.8% of the data), the p value of more variables are less than 0.05. I will try again and remove all of the variables with a p value greater than 0.00."
   ]
  },
  {
   "cell_type": "code",
   "execution_count": 448,
   "id": "004d7766",
   "metadata": {},
   "outputs": [
    {
     "data": {
      "text/html": [
       "<table class=\"simpletable\">\n",
       "<caption>OLS Regression Results</caption>\n",
       "<tr>\n",
       "  <th>Dep. Variable:</th>     <td>Mosquito number</td> <th>  R-squared:         </th> <td>   0.498</td> \n",
       "</tr>\n",
       "<tr>\n",
       "  <th>Model:</th>                   <td>OLS</td>       <th>  Adj. R-squared:    </th> <td>   0.498</td> \n",
       "</tr>\n",
       "<tr>\n",
       "  <th>Method:</th>             <td>Least Squares</td>  <th>  F-statistic:       </th> <td>   1287.</td> \n",
       "</tr>\n",
       "<tr>\n",
       "  <th>Date:</th>             <td>Mon, 16 May 2022</td> <th>  Prob (F-statistic):</th>  <td>  0.00</td>  \n",
       "</tr>\n",
       "<tr>\n",
       "  <th>Time:</th>                 <td>02:38:26</td>     <th>  Log-Likelihood:    </th> <td> -56689.</td> \n",
       "</tr>\n",
       "<tr>\n",
       "  <th>No. Observations:</th>      <td> 15571</td>      <th>  AIC:               </th> <td>1.134e+05</td>\n",
       "</tr>\n",
       "<tr>\n",
       "  <th>Df Residuals:</th>          <td> 15558</td>      <th>  BIC:               </th> <td>1.135e+05</td>\n",
       "</tr>\n",
       "<tr>\n",
       "  <th>Df Model:</th>              <td>    12</td>      <th>                     </th>     <td> </td>    \n",
       "</tr>\n",
       "<tr>\n",
       "  <th>Covariance Type:</th>      <td>nonrobust</td>    <th>                     </th>     <td> </td>    \n",
       "</tr>\n",
       "</table>\n",
       "<table class=\"simpletable\">\n",
       "<tr>\n",
       "          <td></td>            <th>coef</th>     <th>std err</th>      <th>t</th>      <th>P>|t|</th>  <th>[0.025</th>    <th>0.975]</th>  \n",
       "</tr>\n",
       "<tr>\n",
       "  <th>const</th>            <td> -884.3129</td> <td>   65.017</td> <td>  -13.601</td> <td> 0.000</td> <td>-1011.754</td> <td> -756.872</td>\n",
       "</tr>\n",
       "<tr>\n",
       "  <th>Year</th>             <td>    0.3055</td> <td>    0.022</td> <td>   13.710</td> <td> 0.000</td> <td>    0.262</td> <td>    0.349</td>\n",
       "</tr>\n",
       "<tr>\n",
       "  <th>Block</th>            <td>    0.0141</td> <td>    0.002</td> <td>    6.490</td> <td> 0.000</td> <td>    0.010</td> <td>    0.018</td>\n",
       "</tr>\n",
       "<tr>\n",
       "  <th>WNV Present</th>      <td>   -7.5721</td> <td>    0.296</td> <td>  -25.577</td> <td> 0.000</td> <td>   -8.152</td> <td>   -6.992</td>\n",
       "</tr>\n",
       "<tr>\n",
       "  <th>Lon</th>              <td>   -8.2579</td> <td>    0.985</td> <td>   -8.382</td> <td> 0.000</td> <td>  -10.189</td> <td>   -6.327</td>\n",
       "</tr>\n",
       "<tr>\n",
       "  <th>CDC</th>              <td> -214.7152</td> <td>   16.303</td> <td>  -13.171</td> <td> 0.000</td> <td> -246.670</td> <td> -182.760</td>\n",
       "</tr>\n",
       "<tr>\n",
       "  <th>GRAVID</th>           <td> -222.5439</td> <td>   16.379</td> <td>  -13.588</td> <td> 0.000</td> <td> -254.648</td> <td> -190.440</td>\n",
       "</tr>\n",
       "<tr>\n",
       "  <th>OVI</th>              <td> -229.2100</td> <td>   17.848</td> <td>  -12.842</td> <td> 0.000</td> <td> -264.194</td> <td> -194.226</td>\n",
       "</tr>\n",
       "<tr>\n",
       "  <th>SENTINEL</th>         <td> -217.8438</td> <td>   16.389</td> <td>  -13.292</td> <td> 0.000</td> <td> -249.969</td> <td> -185.719</td>\n",
       "</tr>\n",
       "<tr>\n",
       "  <th>Month</th>            <td>   -0.9045</td> <td>    0.080</td> <td>  -11.317</td> <td> 0.000</td> <td>   -1.061</td> <td>   -0.748</td>\n",
       "</tr>\n",
       "<tr>\n",
       "  <th>WNV Mosquitos</th>    <td>    0.9660</td> <td>    0.011</td> <td>   90.256</td> <td> 0.000</td> <td>    0.945</td> <td>    0.987</td>\n",
       "</tr>\n",
       "<tr>\n",
       "  <th>CULEX PIPIENS</th>    <td> -218.0869</td> <td>   16.246</td> <td>  -13.424</td> <td> 0.000</td> <td> -249.931</td> <td> -186.242</td>\n",
       "</tr>\n",
       "<tr>\n",
       "  <th>CULEX RESTUANS</th>   <td> -218.4228</td> <td>   16.277</td> <td>  -13.419</td> <td> 0.000</td> <td> -250.328</td> <td> -186.518</td>\n",
       "</tr>\n",
       "<tr>\n",
       "  <th>CULEX SALINARIUS</th> <td> -223.9551</td> <td>   16.248</td> <td>  -13.784</td> <td> 0.000</td> <td> -255.803</td> <td> -192.107</td>\n",
       "</tr>\n",
       "<tr>\n",
       "  <th>CULEX TERRITANS</th>  <td> -223.8481</td> <td>   16.261</td> <td>  -13.766</td> <td> 0.000</td> <td> -255.721</td> <td> -191.975</td>\n",
       "</tr>\n",
       "</table>\n",
       "<table class=\"simpletable\">\n",
       "<tr>\n",
       "  <th>Omnibus:</th>       <td>8234.642</td> <th>  Durbin-Watson:     </th> <td>   1.624</td> \n",
       "</tr>\n",
       "<tr>\n",
       "  <th>Prob(Omnibus):</th>  <td> 0.000</td>  <th>  Jarque-Bera (JB):  </th> <td>51368.997</td>\n",
       "</tr>\n",
       "<tr>\n",
       "  <th>Skew:</th>           <td> 2.560</td>  <th>  Prob(JB):          </th> <td>    0.00</td> \n",
       "</tr>\n",
       "<tr>\n",
       "  <th>Kurtosis:</th>       <td>10.277</td>  <th>  Cond. No.          </th> <td>1.82e+20</td> \n",
       "</tr>\n",
       "</table><br/><br/>Notes:<br/>[1] Standard Errors assume that the covariance matrix of the errors is correctly specified.<br/>[2] The smallest eigenvalue is 1.92e-30. This might indicate that there are<br/>strong multicollinearity problems or that the design matrix is singular."
      ],
      "text/plain": [
       "<class 'statsmodels.iolib.summary.Summary'>\n",
       "\"\"\"\n",
       "                            OLS Regression Results                            \n",
       "==============================================================================\n",
       "Dep. Variable:        Mosquito number   R-squared:                       0.498\n",
       "Model:                            OLS   Adj. R-squared:                  0.498\n",
       "Method:                 Least Squares   F-statistic:                     1287.\n",
       "Date:                Mon, 16 May 2022   Prob (F-statistic):               0.00\n",
       "Time:                        02:38:26   Log-Likelihood:                -56689.\n",
       "No. Observations:               15571   AIC:                         1.134e+05\n",
       "Df Residuals:                   15558   BIC:                         1.135e+05\n",
       "Df Model:                          12                                         \n",
       "Covariance Type:            nonrobust                                         \n",
       "====================================================================================\n",
       "                       coef    std err          t      P>|t|      [0.025      0.975]\n",
       "------------------------------------------------------------------------------------\n",
       "const             -884.3129     65.017    -13.601      0.000   -1011.754    -756.872\n",
       "Year                 0.3055      0.022     13.710      0.000       0.262       0.349\n",
       "Block                0.0141      0.002      6.490      0.000       0.010       0.018\n",
       "WNV Present         -7.5721      0.296    -25.577      0.000      -8.152      -6.992\n",
       "Lon                 -8.2579      0.985     -8.382      0.000     -10.189      -6.327\n",
       "CDC               -214.7152     16.303    -13.171      0.000    -246.670    -182.760\n",
       "GRAVID            -222.5439     16.379    -13.588      0.000    -254.648    -190.440\n",
       "OVI               -229.2100     17.848    -12.842      0.000    -264.194    -194.226\n",
       "SENTINEL          -217.8438     16.389    -13.292      0.000    -249.969    -185.719\n",
       "Month               -0.9045      0.080    -11.317      0.000      -1.061      -0.748\n",
       "WNV Mosquitos        0.9660      0.011     90.256      0.000       0.945       0.987\n",
       "CULEX PIPIENS     -218.0869     16.246    -13.424      0.000    -249.931    -186.242\n",
       "CULEX RESTUANS    -218.4228     16.277    -13.419      0.000    -250.328    -186.518\n",
       "CULEX SALINARIUS  -223.9551     16.248    -13.784      0.000    -255.803    -192.107\n",
       "CULEX TERRITANS   -223.8481     16.261    -13.766      0.000    -255.721    -191.975\n",
       "==============================================================================\n",
       "Omnibus:                     8234.642   Durbin-Watson:                   1.624\n",
       "Prob(Omnibus):                  0.000   Jarque-Bera (JB):            51368.997\n",
       "Skew:                           2.560   Prob(JB):                         0.00\n",
       "Kurtosis:                      10.277   Cond. No.                     1.82e+20\n",
       "==============================================================================\n",
       "\n",
       "Notes:\n",
       "[1] Standard Errors assume that the covariance matrix of the errors is correctly specified.\n",
       "[2] The smallest eigenvalue is 1.92e-30. This might indicate that there are\n",
       "strong multicollinearity problems or that the design matrix is singular.\n",
       "\"\"\""
      ]
     },
     "execution_count": 448,
     "metadata": {},
     "output_type": "execute_result"
    }
   ],
   "source": [
    "# we will drop the 'Lat' variable and perform another regression\n",
    "X_newer = X_new.drop(columns=['Lat'])\n",
    "\n",
    "my_linreg3 = linear_model.OLS(y, X_newer).fit()\n",
    "my_linreg3.summary()"
   ]
  },
  {
   "cell_type": "markdown",
   "id": "4e198113",
   "metadata": {},
   "source": [
    "**Model Assessment with R<sup>2<sup/>** <br>\n",
    "    \n",
    "| Model   | R<sup>2<sup/>   | \n",
    "|-------------|-------|\n",
    "| Model 1.1.1 | 0.498 |\n",
    "| Model 1.1.2 | 0.498 |\n",
    "| Model 1.1.3 | 0.498 |"
   ]
  },
  {
   "cell_type": "markdown",
   "id": "1fb760bf",
   "metadata": {},
   "source": [
    "The R-squared values are all the same! Till explaining 49.* of our results. Except this time, the p values are all less than 0.00. Let's try a bottom-up approach to see if we can get a higher R squared value"
   ]
  },
  {
   "cell_type": "markdown",
   "id": "d4640146",
   "metadata": {},
   "source": [
    "####  Bottom-Up approach"
   ]
  },
  {
   "cell_type": "markdown",
   "id": "b9e1bb50",
   "metadata": {},
   "source": [
    "Now I will start with the variable that has a higher correlation with mosquito number, and see if it makes the model better."
   ]
  },
  {
   "cell_type": "code",
   "execution_count": 324,
   "id": "c2f93d1e",
   "metadata": {},
   "outputs": [
    {
     "data": {
      "text/plain": [
       "GRAVID             -0.176178\n",
       "CULEX TERRITANS    -0.149261\n",
       "Lon                -0.100425\n",
       "CULEX SALINARIUS   -0.068595\n",
       "Month              -0.009376\n",
       "OVI                -0.005678\n",
       "Week                0.000448\n",
       "CULEX PIPIENS       0.037099\n",
       "CULEX RESTUANS      0.049083\n",
       "Lat                 0.059195\n",
       "Block               0.081334\n",
       "Year                0.117062\n",
       "CDC                 0.123628\n",
       "SENTINEL            0.128459\n",
       "Mosquito number     1.000000\n",
       "Name: Mosquito number, dtype: float64"
      ]
     },
     "execution_count": 324,
     "metadata": {},
     "output_type": "execute_result"
    }
   ],
   "source": [
    "lin_corr = lin_df.corr()\n",
    "lin_corr['Mosquito number'].sort_values()"
   ]
  },
  {
   "cell_type": "markdown",
   "id": "1914912a",
   "metadata": {},
   "source": [
    "As we can see above, `WNV Mosquitos` is correlated positively the most with `SENTINEL`, that is the presence of the SENTINEL trap. Let's build a model only including this variable."
   ]
  },
  {
   "cell_type": "code",
   "execution_count": 326,
   "id": "29746b8a",
   "metadata": {},
   "outputs": [
    {
     "data": {
      "text/html": [
       "<table class=\"simpletable\">\n",
       "<caption>OLS Regression Results</caption>\n",
       "<tr>\n",
       "  <th>Dep. Variable:</th>     <td>Mosquito number</td> <th>  R-squared:         </th> <td>   0.017</td> \n",
       "</tr>\n",
       "<tr>\n",
       "  <th>Model:</th>                   <td>OLS</td>       <th>  Adj. R-squared:    </th> <td>   0.016</td> \n",
       "</tr>\n",
       "<tr>\n",
       "  <th>Method:</th>             <td>Least Squares</td>  <th>  F-statistic:       </th> <td>   261.2</td> \n",
       "</tr>\n",
       "<tr>\n",
       "  <th>Date:</th>             <td>Sun, 15 May 2022</td> <th>  Prob (F-statistic):</th> <td>2.76e-58</td> \n",
       "</tr>\n",
       "<tr>\n",
       "  <th>Time:</th>                 <td>23:22:24</td>     <th>  Log-Likelihood:    </th> <td> -61928.</td> \n",
       "</tr>\n",
       "<tr>\n",
       "  <th>No. Observations:</th>      <td> 15571</td>      <th>  AIC:               </th> <td>1.239e+05</td>\n",
       "</tr>\n",
       "<tr>\n",
       "  <th>Df Residuals:</th>          <td> 15569</td>      <th>  BIC:               </th> <td>1.239e+05</td>\n",
       "</tr>\n",
       "<tr>\n",
       "  <th>Df Model:</th>              <td>     1</td>      <th>                     </th>     <td> </td>    \n",
       "</tr>\n",
       "<tr>\n",
       "  <th>Covariance Type:</th>      <td>nonrobust</td>    <th>                     </th>     <td> </td>    \n",
       "</tr>\n",
       "</table>\n",
       "<table class=\"simpletable\">\n",
       "<tr>\n",
       "      <td></td>        <th>coef</th>     <th>std err</th>      <th>t</th>      <th>P>|t|</th>  <th>[0.025</th>    <th>0.975]</th>  \n",
       "</tr>\n",
       "<tr>\n",
       "  <th>const</th>    <td>   10.0295</td> <td>    0.104</td> <td>   96.262</td> <td> 0.000</td> <td>    9.825</td> <td>   10.234</td>\n",
       "</tr>\n",
       "<tr>\n",
       "  <th>SENTINEL</th> <td>   14.5351</td> <td>    0.899</td> <td>   16.163</td> <td> 0.000</td> <td>   12.772</td> <td>   16.298</td>\n",
       "</tr>\n",
       "</table>\n",
       "<table class=\"simpletable\">\n",
       "<tr>\n",
       "  <th>Omnibus:</th>       <td>4678.003</td> <th>  Durbin-Watson:     </th> <td>   1.450</td> \n",
       "</tr>\n",
       "<tr>\n",
       "  <th>Prob(Omnibus):</th>  <td> 0.000</td>  <th>  Jarque-Bera (JB):  </th> <td>10840.955</td>\n",
       "</tr>\n",
       "<tr>\n",
       "  <th>Skew:</th>           <td> 1.736</td>  <th>  Prob(JB):          </th> <td>    0.00</td> \n",
       "</tr>\n",
       "<tr>\n",
       "  <th>Kurtosis:</th>       <td> 5.156</td>  <th>  Cond. No.          </th> <td>    8.69</td> \n",
       "</tr>\n",
       "</table><br/><br/>Notes:<br/>[1] Standard Errors assume that the covariance matrix of the errors is correctly specified."
      ],
      "text/plain": [
       "<class 'statsmodels.iolib.summary.Summary'>\n",
       "\"\"\"\n",
       "                            OLS Regression Results                            \n",
       "==============================================================================\n",
       "Dep. Variable:        Mosquito number   R-squared:                       0.017\n",
       "Model:                            OLS   Adj. R-squared:                  0.016\n",
       "Method:                 Least Squares   F-statistic:                     261.2\n",
       "Date:                Sun, 15 May 2022   Prob (F-statistic):           2.76e-58\n",
       "Time:                        23:22:24   Log-Likelihood:                -61928.\n",
       "No. Observations:               15571   AIC:                         1.239e+05\n",
       "Df Residuals:                   15569   BIC:                         1.239e+05\n",
       "Df Model:                           1                                         \n",
       "Covariance Type:            nonrobust                                         \n",
       "==============================================================================\n",
       "                 coef    std err          t      P>|t|      [0.025      0.975]\n",
       "------------------------------------------------------------------------------\n",
       "const         10.0295      0.104     96.262      0.000       9.825      10.234\n",
       "SENTINEL      14.5351      0.899     16.163      0.000      12.772      16.298\n",
       "==============================================================================\n",
       "Omnibus:                     4678.003   Durbin-Watson:                   1.450\n",
       "Prob(Omnibus):                  0.000   Jarque-Bera (JB):            10840.955\n",
       "Skew:                           1.736   Prob(JB):                         0.00\n",
       "Kurtosis:                       5.156   Cond. No.                         8.69\n",
       "==============================================================================\n",
       "\n",
       "Notes:\n",
       "[1] Standard Errors assume that the covariance matrix of the errors is correctly specified.\n",
       "\"\"\""
      ]
     },
     "execution_count": 326,
     "metadata": {},
     "output_type": "execute_result"
    }
   ],
   "source": [
    "# dont forget the constant (const) column for the regression\n",
    "my_linreg3 = linear_model.OLS(y, X_const[['const', 'SENTINEL']]).fit()\n",
    "my_linreg3.summary()"
   ]
  },
  {
   "cell_type": "markdown",
   "id": "58f4a0b7",
   "metadata": {},
   "source": [
    "**Model Assessment with R<sup>2<sup/>** <br>\n",
    "    \n",
    "| Model   | R<sup>2<sup/>   | \n",
    "|-------------|-------|\n",
    "| Model 1.1.1 | 0.498 |\n",
    "| Model 1.1.2 | 0.498 |\n",
    "| Model 1.1.3 | 0.498 |\n",
    "| Model 1.1.4 | 0.017 |"
   ]
  },
  {
   "cell_type": "markdown",
   "id": "69f92d2b",
   "metadata": {},
   "source": [
    "The R-value has gotten even lower! Will add some more variables to help predict mosquito number"
   ]
  },
  {
   "cell_type": "code",
   "execution_count": 327,
   "id": "62b25838",
   "metadata": {},
   "outputs": [
    {
     "data": {
      "text/plain": [
       "GRAVID             -0.176178\n",
       "CULEX TERRITANS    -0.149261\n",
       "Lon                -0.100425\n",
       "CULEX SALINARIUS   -0.068595\n",
       "Month              -0.009376\n",
       "OVI                -0.005678\n",
       "Week                0.000448\n",
       "CULEX PIPIENS       0.037099\n",
       "CULEX RESTUANS      0.049083\n",
       "Lat                 0.059195\n",
       "Block               0.081334\n",
       "Year                0.117062\n",
       "CDC                 0.123628\n",
       "SENTINEL            0.128459\n",
       "Mosquito number     1.000000\n",
       "Name: Mosquito number, dtype: float64"
      ]
     },
     "execution_count": 327,
     "metadata": {},
     "output_type": "execute_result"
    }
   ],
   "source": [
    "lin_corr = lin_df.corr()\n",
    "lin_corr['Mosquito number'].sort_values()"
   ]
  },
  {
   "cell_type": "code",
   "execution_count": 328,
   "id": "57b35af6",
   "metadata": {},
   "outputs": [
    {
     "data": {
      "text/html": [
       "<table class=\"simpletable\">\n",
       "<caption>OLS Regression Results</caption>\n",
       "<tr>\n",
       "  <th>Dep. Variable:</th>     <td>Mosquito number</td> <th>  R-squared:         </th> <td>   0.072</td> \n",
       "</tr>\n",
       "<tr>\n",
       "  <th>Model:</th>                   <td>OLS</td>       <th>  Adj. R-squared:    </th> <td>   0.072</td> \n",
       "</tr>\n",
       "<tr>\n",
       "  <th>Method:</th>             <td>Least Squares</td>  <th>  F-statistic:       </th> <td>   242.8</td> \n",
       "</tr>\n",
       "<tr>\n",
       "  <th>Date:</th>             <td>Sun, 15 May 2022</td> <th>  Prob (F-statistic):</th> <td>1.43e-250</td>\n",
       "</tr>\n",
       "<tr>\n",
       "  <th>Time:</th>                 <td>23:26:14</td>     <th>  Log-Likelihood:    </th> <td> -61473.</td> \n",
       "</tr>\n",
       "<tr>\n",
       "  <th>No. Observations:</th>      <td> 15571</td>      <th>  AIC:               </th> <td>1.230e+05</td>\n",
       "</tr>\n",
       "<tr>\n",
       "  <th>Df Residuals:</th>          <td> 15565</td>      <th>  BIC:               </th> <td>1.230e+05</td>\n",
       "</tr>\n",
       "<tr>\n",
       "  <th>Df Model:</th>              <td>     5</td>      <th>                     </th>     <td> </td>    \n",
       "</tr>\n",
       "<tr>\n",
       "  <th>Covariance Type:</th>      <td>nonrobust</td>    <th>                     </th>     <td> </td>    \n",
       "</tr>\n",
       "</table>\n",
       "<table class=\"simpletable\">\n",
       "<tr>\n",
       "         <td></td>            <th>coef</th>     <th>std err</th>      <th>t</th>      <th>P>|t|</th>  <th>[0.025</th>    <th>0.975]</th>  \n",
       "</tr>\n",
       "<tr>\n",
       "  <th>const</th>           <td>-1008.8989</td> <td>   57.628</td> <td>  -17.507</td> <td> 0.000</td> <td>-1121.857</td> <td> -895.941</td>\n",
       "</tr>\n",
       "<tr>\n",
       "  <th>SENTINEL</th>        <td>   18.4631</td> <td>   12.577</td> <td>    1.468</td> <td> 0.142</td> <td>   -6.188</td> <td>   43.115</td>\n",
       "</tr>\n",
       "<tr>\n",
       "  <th>GRAVID</th>          <td>    6.2231</td> <td>   12.545</td> <td>    0.496</td> <td> 0.620</td> <td>  -18.366</td> <td>   30.812</td>\n",
       "</tr>\n",
       "<tr>\n",
       "  <th>CDC</th>             <td>   18.8992</td> <td>   12.558</td> <td>    1.505</td> <td> 0.132</td> <td>   -5.715</td> <td>   43.513</td>\n",
       "</tr>\n",
       "<tr>\n",
       "  <th>CULEX TERRITANS</th> <td>   -8.4036</td> <td>    0.449</td> <td>  -18.728</td> <td> 0.000</td> <td>   -9.283</td> <td>   -7.524</td>\n",
       "</tr>\n",
       "<tr>\n",
       "  <th>Year</th>            <td>    0.5032</td> <td>    0.028</td> <td>   17.955</td> <td> 0.000</td> <td>    0.448</td> <td>    0.558</td>\n",
       "</tr>\n",
       "</table>\n",
       "<table class=\"simpletable\">\n",
       "<tr>\n",
       "  <th>Omnibus:</th>       <td>4373.372</td> <th>  Durbin-Watson:     </th> <td>   1.505</td>\n",
       "</tr>\n",
       "<tr>\n",
       "  <th>Prob(Omnibus):</th>  <td> 0.000</td>  <th>  Jarque-Bera (JB):  </th> <td>9735.211</td>\n",
       "</tr>\n",
       "<tr>\n",
       "  <th>Skew:</th>           <td> 1.637</td>  <th>  Prob(JB):          </th> <td>    0.00</td>\n",
       "</tr>\n",
       "<tr>\n",
       "  <th>Kurtosis:</th>       <td> 5.070</td>  <th>  Cond. No.          </th> <td>1.16e+06</td>\n",
       "</tr>\n",
       "</table><br/><br/>Notes:<br/>[1] Standard Errors assume that the covariance matrix of the errors is correctly specified.<br/>[2] The condition number is large, 1.16e+06. This might indicate that there are<br/>strong multicollinearity or other numerical problems."
      ],
      "text/plain": [
       "<class 'statsmodels.iolib.summary.Summary'>\n",
       "\"\"\"\n",
       "                            OLS Regression Results                            \n",
       "==============================================================================\n",
       "Dep. Variable:        Mosquito number   R-squared:                       0.072\n",
       "Model:                            OLS   Adj. R-squared:                  0.072\n",
       "Method:                 Least Squares   F-statistic:                     242.8\n",
       "Date:                Sun, 15 May 2022   Prob (F-statistic):          1.43e-250\n",
       "Time:                        23:26:14   Log-Likelihood:                -61473.\n",
       "No. Observations:               15571   AIC:                         1.230e+05\n",
       "Df Residuals:                   15565   BIC:                         1.230e+05\n",
       "Df Model:                           5                                         \n",
       "Covariance Type:            nonrobust                                         \n",
       "===================================================================================\n",
       "                      coef    std err          t      P>|t|      [0.025      0.975]\n",
       "-----------------------------------------------------------------------------------\n",
       "const           -1008.8989     57.628    -17.507      0.000   -1121.857    -895.941\n",
       "SENTINEL           18.4631     12.577      1.468      0.142      -6.188      43.115\n",
       "GRAVID              6.2231     12.545      0.496      0.620     -18.366      30.812\n",
       "CDC                18.8992     12.558      1.505      0.132      -5.715      43.513\n",
       "CULEX TERRITANS    -8.4036      0.449    -18.728      0.000      -9.283      -7.524\n",
       "Year                0.5032      0.028     17.955      0.000       0.448       0.558\n",
       "==============================================================================\n",
       "Omnibus:                     4373.372   Durbin-Watson:                   1.505\n",
       "Prob(Omnibus):                  0.000   Jarque-Bera (JB):             9735.211\n",
       "Skew:                           1.637   Prob(JB):                         0.00\n",
       "Kurtosis:                       5.070   Cond. No.                     1.16e+06\n",
       "==============================================================================\n",
       "\n",
       "Notes:\n",
       "[1] Standard Errors assume that the covariance matrix of the errors is correctly specified.\n",
       "[2] The condition number is large, 1.16e+06. This might indicate that there are\n",
       "strong multicollinearity or other numerical problems.\n",
       "\"\"\""
      ]
     },
     "execution_count": 328,
     "metadata": {},
     "output_type": "execute_result"
    }
   ],
   "source": [
    "# Our model R-squared is not as good as our previous model, but the p-value is good,\n",
    "# Let's add others variables to help predict the price\n",
    "my_linreg4 = linear_model.OLS(y, X_const[['const', 'SENTINEL', 'GRAVID', \n",
    "                                    'CDC','CULEX TERRITANS','Year']]).fit()\n",
    "my_linreg4.summary()"
   ]
  },
  {
   "cell_type": "markdown",
   "id": "fd6e2142",
   "metadata": {},
   "source": [
    "**Model Assessment with R<sup>2<sup/>** <br>\n",
    "    \n",
    "| Model   | R<sup>2<sup/>   | \n",
    "|-------------|-------|\n",
    "| Model 1.1.1 | 0.498 |\n",
    "| Model 1.1.2 | 0.498 |\n",
    "| Model 1.1.3 | 0.498 |\n",
    "| Model 1.1.4 | 0.017 |\n",
    "| Model 1.1.5 | 0.072 |"
   ]
  },
  {
   "cell_type": "markdown",
   "id": "8a69725b",
   "metadata": {},
   "source": [
    "After adding every variable one by one, we were able to achieve $R^2$ of 0.072 including only 5 independent variables.\n",
    "\n",
    "However, our best model so far is **Model 1.1.2**, with $R^2$ = 0.098, which means this model is able to explain 49.8% of the variance."
   ]
  },
  {
   "cell_type": "markdown",
   "id": "222dcf09",
   "metadata": {},
   "source": [
    "## Model Diagnostics \n",
    "\n",
    "But we still are not finished!\n",
    "\n",
    "We need to check two of the four assumptions associated with a linear regression model:\n",
    "3. **Residuals** are normally distributed.**\n",
    "4. **Homoscedasticity**: The variance of residual is the same for any value of X.**\n",
    "(FL)\n"
   ]
  },
  {
   "cell_type": "markdown",
   "id": "5bcbd3f4",
   "metadata": {},
   "source": [
    "### 3. Residuals \n",
    "- A residual plot can help to visualize whether the error in the model is random or non-random \n",
    "- The distribution of the residual values should appear to be normally distributed (FL)"
   ]
  },
  {
   "cell_type": "code",
   "execution_count": 329,
   "id": "f260c08b",
   "metadata": {},
   "outputs": [
    {
     "data": {
      "image/png": "[encoded data removed]",
      "text/plain": [
       "<Figure size 432x288 with 1 Axes>"
      ]
     },
     "metadata": {
      "needs_background": "light"
     },
     "output_type": "display_data"
    }
   ],
   "source": [
    "# Plotting the residuals of the model 3.1.2\n",
    "plt.figure()\n",
    "plt.hist(my_linreg2.resid, bins = 35)\n",
    "plt.title('Distribution of residual values')\n",
    "plt.show()"
   ]
  },
  {
   "cell_type": "markdown",
   "id": "2f49812b",
   "metadata": {},
   "source": [
    "This ditrtibution looks quite right skewed. Let's use a Shapiro-Wilk test to further explore this suspicion."
   ]
  },
  {
   "cell_type": "code",
   "execution_count": 330,
   "id": "25c1c042",
   "metadata": {},
   "outputs": [
    {
     "name": "stdout",
     "output_type": "stream",
     "text": [
      "Shapiro-Wilk Test:  ShapiroResult(statistic=0.8209049701690674, pvalue=0.0)\n"
     ]
    },
    {
     "name": "stderr",
     "output_type": "stream",
     "text": [
      "C:\\Users\\jsmba\\anaconda3\\lib\\site-packages\\scipy\\stats\\morestats.py:1760: UserWarning: p-value may not be accurate for N > 5000.\n",
      "  warnings.warn(\"p-value may not be accurate for N > 5000.\")\n"
     ]
    }
   ],
   "source": [
    "# calculating the shapiro test statisic and its p-value\n",
    "\n",
    "print(\"Shapiro-Wilk Test: \", stats.shapiro(my_linreg2.resid))\n"
   ]
  },
  {
   "cell_type": "markdown",
   "id": "0480054a",
   "metadata": {},
   "source": [
    "The null hypothesis for the Shapiro-Wilk test is that the data are not normally distributed. \n",
    "Because the p-value is less than 0.05 (it's showing up as 0.0!), then the null hypothesis that the data are normally distributed is rejected.\n",
    "\n",
    "The Shapiro-Wilk test is very sensitive! Let's try a normal Q-Q plot."
   ]
  },
  {
   "cell_type": "code",
   "execution_count": 331,
   "id": "f3547b84",
   "metadata": {},
   "outputs": [
    {
     "data": {
      "image/png": "[encoded data removed]",
      "text/plain": [
       "<Figure size 432x288 with 1 Axes>"
      ]
     },
     "metadata": {
      "needs_background": "light"
     },
     "output_type": "display_data"
    }
   ],
   "source": [
    "# Normal Q-Q plot\n",
    "\n",
    "plt.figure()\n",
    "stats.probplot(my_linreg2.resid, dist=\"norm\", plot = plt);\n",
    "plt.show()"
   ]
  },
  {
   "cell_type": "markdown",
   "id": "da2fd5c4",
   "metadata": {},
   "source": [
    "It looks like it is not like a normal distribution at all. It seems vert skewed on the left right and middle portion of the data! This means that we need to be wary of this model - and the claims and prediction it makes about overally mosquitos populations (in the U.S. for example). Especially, for instance, when it determines measures of central tendency."
   ]
  },
  {
   "cell_type": "markdown",
   "id": "f524c1d9",
   "metadata": {},
   "source": [
    "### 4. Homoscedasticity\n",
    "\n",
    "The variance of residual is the same ."
   ]
  },
  {
   "cell_type": "code",
   "execution_count": 451,
   "id": "20a32df1",
   "metadata": {},
   "outputs": [
    {
     "data": {
      "image/png": "[encoded data removed]",
      "text/plain": [
       "<Figure size 432x288 with 1 Axes>"
      ]
     },
     "metadata": {
      "needs_background": "light"
     },
     "output_type": "display_data"
    }
   ],
   "source": [
    "# Plot the residuals and the predicted values\n",
    "plt.figure()\n",
    "plt.scatter(my_linreg3.fittedvalues, my_linreg2.resid)\n",
    "plt.xlabel('Fitted values')\n",
    "plt.ylabel('Residuals')\n",
    "plt.show()"
   ]
  },
  {
   "cell_type": "markdown",
   "id": "2d149871",
   "metadata": {},
   "source": [
    "It seems like this dataset has somewhat homoscedacity. It seems like the residuals on the life side seem to have less homoscedacity. More investigation would be required for the outer tails of the data."
   ]
  },
  {
   "cell_type": "markdown",
   "id": "662b0e51",
   "metadata": {},
   "source": [
    "### Logistical Regression"
   ]
  },
  {
   "cell_type": "markdown",
   "id": "3c8287f2",
   "metadata": {},
   "source": [
    "Run a logistic regression to determine how the independent variables affect West Nile Virus presence. Explain your model construction process. Analyze the model and the results, and discuss the model’s limitations. This may end up being an iterative process.\n",
    "Note: Mosquito number should be one of your independent variables."
   ]
  },
  {
   "cell_type": "markdown",
   "id": "ed738c63",
   "metadata": {},
   "source": [
    "Frist, I will begin by making a copy of the numerical dataframe for logistical regression"
   ]
  },
  {
   "cell_type": "code",
   "execution_count": 452,
   "id": "08d22e30",
   "metadata": {},
   "outputs": [
    {
     "name": "stdout",
     "output_type": "stream",
     "text": [
      "<class 'pandas.core.frame.DataFrame'>\n",
      "Int64Index: 15571 entries, 1 to 18493\n",
      "Data columns (total 16 columns):\n",
      " #   Column            Non-Null Count  Dtype  \n",
      "---  ------            --------------  -----  \n",
      " 0   Year              15571 non-null  int64  \n",
      " 1   Week              15571 non-null  int64  \n",
      " 2   Block             15571 non-null  int64  \n",
      " 3   Mosquito number   15571 non-null  int64  \n",
      " 4   WNV Present       15571 non-null  int64  \n",
      " 5   Lat               15571 non-null  float64\n",
      " 6   Lon               15571 non-null  float64\n",
      " 7   CDC               15571 non-null  uint8  \n",
      " 8   GRAVID            15571 non-null  uint8  \n",
      " 9   OVI               15571 non-null  uint8  \n",
      " 10  SENTINEL          15571 non-null  uint8  \n",
      " 11  Month             15571 non-null  int64  \n",
      " 12  CULEX PIPIENS     15571 non-null  uint8  \n",
      " 13  CULEX RESTUANS    15571 non-null  uint8  \n",
      " 14  CULEX SALINARIUS  15571 non-null  uint8  \n",
      " 15  CULEX TERRITANS   15571 non-null  uint8  \n",
      "dtypes: float64(2), int64(6), uint8(8)\n",
      "memory usage: 1.7 MB\n"
     ]
    }
   ],
   "source": [
    "log_df = mdf.copy()\n",
    "#dropping the derived column since it is derived from our y variables (seeing if WNV is present)\n",
    "log_df = log_df.drop(columns = \"WNV Mosquitos\")\n",
    "log_df.info()"
   ]
  },
  {
   "cell_type": "markdown",
   "id": "6a281302",
   "metadata": {},
   "source": [
    "All of the variables are numerical! So we can eventually feed them into our model."
   ]
  },
  {
   "cell_type": "code",
   "execution_count": 364,
   "id": "959ec285",
   "metadata": {},
   "outputs": [
    {
     "data": {
      "text/plain": [
       "Index(['Year', 'Week', 'Block', 'Mosquito number', 'WNV Present', 'Lat', 'Lon',\n",
       "       'CDC', 'GRAVID', 'OVI', 'SENTINEL', 'Month', 'CULEX PIPIENS',\n",
       "       'CULEX RESTUANS', 'CULEX SALINARIUS', 'CULEX TERRITANS'],\n",
       "      dtype='object')"
      ]
     },
     "execution_count": 364,
     "metadata": {},
     "output_type": "execute_result"
    }
   ],
   "source": [
    "#double checking columns for the logistical regression\n",
    "log_df.columns"
   ]
  },
  {
   "cell_type": "code",
   "execution_count": 365,
   "id": "1bf28fa6",
   "metadata": {},
   "outputs": [
    {
     "data": {
      "text/html": [
       "<div>\n",
       "<style scoped>\n",
       "    .dataframe tbody tr th:only-of-type {\n",
       "        vertical-align: middle;\n",
       "    }\n",
       "\n",
       "    .dataframe tbody tr th {\n",
       "        vertical-align: top;\n",
       "    }\n",
       "\n",
       "    .dataframe thead th {\n",
       "        text-align: right;\n",
       "    }\n",
       "</style>\n",
       "<table border=\"1\" class=\"dataframe\">\n",
       "  <thead>\n",
       "    <tr style=\"text-align: right;\">\n",
       "      <th></th>\n",
       "      <th>Year</th>\n",
       "      <th>Week</th>\n",
       "      <th>Block</th>\n",
       "      <th>Mosquito number</th>\n",
       "      <th>Lat</th>\n",
       "      <th>Lon</th>\n",
       "      <th>CDC</th>\n",
       "      <th>GRAVID</th>\n",
       "      <th>OVI</th>\n",
       "      <th>SENTINEL</th>\n",
       "      <th>Month</th>\n",
       "      <th>CULEX PIPIENS</th>\n",
       "      <th>CULEX RESTUANS</th>\n",
       "      <th>CULEX SALINARIUS</th>\n",
       "      <th>CULEX TERRITANS</th>\n",
       "    </tr>\n",
       "  </thead>\n",
       "  <tbody>\n",
       "    <tr>\n",
       "      <th>1</th>\n",
       "      <td>2019</td>\n",
       "      <td>39</td>\n",
       "      <td>52</td>\n",
       "      <td>1</td>\n",
       "      <td>41.798211</td>\n",
       "      <td>-87.736925</td>\n",
       "      <td>0</td>\n",
       "      <td>1</td>\n",
       "      <td>0</td>\n",
       "      <td>0</td>\n",
       "      <td>9</td>\n",
       "      <td>0</td>\n",
       "      <td>1</td>\n",
       "      <td>0</td>\n",
       "      <td>0</td>\n",
       "    </tr>\n",
       "    <tr>\n",
       "      <th>2</th>\n",
       "      <td>2019</td>\n",
       "      <td>39</td>\n",
       "      <td>58</td>\n",
       "      <td>2</td>\n",
       "      <td>41.987245</td>\n",
       "      <td>-87.689417</td>\n",
       "      <td>0</td>\n",
       "      <td>1</td>\n",
       "      <td>0</td>\n",
       "      <td>0</td>\n",
       "      <td>9</td>\n",
       "      <td>0</td>\n",
       "      <td>1</td>\n",
       "      <td>0</td>\n",
       "      <td>0</td>\n",
       "    </tr>\n",
       "    <tr>\n",
       "      <th>3</th>\n",
       "      <td>2019</td>\n",
       "      <td>39</td>\n",
       "      <td>39</td>\n",
       "      <td>1</td>\n",
       "      <td>41.953664</td>\n",
       "      <td>-87.724987</td>\n",
       "      <td>0</td>\n",
       "      <td>1</td>\n",
       "      <td>0</td>\n",
       "      <td>0</td>\n",
       "      <td>9</td>\n",
       "      <td>0</td>\n",
       "      <td>1</td>\n",
       "      <td>0</td>\n",
       "      <td>0</td>\n",
       "    </tr>\n",
       "    <tr>\n",
       "      <th>4</th>\n",
       "      <td>2019</td>\n",
       "      <td>39</td>\n",
       "      <td>131</td>\n",
       "      <td>9</td>\n",
       "      <td>41.657069</td>\n",
       "      <td>-87.546049</td>\n",
       "      <td>0</td>\n",
       "      <td>1</td>\n",
       "      <td>0</td>\n",
       "      <td>0</td>\n",
       "      <td>9</td>\n",
       "      <td>0</td>\n",
       "      <td>1</td>\n",
       "      <td>0</td>\n",
       "      <td>0</td>\n",
       "    </tr>\n",
       "    <tr>\n",
       "      <th>5</th>\n",
       "      <td>2019</td>\n",
       "      <td>39</td>\n",
       "      <td>21</td>\n",
       "      <td>2</td>\n",
       "      <td>41.921777</td>\n",
       "      <td>-87.632140</td>\n",
       "      <td>0</td>\n",
       "      <td>1</td>\n",
       "      <td>0</td>\n",
       "      <td>0</td>\n",
       "      <td>9</td>\n",
       "      <td>0</td>\n",
       "      <td>1</td>\n",
       "      <td>0</td>\n",
       "      <td>0</td>\n",
       "    </tr>\n",
       "  </tbody>\n",
       "</table>\n",
       "</div>"
      ],
      "text/plain": [
       "   Year  Week  Block  Mosquito number        Lat        Lon  CDC  GRAVID  OVI  \\\n",
       "1  2019    39     52                1  41.798211 -87.736925    0       1    0   \n",
       "2  2019    39     58                2  41.987245 -87.689417    0       1    0   \n",
       "3  2019    39     39                1  41.953664 -87.724987    0       1    0   \n",
       "4  2019    39    131                9  41.657069 -87.546049    0       1    0   \n",
       "5  2019    39     21                2  41.921777 -87.632140    0       1    0   \n",
       "\n",
       "   SENTINEL  Month  CULEX PIPIENS  CULEX RESTUANS  CULEX SALINARIUS  \\\n",
       "1         0      9              0               1                 0   \n",
       "2         0      9              0               1                 0   \n",
       "3         0      9              0               1                 0   \n",
       "4         0      9              0               1                 0   \n",
       "5         0      9              0               1                 0   \n",
       "\n",
       "   CULEX TERRITANS  \n",
       "1                0  \n",
       "2                0  \n",
       "3                0  \n",
       "4                0  \n",
       "5                0  "
      ]
     },
     "execution_count": 365,
     "metadata": {},
     "output_type": "execute_result"
    }
   ],
   "source": [
    "X = log_df.drop(columns = \"WNV Present\")\n",
    "X.head()"
   ]
  },
  {
   "cell_type": "code",
   "execution_count": 366,
   "id": "0c10ad71",
   "metadata": {},
   "outputs": [
    {
     "data": {
      "text/plain": [
       "1    0\n",
       "2    0\n",
       "3    0\n",
       "4    0\n",
       "5    0\n",
       "Name: WNV Present, dtype: int64"
      ]
     },
     "execution_count": 366,
     "metadata": {},
     "output_type": "execute_result"
    }
   ],
   "source": [
    "y = log_df[\"WNV Present\"]\n",
    "y.head()"
   ]
  },
  {
   "cell_type": "markdown",
   "id": "f92b7f13",
   "metadata": {},
   "source": [
    "This was done before, just refreshing knowledge and checking to make sure that the predictors do not show collinearity and multicollinearity which is a prerequisite of applying logistic regression."
   ]
  },
  {
   "cell_type": "code",
   "execution_count": 367,
   "id": "f56d3096",
   "metadata": {},
   "outputs": [],
   "source": [
    "X_corr = X.corr()"
   ]
  },
  {
   "cell_type": "code",
   "execution_count": 368,
   "id": "7642d913",
   "metadata": {},
   "outputs": [
    {
     "data": {
      "text/plain": [
       "<AxesSubplot:>"
      ]
     },
     "execution_count": 368,
     "metadata": {},
     "output_type": "execute_result"
    },
    {
     "data": {
      "image/png": "[encoded data removed]",
      "text/plain": [
       "<Figure size 1440x1440 with 2 Axes>"
      ]
     },
     "metadata": {
      "needs_background": "light"
     },
     "output_type": "display_data"
    }
   ],
   "source": [
    "mask = np.triu(X_corr)\n",
    "\n",
    "\n",
    "# heatmap\n",
    "plt.figure(figsize=(20, 20))\n",
    "sns.heatmap(X_corr.round(2), vmax=1, vmin=-1, center=0, annot=True, mask=mask, cmap='coolwarm')"
   ]
  },
  {
   "cell_type": "markdown",
   "id": "96425296",
   "metadata": {},
   "source": [
    "The insights from this heatmap are very similar to those previous mentioned with linear regression. It's worth mentioning how incredibly high the correlation is between week and month. Again, those isnights could be interesting so I won't drop them for now."
   ]
  },
  {
   "cell_type": "markdown",
   "id": "3ee8b15e",
   "metadata": {},
   "source": [
    "#### Backward Selection"
   ]
  },
  {
   "cell_type": "code",
   "execution_count": 369,
   "id": "358ca283",
   "metadata": {},
   "outputs": [
    {
     "name": "stdout",
     "output_type": "stream",
     "text": [
      "Warning: Maximum number of iterations has been exceeded.\n",
      "         Current function value: 0.386109\n",
      "         Iterations: 35\n"
     ]
    },
    {
     "name": "stderr",
     "output_type": "stream",
     "text": [
      "C:\\Users\\jsmba\\anaconda3\\lib\\site-packages\\statsmodels\\tsa\\tsatools.py:142: FutureWarning: In a future version of pandas all arguments of concat except for the argument 'objs' will be keyword-only\n",
      "  x = pd.concat(x[::order], 1)\n",
      "C:\\Users\\jsmba\\anaconda3\\lib\\site-packages\\statsmodels\\base\\model.py:566: ConvergenceWarning: Maximum Likelihood optimization failed to converge. Check mle_retvals\n",
      "  warnings.warn(\"Maximum Likelihood optimization failed to \"\n"
     ]
    },
    {
     "data": {
      "text/html": [
       "<table class=\"simpletable\">\n",
       "<caption>Logit Regression Results</caption>\n",
       "<tr>\n",
       "  <th>Dep. Variable:</th>      <td>WNV Present</td>   <th>  No. Observations:  </th>  <td> 15571</td> \n",
       "</tr>\n",
       "<tr>\n",
       "  <th>Model:</th>                 <td>Logit</td>      <th>  Df Residuals:      </th>  <td> 15557</td> \n",
       "</tr>\n",
       "<tr>\n",
       "  <th>Method:</th>                 <td>MLE</td>       <th>  Df Model:          </th>  <td>    13</td> \n",
       "</tr>\n",
       "<tr>\n",
       "  <th>Date:</th>            <td>Mon, 16 May 2022</td> <th>  Pseudo R-squ.:     </th>  <td>0.2289</td> \n",
       "</tr>\n",
       "<tr>\n",
       "  <th>Time:</th>                <td>00:33:01</td>     <th>  Log-Likelihood:    </th> <td> -6012.1</td>\n",
       "</tr>\n",
       "<tr>\n",
       "  <th>converged:</th>             <td>False</td>      <th>  LL-Null:           </th> <td> -7797.0</td>\n",
       "</tr>\n",
       "<tr>\n",
       "  <th>Covariance Type:</th>     <td>nonrobust</td>    <th>  LLR p-value:       </th>  <td> 0.000</td> \n",
       "</tr>\n",
       "</table>\n",
       "<table class=\"simpletable\">\n",
       "<tr>\n",
       "          <td></td>            <th>coef</th>     <th>std err</th>      <th>z</th>      <th>P>|z|</th>  <th>[0.025</th>    <th>0.975]</th>  \n",
       "</tr>\n",
       "<tr>\n",
       "  <th>const</th>            <td> -389.3654</td> <td>      nan</td> <td>      nan</td> <td>   nan</td> <td>      nan</td> <td>      nan</td>\n",
       "</tr>\n",
       "<tr>\n",
       "  <th>Year</th>             <td>    0.1206</td> <td>    0.008</td> <td>   15.480</td> <td> 0.000</td> <td>    0.105</td> <td>    0.136</td>\n",
       "</tr>\n",
       "<tr>\n",
       "  <th>Week</th>             <td>    0.0905</td> <td>    0.018</td> <td>    5.015</td> <td> 0.000</td> <td>    0.055</td> <td>    0.126</td>\n",
       "</tr>\n",
       "<tr>\n",
       "  <th>Block</th>            <td>   -0.0017</td> <td>    0.001</td> <td>   -2.380</td> <td> 0.017</td> <td>   -0.003</td> <td>   -0.000</td>\n",
       "</tr>\n",
       "<tr>\n",
       "  <th>Mosquito number</th>  <td>    0.0689</td> <td>    0.002</td> <td>   41.148</td> <td> 0.000</td> <td>    0.066</td> <td>    0.072</td>\n",
       "</tr>\n",
       "<tr>\n",
       "  <th>Lat</th>              <td>   -1.0377</td> <td>    0.310</td> <td>   -3.351</td> <td> 0.001</td> <td>   -1.645</td> <td>   -0.431</td>\n",
       "</tr>\n",
       "<tr>\n",
       "  <th>Lon</th>              <td>   -4.2109</td> <td>    0.439</td> <td>   -9.585</td> <td> 0.000</td> <td>   -5.072</td> <td>   -3.350</td>\n",
       "</tr>\n",
       "<tr>\n",
       "  <th>CDC</th>              <td>  -89.8465</td> <td> 1.48e+06</td> <td>-6.09e-05</td> <td> 1.000</td> <td>-2.89e+06</td> <td> 2.89e+06</td>\n",
       "</tr>\n",
       "<tr>\n",
       "  <th>GRAVID</th>           <td>  -89.6651</td> <td> 1.48e+06</td> <td>-6.06e-05</td> <td> 1.000</td> <td> -2.9e+06</td> <td>  2.9e+06</td>\n",
       "</tr>\n",
       "<tr>\n",
       "  <th>OVI</th>              <td> -119.0042</td> <td> 1.41e+07</td> <td>-8.43e-06</td> <td> 1.000</td> <td>-2.77e+07</td> <td> 2.77e+07</td>\n",
       "</tr>\n",
       "<tr>\n",
       "  <th>SENTINEL</th>         <td>  -90.0917</td> <td> 1.48e+06</td> <td> -6.1e-05</td> <td> 1.000</td> <td>-2.89e+06</td> <td> 2.89e+06</td>\n",
       "</tr>\n",
       "<tr>\n",
       "  <th>Month</th>            <td>    0.2411</td> <td>    0.078</td> <td>    3.098</td> <td> 0.002</td> <td>    0.089</td> <td>    0.394</td>\n",
       "</tr>\n",
       "<tr>\n",
       "  <th>CULEX PIPIENS</th>    <td>  -96.2734</td> <td>      nan</td> <td>      nan</td> <td>   nan</td> <td>      nan</td> <td>      nan</td>\n",
       "</tr>\n",
       "<tr>\n",
       "  <th>CULEX RESTUANS</th>   <td>  -96.6396</td> <td>      nan</td> <td>      nan</td> <td>   nan</td> <td>      nan</td> <td>      nan</td>\n",
       "</tr>\n",
       "<tr>\n",
       "  <th>CULEX SALINARIUS</th> <td>  -97.6407</td> <td>      nan</td> <td>      nan</td> <td>   nan</td> <td>      nan</td> <td>      nan</td>\n",
       "</tr>\n",
       "<tr>\n",
       "  <th>CULEX TERRITANS</th>  <td>  -98.6607</td> <td>      nan</td> <td>      nan</td> <td>   nan</td> <td>      nan</td> <td>      nan</td>\n",
       "</tr>\n",
       "</table>"
      ],
      "text/plain": [
       "<class 'statsmodels.iolib.summary.Summary'>\n",
       "\"\"\"\n",
       "                           Logit Regression Results                           \n",
       "==============================================================================\n",
       "Dep. Variable:            WNV Present   No. Observations:                15571\n",
       "Model:                          Logit   Df Residuals:                    15557\n",
       "Method:                           MLE   Df Model:                           13\n",
       "Date:                Mon, 16 May 2022   Pseudo R-squ.:                  0.2289\n",
       "Time:                        00:33:01   Log-Likelihood:                -6012.1\n",
       "converged:                      False   LL-Null:                       -7797.0\n",
       "Covariance Type:            nonrobust   LLR p-value:                     0.000\n",
       "====================================================================================\n",
       "                       coef    std err          z      P>|z|      [0.025      0.975]\n",
       "------------------------------------------------------------------------------------\n",
       "const             -389.3654        nan        nan        nan         nan         nan\n",
       "Year                 0.1206      0.008     15.480      0.000       0.105       0.136\n",
       "Week                 0.0905      0.018      5.015      0.000       0.055       0.126\n",
       "Block               -0.0017      0.001     -2.380      0.017      -0.003      -0.000\n",
       "Mosquito number      0.0689      0.002     41.148      0.000       0.066       0.072\n",
       "Lat                 -1.0377      0.310     -3.351      0.001      -1.645      -0.431\n",
       "Lon                 -4.2109      0.439     -9.585      0.000      -5.072      -3.350\n",
       "CDC                -89.8465   1.48e+06  -6.09e-05      1.000   -2.89e+06    2.89e+06\n",
       "GRAVID             -89.6651   1.48e+06  -6.06e-05      1.000    -2.9e+06     2.9e+06\n",
       "OVI               -119.0042   1.41e+07  -8.43e-06      1.000   -2.77e+07    2.77e+07\n",
       "SENTINEL           -90.0917   1.48e+06   -6.1e-05      1.000   -2.89e+06    2.89e+06\n",
       "Month                0.2411      0.078      3.098      0.002       0.089       0.394\n",
       "CULEX PIPIENS      -96.2734        nan        nan        nan         nan         nan\n",
       "CULEX RESTUANS     -96.6396        nan        nan        nan         nan         nan\n",
       "CULEX SALINARIUS   -97.6407        nan        nan        nan         nan         nan\n",
       "CULEX TERRITANS    -98.6607        nan        nan        nan         nan         nan\n",
       "====================================================================================\n",
       "\"\"\""
      ]
     },
     "execution_count": 369,
     "metadata": {},
     "output_type": "execute_result"
    }
   ],
   "source": [
    "import statsmodels.api as sm\n",
    "\n",
    "# add constant\n",
    "X_const = sm.add_constant(X)\n",
    "\n",
    "# instantiate the model\n",
    "bank_logit = sm.Logit(y, X_const)\n",
    "\n",
    "# fit the model to the data\n",
    "bank_logit_fitted = bank_logit.fit()\n",
    "\n",
    "# print model summary\n",
    "bank_logit_fitted.summary()"
   ]
  },
  {
   "cell_type": "markdown",
   "id": "21c7a16a",
   "metadata": {},
   "source": [
    "We note above, that for many variables, the associated p-values with the coefficients (the betas) are large. Therefore, we cannot safely reject the null hypothesis ($\\beta_i = 0$), so in pratical terms, these independent variables are likely not predictive of the dependent variable. We try excluding these from the model and seeing if this has an effect or not. Note that removing many variables at once is to be avoided, as the p-values will vary based upon which are left in or out of the model together in combination.\n",
    "\n",
    "Regardless of this fact, we can still make a prediction for y. We will do this leaving in the insignificant variables to establish a baseline accuracy:"
   ]
  },
  {
   "cell_type": "code",
   "execution_count": 370,
   "id": "56c1939a",
   "metadata": {},
   "outputs": [
    {
     "data": {
      "text/plain": [
       "0.8244171857941044"
      ]
     },
     "execution_count": 370,
     "metadata": {},
     "output_type": "execute_result"
    }
   ],
   "source": [
    "# get predictions\n",
    "y_proba = bank_logit_fitted.predict(X_const)\n",
    "\n",
    "y_pred = np.where(y_proba >= 0.5, 1, 0)\n",
    "\n",
    "num_correct = (y_pred == y).sum()\n",
    "\n",
    "pct_accuracy = num_correct/X.shape[0]\n",
    "pct_accuracy"
   ]
  },
  {
   "cell_type": "markdown",
   "id": "8092ddcc",
   "metadata": {},
   "source": [
    "Baseline model accuray: 82.4%. This isn't too bad for a predictive model! Let's see if we can make it better by dropping certain variables."
   ]
  },
  {
   "cell_type": "code",
   "execution_count": 371,
   "id": "d755d11a",
   "metadata": {},
   "outputs": [],
   "source": [
    "# dropping the trap types as their p values are very high\n",
    "X2 = X.drop(columns = ['SENTINEL', 'OVI','GRAVID', 'CDC'], axis=1)"
   ]
  },
  {
   "cell_type": "code",
   "execution_count": 372,
   "id": "381b049c",
   "metadata": {},
   "outputs": [
    {
     "name": "stdout",
     "output_type": "stream",
     "text": [
      "Optimization terminated successfully.\n",
      "         Current function value: 0.386353\n",
      "         Iterations 9\n"
     ]
    },
    {
     "name": "stderr",
     "output_type": "stream",
     "text": [
      "C:\\Users\\jsmba\\anaconda3\\lib\\site-packages\\statsmodels\\tsa\\tsatools.py:142: FutureWarning: In a future version of pandas all arguments of concat except for the argument 'objs' will be keyword-only\n",
      "  x = pd.concat(x[::order], 1)\n"
     ]
    },
    {
     "data": {
      "text/html": [
       "<table class=\"simpletable\">\n",
       "<caption>Logit Regression Results</caption>\n",
       "<tr>\n",
       "  <th>Dep. Variable:</th>      <td>WNV Present</td>   <th>  No. Observations:  </th>  <td> 15571</td> \n",
       "</tr>\n",
       "<tr>\n",
       "  <th>Model:</th>                 <td>Logit</td>      <th>  Df Residuals:      </th>  <td> 15560</td> \n",
       "</tr>\n",
       "<tr>\n",
       "  <th>Method:</th>                 <td>MLE</td>       <th>  Df Model:          </th>  <td>    10</td> \n",
       "</tr>\n",
       "<tr>\n",
       "  <th>Date:</th>            <td>Mon, 16 May 2022</td> <th>  Pseudo R-squ.:     </th>  <td>0.2284</td> \n",
       "</tr>\n",
       "<tr>\n",
       "  <th>Time:</th>                <td>00:33:11</td>     <th>  Log-Likelihood:    </th> <td> -6015.9</td>\n",
       "</tr>\n",
       "<tr>\n",
       "  <th>converged:</th>             <td>True</td>       <th>  LL-Null:           </th> <td> -7797.0</td>\n",
       "</tr>\n",
       "<tr>\n",
       "  <th>Covariance Type:</th>     <td>nonrobust</td>    <th>  LLR p-value:       </th>  <td> 0.000</td> \n",
       "</tr>\n",
       "</table>\n",
       "<table class=\"simpletable\">\n",
       "<tr>\n",
       "          <td></td>            <th>coef</th>     <th>std err</th>      <th>z</th>      <th>P>|z|</th>  <th>[0.025</th>    <th>0.975]</th>  \n",
       "</tr>\n",
       "<tr>\n",
       "  <th>const</th>            <td> -470.5436</td> <td>      nan</td> <td>      nan</td> <td>   nan</td> <td>      nan</td> <td>      nan</td>\n",
       "</tr>\n",
       "<tr>\n",
       "  <th>Year</th>             <td>    0.1205</td> <td>    0.007</td> <td>   16.069</td> <td> 0.000</td> <td>    0.106</td> <td>    0.135</td>\n",
       "</tr>\n",
       "<tr>\n",
       "  <th>Week</th>             <td>    0.0912</td> <td>    0.018</td> <td>    5.063</td> <td> 0.000</td> <td>    0.056</td> <td>    0.126</td>\n",
       "</tr>\n",
       "<tr>\n",
       "  <th>Block</th>            <td>   -0.0018</td> <td>    0.001</td> <td>   -2.508</td> <td> 0.012</td> <td>   -0.003</td> <td>   -0.000</td>\n",
       "</tr>\n",
       "<tr>\n",
       "  <th>Mosquito number</th>  <td>    0.0680</td> <td>    0.002</td> <td>   41.943</td> <td> 0.000</td> <td>    0.065</td> <td>    0.071</td>\n",
       "</tr>\n",
       "<tr>\n",
       "  <th>Lat</th>              <td>   -1.0646</td> <td>    0.309</td> <td>   -3.441</td> <td> 0.001</td> <td>   -1.671</td> <td>   -0.458</td>\n",
       "</tr>\n",
       "<tr>\n",
       "  <th>Lon</th>              <td>   -4.3621</td> <td>    0.435</td> <td>  -10.018</td> <td> 0.000</td> <td>   -5.216</td> <td>   -3.509</td>\n",
       "</tr>\n",
       "<tr>\n",
       "  <th>Month</th>            <td>    0.2314</td> <td>    0.078</td> <td>    2.984</td> <td> 0.003</td> <td>    0.079</td> <td>    0.383</td>\n",
       "</tr>\n",
       "<tr>\n",
       "  <th>CULEX PIPIENS</th>    <td> -116.6003</td> <td>      nan</td> <td>      nan</td> <td>   nan</td> <td>      nan</td> <td>      nan</td>\n",
       "</tr>\n",
       "<tr>\n",
       "  <th>CULEX RESTUANS</th>   <td> -116.9668</td> <td>      nan</td> <td>      nan</td> <td>   nan</td> <td>      nan</td> <td>      nan</td>\n",
       "</tr>\n",
       "<tr>\n",
       "  <th>CULEX SALINARIUS</th> <td> -117.9922</td> <td>      nan</td> <td>      nan</td> <td>   nan</td> <td>      nan</td> <td>      nan</td>\n",
       "</tr>\n",
       "<tr>\n",
       "  <th>CULEX TERRITANS</th>  <td> -118.9844</td> <td>      nan</td> <td>      nan</td> <td>   nan</td> <td>      nan</td> <td>      nan</td>\n",
       "</tr>\n",
       "</table>"
      ],
      "text/plain": [
       "<class 'statsmodels.iolib.summary.Summary'>\n",
       "\"\"\"\n",
       "                           Logit Regression Results                           \n",
       "==============================================================================\n",
       "Dep. Variable:            WNV Present   No. Observations:                15571\n",
       "Model:                          Logit   Df Residuals:                    15560\n",
       "Method:                           MLE   Df Model:                           10\n",
       "Date:                Mon, 16 May 2022   Pseudo R-squ.:                  0.2284\n",
       "Time:                        00:33:11   Log-Likelihood:                -6015.9\n",
       "converged:                       True   LL-Null:                       -7797.0\n",
       "Covariance Type:            nonrobust   LLR p-value:                     0.000\n",
       "====================================================================================\n",
       "                       coef    std err          z      P>|z|      [0.025      0.975]\n",
       "------------------------------------------------------------------------------------\n",
       "const             -470.5436        nan        nan        nan         nan         nan\n",
       "Year                 0.1205      0.007     16.069      0.000       0.106       0.135\n",
       "Week                 0.0912      0.018      5.063      0.000       0.056       0.126\n",
       "Block               -0.0018      0.001     -2.508      0.012      -0.003      -0.000\n",
       "Mosquito number      0.0680      0.002     41.943      0.000       0.065       0.071\n",
       "Lat                 -1.0646      0.309     -3.441      0.001      -1.671      -0.458\n",
       "Lon                 -4.3621      0.435    -10.018      0.000      -5.216      -3.509\n",
       "Month                0.2314      0.078      2.984      0.003       0.079       0.383\n",
       "CULEX PIPIENS     -116.6003        nan        nan        nan         nan         nan\n",
       "CULEX RESTUANS    -116.9668        nan        nan        nan         nan         nan\n",
       "CULEX SALINARIUS  -117.9922        nan        nan        nan         nan         nan\n",
       "CULEX TERRITANS   -118.9844        nan        nan        nan         nan         nan\n",
       "====================================================================================\n",
       "\"\"\""
      ]
     },
     "execution_count": 372,
     "metadata": {},
     "output_type": "execute_result"
    }
   ],
   "source": [
    "# add constant\n",
    "X_const2 = sm.add_constant(X2)\n",
    "\n",
    "# instantiate the model\n",
    "bank_logit2 = sm.Logit(y, X_const2)\n",
    "\n",
    "# fit the model to the data\n",
    "bank_logit_fitted2 = bank_logit2.fit()\n",
    "\n",
    "# print model summary\n",
    "bank_logit_fitted2.summary()"
   ]
  },
  {
   "cell_type": "code",
   "execution_count": 373,
   "id": "3797fba3",
   "metadata": {},
   "outputs": [
    {
     "data": {
      "text/plain": [
       "0.8248667394515445"
      ]
     },
     "execution_count": 373,
     "metadata": {},
     "output_type": "execute_result"
    }
   ],
   "source": [
    "# get predictions\n",
    "y_proba = bank_logit_fitted2.predict(X_const2)\n",
    "\n",
    "y_pred = np.where(y_proba >= 0.5, 1, 0)\n",
    "\n",
    "num_correct = (y_pred == y).sum()\n",
    "\n",
    "pct_accuracy = num_correct/X2.shape[0]\n",
    "pct_accuracy"
   ]
  },
  {
   "cell_type": "markdown",
   "id": "3cf00ea6",
   "metadata": {},
   "source": [
    "Baseline model accuracy is now 82.5%, which a slight improvement. The good news is with this model the p values are less than 0.05. So the variables are leading to a more accurate prediction."
   ]
  },
  {
   "cell_type": "markdown",
   "id": "c0087825",
   "metadata": {},
   "source": [
    "#### Forward Selection"
   ]
  },
  {
   "cell_type": "markdown",
   "id": "76c07d33",
   "metadata": {},
   "source": [
    "Now I will build the model starting from the variable with the highest correlation to WNV present."
   ]
  },
  {
   "cell_type": "code",
   "execution_count": 374,
   "id": "fba02c83",
   "metadata": {},
   "outputs": [
    {
     "data": {
      "text/plain": [
       "Lon                -0.126576\n",
       "CULEX TERRITANS    -0.108408\n",
       "CULEX SALINARIUS   -0.044850\n",
       "GRAVID             -0.043974\n",
       "CULEX RESTUANS     -0.020968\n",
       "OVI                -0.004010\n",
       "Block               0.008864\n",
       "CDC                 0.013321\n",
       "SENTINEL            0.057386\n",
       "Lat                 0.072799\n",
       "CULEX PIPIENS       0.085287\n",
       "Year                0.141943\n",
       "Month               0.169369\n",
       "Week                0.183040\n",
       "Mosquito number     0.417179\n",
       "WNV Present         1.000000\n",
       "Name: WNV Present, dtype: float64"
      ]
     },
     "execution_count": 374,
     "metadata": {},
     "output_type": "execute_result"
    }
   ],
   "source": [
    "wm_corr = log_df.corr()\n",
    "wm_corr['WNV Present'].sort_values()"
   ]
  },
  {
   "cell_type": "code",
   "execution_count": 378,
   "id": "7efb8da5",
   "metadata": {},
   "outputs": [],
   "source": [
    "new_X = X_const['Mosquito number']\n",
    "new_X_const = sm.add_constant(new_X)"
   ]
  },
  {
   "cell_type": "code",
   "execution_count": 379,
   "id": "a63dd236",
   "metadata": {},
   "outputs": [],
   "source": [
    "#Initializing\n",
    "forward_logit = sm.Logit(y, new_X_const)"
   ]
  },
  {
   "cell_type": "code",
   "execution_count": 380,
   "id": "7ca24447",
   "metadata": {},
   "outputs": [
    {
     "name": "stdout",
     "output_type": "stream",
     "text": [
      "Optimization terminated successfully.\n",
      "         Current function value: 0.427020\n",
      "         Iterations 6\n"
     ]
    }
   ],
   "source": [
    "#Fitting\n",
    "fitted_forward = forward_logit.fit()"
   ]
  },
  {
   "cell_type": "code",
   "execution_count": 381,
   "id": "80e35dab",
   "metadata": {},
   "outputs": [
    {
     "data": {
      "text/html": [
       "<table class=\"simpletable\">\n",
       "<caption>Logit Regression Results</caption>\n",
       "<tr>\n",
       "  <th>Dep. Variable:</th>      <td>WNV Present</td>   <th>  No. Observations:  </th>  <td> 15571</td> \n",
       "</tr>\n",
       "<tr>\n",
       "  <th>Model:</th>                 <td>Logit</td>      <th>  Df Residuals:      </th>  <td> 15569</td> \n",
       "</tr>\n",
       "<tr>\n",
       "  <th>Method:</th>                 <td>MLE</td>       <th>  Df Model:          </th>  <td>     1</td> \n",
       "</tr>\n",
       "<tr>\n",
       "  <th>Date:</th>            <td>Mon, 16 May 2022</td> <th>  Pseudo R-squ.:     </th>  <td>0.1472</td> \n",
       "</tr>\n",
       "<tr>\n",
       "  <th>Time:</th>                <td>00:34:19</td>     <th>  Log-Likelihood:    </th> <td> -6649.1</td>\n",
       "</tr>\n",
       "<tr>\n",
       "  <th>converged:</th>             <td>True</td>       <th>  LL-Null:           </th> <td> -7797.0</td>\n",
       "</tr>\n",
       "<tr>\n",
       "  <th>Covariance Type:</th>     <td>nonrobust</td>    <th>  LLR p-value:       </th>  <td> 0.000</td> \n",
       "</tr>\n",
       "</table>\n",
       "<table class=\"simpletable\">\n",
       "<tr>\n",
       "         <td></td>            <th>coef</th>     <th>std err</th>      <th>z</th>      <th>P>|z|</th>  <th>[0.025</th>    <th>0.975]</th>  \n",
       "</tr>\n",
       "<tr>\n",
       "  <th>const</th>           <td>   -2.2569</td> <td>    0.031</td> <td>  -73.018</td> <td> 0.000</td> <td>   -2.317</td> <td>   -2.196</td>\n",
       "</tr>\n",
       "<tr>\n",
       "  <th>Mosquito number</th> <td>    0.0673</td> <td>    0.001</td> <td>   45.218</td> <td> 0.000</td> <td>    0.064</td> <td>    0.070</td>\n",
       "</tr>\n",
       "</table>"
      ],
      "text/plain": [
       "<class 'statsmodels.iolib.summary.Summary'>\n",
       "\"\"\"\n",
       "                           Logit Regression Results                           \n",
       "==============================================================================\n",
       "Dep. Variable:            WNV Present   No. Observations:                15571\n",
       "Model:                          Logit   Df Residuals:                    15569\n",
       "Method:                           MLE   Df Model:                            1\n",
       "Date:                Mon, 16 May 2022   Pseudo R-squ.:                  0.1472\n",
       "Time:                        00:34:19   Log-Likelihood:                -6649.1\n",
       "converged:                       True   LL-Null:                       -7797.0\n",
       "Covariance Type:            nonrobust   LLR p-value:                     0.000\n",
       "===================================================================================\n",
       "                      coef    std err          z      P>|z|      [0.025      0.975]\n",
       "-----------------------------------------------------------------------------------\n",
       "const              -2.2569      0.031    -73.018      0.000      -2.317      -2.196\n",
       "Mosquito number     0.0673      0.001     45.218      0.000       0.064       0.070\n",
       "===================================================================================\n",
       "\"\"\""
      ]
     },
     "execution_count": 381,
     "metadata": {},
     "output_type": "execute_result"
    }
   ],
   "source": [
    "#Summary\n",
    "fitted_forward.summary()"
   ]
  },
  {
   "cell_type": "code",
   "execution_count": 382,
   "id": "17fba709",
   "metadata": {},
   "outputs": [
    {
     "name": "stdout",
     "output_type": "stream",
     "text": [
      "The baseline model accuracy is 80.68203712028772%\n"
     ]
    }
   ],
   "source": [
    "# Calculate soft predictions\n",
    "y_proba = fitted_forward.predict(new_X_const)\n",
    "\n",
    "# Convert soft predictions to hard predictions 0/1\n",
    "y_pred = np.where(y_proba >= 0.5, 1, 0)\n",
    "\n",
    "# Calculate # correct\n",
    "num_correct = (y_pred == y).sum()\n",
    "\n",
    "# Calculate the percentage accuracy\n",
    "pct_accuracy = num_correct / X.shape[0]\n",
    "\n",
    "print(f'The baseline model accuracy is {pct_accuracy*100.0}%')"
   ]
  },
  {
   "cell_type": "markdown",
   "id": "739e1274",
   "metadata": {},
   "source": [
    "The model accuracy of 80.68 is a donwgrade from our previous model. So for now, I'm going to go with the previous model. It can be stated overall, that the variable Mosquito Number is an important predictor of WNV presence with a mositive correlation. In broader terms, keeping the imperfect accuracy in mind, we can say that the more mosquitos there are the greater the probability of WNV being present."
   ]
  },
  {
   "cell_type": "markdown",
   "id": "b203c839",
   "metadata": {},
   "source": [
    "## Conclusions"
   ]
  },
  {
   "cell_type": "markdown",
   "id": "547af4ad",
   "metadata": {},
   "source": [
    "- on average more mosquitos were trapped in August, with the majority in the hot summer months of July and August and less in spring and fall months\n",
    "- We cannot accept the hypothesis that there is a statistically significant difference between mosquitos when looking at the occurence of West Nile Virus\n",
    "- Longitude and month are negatively correlated to mosquito number, while the rest are positively correlated\n",
    "- The linear model with the highest R-squared value (accounted for 49.8% of the predictions) did not include latitude and month and predicting variables. \n",
    "- The logistical regression model with the highest accuracy included most variables except for the four different trap types as predictors. Hence the trap type were not very good predictors for which mosquitos had WNV present"
   ]
  }
 ],
 "metadata": {
  "kernelspec": {
   "display_name": "Python 3 (ipykernel)",
   "language": "python",
   "name": "python3"
  },
  "language_info": {
   "codemirror_mode": {
    "name": "ipython",
    "version": 3
   },
   "file_extension": ".py",
   "mimetype": "text/x-python",
   "name": "python",
   "nbconvert_exporter": "python",
   "pygments_lexer": "ipython3",
   "version": "3.9.7"
  }
 },
 "nbformat": 4,
 "nbformat_minor": 5
}
