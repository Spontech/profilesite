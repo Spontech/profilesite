{
 "cells": [
  {
   "cell_type": "markdown",
   "id": "413b2659",
   "metadata": {},
   "source": [
    "# NLP With Hotel Review Part 1"
   ]
  },
  {
   "cell_type": "markdown",
   "id": "0d3c9e61",
   "metadata": {},
   "source": [
    "Authour: Tanisha Batra <br>\n",
    "Contact: jsm.batra@outlook.com <br>\n",
    "Date: June 6th, 2022 <br>\n",
    "Brainstation Assignment <br>"
   ]
  },
  {
   "cell_type": "markdown",
   "id": "40648520",
   "metadata": {},
   "source": [
    "This report will begin with some Exploratory Data Analysis (EDA), and then move into data augmentation, modelling, and iteration over model improvements."
   ]
  },
  {
   "cell_type": "markdown",
   "id": "484b8358",
   "metadata": {},
   "source": [
    "## Exploratory Data Analysis"
   ]
  },
  {
   "cell_type": "markdown",
   "id": "d9e25bc5",
   "metadata": {},
   "source": [
    "First, I will take a look at the data set. It is important to keep in mind that the target column of interest is Reviewer_Score."
   ]
  },
  {
   "cell_type": "code",
   "execution_count": 297,
   "id": "bb3dd786",
   "metadata": {
    "scrolled": true
   },
   "outputs": [],
   "source": [
    "#importing relevant libraries to help work with the data imported soon!\n",
    "import pandas as pd\n",
    "import numpy as np\n",
    "\n",
    "import seaborn as sns\n",
    "import matplotlib.pyplot as plt"
   ]
  },
  {
   "cell_type": "code",
   "execution_count": 298,
   "id": "067c4056",
   "metadata": {},
   "outputs": [
    {
     "data": {
      "text/html": [
       "<div>\n",
       "<style scoped>\n",
       "    .dataframe tbody tr th:only-of-type {\n",
       "        vertical-align: middle;\n",
       "    }\n",
       "\n",
       "    .dataframe tbody tr th {\n",
       "        vertical-align: top;\n",
       "    }\n",
       "\n",
       "    .dataframe thead th {\n",
       "        text-align: right;\n",
       "    }\n",
       "</style>\n",
       "<table border=\"1\" class=\"dataframe\">\n",
       "  <thead>\n",
       "    <tr style=\"text-align: right;\">\n",
       "      <th></th>\n",
       "      <th>Hotel_Address</th>\n",
       "      <th>Additional_Number_of_Scoring</th>\n",
       "      <th>Review_Date</th>\n",
       "      <th>Average_Score</th>\n",
       "      <th>Hotel_Name</th>\n",
       "      <th>Reviewer_Nationality</th>\n",
       "      <th>Negative_Review</th>\n",
       "      <th>Review_Total_Negative_Word_Counts</th>\n",
       "      <th>Total_Number_of_Reviews</th>\n",
       "      <th>Positive_Review</th>\n",
       "      <th>Review_Total_Positive_Word_Counts</th>\n",
       "      <th>Total_Number_of_Reviews_Reviewer_Has_Given</th>\n",
       "      <th>Reviewer_Score</th>\n",
       "      <th>Tags</th>\n",
       "      <th>days_since_review</th>\n",
       "      <th>lat</th>\n",
       "      <th>lng</th>\n",
       "    </tr>\n",
       "  </thead>\n",
       "  <tbody>\n",
       "    <tr>\n",
       "      <th>0</th>\n",
       "      <td>s Gravesandestraat 55 Oost 1092 AA Amsterdam ...</td>\n",
       "      <td>194</td>\n",
       "      <td>8/3/2017</td>\n",
       "      <td>7.7</td>\n",
       "      <td>Hotel Arena</td>\n",
       "      <td>Russia</td>\n",
       "      <td>I am so angry that i made this post available...</td>\n",
       "      <td>397</td>\n",
       "      <td>1403</td>\n",
       "      <td>Only the park outside of the hotel was beauti...</td>\n",
       "      <td>11</td>\n",
       "      <td>7</td>\n",
       "      <td>2.9</td>\n",
       "      <td>[' Leisure trip ', ' Couple ', ' Duplex Double...</td>\n",
       "      <td>0 days</td>\n",
       "      <td>52.360576</td>\n",
       "      <td>4.915968</td>\n",
       "    </tr>\n",
       "    <tr>\n",
       "      <th>1</th>\n",
       "      <td>s Gravesandestraat 55 Oost 1092 AA Amsterdam ...</td>\n",
       "      <td>194</td>\n",
       "      <td>8/3/2017</td>\n",
       "      <td>7.7</td>\n",
       "      <td>Hotel Arena</td>\n",
       "      <td>Ireland</td>\n",
       "      <td>No Negative</td>\n",
       "      <td>0</td>\n",
       "      <td>1403</td>\n",
       "      <td>No real complaints the hotel was great great ...</td>\n",
       "      <td>105</td>\n",
       "      <td>7</td>\n",
       "      <td>7.5</td>\n",
       "      <td>[' Leisure trip ', ' Couple ', ' Duplex Double...</td>\n",
       "      <td>0 days</td>\n",
       "      <td>52.360576</td>\n",
       "      <td>4.915968</td>\n",
       "    </tr>\n",
       "    <tr>\n",
       "      <th>2</th>\n",
       "      <td>s Gravesandestraat 55 Oost 1092 AA Amsterdam ...</td>\n",
       "      <td>194</td>\n",
       "      <td>7/31/2017</td>\n",
       "      <td>7.7</td>\n",
       "      <td>Hotel Arena</td>\n",
       "      <td>Australia</td>\n",
       "      <td>Rooms are nice but for elderly a bit difficul...</td>\n",
       "      <td>42</td>\n",
       "      <td>1403</td>\n",
       "      <td>Location was good and staff were ok It is cut...</td>\n",
       "      <td>21</td>\n",
       "      <td>9</td>\n",
       "      <td>7.1</td>\n",
       "      <td>[' Leisure trip ', ' Family with young childre...</td>\n",
       "      <td>3 days</td>\n",
       "      <td>52.360576</td>\n",
       "      <td>4.915968</td>\n",
       "    </tr>\n",
       "    <tr>\n",
       "      <th>3</th>\n",
       "      <td>s Gravesandestraat 55 Oost 1092 AA Amsterdam ...</td>\n",
       "      <td>194</td>\n",
       "      <td>7/31/2017</td>\n",
       "      <td>7.7</td>\n",
       "      <td>Hotel Arena</td>\n",
       "      <td>United Kingdom</td>\n",
       "      <td>My room was dirty and I was afraid to walk ba...</td>\n",
       "      <td>210</td>\n",
       "      <td>1403</td>\n",
       "      <td>Great location in nice surroundings the bar a...</td>\n",
       "      <td>26</td>\n",
       "      <td>1</td>\n",
       "      <td>3.8</td>\n",
       "      <td>[' Leisure trip ', ' Solo traveler ', ' Duplex...</td>\n",
       "      <td>3 days</td>\n",
       "      <td>52.360576</td>\n",
       "      <td>4.915968</td>\n",
       "    </tr>\n",
       "    <tr>\n",
       "      <th>4</th>\n",
       "      <td>s Gravesandestraat 55 Oost 1092 AA Amsterdam ...</td>\n",
       "      <td>194</td>\n",
       "      <td>7/24/2017</td>\n",
       "      <td>7.7</td>\n",
       "      <td>Hotel Arena</td>\n",
       "      <td>New Zealand</td>\n",
       "      <td>You When I booked with your company on line y...</td>\n",
       "      <td>140</td>\n",
       "      <td>1403</td>\n",
       "      <td>Amazing location and building Romantic setting</td>\n",
       "      <td>8</td>\n",
       "      <td>3</td>\n",
       "      <td>6.7</td>\n",
       "      <td>[' Leisure trip ', ' Couple ', ' Suite ', ' St...</td>\n",
       "      <td>10 days</td>\n",
       "      <td>52.360576</td>\n",
       "      <td>4.915968</td>\n",
       "    </tr>\n",
       "  </tbody>\n",
       "</table>\n",
       "</div>"
      ],
      "text/plain": [
       "                                       Hotel_Address  \\\n",
       "0   s Gravesandestraat 55 Oost 1092 AA Amsterdam ...   \n",
       "1   s Gravesandestraat 55 Oost 1092 AA Amsterdam ...   \n",
       "2   s Gravesandestraat 55 Oost 1092 AA Amsterdam ...   \n",
       "3   s Gravesandestraat 55 Oost 1092 AA Amsterdam ...   \n",
       "4   s Gravesandestraat 55 Oost 1092 AA Amsterdam ...   \n",
       "\n",
       "   Additional_Number_of_Scoring Review_Date  Average_Score   Hotel_Name  \\\n",
       "0                           194    8/3/2017            7.7  Hotel Arena   \n",
       "1                           194    8/3/2017            7.7  Hotel Arena   \n",
       "2                           194   7/31/2017            7.7  Hotel Arena   \n",
       "3                           194   7/31/2017            7.7  Hotel Arena   \n",
       "4                           194   7/24/2017            7.7  Hotel Arena   \n",
       "\n",
       "  Reviewer_Nationality                                    Negative_Review  \\\n",
       "0              Russia    I am so angry that i made this post available...   \n",
       "1             Ireland                                         No Negative   \n",
       "2           Australia    Rooms are nice but for elderly a bit difficul...   \n",
       "3      United Kingdom    My room was dirty and I was afraid to walk ba...   \n",
       "4         New Zealand    You When I booked with your company on line y...   \n",
       "\n",
       "   Review_Total_Negative_Word_Counts  Total_Number_of_Reviews  \\\n",
       "0                                397                     1403   \n",
       "1                                  0                     1403   \n",
       "2                                 42                     1403   \n",
       "3                                210                     1403   \n",
       "4                                140                     1403   \n",
       "\n",
       "                                     Positive_Review  \\\n",
       "0   Only the park outside of the hotel was beauti...   \n",
       "1   No real complaints the hotel was great great ...   \n",
       "2   Location was good and staff were ok It is cut...   \n",
       "3   Great location in nice surroundings the bar a...   \n",
       "4    Amazing location and building Romantic setting    \n",
       "\n",
       "   Review_Total_Positive_Word_Counts  \\\n",
       "0                                 11   \n",
       "1                                105   \n",
       "2                                 21   \n",
       "3                                 26   \n",
       "4                                  8   \n",
       "\n",
       "   Total_Number_of_Reviews_Reviewer_Has_Given  Reviewer_Score  \\\n",
       "0                                           7             2.9   \n",
       "1                                           7             7.5   \n",
       "2                                           9             7.1   \n",
       "3                                           1             3.8   \n",
       "4                                           3             6.7   \n",
       "\n",
       "                                                Tags days_since_review  \\\n",
       "0  [' Leisure trip ', ' Couple ', ' Duplex Double...            0 days   \n",
       "1  [' Leisure trip ', ' Couple ', ' Duplex Double...            0 days   \n",
       "2  [' Leisure trip ', ' Family with young childre...            3 days   \n",
       "3  [' Leisure trip ', ' Solo traveler ', ' Duplex...            3 days   \n",
       "4  [' Leisure trip ', ' Couple ', ' Suite ', ' St...           10 days   \n",
       "\n",
       "         lat       lng  \n",
       "0  52.360576  4.915968  \n",
       "1  52.360576  4.915968  \n",
       "2  52.360576  4.915968  \n",
       "3  52.360576  4.915968  \n",
       "4  52.360576  4.915968  "
      ]
     },
     "execution_count": 298,
     "metadata": {},
     "output_type": "execute_result"
    }
   ],
   "source": [
    "odf = pd.read_csv('data/Hotel_Reviews.csv')\n",
    "odf.head()"
   ]
  },
  {
   "cell_type": "markdown",
   "id": "4b4ba248",
   "metadata": {},
   "source": [
    "Upon initial observation, there seems to be both test-based data (like reviewer nationality and hotel name) and numerical data (like reviewer score). A single row of data seems to represent information related to a single hotel. Each hotel has its respective longitude and latitude and reviewer score. This review score, being a decimal, upon initial instrinct seems to be an average out of all the customers of the hotel. However, I do see another column called average score. Perhaps the reviewer score refers to the score given by a single customer, for the corresponding tags. Another observation is they've taken a representative positive and negative review for each hotel. It is unclear however, how this representative review was chosen."
   ]
  },
  {
   "cell_type": "markdown",
   "id": "7dc4c083",
   "metadata": {},
   "source": [
    "### What is the shape of the dataset?"
   ]
  },
  {
   "cell_type": "code",
   "execution_count": 299,
   "id": "2fdaa4a7",
   "metadata": {},
   "outputs": [
    {
     "name": "stdout",
     "output_type": "stream",
     "text": [
      "The dataset has 515738 rows and 17 columns\n"
     ]
    }
   ],
   "source": [
    "print(f\"The dataset has {odf.shape[0]} rows and {odf.shape[1]} columns\")"
   ]
  },
  {
   "cell_type": "markdown",
   "id": "9b3bcfc7",
   "metadata": {},
   "source": [
    "There are a great deal of rows in this dataset! 17 columns shows there's a lot of metadata for each hotel and the reviewer score we can look at."
   ]
  },
  {
   "cell_type": "markdown",
   "id": "e4270d58",
   "metadata": {},
   "source": [
    "### The reviews provided are all given as decimal values. Convert them into integers from 1 to 10"
   ]
  },
  {
   "cell_type": "code",
   "execution_count": 300,
   "id": "dfcdf202",
   "metadata": {},
   "outputs": [
    {
     "data": {
      "text/plain": [
       "dtype('float64')"
      ]
     },
     "execution_count": 300,
     "metadata": {},
     "output_type": "execute_result"
    }
   ],
   "source": [
    "odf['Reviewer_Score'].dtype"
   ]
  },
  {
   "cell_type": "markdown",
   "id": "9277b5b4",
   "metadata": {},
   "source": [
    "As can be seen above, the data type is not an integer. Since the reviewer score are decimals, I am assuming that the dataset took the average of all of these reviews. Hence, to convert to an integer, it makes sense to round the score to get an accurate reviewer score. Then after it is a float, I will convert the datatype to an integer."
   ]
  },
  {
   "cell_type": "code",
   "execution_count": 301,
   "id": "80685eb6",
   "metadata": {},
   "outputs": [],
   "source": [
    "odf['Reviewer_Score'] = odf['Reviewer_Score'].round(0) #Don't forget to convert to integer!\n",
    "odf['Reviewer_Score'] = odf['Reviewer_Score'].astype('int64')"
   ]
  },
  {
   "cell_type": "markdown",
   "id": "1ad49ef3",
   "metadata": {},
   "source": [
    "I chose int64 to be safe. What if the reviews start being calculated out of 100 or 1000 in the future? Or with very many decimals. This may be a stretch - but better safe then sorry! Now to check if the column's datatype has really changed."
   ]
  },
  {
   "cell_type": "code",
   "execution_count": 302,
   "id": "942c1fed",
   "metadata": {},
   "outputs": [
    {
     "data": {
      "text/plain": [
       "dtype('int64')"
      ]
     },
     "execution_count": 302,
     "metadata": {},
     "output_type": "execute_result"
    }
   ],
   "source": [
    "odf['Reviewer_Score'].dtype"
   ]
  },
  {
   "cell_type": "markdown",
   "id": "45ba5cce",
   "metadata": {},
   "source": [
    "The reviews are now integers. Now I will see that the values range from 1-10."
   ]
  },
  {
   "cell_type": "code",
   "execution_count": 303,
   "id": "4d3fc1e2",
   "metadata": {},
   "outputs": [
    {
     "name": "stdout",
     "output_type": "stream",
     "text": [
      "3\n",
      "8\n",
      "7\n",
      "4\n",
      "5\n",
      "10\n",
      "6\n",
      "9\n",
      "2\n"
     ]
    }
   ],
   "source": [
    "for i in odf['Reviewer_Score'].unique():\n",
    "    print(i)"
   ]
  },
  {
   "cell_type": "markdown",
   "id": "a6b22074",
   "metadata": {},
   "source": [
    "There are only integers from 1-10 in this column now."
   ]
  },
  {
   "cell_type": "markdown",
   "id": "193f1b5e",
   "metadata": {},
   "source": [
    "### The reviews are scored from 1 to 10. What do you expect the distribution of scores to look like? What is the actual distribution of reviews?"
   ]
  },
  {
   "cell_type": "markdown",
   "id": "033cf060",
   "metadata": {},
   "source": [
    "I don't have too many initial expectations about the distributions scores. Perhaps the hotels are doing well, and many of the scores are more than 5. "
   ]
  },
  {
   "cell_type": "code",
   "execution_count": 304,
   "id": "9661ec4a",
   "metadata": {},
   "outputs": [
    {
     "data": {
      "text/plain": [
       "Reviewer_Score\n",
       "2       2199\n",
       "3       4406\n",
       "4       9436\n",
       "5      24188\n",
       "6      27800\n",
       "7      44088\n",
       "8     110155\n",
       "9     105722\n",
       "10    187744\n",
       "dtype: int64"
      ]
     },
     "execution_count": 304,
     "metadata": {},
     "output_type": "execute_result"
    }
   ],
   "source": [
    "Grouped = odf.groupby(by=\"Reviewer_Score\").size()\n",
    "Grouped\n",
    "#Help with seeing distribution:https://thinkingneuron.com/how-to-visualize-data-distribution-of-a-categorical-variable-in-python/#:~:text=How%20to%20visualize%20data%20distribution%20of%20a%20categorical%20variable%20in%20Python,-Machine%20Learning%2C%20Python&text=Bar%20charts%20can%20be%20used,the%20frequency%20of%20each%20value."
   ]
  },
  {
   "cell_type": "code",
   "execution_count": 305,
   "id": "f92f48a2",
   "metadata": {},
   "outputs": [
    {
     "data": {
      "text/plain": [
       "[Text(0.5, 0, 'Reviewer Score'),\n",
       " Text(0, 0.5, 'Number of Hotels'),\n",
       " Text(0.5, 1.0, 'Distribution of Review Scores')]"
      ]
     },
     "execution_count": 305,
     "metadata": {},
     "output_type": "execute_result"
    },
    {
     "data": {
      "image/png": "[encoded data removed]",
      "text/plain": [
       "<Figure size 432x288 with 1 Axes>"
      ]
     },
     "metadata": {
      "needs_background": "light"
     },
     "output_type": "display_data"
    }
   ],
   "source": [
    "x = Grouped.plot.bar()\n",
    "x.set(xlabel=\"Reviewer Score\", ylabel=\"Number of Hotels\", title=\"Distribution of Review Scores\")"
   ]
  },
  {
   "cell_type": "markdown",
   "id": "f5de5ef9",
   "metadata": {},
   "source": [
    "As expected, many of the reviews are 5 or greater than 5. Interestingly, none of the reviews have a value of 1. Assuming that reviewer score column had average for all of the reviews of a particular hotel, and we rounded that - it appears that no hotel had an average review score of one. Additionally, what's surprising is the disparity and sharpe rise in high reviewer score. Less than approximately 10 000 people gave a score of two, wile nearly 200 000 people gave a score of 10! That's approximately 20 times of an increase! <br> Overall, it's interesting to note the disparity - way more hotels have a higher average score than lower."
   ]
  },
  {
   "cell_type": "markdown",
   "id": "81ba0433",
   "metadata": {},
   "source": [
    "### Given this will be a classification problem, what is a potential problem with this distribution?"
   ]
  },
  {
   "cell_type": "markdown",
   "id": "1a41f2f2",
   "metadata": {},
   "source": [
    "When we look at our target variable, we can see that this dataset is highly unbalances. There are way more hotels with an average score of 10. The issue is that the classes are not represented equally. So, when we try to predict what score a hotel might have, our model might be biased to report 10. Without even looking at the other features of the hotel, the most common class (higher review scores) could be predicted. <br> This could be indicative to bias in the reviews - for instance, the hotel could have some measures in place so they only display mostly positive reviews. <br> Let's say we were to train a model with this very unbalanced data. The model may not be able to recognize which hotel would have a review with a lower score, especially since lower scores are in the minorty. The model has less examples of these, so it's trickier for the model to learn the metadata around lower scores (e.x. location, date etc), and therefore harder to differentiate from the hotels with a higher review score. <br> To read more, you could check out this website which provided me context for this answer: https://machinelearningmastery.com/what-is-imbalanced-classification/"
   ]
  },
  {
   "cell_type": "markdown",
   "id": "a134ef0a",
   "metadata": {},
   "source": [
    "### This dataset has a good mix of numeric and non-numeric columns. Which columns are numeric? Which are non-numeric? Can you turn some of the non-numeric columns to numeric?"
   ]
  },
  {
   "cell_type": "code",
   "execution_count": 306,
   "id": "d3d366d6",
   "metadata": {},
   "outputs": [
    {
     "name": "stdout",
     "output_type": "stream",
     "text": [
      "<class 'pandas.core.frame.DataFrame'>\n",
      "RangeIndex: 515738 entries, 0 to 515737\n",
      "Data columns (total 17 columns):\n",
      " #   Column                                      Non-Null Count   Dtype  \n",
      "---  ------                                      --------------   -----  \n",
      " 0   Hotel_Address                               515738 non-null  object \n",
      " 1   Additional_Number_of_Scoring                515738 non-null  int64  \n",
      " 2   Review_Date                                 515738 non-null  object \n",
      " 3   Average_Score                               515738 non-null  float64\n",
      " 4   Hotel_Name                                  515738 non-null  object \n",
      " 5   Reviewer_Nationality                        515738 non-null  object \n",
      " 6   Negative_Review                             515738 non-null  object \n",
      " 7   Review_Total_Negative_Word_Counts           515738 non-null  int64  \n",
      " 8   Total_Number_of_Reviews                     515738 non-null  int64  \n",
      " 9   Positive_Review                             515738 non-null  object \n",
      " 10  Review_Total_Positive_Word_Counts           515738 non-null  int64  \n",
      " 11  Total_Number_of_Reviews_Reviewer_Has_Given  515738 non-null  int64  \n",
      " 12  Reviewer_Score                              515738 non-null  int64  \n",
      " 13  Tags                                        515738 non-null  object \n",
      " 14  days_since_review                           515738 non-null  object \n",
      " 15  lat                                         512470 non-null  float64\n",
      " 16  lng                                         512470 non-null  float64\n",
      "dtypes: float64(3), int64(6), object(8)\n",
      "memory usage: 66.9+ MB\n"
     ]
    }
   ],
   "source": [
    "odf.info()"
   ]
  },
  {
   "cell_type": "markdown",
   "id": "7a772ce3",
   "metadata": {},
   "source": [
    "**The numerical columns are:** Additional_Number_of_Scoring, Average_Score, Review_Total_Negative_Word_Counts, Total_Number_of_Reviews, Review_Total_Positive_Word_Counts, Total_Number_of_Reviews_Reviewer_Has_Given, Reviewer_Score, lat and lng."
   ]
  },
  {
   "cell_type": "markdown",
   "id": "bd83f3ee",
   "metadata": {},
   "source": [
    "9 our of 17 columns are numeric"
   ]
  },
  {
   "cell_type": "markdown",
   "id": "7441e7e0",
   "metadata": {},
   "source": [
    "**The non-numeric columns are:** Hotel_Address, Review_Date, Hotel_Name, Reviewer_Nationality, Negative_Review, Positive_Review, Tags and days_since_review."
   ]
  },
  {
   "cell_type": "markdown",
   "id": "1a00fd43",
   "metadata": {},
   "source": [
    "8 our of 17 columns are non-numeric"
   ]
  },
  {
   "cell_type": "markdown",
   "id": "f3993956",
   "metadata": {},
   "source": [
    "*Can you turn Hotel_Address to Numeric?*"
   ]
  },
  {
   "cell_type": "code",
   "execution_count": 307,
   "id": "5145fe3f",
   "metadata": {},
   "outputs": [
    {
     "data": {
      "text/plain": [
       "0       s Gravesandestraat 55 Oost 1092 AA Amsterdam ...\n",
       "250     s Gravesandestraat 55 Oost 1092 AA Amsterdam ...\n",
       "500    1 15 Templeton Place Earl s Court Kensington a...\n",
       "750    1 15 Templeton Place Earl s Court Kensington a...\n",
       "Name: Hotel_Address, dtype: object"
      ]
     },
     "execution_count": 307,
     "metadata": {},
     "output_type": "execute_result"
    }
   ],
   "source": [
    "odf['Hotel_Address'].iloc[0:1000:250]"
   ]
  },
  {
   "cell_type": "markdown",
   "id": "bf72f12c",
   "metadata": {},
   "source": [
    "Looking at four rows of the dataset, it looks like the address numbers aren't at a particular location. I don't think they would have any significance either. Now that I have a big picture of the numbers in each row, let's take a closer look at one row."
   ]
  },
  {
   "cell_type": "code",
   "execution_count": 308,
   "id": "d457391c",
   "metadata": {},
   "outputs": [
    {
     "data": {
      "text/plain": [
       "' s Gravesandestraat 55 Oost 1092 AA Amsterdam Netherlands'"
      ]
     },
     "execution_count": 308,
     "metadata": {},
     "output_type": "execute_result"
    }
   ],
   "source": [
    "odf['Hotel_Address'].iloc[0]"
   ]
  },
  {
   "cell_type": "markdown",
   "id": "1a65dca0",
   "metadata": {},
   "source": [
    "Interestingly, a single row sseems to show the city and country of the hotel. This can later be mapped to a number, or encoded in a sparse matrix solely based on country."
   ]
  },
  {
   "cell_type": "markdown",
   "id": "e5ff205f",
   "metadata": {},
   "source": [
    "*Can you turn Review Date to Numeric?*"
   ]
  },
  {
   "cell_type": "code",
   "execution_count": 309,
   "id": "73c0a89b",
   "metadata": {},
   "outputs": [
    {
     "data": {
      "text/plain": [
       "0     8/3/2017\n",
       "1     8/3/2017\n",
       "2    7/31/2017\n",
       "3    7/31/2017\n",
       "4    7/24/2017\n",
       "Name: Review_Date, dtype: object"
      ]
     },
     "execution_count": 309,
     "metadata": {},
     "output_type": "execute_result"
    }
   ],
   "source": [
    "odf['Review_Date'].head()"
   ]
  },
  {
   "cell_type": "markdown",
   "id": "2495872d",
   "metadata": {},
   "source": [
    "The values seem to be the month, day then year separated by the / delimiter. It looks prepared and ready to go to become a datetime object! So yes, it can be converted to a more numeric datatype."
   ]
  },
  {
   "cell_type": "markdown",
   "id": "9639eabc",
   "metadata": {},
   "source": [
    "*Can you turn Hotel Name column to Numeric?*"
   ]
  },
  {
   "cell_type": "code",
   "execution_count": 310,
   "id": "b7e0a176",
   "metadata": {},
   "outputs": [
    {
     "data": {
      "text/plain": [
       "Britannia International Hotel Canary Wharf           4789\n",
       "Strand Palace Hotel                                  4256\n",
       "Park Plaza Westminster Bridge London                 4169\n",
       "Copthorne Tara Hotel London Kensington               3578\n",
       "DoubleTree by Hilton Hotel London Tower of London    3212\n",
       "                                                     ... \n",
       "Ibis Styles Milano Palmanova                           12\n",
       "Hotel Eitlj rg                                         12\n",
       "Hotel Wagner                                           10\n",
       "Mercure Paris Porte d Orleans                          10\n",
       "Hotel Gallitzinberg                                     8\n",
       "Name: Hotel_Name, Length: 1492, dtype: int64"
      ]
     },
     "execution_count": 310,
     "metadata": {},
     "output_type": "execute_result"
    }
   ],
   "source": [
    "odf['Hotel_Name'].value_counts()"
   ]
  },
  {
   "cell_type": "markdown",
   "id": "f10268e3",
   "metadata": {},
   "source": [
    "Wow! It seems like there are 1492 different hotels, each with their different frequencies. This can be numeric if we make dummy variables out of it."
   ]
  },
  {
   "cell_type": "markdown",
   "id": "d8467a38",
   "metadata": {},
   "source": [
    "*Can you turn Reviewer_Nationality column to numeric?*"
   ]
  },
  {
   "cell_type": "code",
   "execution_count": 311,
   "id": "b08bab3c",
   "metadata": {},
   "outputs": [
    {
     "data": {
      "text/plain": [
       " United Kingdom               245246\n",
       " United States of America      35437\n",
       " Australia                     21686\n",
       " Ireland                       14827\n",
       " United Arab Emirates          10235\n",
       "                               ...  \n",
       " Cape Verde                        1\n",
       " Northern Mariana Islands          1\n",
       " Tuvalu                            1\n",
       " Guinea                            1\n",
       " Palau                             1\n",
       "Name: Reviewer_Nationality, Length: 227, dtype: int64"
      ]
     },
     "execution_count": 311,
     "metadata": {},
     "output_type": "execute_result"
    }
   ],
   "source": [
    "odf['Reviewer_Nationality'].value_counts()"
   ]
  },
  {
   "cell_type": "markdown",
   "id": "c827e674",
   "metadata": {},
   "source": [
    "Again, there are many nationalities (227). These can also be made into dummy variables to be numeric. If the company finds business value in label encoding in a particular way - for example looking at the inherent ordering of country wealth (GDP etc.) and ordering it this way. For example UK would have a higher ranking then Ireland for instance. However an interest in this has not been indicated, so it may not be useful."
   ]
  },
  {
   "cell_type": "markdown",
   "id": "6e0b197d",
   "metadata": {},
   "source": [
    "*Can you turn Negative Review and Positive Review column to numeric?*"
   ]
  },
  {
   "cell_type": "code",
   "execution_count": 312,
   "id": "7a7f4ec8",
   "metadata": {},
   "outputs": [
    {
     "name": "stdout",
     "output_type": "stream",
     "text": [
      "Positive Review: \n",
      " The location was excellent just as much as the helpful staff The girls at the breakfast buffet we really pretty and the breakfast itself was more than enough to start the day off with I am gonna book again for June sine I come to Vienna veey often \n",
      "\n",
      "Negative Review: \n",
      " Nvt\n"
     ]
    }
   ],
   "source": [
    "from random import randint\n",
    "print(f\"Positive Review: \\n{odf['Positive_Review'].iloc[randint(0,len(odf['Positive_Review']))]}\\n\")\n",
    "print(f\"Negative Review: \\n{odf['Negative_Review'].iloc[randint(0,len(odf['Negative_Review']))]}\")"
   ]
  },
  {
   "cell_type": "markdown",
   "id": "d19360e2",
   "metadata": {},
   "source": [
    "After looking at a random positive and negative review, I can see that they are entirely made of words! Words that have no particular pattern. So we may likely need to do One-Hot Encoding to make dummy variables out of words (the roots of those words and without filler words)."
   ]
  },
  {
   "cell_type": "markdown",
   "id": "fbd2d30a",
   "metadata": {},
   "source": [
    "*Can you turn Tags to Numeric?*"
   ]
  },
  {
   "cell_type": "code",
   "execution_count": 313,
   "id": "2da8618f",
   "metadata": {},
   "outputs": [
    {
     "data": {
      "text/plain": [
       "0    [' Leisure trip ', ' Couple ', ' Duplex Double...\n",
       "1    [' Leisure trip ', ' Couple ', ' Duplex Double...\n",
       "2    [' Leisure trip ', ' Family with young childre...\n",
       "3    [' Leisure trip ', ' Solo traveler ', ' Duplex...\n",
       "4    [' Leisure trip ', ' Couple ', ' Suite ', ' St...\n",
       "Name: Tags, dtype: object"
      ]
     },
     "execution_count": 313,
     "metadata": {},
     "output_type": "execute_result"
    }
   ],
   "source": [
    "odf['Tags'].head()"
   ]
  },
  {
   "cell_type": "markdown",
   "id": "c78dca43",
   "metadata": {},
   "source": [
    "Upon initial glance, it seems like the tags column is showing a bunch of supplementary information about a trip booked for a hotel. Now I want to see what the longest tag looks like, and what information it shows."
   ]
  },
  {
   "cell_type": "code",
   "execution_count": 314,
   "id": "6049ab62",
   "metadata": {},
   "outputs": [
    {
     "data": {
      "text/plain": [
       "\"[' Leisure trip ', ' Family with older children ', ' Double or Twin Room with Extra Bed 3 Adults with Free Airport Shuttle Service from 5 00am to 00 30am ', ' Stayed 4 nights ', ' Submitted from a mobile device ']\""
      ]
     },
     "execution_count": 314,
     "metadata": {},
     "output_type": "execute_result"
    }
   ],
   "source": [
    "#help with finding the longest list\n",
    "#https://stackoverflow.com/questions/69982648/how-to-find-the-longest-list-in-a-pandas-series\n",
    "max(odf.Tags, key=len)"
   ]
  },
  {
   "cell_type": "markdown",
   "id": "7ffd70da",
   "metadata": {},
   "source": [
    "It's showing the trip purpose, kind of group they're in, they kind of room they requested, length of stay and how the submitted the request. <br> It looks very variable. \" Double or Twin Room with Extra Bed 3 Adults with Free Airport Shuttle Service from 5 00am to 00 30am '\" is in the same position as \"Duplex Double Room \". The latter just talks about a room, while the former is talking about shuttle service and more. <br> Might not be worth making numerical because there's so much discrepancy. Unless the business specifically cares about the predictive value of room type for example to answer their business question, it may not be worth the time to split, hot label encode and do very complex analysis to see if what kind of people enter book the room. Remember, these are the tags for one particular booking for the hotel, for a particular review. We are not even sure which review these tags correspond to - the positive on, negative one, or one that hasn't been included in the dataset."
   ]
  },
  {
   "cell_type": "markdown",
   "id": "ba2cb073",
   "metadata": {},
   "source": [
    "*Can you turn days_since_review column into numeric?*"
   ]
  },
  {
   "cell_type": "code",
   "execution_count": 315,
   "id": "bf33ba1d",
   "metadata": {},
   "outputs": [
    {
     "data": {
      "text/plain": [
       "0          0 days\n",
       "1          0 days\n",
       "2          3 days\n",
       "3          3 days\n",
       "4         10 days\n",
       "           ...   \n",
       "515733    704 day\n",
       "515734    712 day\n",
       "515735    715 day\n",
       "515736    717 day\n",
       "515737    725 day\n",
       "Name: days_since_review, Length: 515738, dtype: object"
      ]
     },
     "execution_count": 315,
     "metadata": {},
     "output_type": "execute_result"
    }
   ],
   "source": [
    "odf['days_since_review']"
   ]
  },
  {
   "cell_type": "markdown",
   "id": "027f2889",
   "metadata": {},
   "source": [
    "This can be turned numeric simply by removing the word \"day\" or \"days\" at the end."
   ]
  },
  {
   "cell_type": "markdown",
   "id": "ba324565",
   "metadata": {},
   "source": [
    "# Data Wrangling"
   ]
  },
  {
   "cell_type": "markdown",
   "id": "e80f00e2",
   "metadata": {},
   "source": [
    "### Build the proper dataset separation (Optional but recommended: The dataset is actually too big to run quickly on most laptops. Feel free to sample ~10% of the data as your dataset from this point on. Make sure all classes are included in your subsample.)"
   ]
  },
  {
   "cell_type": "code",
   "execution_count": 316,
   "id": "c8dba2a9",
   "metadata": {},
   "outputs": [],
   "source": [
    "#making a copy of the original dataset just in case!\n",
    "df = odf.copy()"
   ]
  },
  {
   "cell_type": "markdown",
   "id": "cee0c091",
   "metadata": {},
   "source": [
    "I don't want my sample to have null values in the rows. So it makes sense to drop the null values at this point. First I will check to see if there are any null values, and see which columns they are in."
   ]
  },
  {
   "cell_type": "code",
   "execution_count": 317,
   "id": "df84b36d",
   "metadata": {},
   "outputs": [
    {
     "data": {
      "text/plain": [
       "Hotel_Address                                    0\n",
       "Additional_Number_of_Scoring                     0\n",
       "Review_Date                                      0\n",
       "Average_Score                                    0\n",
       "Hotel_Name                                       0\n",
       "Reviewer_Nationality                             0\n",
       "Negative_Review                                  0\n",
       "Review_Total_Negative_Word_Counts                0\n",
       "Total_Number_of_Reviews                          0\n",
       "Positive_Review                                  0\n",
       "Review_Total_Positive_Word_Counts                0\n",
       "Total_Number_of_Reviews_Reviewer_Has_Given       0\n",
       "Reviewer_Score                                   0\n",
       "Tags                                             0\n",
       "days_since_review                                0\n",
       "lat                                           3268\n",
       "lng                                           3268\n",
       "dtype: int64"
      ]
     },
     "execution_count": 317,
     "metadata": {},
     "output_type": "execute_result"
    }
   ],
   "source": [
    "df.isna().sum()"
   ]
  },
  {
   "cell_type": "code",
   "execution_count": 318,
   "id": "a77e4597",
   "metadata": {},
   "outputs": [
    {
     "name": "stdout",
     "output_type": "stream",
     "text": [
      "0.006336550729246245\n"
     ]
    }
   ],
   "source": [
    "print(3268 / len(df.index))\n",
    "#idea for taking len of the dataframe index to find number of rows: https://sparkbyexamples.com/pandas/pandas-get-number-of-rows-examples/#:~:text=Get%20Number%20of%20Rows%20in,()%20to%20get%20the%20count."
   ]
  },
  {
   "cell_type": "markdown",
   "id": "a84b9fa6",
   "metadata": {},
   "source": [
    "As can be observed, the rows will null values represent less than 1% of the data, assuming that latitude and longitude map perfectly with each other (a reasonable assumption since they usually come in pairs when plotting coordinates). So we can drop them without fear of losing too much integrity of our data."
   ]
  },
  {
   "cell_type": "code",
   "execution_count": 319,
   "id": "bdc5d5cb",
   "metadata": {},
   "outputs": [],
   "source": [
    "df = df.dropna()"
   ]
  },
  {
   "cell_type": "code",
   "execution_count": 320,
   "id": "685b59e8",
   "metadata": {},
   "outputs": [
    {
     "data": {
      "text/plain": [
       "Hotel_Address                                 0\n",
       "Additional_Number_of_Scoring                  0\n",
       "Review_Date                                   0\n",
       "Average_Score                                 0\n",
       "Hotel_Name                                    0\n",
       "Reviewer_Nationality                          0\n",
       "Negative_Review                               0\n",
       "Review_Total_Negative_Word_Counts             0\n",
       "Total_Number_of_Reviews                       0\n",
       "Positive_Review                               0\n",
       "Review_Total_Positive_Word_Counts             0\n",
       "Total_Number_of_Reviews_Reviewer_Has_Given    0\n",
       "Reviewer_Score                                0\n",
       "Tags                                          0\n",
       "days_since_review                             0\n",
       "lat                                           0\n",
       "lng                                           0\n",
       "dtype: int64"
      ]
     },
     "execution_count": 320,
     "metadata": {},
     "output_type": "execute_result"
    }
   ],
   "source": [
    "df.isna().sum()"
   ]
  },
  {
   "cell_type": "markdown",
   "id": "720a7b20",
   "metadata": {},
   "source": [
    "Now my sample will not have any nulls."
   ]
  },
  {
   "cell_type": "markdown",
   "id": "3a5226c3",
   "metadata": {},
   "source": [
    "Now I want to make sure that I take a sample that has all the classes, all scores from 2-10. I could simply take a random sample from the data and extract around 10%, and then make sure I have at least one occurence of 2,3,4,5,6,7,8,9 or 10 in them after. "
   ]
  },
  {
   "cell_type": "markdown",
   "id": "c0887739",
   "metadata": {},
   "source": [
    "Instead of that approach, I will try to take care of the problem mentioned earlier - an uneven distribution of the classes, making the dataset imbalanced. Hence, when I take a sample I will also try to get a balanced dataset. <br> I could remove samples with a higher review score, however I would lose more rows and valuable data. Contrastingly, if I oversample I would be duplicating so many rows of data it would take up so much space. So I will try a third approach outlined in this article: https://www.kaggle.com/code/rafjaa/resampling-strategies-for-imbalanced-datasets/notebook#t1"
   ]
  },
  {
   "cell_type": "markdown",
   "id": "6b4ae9fb",
   "metadata": {},
   "source": [
    "\"[...] we can cluster the records of the majority class, and do the under-sampling by removing records from each cluster, thus seeking to preserve information. In over-sampling, instead of creating exact copies of the minority class records, we can introduce small variations into those copies, creating more diverse synthetic samples.\""
   ]
  },
  {
   "cell_type": "code",
   "execution_count": 321,
   "id": "f5874737",
   "metadata": {},
   "outputs": [],
   "source": [
    "#differentiating independent and dependent variable\n",
    "X = df.drop(columns='Reviewer_Score')\n",
    "y = df['Reviewer_Score']"
   ]
  },
  {
   "cell_type": "code",
   "execution_count": 322,
   "id": "6a700eae",
   "metadata": {},
   "outputs": [
    {
     "data": {
      "text/plain": [
       "(512470, 16)"
      ]
     },
     "execution_count": 322,
     "metadata": {},
     "output_type": "execute_result"
    }
   ],
   "source": [
    "X.shape"
   ]
  },
  {
   "cell_type": "code",
   "execution_count": 323,
   "id": "e6aecfba",
   "metadata": {},
   "outputs": [
    {
     "name": "stdout",
     "output_type": "stream",
     "text": [
      "Making a note that before sampling, the data has 512470 rows.\n"
     ]
    }
   ],
   "source": [
    "print(f\"Making a note that before sampling, the data has {X.shape[0]} rows.\")"
   ]
  },
  {
   "cell_type": "markdown",
   "id": "e0242e10",
   "metadata": {},
   "source": [
    "The below code for sampling as adopted from previously mentioned article: https://www.kaggle.com/code/rafjaa/resampling-strategies-for-imbalanced-datasets/notebook#t1 . The article has code with old documentation, that has been updated in this notebook so it can be practically used."
   ]
  },
  {
   "cell_type": "code",
   "execution_count": 324,
   "id": "5f196fde",
   "metadata": {},
   "outputs": [
    {
     "name": "stdout",
     "output_type": "stream",
     "text": [
      "Requirement already satisfied: imblearn in c:\\users\\jsmba\\anaconda3\\lib\\site-packages (0.0)\n",
      "Requirement already satisfied: imbalanced-learn in c:\\users\\jsmba\\anaconda3\\lib\\site-packages (from imblearn) (0.9.1)\n",
      "Requirement already satisfied: scikit-learn>=1.1.0 in c:\\users\\jsmba\\anaconda3\\lib\\site-packages (from imbalanced-learn->imblearn) (1.1.1)\n",
      "Requirement already satisfied: scipy>=1.3.2 in c:\\users\\jsmba\\anaconda3\\lib\\site-packages (from imbalanced-learn->imblearn) (1.7.1)\n",
      "Requirement already satisfied: threadpoolctl>=2.0.0 in c:\\users\\jsmba\\anaconda3\\lib\\site-packages (from imbalanced-learn->imblearn) (2.2.0)\n",
      "Requirement already satisfied: numpy>=1.17.3 in c:\\users\\jsmba\\anaconda3\\lib\\site-packages (from imbalanced-learn->imblearn) (1.20.3)\n",
      "Requirement already satisfied: joblib>=1.0.0 in c:\\users\\jsmba\\anaconda3\\lib\\site-packages (from imbalanced-learn->imblearn) (1.1.0)\n"
     ]
    }
   ],
   "source": [
    "!pip install imblearn\n",
    "#debugged solution from here: https://stackoverflow.com/questions/47606873/jupyter-no-module-named-imblearn-after-installation"
   ]
  },
  {
   "cell_type": "code",
   "execution_count": 325,
   "id": "611c3260",
   "metadata": {},
   "outputs": [],
   "source": [
    "import imblearn"
   ]
  },
  {
   "cell_type": "code",
   "execution_count": 326,
   "id": "92d129b4",
   "metadata": {},
   "outputs": [],
   "source": [
    "from imblearn.under_sampling import RandomUnderSampler\n",
    "\n",
    "rus = RandomUnderSampler(random_state=42)\n",
    "X_res, y_res = rus.fit_resample(X,y)"
   ]
  },
  {
   "cell_type": "code",
   "execution_count": 327,
   "id": "c27b0758",
   "metadata": {},
   "outputs": [
    {
     "data": {
      "text/plain": [
       "(19665, 16)"
      ]
     },
     "execution_count": 327,
     "metadata": {},
     "output_type": "execute_result"
    }
   ],
   "source": [
    "X_res.shape"
   ]
  },
  {
   "cell_type": "markdown",
   "id": "97078c39",
   "metadata": {},
   "source": [
    "Right now we undersampled the data. Not randomly, but my removing rows from each cluster appropriately to preserve the maximum about of information."
   ]
  },
  {
   "cell_type": "markdown",
   "id": "d2cf77ac",
   "metadata": {},
   "source": [
    "Making an observation after undersampling:"
   ]
  },
  {
   "cell_type": "code",
   "execution_count": 328,
   "id": "c7330f72",
   "metadata": {},
   "outputs": [
    {
     "name": "stdout",
     "output_type": "stream",
     "text": [
      "Before sampling, there were 512470 rows. Now there are 19665 rows. This is a sign that we have successfull sampled! It also means that 492805 rows have been removed. We now have 3.837297793041544 of the data left.\n"
     ]
    }
   ],
   "source": [
    "print(f\"Before sampling, there were {X.shape[0]} rows. Now there are {X_res.shape[0]} rows. This is a sign that we have successfull sampled! It also means that {X.shape[0] - X_res.shape[0]} rows have been removed. We now have {(X_res.shape[0]/X.shape[0])*100} of the data left.\")"
   ]
  },
  {
   "cell_type": "markdown",
   "id": "2ef0a42d",
   "metadata": {},
   "source": [
    "I was hoping to have around 10% of my data as a sample! It's a cost benefit situation here. Because such a sophisticated way of sampleing was used, I'm okay with having nearly 4% of the data. If I had done random sampling, it would have been more important to have at least 10% of the data in the sample to maintain integrity and have good balance.<br> With the model I used, it resampled based on  undersampling those classes which are 'not minority'. If I wanted to I could increase the size of data returned by only balancing the majority class - a review score of 10. However, because the data is so incredibly imbalanced and skewed towers review scores over 5 in general, I'm okay with undersampling the 'not minority'.<br>Overall, because a very sophisticated technique was used to narrow the data down, I'm okay with having a smaller number in the sample here."
   ]
  },
  {
   "cell_type": "markdown",
   "id": "9657a155",
   "metadata": {},
   "source": [
    "Now I will try to see if the data needs any oversampling"
   ]
  },
  {
   "cell_type": "code",
   "execution_count": 329,
   "id": "399882cb",
   "metadata": {
    "scrolled": true
   },
   "outputs": [],
   "source": [
    "from imblearn.over_sampling import RandomOverSampler\n",
    "\n",
    "ros = RandomOverSampler(random_state=42)\n",
    "X_ros, y_ros = ros.fit_resample(X_res, y_res)"
   ]
  },
  {
   "cell_type": "code",
   "execution_count": 330,
   "id": "914bd005",
   "metadata": {},
   "outputs": [
    {
     "name": "stdout",
     "output_type": "stream",
     "text": [
      "-492805 new random picked points\n"
     ]
    }
   ],
   "source": [
    "print(X_ros.shape[0] - X.shape[0], 'new random picked points')"
   ]
  },
  {
   "cell_type": "markdown",
   "id": "7e4f0ae9",
   "metadata": {},
   "source": [
    "Here we can see it looks like oversampling was not required and our data is already quite balanced"
   ]
  },
  {
   "cell_type": "code",
   "execution_count": 331,
   "id": "7db65a1b",
   "metadata": {},
   "outputs": [
    {
     "data": {
      "text/plain": [
       "array([    0,     1,     2, ..., 19662, 19663, 19664], dtype=int64)"
      ]
     },
     "execution_count": 331,
     "metadata": {},
     "output_type": "execute_result"
    }
   ],
   "source": [
    "ros.sample_indices_"
   ]
  },
  {
   "cell_type": "code",
   "execution_count": 332,
   "id": "a3c10648",
   "metadata": {},
   "outputs": [
    {
     "data": {
      "text/plain": [
       "(19665, 16)"
      ]
     },
     "execution_count": 332,
     "metadata": {},
     "output_type": "execute_result"
    }
   ],
   "source": [
    "X_ros.shape"
   ]
  },
  {
   "cell_type": "markdown",
   "id": "db06991c",
   "metadata": {},
   "source": [
    "Now I can see that even though I tried oversampling the less frequent classes, the shape of the data is still the same as before when I underfitted. Now I will take these sample data points and make a new data frame out of them."
   ]
  },
  {
   "cell_type": "code",
   "execution_count": 333,
   "id": "273f0ad8",
   "metadata": {},
   "outputs": [],
   "source": [
    "new_df = df.iloc[ros.sample_indices_]"
   ]
  },
  {
   "cell_type": "code",
   "execution_count": 334,
   "id": "9ed9fdf6",
   "metadata": {},
   "outputs": [],
   "source": [
    "rdf = new_df.copy()"
   ]
  },
  {
   "cell_type": "code",
   "execution_count": 335,
   "id": "0bb5b2fd",
   "metadata": {},
   "outputs": [
    {
     "data": {
      "text/html": [
       "<div>\n",
       "<style scoped>\n",
       "    .dataframe tbody tr th:only-of-type {\n",
       "        vertical-align: middle;\n",
       "    }\n",
       "\n",
       "    .dataframe tbody tr th {\n",
       "        vertical-align: top;\n",
       "    }\n",
       "\n",
       "    .dataframe thead th {\n",
       "        text-align: right;\n",
       "    }\n",
       "</style>\n",
       "<table border=\"1\" class=\"dataframe\">\n",
       "  <thead>\n",
       "    <tr style=\"text-align: right;\">\n",
       "      <th></th>\n",
       "      <th>Hotel_Address</th>\n",
       "      <th>Additional_Number_of_Scoring</th>\n",
       "      <th>Review_Date</th>\n",
       "      <th>Average_Score</th>\n",
       "      <th>Hotel_Name</th>\n",
       "      <th>Reviewer_Nationality</th>\n",
       "      <th>Negative_Review</th>\n",
       "      <th>Review_Total_Negative_Word_Counts</th>\n",
       "      <th>Total_Number_of_Reviews</th>\n",
       "      <th>Positive_Review</th>\n",
       "      <th>Review_Total_Positive_Word_Counts</th>\n",
       "      <th>Total_Number_of_Reviews_Reviewer_Has_Given</th>\n",
       "      <th>Reviewer_Score</th>\n",
       "      <th>Tags</th>\n",
       "      <th>days_since_review</th>\n",
       "      <th>lat</th>\n",
       "      <th>lng</th>\n",
       "    </tr>\n",
       "  </thead>\n",
       "  <tbody>\n",
       "    <tr>\n",
       "      <th>0</th>\n",
       "      <td>s Gravesandestraat 55 Oost 1092 AA Amsterdam ...</td>\n",
       "      <td>194</td>\n",
       "      <td>8/3/2017</td>\n",
       "      <td>7.7</td>\n",
       "      <td>Hotel Arena</td>\n",
       "      <td>Russia</td>\n",
       "      <td>I am so angry that i made this post available...</td>\n",
       "      <td>397</td>\n",
       "      <td>1403</td>\n",
       "      <td>Only the park outside of the hotel was beauti...</td>\n",
       "      <td>11</td>\n",
       "      <td>7</td>\n",
       "      <td>3</td>\n",
       "      <td>[' Leisure trip ', ' Couple ', ' Duplex Double...</td>\n",
       "      <td>0 days</td>\n",
       "      <td>52.360576</td>\n",
       "      <td>4.915968</td>\n",
       "    </tr>\n",
       "    <tr>\n",
       "      <th>1</th>\n",
       "      <td>s Gravesandestraat 55 Oost 1092 AA Amsterdam ...</td>\n",
       "      <td>194</td>\n",
       "      <td>8/3/2017</td>\n",
       "      <td>7.7</td>\n",
       "      <td>Hotel Arena</td>\n",
       "      <td>Ireland</td>\n",
       "      <td>No Negative</td>\n",
       "      <td>0</td>\n",
       "      <td>1403</td>\n",
       "      <td>No real complaints the hotel was great great ...</td>\n",
       "      <td>105</td>\n",
       "      <td>7</td>\n",
       "      <td>8</td>\n",
       "      <td>[' Leisure trip ', ' Couple ', ' Duplex Double...</td>\n",
       "      <td>0 days</td>\n",
       "      <td>52.360576</td>\n",
       "      <td>4.915968</td>\n",
       "    </tr>\n",
       "    <tr>\n",
       "      <th>2</th>\n",
       "      <td>s Gravesandestraat 55 Oost 1092 AA Amsterdam ...</td>\n",
       "      <td>194</td>\n",
       "      <td>7/31/2017</td>\n",
       "      <td>7.7</td>\n",
       "      <td>Hotel Arena</td>\n",
       "      <td>Australia</td>\n",
       "      <td>Rooms are nice but for elderly a bit difficul...</td>\n",
       "      <td>42</td>\n",
       "      <td>1403</td>\n",
       "      <td>Location was good and staff were ok It is cut...</td>\n",
       "      <td>21</td>\n",
       "      <td>9</td>\n",
       "      <td>7</td>\n",
       "      <td>[' Leisure trip ', ' Family with young childre...</td>\n",
       "      <td>3 days</td>\n",
       "      <td>52.360576</td>\n",
       "      <td>4.915968</td>\n",
       "    </tr>\n",
       "    <tr>\n",
       "      <th>3</th>\n",
       "      <td>s Gravesandestraat 55 Oost 1092 AA Amsterdam ...</td>\n",
       "      <td>194</td>\n",
       "      <td>7/31/2017</td>\n",
       "      <td>7.7</td>\n",
       "      <td>Hotel Arena</td>\n",
       "      <td>United Kingdom</td>\n",
       "      <td>My room was dirty and I was afraid to walk ba...</td>\n",
       "      <td>210</td>\n",
       "      <td>1403</td>\n",
       "      <td>Great location in nice surroundings the bar a...</td>\n",
       "      <td>26</td>\n",
       "      <td>1</td>\n",
       "      <td>4</td>\n",
       "      <td>[' Leisure trip ', ' Solo traveler ', ' Duplex...</td>\n",
       "      <td>3 days</td>\n",
       "      <td>52.360576</td>\n",
       "      <td>4.915968</td>\n",
       "    </tr>\n",
       "    <tr>\n",
       "      <th>4</th>\n",
       "      <td>s Gravesandestraat 55 Oost 1092 AA Amsterdam ...</td>\n",
       "      <td>194</td>\n",
       "      <td>7/24/2017</td>\n",
       "      <td>7.7</td>\n",
       "      <td>Hotel Arena</td>\n",
       "      <td>New Zealand</td>\n",
       "      <td>You When I booked with your company on line y...</td>\n",
       "      <td>140</td>\n",
       "      <td>1403</td>\n",
       "      <td>Amazing location and building Romantic setting</td>\n",
       "      <td>8</td>\n",
       "      <td>3</td>\n",
       "      <td>7</td>\n",
       "      <td>[' Leisure trip ', ' Couple ', ' Suite ', ' St...</td>\n",
       "      <td>10 days</td>\n",
       "      <td>52.360576</td>\n",
       "      <td>4.915968</td>\n",
       "    </tr>\n",
       "  </tbody>\n",
       "</table>\n",
       "</div>"
      ],
      "text/plain": [
       "                                       Hotel_Address  \\\n",
       "0   s Gravesandestraat 55 Oost 1092 AA Amsterdam ...   \n",
       "1   s Gravesandestraat 55 Oost 1092 AA Amsterdam ...   \n",
       "2   s Gravesandestraat 55 Oost 1092 AA Amsterdam ...   \n",
       "3   s Gravesandestraat 55 Oost 1092 AA Amsterdam ...   \n",
       "4   s Gravesandestraat 55 Oost 1092 AA Amsterdam ...   \n",
       "\n",
       "   Additional_Number_of_Scoring Review_Date  Average_Score   Hotel_Name  \\\n",
       "0                           194    8/3/2017            7.7  Hotel Arena   \n",
       "1                           194    8/3/2017            7.7  Hotel Arena   \n",
       "2                           194   7/31/2017            7.7  Hotel Arena   \n",
       "3                           194   7/31/2017            7.7  Hotel Arena   \n",
       "4                           194   7/24/2017            7.7  Hotel Arena   \n",
       "\n",
       "  Reviewer_Nationality                                    Negative_Review  \\\n",
       "0              Russia    I am so angry that i made this post available...   \n",
       "1             Ireland                                         No Negative   \n",
       "2           Australia    Rooms are nice but for elderly a bit difficul...   \n",
       "3      United Kingdom    My room was dirty and I was afraid to walk ba...   \n",
       "4         New Zealand    You When I booked with your company on line y...   \n",
       "\n",
       "   Review_Total_Negative_Word_Counts  Total_Number_of_Reviews  \\\n",
       "0                                397                     1403   \n",
       "1                                  0                     1403   \n",
       "2                                 42                     1403   \n",
       "3                                210                     1403   \n",
       "4                                140                     1403   \n",
       "\n",
       "                                     Positive_Review  \\\n",
       "0   Only the park outside of the hotel was beauti...   \n",
       "1   No real complaints the hotel was great great ...   \n",
       "2   Location was good and staff were ok It is cut...   \n",
       "3   Great location in nice surroundings the bar a...   \n",
       "4    Amazing location and building Romantic setting    \n",
       "\n",
       "   Review_Total_Positive_Word_Counts  \\\n",
       "0                                 11   \n",
       "1                                105   \n",
       "2                                 21   \n",
       "3                                 26   \n",
       "4                                  8   \n",
       "\n",
       "   Total_Number_of_Reviews_Reviewer_Has_Given  Reviewer_Score  \\\n",
       "0                                           7               3   \n",
       "1                                           7               8   \n",
       "2                                           9               7   \n",
       "3                                           1               4   \n",
       "4                                           3               7   \n",
       "\n",
       "                                                Tags days_since_review  \\\n",
       "0  [' Leisure trip ', ' Couple ', ' Duplex Double...            0 days   \n",
       "1  [' Leisure trip ', ' Couple ', ' Duplex Double...            0 days   \n",
       "2  [' Leisure trip ', ' Family with young childre...            3 days   \n",
       "3  [' Leisure trip ', ' Solo traveler ', ' Duplex...            3 days   \n",
       "4  [' Leisure trip ', ' Couple ', ' Suite ', ' St...           10 days   \n",
       "\n",
       "         lat       lng  \n",
       "0  52.360576  4.915968  \n",
       "1  52.360576  4.915968  \n",
       "2  52.360576  4.915968  \n",
       "3  52.360576  4.915968  \n",
       "4  52.360576  4.915968  "
      ]
     },
     "execution_count": 335,
     "metadata": {},
     "output_type": "execute_result"
    }
   ],
   "source": [
    "rdf.head()"
   ]
  },
  {
   "cell_type": "code",
   "execution_count": 336,
   "id": "431fd9c7",
   "metadata": {},
   "outputs": [
    {
     "data": {
      "text/plain": [
       "Index(['Hotel_Address', 'Additional_Number_of_Scoring', 'Review_Date',\n",
       "       'Average_Score', 'Hotel_Name', 'Reviewer_Nationality',\n",
       "       'Negative_Review', 'Review_Total_Negative_Word_Counts',\n",
       "       'Total_Number_of_Reviews', 'Positive_Review',\n",
       "       'Review_Total_Positive_Word_Counts',\n",
       "       'Total_Number_of_Reviews_Reviewer_Has_Given', 'Reviewer_Score', 'Tags',\n",
       "       'days_since_review', 'lat', 'lng'],\n",
       "      dtype='object')"
      ]
     },
     "execution_count": 336,
     "metadata": {},
     "output_type": "execute_result"
    }
   ],
   "source": [
    "rdf.columns"
   ]
  },
  {
   "cell_type": "markdown",
   "id": "01e0ebce",
   "metadata": {},
   "source": [
    "Overall now we have a sample dataset with all the classes evenly balanced! We have way less values though than our original set, so we'll need to keep that in mind when making extrapolations and inferenced. Now it will be easier to process calculations on this sample."
   ]
  },
  {
   "cell_type": "markdown",
   "id": "14e81b9e",
   "metadata": {},
   "source": [
    "### Convert the Reviewer_Score column into a binary column in the following way. Reviews that are below 9 should be encoded as 0 ('not good') and reviews with scores 9 and 10 as 1 ('good')."
   ]
  },
  {
   "cell_type": "code",
   "execution_count": 337,
   "id": "46289d56",
   "metadata": {},
   "outputs": [],
   "source": [
    "#using np.where method to binarize the column\n",
    "rdf['Reviewer_Score'] = np.where(rdf['Reviewer_Score'] > 8, 1, 0)"
   ]
  },
  {
   "cell_type": "code",
   "execution_count": 338,
   "id": "2f058ffd",
   "metadata": {},
   "outputs": [
    {
     "data": {
      "text/plain": [
       "1    11189\n",
       "0     8476\n",
       "Name: Reviewer_Score, dtype: int64"
      ]
     },
     "execution_count": 338,
     "metadata": {},
     "output_type": "execute_result"
    }
   ],
   "source": [
    "rdf['Reviewer_Score'].value_counts()\n",
    "#where 1 means good and 0 means not good"
   ]
  },
  {
   "cell_type": "markdown",
   "id": "fcced99e",
   "metadata": {},
   "source": [
    "We see 1s and 0s! This is a good sign that the column has been binarized."
   ]
  },
  {
   "cell_type": "markdown",
   "id": "bdc3292c",
   "metadata": {},
   "source": [
    "A quick check of the columns we have so far in the dataset."
   ]
  },
  {
   "cell_type": "code",
   "execution_count": 339,
   "id": "e380426f",
   "metadata": {},
   "outputs": [
    {
     "name": "stdout",
     "output_type": "stream",
     "text": [
      "<class 'pandas.core.frame.DataFrame'>\n",
      "Int64Index: 19665 entries, 0 to 19664\n",
      "Data columns (total 17 columns):\n",
      " #   Column                                      Non-Null Count  Dtype  \n",
      "---  ------                                      --------------  -----  \n",
      " 0   Hotel_Address                               19665 non-null  object \n",
      " 1   Additional_Number_of_Scoring                19665 non-null  int64  \n",
      " 2   Review_Date                                 19665 non-null  object \n",
      " 3   Average_Score                               19665 non-null  float64\n",
      " 4   Hotel_Name                                  19665 non-null  object \n",
      " 5   Reviewer_Nationality                        19665 non-null  object \n",
      " 6   Negative_Review                             19665 non-null  object \n",
      " 7   Review_Total_Negative_Word_Counts           19665 non-null  int64  \n",
      " 8   Total_Number_of_Reviews                     19665 non-null  int64  \n",
      " 9   Positive_Review                             19665 non-null  object \n",
      " 10  Review_Total_Positive_Word_Counts           19665 non-null  int64  \n",
      " 11  Total_Number_of_Reviews_Reviewer_Has_Given  19665 non-null  int64  \n",
      " 12  Reviewer_Score                              19665 non-null  int32  \n",
      " 13  Tags                                        19665 non-null  object \n",
      " 14  days_since_review                           19665 non-null  object \n",
      " 15  lat                                         19665 non-null  float64\n",
      " 16  lng                                         19665 non-null  float64\n",
      "dtypes: float64(3), int32(1), int64(5), object(8)\n",
      "memory usage: 2.6+ MB\n"
     ]
    }
   ],
   "source": [
    "rdf.info()"
   ]
  },
  {
   "cell_type": "markdown",
   "id": "a4eb8210",
   "metadata": {},
   "source": [
    "### Convert the columns you identified in question 2 into numeric columns, and drop all non-numeric columns except Positive_Review and Negative_Review."
   ]
  },
  {
   "cell_type": "markdown",
   "id": "a8a6f1d7",
   "metadata": {},
   "source": [
    "#### Converting the [Review_Date] Column"
   ]
  },
  {
   "cell_type": "markdown",
   "id": "a39a5f0e",
   "metadata": {},
   "source": [
    "Using Datetime function to convert the column to numerical"
   ]
  },
  {
   "cell_type": "code",
   "execution_count": 340,
   "id": "be3831c6",
   "metadata": {},
   "outputs": [],
   "source": [
    "rdf['Review_Date'] = pd.to_datetime(rdf['Review_Date'])"
   ]
  },
  {
   "cell_type": "markdown",
   "id": "91240cb2",
   "metadata": {},
   "source": [
    "Confirming the numerical datatype of review date"
   ]
  },
  {
   "cell_type": "code",
   "execution_count": 341,
   "id": "3b14061f",
   "metadata": {},
   "outputs": [
    {
     "data": {
      "text/plain": [
       "dtype('<M8[ns]')"
      ]
     },
     "execution_count": 341,
     "metadata": {},
     "output_type": "execute_result"
    }
   ],
   "source": [
    "rdf['Review_Date'].dtype"
   ]
  },
  {
   "cell_type": "code",
   "execution_count": 70,
   "id": "13391987",
   "metadata": {},
   "outputs": [
    {
     "name": "stdout",
     "output_type": "stream",
     "text": [
      "<class 'pandas.core.frame.DataFrame'>\n",
      "Int64Index: 19665 entries, 0 to 19664\n",
      "Data columns (total 17 columns):\n",
      " #   Column                                      Non-Null Count  Dtype         \n",
      "---  ------                                      --------------  -----         \n",
      " 0   Hotel_Address                               19665 non-null  object        \n",
      " 1   Additional_Number_of_Scoring                19665 non-null  int64         \n",
      " 2   Review_Date                                 19665 non-null  datetime64[ns]\n",
      " 3   Average_Score                               19665 non-null  float64       \n",
      " 4   Hotel_Name                                  19665 non-null  object        \n",
      " 5   Reviewer_Nationality                        19665 non-null  object        \n",
      " 6   Negative_Review                             19665 non-null  object        \n",
      " 7   Review_Total_Negative_Word_Counts           19665 non-null  int64         \n",
      " 8   Total_Number_of_Reviews                     19665 non-null  int64         \n",
      " 9   Positive_Review                             19665 non-null  object        \n",
      " 10  Review_Total_Positive_Word_Counts           19665 non-null  int64         \n",
      " 11  Total_Number_of_Reviews_Reviewer_Has_Given  19665 non-null  int64         \n",
      " 12  Reviewer_Score                              19665 non-null  int32         \n",
      " 13  Tags                                        19665 non-null  object        \n",
      " 14  days_since_review                           19665 non-null  object        \n",
      " 15  lat                                         19665 non-null  float64       \n",
      " 16  lng                                         19665 non-null  float64       \n",
      "dtypes: datetime64[ns](1), float64(3), int32(1), int64(5), object(7)\n",
      "memory usage: 2.6+ MB\n"
     ]
    }
   ],
   "source": [
    "rdf.info()"
   ]
  },
  {
   "cell_type": "code",
   "execution_count": 345,
   "id": "1442474c",
   "metadata": {},
   "outputs": [
    {
     "data": {
      "text/plain": [
       "(19665, 17)"
      ]
     },
     "execution_count": 345,
     "metadata": {},
     "output_type": "execute_result"
    }
   ],
   "source": [
    "rdf.shape"
   ]
  },
  {
   "cell_type": "markdown",
   "id": "35d97ff3",
   "metadata": {},
   "source": [
    "Above code successfully confirmed datetime column is now numerical!"
   ]
  },
  {
   "cell_type": "markdown",
   "id": "11644784",
   "metadata": {},
   "source": [
    "Dropping duplicates in the sample before more analysis"
   ]
  },
  {
   "cell_type": "code",
   "execution_count": 346,
   "id": "c6e6f6f1",
   "metadata": {},
   "outputs": [],
   "source": [
    "rdf.drop_duplicates(inplace=True)\n",
    "#how to use this method https://www.geeksforgeeks.org/python-pandas-dataframe-drop_duplicates/"
   ]
  },
  {
   "cell_type": "code",
   "execution_count": 347,
   "id": "261d42f3",
   "metadata": {},
   "outputs": [
    {
     "data": {
      "text/plain": [
       "(19665, 17)"
      ]
     },
     "execution_count": 347,
     "metadata": {},
     "output_type": "execute_result"
    }
   ],
   "source": [
    "rdf.shape"
   ]
  },
  {
   "cell_type": "markdown",
   "id": "b5437ab2",
   "metadata": {},
   "source": [
    "The shape of the data  has changed insignificantly by dropping duplicates. There are still 19665 rows in our sample after doing the drop_duplicates operation. There were no duplicated in our sample"
   ]
  },
  {
   "cell_type": "markdown",
   "id": "2ae8d5ba",
   "metadata": {},
   "source": [
    "#### Converting the [Hotel_Address] and [Hotel_Name] Column"
   ]
  },
  {
   "cell_type": "code",
   "execution_count": 348,
   "id": "36ccf92b",
   "metadata": {},
   "outputs": [
    {
     "data": {
      "text/html": [
       "<div>\n",
       "<style scoped>\n",
       "    .dataframe tbody tr th:only-of-type {\n",
       "        vertical-align: middle;\n",
       "    }\n",
       "\n",
       "    .dataframe tbody tr th {\n",
       "        vertical-align: top;\n",
       "    }\n",
       "\n",
       "    .dataframe thead th {\n",
       "        text-align: right;\n",
       "    }\n",
       "</style>\n",
       "<table border=\"1\" class=\"dataframe\">\n",
       "  <thead>\n",
       "    <tr style=\"text-align: right;\">\n",
       "      <th></th>\n",
       "      <th>Hotel_Address</th>\n",
       "      <th>Additional_Number_of_Scoring</th>\n",
       "      <th>Review_Date</th>\n",
       "      <th>Average_Score</th>\n",
       "      <th>Hotel_Name</th>\n",
       "      <th>Reviewer_Nationality</th>\n",
       "      <th>Negative_Review</th>\n",
       "      <th>Review_Total_Negative_Word_Counts</th>\n",
       "      <th>Total_Number_of_Reviews</th>\n",
       "      <th>Positive_Review</th>\n",
       "      <th>Review_Total_Positive_Word_Counts</th>\n",
       "      <th>Total_Number_of_Reviews_Reviewer_Has_Given</th>\n",
       "      <th>Reviewer_Score</th>\n",
       "      <th>Tags</th>\n",
       "      <th>days_since_review</th>\n",
       "      <th>lat</th>\n",
       "      <th>lng</th>\n",
       "    </tr>\n",
       "  </thead>\n",
       "  <tbody>\n",
       "    <tr>\n",
       "      <th>0</th>\n",
       "      <td>s Gravesandestraat 55 Oost 1092 AA Amsterdam ...</td>\n",
       "      <td>194</td>\n",
       "      <td>2017-08-03</td>\n",
       "      <td>7.7</td>\n",
       "      <td>Hotel Arena</td>\n",
       "      <td>Russia</td>\n",
       "      <td>I am so angry that i made this post available...</td>\n",
       "      <td>397</td>\n",
       "      <td>1403</td>\n",
       "      <td>Only the park outside of the hotel was beauti...</td>\n",
       "      <td>11</td>\n",
       "      <td>7</td>\n",
       "      <td>0</td>\n",
       "      <td>[' Leisure trip ', ' Couple ', ' Duplex Double...</td>\n",
       "      <td>0 days</td>\n",
       "      <td>52.360576</td>\n",
       "      <td>4.915968</td>\n",
       "    </tr>\n",
       "    <tr>\n",
       "      <th>1</th>\n",
       "      <td>s Gravesandestraat 55 Oost 1092 AA Amsterdam ...</td>\n",
       "      <td>194</td>\n",
       "      <td>2017-08-03</td>\n",
       "      <td>7.7</td>\n",
       "      <td>Hotel Arena</td>\n",
       "      <td>Ireland</td>\n",
       "      <td>No Negative</td>\n",
       "      <td>0</td>\n",
       "      <td>1403</td>\n",
       "      <td>No real complaints the hotel was great great ...</td>\n",
       "      <td>105</td>\n",
       "      <td>7</td>\n",
       "      <td>0</td>\n",
       "      <td>[' Leisure trip ', ' Couple ', ' Duplex Double...</td>\n",
       "      <td>0 days</td>\n",
       "      <td>52.360576</td>\n",
       "      <td>4.915968</td>\n",
       "    </tr>\n",
       "    <tr>\n",
       "      <th>2</th>\n",
       "      <td>s Gravesandestraat 55 Oost 1092 AA Amsterdam ...</td>\n",
       "      <td>194</td>\n",
       "      <td>2017-07-31</td>\n",
       "      <td>7.7</td>\n",
       "      <td>Hotel Arena</td>\n",
       "      <td>Australia</td>\n",
       "      <td>Rooms are nice but for elderly a bit difficul...</td>\n",
       "      <td>42</td>\n",
       "      <td>1403</td>\n",
       "      <td>Location was good and staff were ok It is cut...</td>\n",
       "      <td>21</td>\n",
       "      <td>9</td>\n",
       "      <td>0</td>\n",
       "      <td>[' Leisure trip ', ' Family with young childre...</td>\n",
       "      <td>3 days</td>\n",
       "      <td>52.360576</td>\n",
       "      <td>4.915968</td>\n",
       "    </tr>\n",
       "    <tr>\n",
       "      <th>3</th>\n",
       "      <td>s Gravesandestraat 55 Oost 1092 AA Amsterdam ...</td>\n",
       "      <td>194</td>\n",
       "      <td>2017-07-31</td>\n",
       "      <td>7.7</td>\n",
       "      <td>Hotel Arena</td>\n",
       "      <td>United Kingdom</td>\n",
       "      <td>My room was dirty and I was afraid to walk ba...</td>\n",
       "      <td>210</td>\n",
       "      <td>1403</td>\n",
       "      <td>Great location in nice surroundings the bar a...</td>\n",
       "      <td>26</td>\n",
       "      <td>1</td>\n",
       "      <td>0</td>\n",
       "      <td>[' Leisure trip ', ' Solo traveler ', ' Duplex...</td>\n",
       "      <td>3 days</td>\n",
       "      <td>52.360576</td>\n",
       "      <td>4.915968</td>\n",
       "    </tr>\n",
       "    <tr>\n",
       "      <th>4</th>\n",
       "      <td>s Gravesandestraat 55 Oost 1092 AA Amsterdam ...</td>\n",
       "      <td>194</td>\n",
       "      <td>2017-07-24</td>\n",
       "      <td>7.7</td>\n",
       "      <td>Hotel Arena</td>\n",
       "      <td>New Zealand</td>\n",
       "      <td>You When I booked with your company on line y...</td>\n",
       "      <td>140</td>\n",
       "      <td>1403</td>\n",
       "      <td>Amazing location and building Romantic setting</td>\n",
       "      <td>8</td>\n",
       "      <td>3</td>\n",
       "      <td>0</td>\n",
       "      <td>[' Leisure trip ', ' Couple ', ' Suite ', ' St...</td>\n",
       "      <td>10 days</td>\n",
       "      <td>52.360576</td>\n",
       "      <td>4.915968</td>\n",
       "    </tr>\n",
       "  </tbody>\n",
       "</table>\n",
       "</div>"
      ],
      "text/plain": [
       "                                       Hotel_Address  \\\n",
       "0   s Gravesandestraat 55 Oost 1092 AA Amsterdam ...   \n",
       "1   s Gravesandestraat 55 Oost 1092 AA Amsterdam ...   \n",
       "2   s Gravesandestraat 55 Oost 1092 AA Amsterdam ...   \n",
       "3   s Gravesandestraat 55 Oost 1092 AA Amsterdam ...   \n",
       "4   s Gravesandestraat 55 Oost 1092 AA Amsterdam ...   \n",
       "\n",
       "   Additional_Number_of_Scoring Review_Date  Average_Score   Hotel_Name  \\\n",
       "0                           194  2017-08-03            7.7  Hotel Arena   \n",
       "1                           194  2017-08-03            7.7  Hotel Arena   \n",
       "2                           194  2017-07-31            7.7  Hotel Arena   \n",
       "3                           194  2017-07-31            7.7  Hotel Arena   \n",
       "4                           194  2017-07-24            7.7  Hotel Arena   \n",
       "\n",
       "  Reviewer_Nationality                                    Negative_Review  \\\n",
       "0              Russia    I am so angry that i made this post available...   \n",
       "1             Ireland                                         No Negative   \n",
       "2           Australia    Rooms are nice but for elderly a bit difficul...   \n",
       "3      United Kingdom    My room was dirty and I was afraid to walk ba...   \n",
       "4         New Zealand    You When I booked with your company on line y...   \n",
       "\n",
       "   Review_Total_Negative_Word_Counts  Total_Number_of_Reviews  \\\n",
       "0                                397                     1403   \n",
       "1                                  0                     1403   \n",
       "2                                 42                     1403   \n",
       "3                                210                     1403   \n",
       "4                                140                     1403   \n",
       "\n",
       "                                     Positive_Review  \\\n",
       "0   Only the park outside of the hotel was beauti...   \n",
       "1   No real complaints the hotel was great great ...   \n",
       "2   Location was good and staff were ok It is cut...   \n",
       "3   Great location in nice surroundings the bar a...   \n",
       "4    Amazing location and building Romantic setting    \n",
       "\n",
       "   Review_Total_Positive_Word_Counts  \\\n",
       "0                                 11   \n",
       "1                                105   \n",
       "2                                 21   \n",
       "3                                 26   \n",
       "4                                  8   \n",
       "\n",
       "   Total_Number_of_Reviews_Reviewer_Has_Given  Reviewer_Score  \\\n",
       "0                                           7               0   \n",
       "1                                           7               0   \n",
       "2                                           9               0   \n",
       "3                                           1               0   \n",
       "4                                           3               0   \n",
       "\n",
       "                                                Tags days_since_review  \\\n",
       "0  [' Leisure trip ', ' Couple ', ' Duplex Double...            0 days   \n",
       "1  [' Leisure trip ', ' Couple ', ' Duplex Double...            0 days   \n",
       "2  [' Leisure trip ', ' Family with young childre...            3 days   \n",
       "3  [' Leisure trip ', ' Solo traveler ', ' Duplex...            3 days   \n",
       "4  [' Leisure trip ', ' Couple ', ' Suite ', ' St...           10 days   \n",
       "\n",
       "         lat       lng  \n",
       "0  52.360576  4.915968  \n",
       "1  52.360576  4.915968  \n",
       "2  52.360576  4.915968  \n",
       "3  52.360576  4.915968  \n",
       "4  52.360576  4.915968  "
      ]
     },
     "execution_count": 348,
     "metadata": {},
     "output_type": "execute_result"
    }
   ],
   "source": [
    "rdf.head()"
   ]
  },
  {
   "cell_type": "markdown",
   "id": "7b7310e0",
   "metadata": {},
   "source": [
    "Just with initial observation, I notice that the address maps to the exact hotel. s Gravesandestraat 55 Oost 1092 AA Amsterdam ... always seems to be in the same row as Hotel Arena\t. I don't need two features with the same information. So let's check if they exactly map with each other."
   ]
  },
  {
   "cell_type": "markdown",
   "id": "f62805c2",
   "metadata": {},
   "source": [
    "Seeing if hotel address and name map 1 to 1. https://stackoverflow.com/questions/50643386/easy-way-to-see-if-two-columns-are-one-to-one-in-pandas"
   ]
  },
  {
   "cell_type": "code",
   "execution_count": 349,
   "id": "227861fb",
   "metadata": {},
   "outputs": [],
   "source": [
    "def isOneToOne(df, col1, col2):\n",
    "    first = df.drop_duplicates([col1, col2]).groupby(col1)[col2].count().max()\n",
    "    second = df.drop_duplicates([col1, col2]).groupby(col2)[col1].count().max()\n",
    "    return first + second == 2"
   ]
  },
  {
   "cell_type": "code",
   "execution_count": 350,
   "id": "a9e97364",
   "metadata": {},
   "outputs": [
    {
     "data": {
      "text/plain": [
       "True"
      ]
     },
     "execution_count": 350,
     "metadata": {},
     "output_type": "execute_result"
    }
   ],
   "source": [
    "isOneToOne(rdf, \"Hotel_Address\", \"Hotel_Name\")"
   ]
  },
  {
   "cell_type": "markdown",
   "id": "13e6fc1a",
   "metadata": {},
   "source": [
    "Looks like they map exactly with each other! We would sparse matrix one of these. Or we could drop one or both of them."
   ]
  },
  {
   "cell_type": "code",
   "execution_count": 351,
   "id": "c599dea7",
   "metadata": {},
   "outputs": [
    {
     "data": {
      "text/plain": [
       "1 Inverness Terrace Westminster Borough London W2 3JP United Kingdom                      2958\n",
       "1 Waterview Drive Greenwich London SE10 0TW United Kingdom                                2551\n",
       "1 Addington Street Lambeth London SE1 7RY United Kingdom                                  2223\n",
       "1 3 Queens Garden Westminster Borough London W2 3BA United Kingdom                        1770\n",
       "1 8 Russell Square Camden London WC1B 5BE United Kingdom                                  1425\n",
       "1 Shortlands Hammersmith and Fulham London W6 8DR United Kingdom                          1283\n",
       "1 2 Serjeant s Inn Fleet Street City of London London EC4Y 1LL United Kingdom             1037\n",
       "1 Kings Cross Road Islington London WC1X 9HX United Kingdom                               1007\n",
       "10 Godliman Street City of London London EC4V 5AJ United Kingdom                           729\n",
       "1 15 Templeton Place Earl s Court Kensington and Chelsea London SW5 9NB United Kingdom     566\n",
       "10 Carlisle Street Westminster Borough London W1D 3BR United Kingdom                       491\n",
       " s Gravesandestraat 55 Oost 1092 AA Amsterdam Netherlands                                  405\n",
       "1 Place De La Sorbonne 5th arr 75005 Paris France                                          256\n",
       "1 Rue De Libourne 12th arr 75012 Paris France                                              224\n",
       "1 Bis Rue De Vaugirard 6th arr 75006 Paris France                                          218\n",
       "1 Impasse Marteau 18th arr 75018 Paris France                                              180\n",
       "1 Rue Du G n ral Blaise 11th arr 75011 Paris France                                        179\n",
       "10 Beaufort Gardens Kensington and Chelsea London SW3 1PT United Kingdom                   173\n",
       "10 12 rue de Charonne 11th arr 75011 Paris France                                          171\n",
       "10 12 rue Cognacq Jay 7th arr 75007 Paris France                                           169\n",
       "10 Bina Gardens South Kensington Kensington and Chelsea London SW5 0LA United Kingdom      160\n",
       "1 Hamilton Place Park Lane Westminster Borough London W1J 7QY United Kingdom               160\n",
       "10 Berners Street Westminster Borough London W1T 3NP United Kingdom                        141\n",
       "1 Aldwych Westminster Borough London WC2B 4BZ United Kingdom                               136\n",
       "1 Rue Scribe 9th arr 75009 Paris France                                                    135\n",
       "1 Avenue Carnot 17th arr 75017 Paris France                                                127\n",
       "1 Suffolk Place Westminster Borough London SW1Y 4HX United Kingdom                         121\n",
       "1 Rue Sainte Opportune 1st arr 75001 Paris France                                          108\n",
       "1 Place Vend me 1st arr 75001 Paris France                                                  89\n",
       "10 avenue Carnot 17th arr 75017 Paris France                                                86\n",
       "1 Kensington Court Kensington and Chelsea London W8 5DL United Kingdom                      86\n",
       "1 rue Geoffroy Marie 9th arr 75009 Paris France                                             82\n",
       "10 Avenue Emile Zola 15th arr 75015 Paris France                                            70\n",
       "10 Bis rue du D barcad re 17th arr 75017 Paris France                                       49\n",
       "10 Avenue D I na 16th arr 75016 Paris France                                                46\n",
       "1 3 Rue d Argentine 16th arr 75116 Paris France                                             35\n",
       "1 5 Passage Ruelle 18th arr 75018 Paris France                                              19\n",
       "Name: Hotel_Address, dtype: int64"
      ]
     },
     "execution_count": 351,
     "metadata": {},
     "output_type": "execute_result"
    }
   ],
   "source": [
    "rdf[\"Hotel_Address\"].value_counts()"
   ]
  },
  {
   "cell_type": "markdown",
   "id": "1e65f27b",
   "metadata": {},
   "source": [
    "Instead of One Hot Encoding, I notice that each Hotel is in it's own country. That would be really useful information to have for predictive modelling. So to save data and simplify things, I will derive the country out of each address. Then instead of address our model can predict based on the country, which can help to answer some relevant business questions. For example, if a country is in France, what will the review score be?"
   ]
  },
  {
   "cell_type": "markdown",
   "id": "80a063f8",
   "metadata": {},
   "source": [
    "A pattern I notice is that the country is always at the end of the row. So my strategy is to make it clear that the delimited is a space, then I will extract the last item from the list to get the country."
   ]
  },
  {
   "cell_type": "code",
   "execution_count": 352,
   "id": "eb5045af",
   "metadata": {},
   "outputs": [
    {
     "data": {
      "text/plain": [
       "19665"
      ]
     },
     "execution_count": 352,
     "metadata": {},
     "output_type": "execute_result"
    }
   ],
   "source": [
    "len(rdf['Hotel_Address'])"
   ]
  },
  {
   "cell_type": "code",
   "execution_count": 353,
   "id": "dbb7db63",
   "metadata": {},
   "outputs": [],
   "source": [
    "hadf = pd.DataFrame(data = rdf['Hotel_Address'])"
   ]
  },
  {
   "cell_type": "markdown",
   "id": "72ac82c9",
   "metadata": {},
   "source": [
    "Making it a csv so it can be comma delimited. In python, different items in lists are comma delimited. So it will be easier for me to slice the last word in the sentence."
   ]
  },
  {
   "cell_type": "markdown",
   "id": "b0c8874b",
   "metadata": {},
   "source": [
    "Idea to make it into a csv and syntax: https://www.geeksforgeeks.org/pandas-dataframe-to-csv-file-using-tab-separator/"
   ]
  },
  {
   "cell_type": "code",
   "execution_count": 354,
   "id": "ebe406c6",
   "metadata": {},
   "outputs": [],
   "source": [
    "hadf.to_csv('HotelAddresses.csv') #default value is comma"
   ]
  },
  {
   "cell_type": "code",
   "execution_count": 355,
   "id": "c8d4b367",
   "metadata": {},
   "outputs": [],
   "source": [
    "new_df = pd.read_csv('HotelAddresses.csv',sep=',')"
   ]
  },
  {
   "cell_type": "code",
   "execution_count": 356,
   "id": "1c0918c7",
   "metadata": {},
   "outputs": [
    {
     "name": "stdout",
     "output_type": "stream",
     "text": [
      "Data from HotelAddresses.csv\n",
      "       Unnamed: 0                                      Hotel_Address\n",
      "0               0   s Gravesandestraat 55 Oost 1092 AA Amsterdam ...\n",
      "1               1   s Gravesandestraat 55 Oost 1092 AA Amsterdam ...\n",
      "2               2   s Gravesandestraat 55 Oost 1092 AA Amsterdam ...\n",
      "3               3   s Gravesandestraat 55 Oost 1092 AA Amsterdam ...\n",
      "4               4   s Gravesandestraat 55 Oost 1092 AA Amsterdam ...\n",
      "...           ...                                                ...\n",
      "19660       19660  10 Godliman Street City of London London EC4V ...\n",
      "19661       19661  10 Godliman Street City of London London EC4V ...\n",
      "19662       19662  10 Godliman Street City of London London EC4V ...\n",
      "19663       19663  10 Godliman Street City of London London EC4V ...\n",
      "19664       19664  10 Godliman Street City of London London EC4V ...\n",
      "\n",
      "[19665 rows x 2 columns]\n"
     ]
    }
   ],
   "source": [
    "print('Data from HotelAddresses.csv')\n",
    "print(new_df)"
   ]
  },
  {
   "cell_type": "code",
   "execution_count": 357,
   "id": "a8476ab3",
   "metadata": {},
   "outputs": [],
   "source": [
    "#Learning how to split: https://datascienceparichay.com/article/pandas-split-column-by-delimiter/#:~:text=Split%20column%20by%20delimiter%20into,True%20to%20the%20expand%20parameter.\n",
    "#slicing last element from the list: https://stackoverflow.com/questions/12218796/python-slice-first-and-last-element-in-list\n",
    "Hotel_addresses = []\n",
    "\n",
    "for i in range(len(new_df['Hotel_Address'])):\n",
    "    x = new_df['Hotel_Address'].iloc[i]\n",
    "    y = x.rsplit(' ', 1)\n",
    "    Hotel_addresses.append(y[1])"
   ]
  },
  {
   "cell_type": "markdown",
   "id": "cf7ac9ac",
   "metadata": {},
   "source": [
    "I could group and slice by country, as that could be useful information."
   ]
  },
  {
   "cell_type": "code",
   "execution_count": 358,
   "id": "6e0e3d1a",
   "metadata": {},
   "outputs": [
    {
     "data": {
      "text/html": [
       "<div>\n",
       "<style scoped>\n",
       "    .dataframe tbody tr th:only-of-type {\n",
       "        vertical-align: middle;\n",
       "    }\n",
       "\n",
       "    .dataframe tbody tr th {\n",
       "        vertical-align: top;\n",
       "    }\n",
       "\n",
       "    .dataframe thead th {\n",
       "        text-align: right;\n",
       "    }\n",
       "</style>\n",
       "<table border=\"1\" class=\"dataframe\">\n",
       "  <thead>\n",
       "    <tr style=\"text-align: right;\">\n",
       "      <th></th>\n",
       "      <th>Hotel_Address</th>\n",
       "      <th>Additional_Number_of_Scoring</th>\n",
       "      <th>Review_Date</th>\n",
       "      <th>Average_Score</th>\n",
       "      <th>Hotel_Name</th>\n",
       "      <th>Reviewer_Nationality</th>\n",
       "      <th>Negative_Review</th>\n",
       "      <th>Review_Total_Negative_Word_Counts</th>\n",
       "      <th>Total_Number_of_Reviews</th>\n",
       "      <th>Positive_Review</th>\n",
       "      <th>Review_Total_Positive_Word_Counts</th>\n",
       "      <th>Total_Number_of_Reviews_Reviewer_Has_Given</th>\n",
       "      <th>Reviewer_Score</th>\n",
       "      <th>Tags</th>\n",
       "      <th>days_since_review</th>\n",
       "      <th>lat</th>\n",
       "      <th>lng</th>\n",
       "    </tr>\n",
       "  </thead>\n",
       "  <tbody>\n",
       "    <tr>\n",
       "      <th>0</th>\n",
       "      <td>s Gravesandestraat 55 Oost 1092 AA Amsterdam ...</td>\n",
       "      <td>194</td>\n",
       "      <td>2017-08-03</td>\n",
       "      <td>7.7</td>\n",
       "      <td>Hotel Arena</td>\n",
       "      <td>Russia</td>\n",
       "      <td>I am so angry that i made this post available...</td>\n",
       "      <td>397</td>\n",
       "      <td>1403</td>\n",
       "      <td>Only the park outside of the hotel was beauti...</td>\n",
       "      <td>11</td>\n",
       "      <td>7</td>\n",
       "      <td>0</td>\n",
       "      <td>[' Leisure trip ', ' Couple ', ' Duplex Double...</td>\n",
       "      <td>0 days</td>\n",
       "      <td>52.360576</td>\n",
       "      <td>4.915968</td>\n",
       "    </tr>\n",
       "    <tr>\n",
       "      <th>1</th>\n",
       "      <td>s Gravesandestraat 55 Oost 1092 AA Amsterdam ...</td>\n",
       "      <td>194</td>\n",
       "      <td>2017-08-03</td>\n",
       "      <td>7.7</td>\n",
       "      <td>Hotel Arena</td>\n",
       "      <td>Ireland</td>\n",
       "      <td>No Negative</td>\n",
       "      <td>0</td>\n",
       "      <td>1403</td>\n",
       "      <td>No real complaints the hotel was great great ...</td>\n",
       "      <td>105</td>\n",
       "      <td>7</td>\n",
       "      <td>0</td>\n",
       "      <td>[' Leisure trip ', ' Couple ', ' Duplex Double...</td>\n",
       "      <td>0 days</td>\n",
       "      <td>52.360576</td>\n",
       "      <td>4.915968</td>\n",
       "    </tr>\n",
       "    <tr>\n",
       "      <th>2</th>\n",
       "      <td>s Gravesandestraat 55 Oost 1092 AA Amsterdam ...</td>\n",
       "      <td>194</td>\n",
       "      <td>2017-07-31</td>\n",
       "      <td>7.7</td>\n",
       "      <td>Hotel Arena</td>\n",
       "      <td>Australia</td>\n",
       "      <td>Rooms are nice but for elderly a bit difficul...</td>\n",
       "      <td>42</td>\n",
       "      <td>1403</td>\n",
       "      <td>Location was good and staff were ok It is cut...</td>\n",
       "      <td>21</td>\n",
       "      <td>9</td>\n",
       "      <td>0</td>\n",
       "      <td>[' Leisure trip ', ' Family with young childre...</td>\n",
       "      <td>3 days</td>\n",
       "      <td>52.360576</td>\n",
       "      <td>4.915968</td>\n",
       "    </tr>\n",
       "    <tr>\n",
       "      <th>3</th>\n",
       "      <td>s Gravesandestraat 55 Oost 1092 AA Amsterdam ...</td>\n",
       "      <td>194</td>\n",
       "      <td>2017-07-31</td>\n",
       "      <td>7.7</td>\n",
       "      <td>Hotel Arena</td>\n",
       "      <td>United Kingdom</td>\n",
       "      <td>My room was dirty and I was afraid to walk ba...</td>\n",
       "      <td>210</td>\n",
       "      <td>1403</td>\n",
       "      <td>Great location in nice surroundings the bar a...</td>\n",
       "      <td>26</td>\n",
       "      <td>1</td>\n",
       "      <td>0</td>\n",
       "      <td>[' Leisure trip ', ' Solo traveler ', ' Duplex...</td>\n",
       "      <td>3 days</td>\n",
       "      <td>52.360576</td>\n",
       "      <td>4.915968</td>\n",
       "    </tr>\n",
       "    <tr>\n",
       "      <th>4</th>\n",
       "      <td>s Gravesandestraat 55 Oost 1092 AA Amsterdam ...</td>\n",
       "      <td>194</td>\n",
       "      <td>2017-07-24</td>\n",
       "      <td>7.7</td>\n",
       "      <td>Hotel Arena</td>\n",
       "      <td>New Zealand</td>\n",
       "      <td>You When I booked with your company on line y...</td>\n",
       "      <td>140</td>\n",
       "      <td>1403</td>\n",
       "      <td>Amazing location and building Romantic setting</td>\n",
       "      <td>8</td>\n",
       "      <td>3</td>\n",
       "      <td>0</td>\n",
       "      <td>[' Leisure trip ', ' Couple ', ' Suite ', ' St...</td>\n",
       "      <td>10 days</td>\n",
       "      <td>52.360576</td>\n",
       "      <td>4.915968</td>\n",
       "    </tr>\n",
       "  </tbody>\n",
       "</table>\n",
       "</div>"
      ],
      "text/plain": [
       "                                       Hotel_Address  \\\n",
       "0   s Gravesandestraat 55 Oost 1092 AA Amsterdam ...   \n",
       "1   s Gravesandestraat 55 Oost 1092 AA Amsterdam ...   \n",
       "2   s Gravesandestraat 55 Oost 1092 AA Amsterdam ...   \n",
       "3   s Gravesandestraat 55 Oost 1092 AA Amsterdam ...   \n",
       "4   s Gravesandestraat 55 Oost 1092 AA Amsterdam ...   \n",
       "\n",
       "   Additional_Number_of_Scoring Review_Date  Average_Score   Hotel_Name  \\\n",
       "0                           194  2017-08-03            7.7  Hotel Arena   \n",
       "1                           194  2017-08-03            7.7  Hotel Arena   \n",
       "2                           194  2017-07-31            7.7  Hotel Arena   \n",
       "3                           194  2017-07-31            7.7  Hotel Arena   \n",
       "4                           194  2017-07-24            7.7  Hotel Arena   \n",
       "\n",
       "  Reviewer_Nationality                                    Negative_Review  \\\n",
       "0              Russia    I am so angry that i made this post available...   \n",
       "1             Ireland                                         No Negative   \n",
       "2           Australia    Rooms are nice but for elderly a bit difficul...   \n",
       "3      United Kingdom    My room was dirty and I was afraid to walk ba...   \n",
       "4         New Zealand    You When I booked with your company on line y...   \n",
       "\n",
       "   Review_Total_Negative_Word_Counts  Total_Number_of_Reviews  \\\n",
       "0                                397                     1403   \n",
       "1                                  0                     1403   \n",
       "2                                 42                     1403   \n",
       "3                                210                     1403   \n",
       "4                                140                     1403   \n",
       "\n",
       "                                     Positive_Review  \\\n",
       "0   Only the park outside of the hotel was beauti...   \n",
       "1   No real complaints the hotel was great great ...   \n",
       "2   Location was good and staff were ok It is cut...   \n",
       "3   Great location in nice surroundings the bar a...   \n",
       "4    Amazing location and building Romantic setting    \n",
       "\n",
       "   Review_Total_Positive_Word_Counts  \\\n",
       "0                                 11   \n",
       "1                                105   \n",
       "2                                 21   \n",
       "3                                 26   \n",
       "4                                  8   \n",
       "\n",
       "   Total_Number_of_Reviews_Reviewer_Has_Given  Reviewer_Score  \\\n",
       "0                                           7               0   \n",
       "1                                           7               0   \n",
       "2                                           9               0   \n",
       "3                                           1               0   \n",
       "4                                           3               0   \n",
       "\n",
       "                                                Tags days_since_review  \\\n",
       "0  [' Leisure trip ', ' Couple ', ' Duplex Double...            0 days   \n",
       "1  [' Leisure trip ', ' Couple ', ' Duplex Double...            0 days   \n",
       "2  [' Leisure trip ', ' Family with young childre...            3 days   \n",
       "3  [' Leisure trip ', ' Solo traveler ', ' Duplex...            3 days   \n",
       "4  [' Leisure trip ', ' Couple ', ' Suite ', ' St...           10 days   \n",
       "\n",
       "         lat       lng  \n",
       "0  52.360576  4.915968  \n",
       "1  52.360576  4.915968  \n",
       "2  52.360576  4.915968  \n",
       "3  52.360576  4.915968  \n",
       "4  52.360576  4.915968  "
      ]
     },
     "execution_count": 358,
     "metadata": {},
     "output_type": "execute_result"
    }
   ],
   "source": [
    "rdf.head()"
   ]
  },
  {
   "cell_type": "code",
   "execution_count": 359,
   "id": "45906a72",
   "metadata": {},
   "outputs": [],
   "source": [
    "rdf['Addresses'] = pd.Series(Hotel_addresses)"
   ]
  },
  {
   "cell_type": "code",
   "execution_count": 360,
   "id": "f80ad02a",
   "metadata": {},
   "outputs": [
    {
     "data": {
      "text/plain": [
       "Kingdom        17017\n",
       "France          2243\n",
       "Netherlands      405\n",
       "Name: Addresses, dtype: int64"
      ]
     },
     "execution_count": 360,
     "metadata": {},
     "output_type": "execute_result"
    }
   ],
   "source": [
    "rdf['Addresses'].value_counts()"
   ]
  },
  {
   "cell_type": "markdown",
   "id": "d984d17b",
   "metadata": {},
   "source": [
    "I see that because I extracted the last word, I got Kndgom instead of United Kingdom! So I will replace Kingdom with United Kingdom for better comprehension"
   ]
  },
  {
   "cell_type": "code",
   "execution_count": 361,
   "id": "16e68915",
   "metadata": {},
   "outputs": [],
   "source": [
    "rdf['Addresses'] = rdf['Addresses'].replace(['Kingdom'], 'United Kingdom')\n",
    "#replace method help: https://datatofish.com/replace-values-pandas-dataframe/"
   ]
  },
  {
   "cell_type": "markdown",
   "id": "7599dcb7",
   "metadata": {},
   "source": [
    "Verifying column name got changed to United Kingdom"
   ]
  },
  {
   "cell_type": "code",
   "execution_count": 362,
   "id": "a908e5b9",
   "metadata": {},
   "outputs": [
    {
     "data": {
      "text/plain": [
       "United Kingdom    17017\n",
       "France             2243\n",
       "Netherlands         405\n",
       "Name: Addresses, dtype: int64"
      ]
     },
     "execution_count": 362,
     "metadata": {},
     "output_type": "execute_result"
    }
   ],
   "source": [
    "rdf['Addresses'].value_counts()"
   ]
  },
  {
   "cell_type": "markdown",
   "id": "92c00c3d",
   "metadata": {},
   "source": [
    "The fact that I derived country from the Hotel Address will lead to a lot less memory use when I create the space matrix!"
   ]
  },
  {
   "cell_type": "code",
   "execution_count": 363,
   "id": "41a891ec",
   "metadata": {},
   "outputs": [
    {
     "data": {
      "text/plain": [
       "array(['Netherlands', 'United Kingdom', 'France'], dtype=object)"
      ]
     },
     "execution_count": 363,
     "metadata": {},
     "output_type": "execute_result"
    }
   ],
   "source": [
    "rdf['Addresses'].unique()"
   ]
  },
  {
   "cell_type": "code",
   "execution_count": 364,
   "id": "c9ea06b5",
   "metadata": {},
   "outputs": [
    {
     "data": {
      "text/plain": [
       "<19665x3 sparse matrix of type '<class 'numpy.float64'>'\n",
       "\twith 19665 stored elements in Compressed Sparse Row format>"
      ]
     },
     "execution_count": 364,
     "metadata": {},
     "output_type": "execute_result"
    }
   ],
   "source": [
    "from sklearn.preprocessing import OneHotEncoder\n",
    "\n",
    "# Instantiate the OneHotEncoder\n",
    "ohe = OneHotEncoder()\n",
    "\n",
    "# Fit the OneHotEncoder to the subcategory column and transform\n",
    "# It expects a 2D array, so we first convert the column into a DataFrame\n",
    "subcategory = pd.DataFrame(rdf['Addresses'])\n",
    "encoded = ohe.fit_transform(subcategory)\n",
    "encoded"
   ]
  },
  {
   "cell_type": "code",
   "execution_count": 365,
   "id": "c686e7f6",
   "metadata": {},
   "outputs": [
    {
     "data": {
      "text/plain": [
       "array([[0., 1., 0.],\n",
       "       [0., 1., 0.],\n",
       "       [0., 1., 0.],\n",
       "       ...,\n",
       "       [0., 0., 1.],\n",
       "       [0., 0., 1.],\n",
       "       [0., 0., 1.]])"
      ]
     },
     "execution_count": 365,
     "metadata": {},
     "output_type": "execute_result"
    }
   ],
   "source": [
    "# Convert from sparse matrix to dense\n",
    "dense_array = encoded.toarray()\n",
    "dense_array"
   ]
  },
  {
   "cell_type": "code",
   "execution_count": 366,
   "id": "9bb33cba",
   "metadata": {},
   "outputs": [
    {
     "data": {
      "text/plain": [
       "[array(['France', 'Netherlands', 'United Kingdom'], dtype=object)]"
      ]
     },
     "execution_count": 366,
     "metadata": {},
     "output_type": "execute_result"
    }
   ],
   "source": [
    "ohe.categories_"
   ]
  },
  {
   "cell_type": "code",
   "execution_count": 367,
   "id": "dcb145c7",
   "metadata": {},
   "outputs": [
    {
     "data": {
      "text/html": [
       "<div>\n",
       "<style scoped>\n",
       "    .dataframe tbody tr th:only-of-type {\n",
       "        vertical-align: middle;\n",
       "    }\n",
       "\n",
       "    .dataframe tbody tr th {\n",
       "        vertical-align: top;\n",
       "    }\n",
       "\n",
       "    .dataframe thead tr th {\n",
       "        text-align: left;\n",
       "    }\n",
       "</style>\n",
       "<table border=\"1\" class=\"dataframe\">\n",
       "  <thead>\n",
       "    <tr>\n",
       "      <th></th>\n",
       "      <th>France</th>\n",
       "      <th>Netherlands</th>\n",
       "      <th>United Kingdom</th>\n",
       "    </tr>\n",
       "  </thead>\n",
       "  <tbody>\n",
       "    <tr>\n",
       "      <th>0</th>\n",
       "      <td>0</td>\n",
       "      <td>1</td>\n",
       "      <td>0</td>\n",
       "    </tr>\n",
       "    <tr>\n",
       "      <th>1</th>\n",
       "      <td>0</td>\n",
       "      <td>1</td>\n",
       "      <td>0</td>\n",
       "    </tr>\n",
       "    <tr>\n",
       "      <th>2</th>\n",
       "      <td>0</td>\n",
       "      <td>1</td>\n",
       "      <td>0</td>\n",
       "    </tr>\n",
       "    <tr>\n",
       "      <th>3</th>\n",
       "      <td>0</td>\n",
       "      <td>1</td>\n",
       "      <td>0</td>\n",
       "    </tr>\n",
       "    <tr>\n",
       "      <th>4</th>\n",
       "      <td>0</td>\n",
       "      <td>1</td>\n",
       "      <td>0</td>\n",
       "    </tr>\n",
       "  </tbody>\n",
       "</table>\n",
       "</div>"
      ],
      "text/plain": [
       "  France Netherlands United Kingdom\n",
       "0      0           1              0\n",
       "1      0           1              0\n",
       "2      0           1              0\n",
       "3      0           1              0\n",
       "4      0           1              0"
      ]
     },
     "execution_count": 367,
     "metadata": {},
     "output_type": "execute_result"
    }
   ],
   "source": [
    "# Put into a dataframe to get column names\n",
    "encoded_df = pd.DataFrame(dense_array, columns=ohe.categories_, dtype=int)\n",
    "to_append = encoded_df.head()\n",
    "to_append\n",
    "# Add original back in (just to check)\n",
    "#encoded_df['Addresses'] = rdf['Addresses']\n",
    "\n",
    "# Show\n",
    "#encoded_df.head()"
   ]
  },
  {
   "cell_type": "code",
   "execution_count": 368,
   "id": "5ac3a691",
   "metadata": {},
   "outputs": [
    {
     "data": {
      "text/html": [
       "<div>\n",
       "<style scoped>\n",
       "    .dataframe tbody tr th:only-of-type {\n",
       "        vertical-align: middle;\n",
       "    }\n",
       "\n",
       "    .dataframe tbody tr th {\n",
       "        vertical-align: top;\n",
       "    }\n",
       "\n",
       "    .dataframe thead tr th {\n",
       "        text-align: left;\n",
       "    }\n",
       "</style>\n",
       "<table border=\"1\" class=\"dataframe\">\n",
       "  <thead>\n",
       "    <tr>\n",
       "      <th></th>\n",
       "      <th>France</th>\n",
       "      <th>Netherlands</th>\n",
       "      <th>United Kingdom</th>\n",
       "    </tr>\n",
       "  </thead>\n",
       "  <tbody>\n",
       "    <tr>\n",
       "      <th>0</th>\n",
       "      <td>0</td>\n",
       "      <td>1</td>\n",
       "      <td>0</td>\n",
       "    </tr>\n",
       "    <tr>\n",
       "      <th>1</th>\n",
       "      <td>0</td>\n",
       "      <td>1</td>\n",
       "      <td>0</td>\n",
       "    </tr>\n",
       "    <tr>\n",
       "      <th>2</th>\n",
       "      <td>0</td>\n",
       "      <td>1</td>\n",
       "      <td>0</td>\n",
       "    </tr>\n",
       "    <tr>\n",
       "      <th>3</th>\n",
       "      <td>0</td>\n",
       "      <td>1</td>\n",
       "      <td>0</td>\n",
       "    </tr>\n",
       "    <tr>\n",
       "      <th>4</th>\n",
       "      <td>0</td>\n",
       "      <td>1</td>\n",
       "      <td>0</td>\n",
       "    </tr>\n",
       "  </tbody>\n",
       "</table>\n",
       "</div>"
      ],
      "text/plain": [
       "  France Netherlands United Kingdom\n",
       "0      0           1              0\n",
       "1      0           1              0\n",
       "2      0           1              0\n",
       "3      0           1              0\n",
       "4      0           1              0"
      ]
     },
     "execution_count": 368,
     "metadata": {},
     "output_type": "execute_result"
    }
   ],
   "source": [
    "encoded_df.head()"
   ]
  },
  {
   "cell_type": "markdown",
   "id": "81152efe",
   "metadata": {},
   "source": [
    "This new dummy dataframe will be concatenated to the original dataframe."
   ]
  },
  {
   "cell_type": "code",
   "execution_count": 369,
   "id": "3cc2b91b",
   "metadata": {},
   "outputs": [],
   "source": [
    "concatend = pd.concat([rdf, encoded_df], axis=\"columns\")"
   ]
  },
  {
   "cell_type": "code",
   "execution_count": 370,
   "id": "b3fbbdb5",
   "metadata": {
    "scrolled": true
   },
   "outputs": [
    {
     "data": {
      "text/html": [
       "<div>\n",
       "<style scoped>\n",
       "    .dataframe tbody tr th:only-of-type {\n",
       "        vertical-align: middle;\n",
       "    }\n",
       "\n",
       "    .dataframe tbody tr th {\n",
       "        vertical-align: top;\n",
       "    }\n",
       "\n",
       "    .dataframe thead th {\n",
       "        text-align: right;\n",
       "    }\n",
       "</style>\n",
       "<table border=\"1\" class=\"dataframe\">\n",
       "  <thead>\n",
       "    <tr style=\"text-align: right;\">\n",
       "      <th></th>\n",
       "      <th>Hotel_Address</th>\n",
       "      <th>Additional_Number_of_Scoring</th>\n",
       "      <th>Review_Date</th>\n",
       "      <th>Average_Score</th>\n",
       "      <th>Hotel_Name</th>\n",
       "      <th>Reviewer_Nationality</th>\n",
       "      <th>Negative_Review</th>\n",
       "      <th>Review_Total_Negative_Word_Counts</th>\n",
       "      <th>Total_Number_of_Reviews</th>\n",
       "      <th>Positive_Review</th>\n",
       "      <th>...</th>\n",
       "      <th>Total_Number_of_Reviews_Reviewer_Has_Given</th>\n",
       "      <th>Reviewer_Score</th>\n",
       "      <th>Tags</th>\n",
       "      <th>days_since_review</th>\n",
       "      <th>lat</th>\n",
       "      <th>lng</th>\n",
       "      <th>Addresses</th>\n",
       "      <th>(France,)</th>\n",
       "      <th>(Netherlands,)</th>\n",
       "      <th>(United Kingdom,)</th>\n",
       "    </tr>\n",
       "  </thead>\n",
       "  <tbody>\n",
       "    <tr>\n",
       "      <th>0</th>\n",
       "      <td>s Gravesandestraat 55 Oost 1092 AA Amsterdam ...</td>\n",
       "      <td>194</td>\n",
       "      <td>2017-08-03</td>\n",
       "      <td>7.7</td>\n",
       "      <td>Hotel Arena</td>\n",
       "      <td>Russia</td>\n",
       "      <td>I am so angry that i made this post available...</td>\n",
       "      <td>397</td>\n",
       "      <td>1403</td>\n",
       "      <td>Only the park outside of the hotel was beauti...</td>\n",
       "      <td>...</td>\n",
       "      <td>7</td>\n",
       "      <td>0</td>\n",
       "      <td>[' Leisure trip ', ' Couple ', ' Duplex Double...</td>\n",
       "      <td>0 days</td>\n",
       "      <td>52.360576</td>\n",
       "      <td>4.915968</td>\n",
       "      <td>Netherlands</td>\n",
       "      <td>0</td>\n",
       "      <td>1</td>\n",
       "      <td>0</td>\n",
       "    </tr>\n",
       "    <tr>\n",
       "      <th>1</th>\n",
       "      <td>s Gravesandestraat 55 Oost 1092 AA Amsterdam ...</td>\n",
       "      <td>194</td>\n",
       "      <td>2017-08-03</td>\n",
       "      <td>7.7</td>\n",
       "      <td>Hotel Arena</td>\n",
       "      <td>Ireland</td>\n",
       "      <td>No Negative</td>\n",
       "      <td>0</td>\n",
       "      <td>1403</td>\n",
       "      <td>No real complaints the hotel was great great ...</td>\n",
       "      <td>...</td>\n",
       "      <td>7</td>\n",
       "      <td>0</td>\n",
       "      <td>[' Leisure trip ', ' Couple ', ' Duplex Double...</td>\n",
       "      <td>0 days</td>\n",
       "      <td>52.360576</td>\n",
       "      <td>4.915968</td>\n",
       "      <td>Netherlands</td>\n",
       "      <td>0</td>\n",
       "      <td>1</td>\n",
       "      <td>0</td>\n",
       "    </tr>\n",
       "    <tr>\n",
       "      <th>2</th>\n",
       "      <td>s Gravesandestraat 55 Oost 1092 AA Amsterdam ...</td>\n",
       "      <td>194</td>\n",
       "      <td>2017-07-31</td>\n",
       "      <td>7.7</td>\n",
       "      <td>Hotel Arena</td>\n",
       "      <td>Australia</td>\n",
       "      <td>Rooms are nice but for elderly a bit difficul...</td>\n",
       "      <td>42</td>\n",
       "      <td>1403</td>\n",
       "      <td>Location was good and staff were ok It is cut...</td>\n",
       "      <td>...</td>\n",
       "      <td>9</td>\n",
       "      <td>0</td>\n",
       "      <td>[' Leisure trip ', ' Family with young childre...</td>\n",
       "      <td>3 days</td>\n",
       "      <td>52.360576</td>\n",
       "      <td>4.915968</td>\n",
       "      <td>Netherlands</td>\n",
       "      <td>0</td>\n",
       "      <td>1</td>\n",
       "      <td>0</td>\n",
       "    </tr>\n",
       "    <tr>\n",
       "      <th>3</th>\n",
       "      <td>s Gravesandestraat 55 Oost 1092 AA Amsterdam ...</td>\n",
       "      <td>194</td>\n",
       "      <td>2017-07-31</td>\n",
       "      <td>7.7</td>\n",
       "      <td>Hotel Arena</td>\n",
       "      <td>United Kingdom</td>\n",
       "      <td>My room was dirty and I was afraid to walk ba...</td>\n",
       "      <td>210</td>\n",
       "      <td>1403</td>\n",
       "      <td>Great location in nice surroundings the bar a...</td>\n",
       "      <td>...</td>\n",
       "      <td>1</td>\n",
       "      <td>0</td>\n",
       "      <td>[' Leisure trip ', ' Solo traveler ', ' Duplex...</td>\n",
       "      <td>3 days</td>\n",
       "      <td>52.360576</td>\n",
       "      <td>4.915968</td>\n",
       "      <td>Netherlands</td>\n",
       "      <td>0</td>\n",
       "      <td>1</td>\n",
       "      <td>0</td>\n",
       "    </tr>\n",
       "    <tr>\n",
       "      <th>4</th>\n",
       "      <td>s Gravesandestraat 55 Oost 1092 AA Amsterdam ...</td>\n",
       "      <td>194</td>\n",
       "      <td>2017-07-24</td>\n",
       "      <td>7.7</td>\n",
       "      <td>Hotel Arena</td>\n",
       "      <td>New Zealand</td>\n",
       "      <td>You When I booked with your company on line y...</td>\n",
       "      <td>140</td>\n",
       "      <td>1403</td>\n",
       "      <td>Amazing location and building Romantic setting</td>\n",
       "      <td>...</td>\n",
       "      <td>3</td>\n",
       "      <td>0</td>\n",
       "      <td>[' Leisure trip ', ' Couple ', ' Suite ', ' St...</td>\n",
       "      <td>10 days</td>\n",
       "      <td>52.360576</td>\n",
       "      <td>4.915968</td>\n",
       "      <td>Netherlands</td>\n",
       "      <td>0</td>\n",
       "      <td>1</td>\n",
       "      <td>0</td>\n",
       "    </tr>\n",
       "    <tr>\n",
       "      <th>...</th>\n",
       "      <td>...</td>\n",
       "      <td>...</td>\n",
       "      <td>...</td>\n",
       "      <td>...</td>\n",
       "      <td>...</td>\n",
       "      <td>...</td>\n",
       "      <td>...</td>\n",
       "      <td>...</td>\n",
       "      <td>...</td>\n",
       "      <td>...</td>\n",
       "      <td>...</td>\n",
       "      <td>...</td>\n",
       "      <td>...</td>\n",
       "      <td>...</td>\n",
       "      <td>...</td>\n",
       "      <td>...</td>\n",
       "      <td>...</td>\n",
       "      <td>...</td>\n",
       "      <td>...</td>\n",
       "      <td>...</td>\n",
       "      <td>...</td>\n",
       "    </tr>\n",
       "    <tr>\n",
       "      <th>19660</th>\n",
       "      <td>10 Godliman Street City of London London EC4V ...</td>\n",
       "      <td>788</td>\n",
       "      <td>2017-01-09</td>\n",
       "      <td>8.5</td>\n",
       "      <td>Grange St Paul s Hotel</td>\n",
       "      <td>Belarus</td>\n",
       "      <td>Prices the size of the room</td>\n",
       "      <td>7</td>\n",
       "      <td>2635</td>\n",
       "      <td>Food</td>\n",
       "      <td>...</td>\n",
       "      <td>1</td>\n",
       "      <td>0</td>\n",
       "      <td>[' Leisure trip ', ' Group ', ' Superior Doubl...</td>\n",
       "      <td>206 day</td>\n",
       "      <td>51.512763</td>\n",
       "      <td>-0.099716</td>\n",
       "      <td>United Kingdom</td>\n",
       "      <td>0</td>\n",
       "      <td>0</td>\n",
       "      <td>1</td>\n",
       "    </tr>\n",
       "    <tr>\n",
       "      <th>19661</th>\n",
       "      <td>10 Godliman Street City of London London EC4V ...</td>\n",
       "      <td>788</td>\n",
       "      <td>2017-01-09</td>\n",
       "      <td>8.5</td>\n",
       "      <td>Grange St Paul s Hotel</td>\n",
       "      <td>United Kingdom</td>\n",
       "      <td>Breakfast to expensive</td>\n",
       "      <td>4</td>\n",
       "      <td>2635</td>\n",
       "      <td>Had a great stay from the spa to the hotel an...</td>\n",
       "      <td>...</td>\n",
       "      <td>4</td>\n",
       "      <td>1</td>\n",
       "      <td>[' Leisure trip ', ' Couple ', ' Superior Doub...</td>\n",
       "      <td>206 day</td>\n",
       "      <td>51.512763</td>\n",
       "      <td>-0.099716</td>\n",
       "      <td>United Kingdom</td>\n",
       "      <td>0</td>\n",
       "      <td>0</td>\n",
       "      <td>1</td>\n",
       "    </tr>\n",
       "    <tr>\n",
       "      <th>19662</th>\n",
       "      <td>10 Godliman Street City of London London EC4V ...</td>\n",
       "      <td>788</td>\n",
       "      <td>2017-01-08</td>\n",
       "      <td>8.5</td>\n",
       "      <td>Grange St Paul s Hotel</td>\n",
       "      <td>United Kingdom</td>\n",
       "      <td>No Negative</td>\n",
       "      <td>0</td>\n",
       "      <td>2635</td>\n",
       "      <td>All Staff and facilities</td>\n",
       "      <td>...</td>\n",
       "      <td>8</td>\n",
       "      <td>1</td>\n",
       "      <td>[' Leisure trip ', ' Group ', ' Superior Twin ...</td>\n",
       "      <td>207 day</td>\n",
       "      <td>51.512763</td>\n",
       "      <td>-0.099716</td>\n",
       "      <td>United Kingdom</td>\n",
       "      <td>0</td>\n",
       "      <td>0</td>\n",
       "      <td>1</td>\n",
       "    </tr>\n",
       "    <tr>\n",
       "      <th>19663</th>\n",
       "      <td>10 Godliman Street City of London London EC4V ...</td>\n",
       "      <td>788</td>\n",
       "      <td>2017-01-08</td>\n",
       "      <td>8.5</td>\n",
       "      <td>Grange St Paul s Hotel</td>\n",
       "      <td>United Kingdom</td>\n",
       "      <td>Nothing</td>\n",
       "      <td>2</td>\n",
       "      <td>2635</td>\n",
       "      <td>Really liked the views from the rooms the com...</td>\n",
       "      <td>...</td>\n",
       "      <td>2</td>\n",
       "      <td>1</td>\n",
       "      <td>[' Leisure trip ', ' Couple ', ' Superior Doub...</td>\n",
       "      <td>207 day</td>\n",
       "      <td>51.512763</td>\n",
       "      <td>-0.099716</td>\n",
       "      <td>United Kingdom</td>\n",
       "      <td>0</td>\n",
       "      <td>0</td>\n",
       "      <td>1</td>\n",
       "    </tr>\n",
       "    <tr>\n",
       "      <th>19664</th>\n",
       "      <td>10 Godliman Street City of London London EC4V ...</td>\n",
       "      <td>788</td>\n",
       "      <td>2017-01-08</td>\n",
       "      <td>8.5</td>\n",
       "      <td>Grange St Paul s Hotel</td>\n",
       "      <td>Malta</td>\n",
       "      <td>Fire alarm triggered three times Lifts didnt ...</td>\n",
       "      <td>15</td>\n",
       "      <td>2635</td>\n",
       "      <td>Concierge services were great</td>\n",
       "      <td>...</td>\n",
       "      <td>1</td>\n",
       "      <td>0</td>\n",
       "      <td>[' Leisure trip ', ' Couple ', ' Superior Doub...</td>\n",
       "      <td>207 day</td>\n",
       "      <td>51.512763</td>\n",
       "      <td>-0.099716</td>\n",
       "      <td>United Kingdom</td>\n",
       "      <td>0</td>\n",
       "      <td>0</td>\n",
       "      <td>1</td>\n",
       "    </tr>\n",
       "  </tbody>\n",
       "</table>\n",
       "<p>19665 rows × 21 columns</p>\n",
       "</div>"
      ],
      "text/plain": [
       "                                           Hotel_Address  \\\n",
       "0       s Gravesandestraat 55 Oost 1092 AA Amsterdam ...   \n",
       "1       s Gravesandestraat 55 Oost 1092 AA Amsterdam ...   \n",
       "2       s Gravesandestraat 55 Oost 1092 AA Amsterdam ...   \n",
       "3       s Gravesandestraat 55 Oost 1092 AA Amsterdam ...   \n",
       "4       s Gravesandestraat 55 Oost 1092 AA Amsterdam ...   \n",
       "...                                                  ...   \n",
       "19660  10 Godliman Street City of London London EC4V ...   \n",
       "19661  10 Godliman Street City of London London EC4V ...   \n",
       "19662  10 Godliman Street City of London London EC4V ...   \n",
       "19663  10 Godliman Street City of London London EC4V ...   \n",
       "19664  10 Godliman Street City of London London EC4V ...   \n",
       "\n",
       "       Additional_Number_of_Scoring Review_Date  Average_Score  \\\n",
       "0                               194  2017-08-03            7.7   \n",
       "1                               194  2017-08-03            7.7   \n",
       "2                               194  2017-07-31            7.7   \n",
       "3                               194  2017-07-31            7.7   \n",
       "4                               194  2017-07-24            7.7   \n",
       "...                             ...         ...            ...   \n",
       "19660                           788  2017-01-09            8.5   \n",
       "19661                           788  2017-01-09            8.5   \n",
       "19662                           788  2017-01-08            8.5   \n",
       "19663                           788  2017-01-08            8.5   \n",
       "19664                           788  2017-01-08            8.5   \n",
       "\n",
       "                   Hotel_Name Reviewer_Nationality  \\\n",
       "0                 Hotel Arena              Russia    \n",
       "1                 Hotel Arena             Ireland    \n",
       "2                 Hotel Arena           Australia    \n",
       "3                 Hotel Arena      United Kingdom    \n",
       "4                 Hotel Arena         New Zealand    \n",
       "...                       ...                  ...   \n",
       "19660  Grange St Paul s Hotel             Belarus    \n",
       "19661  Grange St Paul s Hotel      United Kingdom    \n",
       "19662  Grange St Paul s Hotel      United Kingdom    \n",
       "19663  Grange St Paul s Hotel      United Kingdom    \n",
       "19664  Grange St Paul s Hotel               Malta    \n",
       "\n",
       "                                         Negative_Review  \\\n",
       "0       I am so angry that i made this post available...   \n",
       "1                                            No Negative   \n",
       "2       Rooms are nice but for elderly a bit difficul...   \n",
       "3       My room was dirty and I was afraid to walk ba...   \n",
       "4       You When I booked with your company on line y...   \n",
       "...                                                  ...   \n",
       "19660                        Prices the size of the room   \n",
       "19661                             Breakfast to expensive   \n",
       "19662                                        No Negative   \n",
       "19663                                            Nothing   \n",
       "19664   Fire alarm triggered three times Lifts didnt ...   \n",
       "\n",
       "       Review_Total_Negative_Word_Counts  Total_Number_of_Reviews  \\\n",
       "0                                    397                     1403   \n",
       "1                                      0                     1403   \n",
       "2                                     42                     1403   \n",
       "3                                    210                     1403   \n",
       "4                                    140                     1403   \n",
       "...                                  ...                      ...   \n",
       "19660                                  7                     2635   \n",
       "19661                                  4                     2635   \n",
       "19662                                  0                     2635   \n",
       "19663                                  2                     2635   \n",
       "19664                                 15                     2635   \n",
       "\n",
       "                                         Positive_Review  ...  \\\n",
       "0       Only the park outside of the hotel was beauti...  ...   \n",
       "1       No real complaints the hotel was great great ...  ...   \n",
       "2       Location was good and staff were ok It is cut...  ...   \n",
       "3       Great location in nice surroundings the bar a...  ...   \n",
       "4        Amazing location and building Romantic setting   ...   \n",
       "...                                                  ...  ...   \n",
       "19660                                               Food  ...   \n",
       "19661   Had a great stay from the spa to the hotel an...  ...   \n",
       "19662                           All Staff and facilities  ...   \n",
       "19663   Really liked the views from the rooms the com...  ...   \n",
       "19664                      Concierge services were great  ...   \n",
       "\n",
       "       Total_Number_of_Reviews_Reviewer_Has_Given  Reviewer_Score  \\\n",
       "0                                               7               0   \n",
       "1                                               7               0   \n",
       "2                                               9               0   \n",
       "3                                               1               0   \n",
       "4                                               3               0   \n",
       "...                                           ...             ...   \n",
       "19660                                           1               0   \n",
       "19661                                           4               1   \n",
       "19662                                           8               1   \n",
       "19663                                           2               1   \n",
       "19664                                           1               0   \n",
       "\n",
       "                                                    Tags days_since_review  \\\n",
       "0      [' Leisure trip ', ' Couple ', ' Duplex Double...            0 days   \n",
       "1      [' Leisure trip ', ' Couple ', ' Duplex Double...            0 days   \n",
       "2      [' Leisure trip ', ' Family with young childre...            3 days   \n",
       "3      [' Leisure trip ', ' Solo traveler ', ' Duplex...            3 days   \n",
       "4      [' Leisure trip ', ' Couple ', ' Suite ', ' St...           10 days   \n",
       "...                                                  ...               ...   \n",
       "19660  [' Leisure trip ', ' Group ', ' Superior Doubl...           206 day   \n",
       "19661  [' Leisure trip ', ' Couple ', ' Superior Doub...           206 day   \n",
       "19662  [' Leisure trip ', ' Group ', ' Superior Twin ...           207 day   \n",
       "19663  [' Leisure trip ', ' Couple ', ' Superior Doub...           207 day   \n",
       "19664  [' Leisure trip ', ' Couple ', ' Superior Doub...           207 day   \n",
       "\n",
       "             lat       lng       Addresses (France,)  (Netherlands,)  \\\n",
       "0      52.360576  4.915968     Netherlands         0               1   \n",
       "1      52.360576  4.915968     Netherlands         0               1   \n",
       "2      52.360576  4.915968     Netherlands         0               1   \n",
       "3      52.360576  4.915968     Netherlands         0               1   \n",
       "4      52.360576  4.915968     Netherlands         0               1   \n",
       "...          ...       ...             ...       ...             ...   \n",
       "19660  51.512763 -0.099716  United Kingdom         0               0   \n",
       "19661  51.512763 -0.099716  United Kingdom         0               0   \n",
       "19662  51.512763 -0.099716  United Kingdom         0               0   \n",
       "19663  51.512763 -0.099716  United Kingdom         0               0   \n",
       "19664  51.512763 -0.099716  United Kingdom         0               0   \n",
       "\n",
       "       (United Kingdom,)  \n",
       "0                      0  \n",
       "1                      0  \n",
       "2                      0  \n",
       "3                      0  \n",
       "4                      0  \n",
       "...                  ...  \n",
       "19660                  1  \n",
       "19661                  1  \n",
       "19662                  1  \n",
       "19663                  1  \n",
       "19664                  1  \n",
       "\n",
       "[19665 rows x 21 columns]"
      ]
     },
     "execution_count": 370,
     "metadata": {},
     "output_type": "execute_result"
    }
   ],
   "source": [
    "concatend"
   ]
  },
  {
   "cell_type": "markdown",
   "id": "a48df206",
   "metadata": {},
   "source": [
    "Checking to see if I have numerical datatypes for the derived column for hotel address."
   ]
  },
  {
   "cell_type": "code",
   "execution_count": 371,
   "id": "3425a721",
   "metadata": {},
   "outputs": [
    {
     "name": "stdout",
     "output_type": "stream",
     "text": [
      "<class 'pandas.core.frame.DataFrame'>\n",
      "Int64Index: 19665 entries, 0 to 19664\n",
      "Data columns (total 21 columns):\n",
      " #   Column                                      Non-Null Count  Dtype         \n",
      "---  ------                                      --------------  -----         \n",
      " 0   Hotel_Address                               19665 non-null  object        \n",
      " 1   Additional_Number_of_Scoring                19665 non-null  int64         \n",
      " 2   Review_Date                                 19665 non-null  datetime64[ns]\n",
      " 3   Average_Score                               19665 non-null  float64       \n",
      " 4   Hotel_Name                                  19665 non-null  object        \n",
      " 5   Reviewer_Nationality                        19665 non-null  object        \n",
      " 6   Negative_Review                             19665 non-null  object        \n",
      " 7   Review_Total_Negative_Word_Counts           19665 non-null  int64         \n",
      " 8   Total_Number_of_Reviews                     19665 non-null  int64         \n",
      " 9   Positive_Review                             19665 non-null  object        \n",
      " 10  Review_Total_Positive_Word_Counts           19665 non-null  int64         \n",
      " 11  Total_Number_of_Reviews_Reviewer_Has_Given  19665 non-null  int64         \n",
      " 12  Reviewer_Score                              19665 non-null  int32         \n",
      " 13  Tags                                        19665 non-null  object        \n",
      " 14  days_since_review                           19665 non-null  object        \n",
      " 15  lat                                         19665 non-null  float64       \n",
      " 16  lng                                         19665 non-null  float64       \n",
      " 17  Addresses                                   19665 non-null  object        \n",
      " 18  (France,)                                   19665 non-null  int32         \n",
      " 19  (Netherlands,)                              19665 non-null  int32         \n",
      " 20  (United Kingdom,)                           19665 non-null  int32         \n",
      "dtypes: datetime64[ns](1), float64(3), int32(4), int64(5), object(8)\n",
      "memory usage: 3.0+ MB\n"
     ]
    }
   ],
   "source": [
    "concatend.info()"
   ]
  },
  {
   "cell_type": "markdown",
   "id": "3ba7d5fe",
   "metadata": {},
   "source": [
    "Perfect! I see three columns for the hotel addresses with int32 datatypes. Now I will drop the three column names to get numerical values in the dataset. I am making a copy just to be safe, since I cannot \"un-drop\" columns once they are dropped."
   ]
  },
  {
   "cell_type": "code",
   "execution_count": 372,
   "id": "9f7282c3",
   "metadata": {},
   "outputs": [],
   "source": [
    "rdf = rdf.drop(columns=['Addresses','Hotel_Address','Hotel_Name'])"
   ]
  },
  {
   "cell_type": "code",
   "execution_count": 373,
   "id": "5424c444",
   "metadata": {},
   "outputs": [
    {
     "name": "stdout",
     "output_type": "stream",
     "text": [
      "<class 'pandas.core.frame.DataFrame'>\n",
      "Int64Index: 19665 entries, 0 to 19664\n",
      "Data columns (total 15 columns):\n",
      " #   Column                                      Non-Null Count  Dtype         \n",
      "---  ------                                      --------------  -----         \n",
      " 0   Additional_Number_of_Scoring                19665 non-null  int64         \n",
      " 1   Review_Date                                 19665 non-null  datetime64[ns]\n",
      " 2   Average_Score                               19665 non-null  float64       \n",
      " 3   Reviewer_Nationality                        19665 non-null  object        \n",
      " 4   Negative_Review                             19665 non-null  object        \n",
      " 5   Review_Total_Negative_Word_Counts           19665 non-null  int64         \n",
      " 6   Total_Number_of_Reviews                     19665 non-null  int64         \n",
      " 7   Positive_Review                             19665 non-null  object        \n",
      " 8   Review_Total_Positive_Word_Counts           19665 non-null  int64         \n",
      " 9   Total_Number_of_Reviews_Reviewer_Has_Given  19665 non-null  int64         \n",
      " 10  Reviewer_Score                              19665 non-null  int32         \n",
      " 11  Tags                                        19665 non-null  object        \n",
      " 12  days_since_review                           19665 non-null  object        \n",
      " 13  lat                                         19665 non-null  float64       \n",
      " 14  lng                                         19665 non-null  float64       \n",
      "dtypes: datetime64[ns](1), float64(3), int32(1), int64(5), object(5)\n",
      "memory usage: 2.3+ MB\n"
     ]
    }
   ],
   "source": [
    "rdf.info()"
   ]
  },
  {
   "cell_type": "markdown",
   "id": "f76b4962",
   "metadata": {},
   "source": [
    "Good to know shape is the same as the previous dataset where the columns were not numerical! So now we've converted to non-numerical columns and replaced them with three numerical columns."
   ]
  },
  {
   "cell_type": "markdown",
   "id": "b53a473d",
   "metadata": {},
   "source": [
    "#### Converting the Nationalities Column to numeric"
   ]
  },
  {
   "cell_type": "markdown",
   "id": "88c9e1eb",
   "metadata": {},
   "source": [
    "The only way I can think of narrowing down the nationalities column is by creating 7 categories for the continents. There aren't many nationalities any (not as many as there were hotel addresses)! So it's safe to one hot encode it for now."
   ]
  },
  {
   "cell_type": "code",
   "execution_count": 374,
   "id": "8fc6c9aa",
   "metadata": {},
   "outputs": [
    {
     "data": {
      "text/plain": [
       "<19665x139 sparse matrix of type '<class 'numpy.float64'>'\n",
       "\twith 19665 stored elements in Compressed Sparse Row format>"
      ]
     },
     "execution_count": 374,
     "metadata": {},
     "output_type": "execute_result"
    }
   ],
   "source": [
    "from sklearn.preprocessing import OneHotEncoder\n",
    "\n",
    "# Instantiate the OneHotEncoder\n",
    "ohe_n = OneHotEncoder()\n",
    "\n",
    "# Fit the OneHotEncoder to the subcategory column and transform\n",
    "# It expects a 2D array, so we first convert the column into a DataFrame\n",
    "subcategory_n = pd.DataFrame(rdf['Reviewer_Nationality'])\n",
    "encoded_n = ohe_n.fit_transform(subcategory_n)\n",
    "encoded_n"
   ]
  },
  {
   "cell_type": "code",
   "execution_count": 375,
   "id": "dc2ace7b",
   "metadata": {},
   "outputs": [
    {
     "data": {
      "text/plain": [
       "array([[0., 0., 0., ..., 0., 0., 0.],\n",
       "       [0., 0., 0., ..., 0., 0., 0.],\n",
       "       [0., 0., 0., ..., 0., 0., 0.],\n",
       "       ...,\n",
       "       [0., 0., 0., ..., 0., 0., 0.],\n",
       "       [0., 0., 0., ..., 0., 0., 0.],\n",
       "       [0., 0., 0., ..., 0., 0., 0.]])"
      ]
     },
     "execution_count": 375,
     "metadata": {},
     "output_type": "execute_result"
    }
   ],
   "source": [
    "# Convert from sparse matrix to dense\n",
    "dense_array_n = encoded_n.toarray()\n",
    "dense_array_n"
   ]
  },
  {
   "cell_type": "code",
   "execution_count": 376,
   "id": "267338dc",
   "metadata": {},
   "outputs": [
    {
     "data": {
      "text/html": [
       "<div>\n",
       "<style scoped>\n",
       "    .dataframe tbody tr th:only-of-type {\n",
       "        vertical-align: middle;\n",
       "    }\n",
       "\n",
       "    .dataframe tbody tr th {\n",
       "        vertical-align: top;\n",
       "    }\n",
       "\n",
       "    .dataframe thead tr th {\n",
       "        text-align: left;\n",
       "    }\n",
       "</style>\n",
       "<table border=\"1\" class=\"dataframe\">\n",
       "  <thead>\n",
       "    <tr>\n",
       "      <th></th>\n",
       "      <th></th>\n",
       "      <th>Abkhazia Georgia</th>\n",
       "      <th>Albania</th>\n",
       "      <th>Algeria</th>\n",
       "      <th>Angola</th>\n",
       "      <th>Argentina</th>\n",
       "      <th>Armenia</th>\n",
       "      <th>Australia</th>\n",
       "      <th>Austria</th>\n",
       "      <th>Azerbaijan</th>\n",
       "      <th>...</th>\n",
       "      <th>United Arab Emirates</th>\n",
       "      <th>United Kingdom</th>\n",
       "      <th>United States Minor Outlying Islands</th>\n",
       "      <th>United States of America</th>\n",
       "      <th>Uruguay</th>\n",
       "      <th>Uzbekistan</th>\n",
       "      <th>Venezuela</th>\n",
       "      <th>Vietnam</th>\n",
       "      <th>Zambia</th>\n",
       "      <th>Zimbabwe</th>\n",
       "    </tr>\n",
       "  </thead>\n",
       "  <tbody>\n",
       "    <tr>\n",
       "      <th>0</th>\n",
       "      <td>0</td>\n",
       "      <td>0</td>\n",
       "      <td>0</td>\n",
       "      <td>0</td>\n",
       "      <td>0</td>\n",
       "      <td>0</td>\n",
       "      <td>0</td>\n",
       "      <td>0</td>\n",
       "      <td>0</td>\n",
       "      <td>0</td>\n",
       "      <td>...</td>\n",
       "      <td>0</td>\n",
       "      <td>0</td>\n",
       "      <td>0</td>\n",
       "      <td>0</td>\n",
       "      <td>0</td>\n",
       "      <td>0</td>\n",
       "      <td>0</td>\n",
       "      <td>0</td>\n",
       "      <td>0</td>\n",
       "      <td>0</td>\n",
       "    </tr>\n",
       "    <tr>\n",
       "      <th>1</th>\n",
       "      <td>0</td>\n",
       "      <td>0</td>\n",
       "      <td>0</td>\n",
       "      <td>0</td>\n",
       "      <td>0</td>\n",
       "      <td>0</td>\n",
       "      <td>0</td>\n",
       "      <td>0</td>\n",
       "      <td>0</td>\n",
       "      <td>0</td>\n",
       "      <td>...</td>\n",
       "      <td>0</td>\n",
       "      <td>0</td>\n",
       "      <td>0</td>\n",
       "      <td>0</td>\n",
       "      <td>0</td>\n",
       "      <td>0</td>\n",
       "      <td>0</td>\n",
       "      <td>0</td>\n",
       "      <td>0</td>\n",
       "      <td>0</td>\n",
       "    </tr>\n",
       "    <tr>\n",
       "      <th>2</th>\n",
       "      <td>0</td>\n",
       "      <td>0</td>\n",
       "      <td>0</td>\n",
       "      <td>0</td>\n",
       "      <td>0</td>\n",
       "      <td>0</td>\n",
       "      <td>0</td>\n",
       "      <td>1</td>\n",
       "      <td>0</td>\n",
       "      <td>0</td>\n",
       "      <td>...</td>\n",
       "      <td>0</td>\n",
       "      <td>0</td>\n",
       "      <td>0</td>\n",
       "      <td>0</td>\n",
       "      <td>0</td>\n",
       "      <td>0</td>\n",
       "      <td>0</td>\n",
       "      <td>0</td>\n",
       "      <td>0</td>\n",
       "      <td>0</td>\n",
       "    </tr>\n",
       "    <tr>\n",
       "      <th>3</th>\n",
       "      <td>0</td>\n",
       "      <td>0</td>\n",
       "      <td>0</td>\n",
       "      <td>0</td>\n",
       "      <td>0</td>\n",
       "      <td>0</td>\n",
       "      <td>0</td>\n",
       "      <td>0</td>\n",
       "      <td>0</td>\n",
       "      <td>0</td>\n",
       "      <td>...</td>\n",
       "      <td>0</td>\n",
       "      <td>1</td>\n",
       "      <td>0</td>\n",
       "      <td>0</td>\n",
       "      <td>0</td>\n",
       "      <td>0</td>\n",
       "      <td>0</td>\n",
       "      <td>0</td>\n",
       "      <td>0</td>\n",
       "      <td>0</td>\n",
       "    </tr>\n",
       "    <tr>\n",
       "      <th>4</th>\n",
       "      <td>0</td>\n",
       "      <td>0</td>\n",
       "      <td>0</td>\n",
       "      <td>0</td>\n",
       "      <td>0</td>\n",
       "      <td>0</td>\n",
       "      <td>0</td>\n",
       "      <td>0</td>\n",
       "      <td>0</td>\n",
       "      <td>0</td>\n",
       "      <td>...</td>\n",
       "      <td>0</td>\n",
       "      <td>0</td>\n",
       "      <td>0</td>\n",
       "      <td>0</td>\n",
       "      <td>0</td>\n",
       "      <td>0</td>\n",
       "      <td>0</td>\n",
       "      <td>0</td>\n",
       "      <td>0</td>\n",
       "      <td>0</td>\n",
       "    </tr>\n",
       "  </tbody>\n",
       "</table>\n",
       "<p>5 rows × 139 columns</p>\n",
       "</div>"
      ],
      "text/plain": [
       "      Abkhazia Georgia   Albania   Algeria   Angola   Argentina   Armenia   \\\n",
       "0  0                  0         0         0        0           0         0   \n",
       "1  0                  0         0         0        0           0         0   \n",
       "2  0                  0         0         0        0           0         0   \n",
       "3  0                  0         0         0        0           0         0   \n",
       "4  0                  0         0         0        0           0         0   \n",
       "\n",
       "   Australia   Austria   Azerbaijan   ...  United Arab Emirates   \\\n",
       "0           0         0            0  ...                      0   \n",
       "1           0         0            0  ...                      0   \n",
       "2           1         0            0  ...                      0   \n",
       "3           0         0            0  ...                      0   \n",
       "4           0         0            0  ...                      0   \n",
       "\n",
       "   United Kingdom   United States Minor Outlying Islands   \\\n",
       "0                0                                      0   \n",
       "1                0                                      0   \n",
       "2                0                                      0   \n",
       "3                1                                      0   \n",
       "4                0                                      0   \n",
       "\n",
       "   United States of America   Uruguay   Uzbekistan   Venezuela   Vietnam   \\\n",
       "0                          0         0            0           0         0   \n",
       "1                          0         0            0           0         0   \n",
       "2                          0         0            0           0         0   \n",
       "3                          0         0            0           0         0   \n",
       "4                          0         0            0           0         0   \n",
       "\n",
       "   Zambia   Zimbabwe   \n",
       "0        0          0  \n",
       "1        0          0  \n",
       "2        0          0  \n",
       "3        0          0  \n",
       "4        0          0  \n",
       "\n",
       "[5 rows x 139 columns]"
      ]
     },
     "execution_count": 376,
     "metadata": {},
     "output_type": "execute_result"
    }
   ],
   "source": [
    "# Put into a dataframe to get column names\n",
    "encoded_df_n = pd.DataFrame(dense_array_n, columns=ohe_n.categories_, dtype=int)\n",
    "to_append_n = encoded_df_n.head()\n",
    "to_append_n\n",
    "# Add original back in (just to check)\n",
    "#encoded_df['Addresses'] = rdf['Addresses']\n",
    "\n",
    "# Show\n",
    "#encoded_df.head()"
   ]
  },
  {
   "cell_type": "markdown",
   "id": "7d707996",
   "metadata": {},
   "source": [
    "Adding the hot encoded dataframe to the original one."
   ]
  },
  {
   "cell_type": "code",
   "execution_count": 377,
   "id": "e3694d50",
   "metadata": {},
   "outputs": [],
   "source": [
    "concatend_n = pd.concat([rdf, encoded_df_n], axis=\"columns\")"
   ]
  },
  {
   "cell_type": "code",
   "execution_count": 378,
   "id": "e62e22a0",
   "metadata": {},
   "outputs": [
    {
     "data": {
      "text/html": [
       "<div>\n",
       "<style scoped>\n",
       "    .dataframe tbody tr th:only-of-type {\n",
       "        vertical-align: middle;\n",
       "    }\n",
       "\n",
       "    .dataframe tbody tr th {\n",
       "        vertical-align: top;\n",
       "    }\n",
       "\n",
       "    .dataframe thead th {\n",
       "        text-align: right;\n",
       "    }\n",
       "</style>\n",
       "<table border=\"1\" class=\"dataframe\">\n",
       "  <thead>\n",
       "    <tr style=\"text-align: right;\">\n",
       "      <th></th>\n",
       "      <th>Additional_Number_of_Scoring</th>\n",
       "      <th>Review_Date</th>\n",
       "      <th>Average_Score</th>\n",
       "      <th>Reviewer_Nationality</th>\n",
       "      <th>Negative_Review</th>\n",
       "      <th>Review_Total_Negative_Word_Counts</th>\n",
       "      <th>Total_Number_of_Reviews</th>\n",
       "      <th>Positive_Review</th>\n",
       "      <th>Review_Total_Positive_Word_Counts</th>\n",
       "      <th>Total_Number_of_Reviews_Reviewer_Has_Given</th>\n",
       "      <th>...</th>\n",
       "      <th>( United Arab Emirates ,)</th>\n",
       "      <th>( United Kingdom ,)</th>\n",
       "      <th>( United States Minor Outlying Islands ,)</th>\n",
       "      <th>( United States of America ,)</th>\n",
       "      <th>( Uruguay ,)</th>\n",
       "      <th>( Uzbekistan ,)</th>\n",
       "      <th>( Venezuela ,)</th>\n",
       "      <th>( Vietnam ,)</th>\n",
       "      <th>( Zambia ,)</th>\n",
       "      <th>( Zimbabwe ,)</th>\n",
       "    </tr>\n",
       "  </thead>\n",
       "  <tbody>\n",
       "    <tr>\n",
       "      <th>0</th>\n",
       "      <td>194</td>\n",
       "      <td>2017-08-03</td>\n",
       "      <td>7.7</td>\n",
       "      <td>Russia</td>\n",
       "      <td>I am so angry that i made this post available...</td>\n",
       "      <td>397</td>\n",
       "      <td>1403</td>\n",
       "      <td>Only the park outside of the hotel was beauti...</td>\n",
       "      <td>11</td>\n",
       "      <td>7</td>\n",
       "      <td>...</td>\n",
       "      <td>0</td>\n",
       "      <td>0</td>\n",
       "      <td>0</td>\n",
       "      <td>0</td>\n",
       "      <td>0</td>\n",
       "      <td>0</td>\n",
       "      <td>0</td>\n",
       "      <td>0</td>\n",
       "      <td>0</td>\n",
       "      <td>0</td>\n",
       "    </tr>\n",
       "    <tr>\n",
       "      <th>1</th>\n",
       "      <td>194</td>\n",
       "      <td>2017-08-03</td>\n",
       "      <td>7.7</td>\n",
       "      <td>Ireland</td>\n",
       "      <td>No Negative</td>\n",
       "      <td>0</td>\n",
       "      <td>1403</td>\n",
       "      <td>No real complaints the hotel was great great ...</td>\n",
       "      <td>105</td>\n",
       "      <td>7</td>\n",
       "      <td>...</td>\n",
       "      <td>0</td>\n",
       "      <td>0</td>\n",
       "      <td>0</td>\n",
       "      <td>0</td>\n",
       "      <td>0</td>\n",
       "      <td>0</td>\n",
       "      <td>0</td>\n",
       "      <td>0</td>\n",
       "      <td>0</td>\n",
       "      <td>0</td>\n",
       "    </tr>\n",
       "    <tr>\n",
       "      <th>2</th>\n",
       "      <td>194</td>\n",
       "      <td>2017-07-31</td>\n",
       "      <td>7.7</td>\n",
       "      <td>Australia</td>\n",
       "      <td>Rooms are nice but for elderly a bit difficul...</td>\n",
       "      <td>42</td>\n",
       "      <td>1403</td>\n",
       "      <td>Location was good and staff were ok It is cut...</td>\n",
       "      <td>21</td>\n",
       "      <td>9</td>\n",
       "      <td>...</td>\n",
       "      <td>0</td>\n",
       "      <td>0</td>\n",
       "      <td>0</td>\n",
       "      <td>0</td>\n",
       "      <td>0</td>\n",
       "      <td>0</td>\n",
       "      <td>0</td>\n",
       "      <td>0</td>\n",
       "      <td>0</td>\n",
       "      <td>0</td>\n",
       "    </tr>\n",
       "    <tr>\n",
       "      <th>3</th>\n",
       "      <td>194</td>\n",
       "      <td>2017-07-31</td>\n",
       "      <td>7.7</td>\n",
       "      <td>United Kingdom</td>\n",
       "      <td>My room was dirty and I was afraid to walk ba...</td>\n",
       "      <td>210</td>\n",
       "      <td>1403</td>\n",
       "      <td>Great location in nice surroundings the bar a...</td>\n",
       "      <td>26</td>\n",
       "      <td>1</td>\n",
       "      <td>...</td>\n",
       "      <td>0</td>\n",
       "      <td>1</td>\n",
       "      <td>0</td>\n",
       "      <td>0</td>\n",
       "      <td>0</td>\n",
       "      <td>0</td>\n",
       "      <td>0</td>\n",
       "      <td>0</td>\n",
       "      <td>0</td>\n",
       "      <td>0</td>\n",
       "    </tr>\n",
       "    <tr>\n",
       "      <th>4</th>\n",
       "      <td>194</td>\n",
       "      <td>2017-07-24</td>\n",
       "      <td>7.7</td>\n",
       "      <td>New Zealand</td>\n",
       "      <td>You When I booked with your company on line y...</td>\n",
       "      <td>140</td>\n",
       "      <td>1403</td>\n",
       "      <td>Amazing location and building Romantic setting</td>\n",
       "      <td>8</td>\n",
       "      <td>3</td>\n",
       "      <td>...</td>\n",
       "      <td>0</td>\n",
       "      <td>0</td>\n",
       "      <td>0</td>\n",
       "      <td>0</td>\n",
       "      <td>0</td>\n",
       "      <td>0</td>\n",
       "      <td>0</td>\n",
       "      <td>0</td>\n",
       "      <td>0</td>\n",
       "      <td>0</td>\n",
       "    </tr>\n",
       "  </tbody>\n",
       "</table>\n",
       "<p>5 rows × 154 columns</p>\n",
       "</div>"
      ],
      "text/plain": [
       "   Additional_Number_of_Scoring Review_Date  Average_Score  \\\n",
       "0                           194  2017-08-03            7.7   \n",
       "1                           194  2017-08-03            7.7   \n",
       "2                           194  2017-07-31            7.7   \n",
       "3                           194  2017-07-31            7.7   \n",
       "4                           194  2017-07-24            7.7   \n",
       "\n",
       "  Reviewer_Nationality                                    Negative_Review  \\\n",
       "0              Russia    I am so angry that i made this post available...   \n",
       "1             Ireland                                         No Negative   \n",
       "2           Australia    Rooms are nice but for elderly a bit difficul...   \n",
       "3      United Kingdom    My room was dirty and I was afraid to walk ba...   \n",
       "4         New Zealand    You When I booked with your company on line y...   \n",
       "\n",
       "   Review_Total_Negative_Word_Counts  Total_Number_of_Reviews  \\\n",
       "0                                397                     1403   \n",
       "1                                  0                     1403   \n",
       "2                                 42                     1403   \n",
       "3                                210                     1403   \n",
       "4                                140                     1403   \n",
       "\n",
       "                                     Positive_Review  \\\n",
       "0   Only the park outside of the hotel was beauti...   \n",
       "1   No real complaints the hotel was great great ...   \n",
       "2   Location was good and staff were ok It is cut...   \n",
       "3   Great location in nice surroundings the bar a...   \n",
       "4    Amazing location and building Romantic setting    \n",
       "\n",
       "   Review_Total_Positive_Word_Counts  \\\n",
       "0                                 11   \n",
       "1                                105   \n",
       "2                                 21   \n",
       "3                                 26   \n",
       "4                                  8   \n",
       "\n",
       "   Total_Number_of_Reviews_Reviewer_Has_Given  ...  ( United Arab Emirates ,)  \\\n",
       "0                                           7  ...                          0   \n",
       "1                                           7  ...                          0   \n",
       "2                                           9  ...                          0   \n",
       "3                                           1  ...                          0   \n",
       "4                                           3  ...                          0   \n",
       "\n",
       "  ( United Kingdom ,) ( United States Minor Outlying Islands ,)  \\\n",
       "0                   0                                         0   \n",
       "1                   0                                         0   \n",
       "2                   0                                         0   \n",
       "3                   1                                         0   \n",
       "4                   0                                         0   \n",
       "\n",
       "   ( United States of America ,)  ( Uruguay ,)  ( Uzbekistan ,)  \\\n",
       "0                              0             0                0   \n",
       "1                              0             0                0   \n",
       "2                              0             0                0   \n",
       "3                              0             0                0   \n",
       "4                              0             0                0   \n",
       "\n",
       "   ( Venezuela ,)  ( Vietnam ,)  ( Zambia ,)  ( Zimbabwe ,)  \n",
       "0               0             0            0              0  \n",
       "1               0             0            0              0  \n",
       "2               0             0            0              0  \n",
       "3               0             0            0              0  \n",
       "4               0             0            0              0  \n",
       "\n",
       "[5 rows x 154 columns]"
      ]
     },
     "execution_count": 378,
     "metadata": {},
     "output_type": "execute_result"
    }
   ],
   "source": [
    "concatend_n.head()"
   ]
  },
  {
   "cell_type": "code",
   "execution_count": 379,
   "id": "e4cbc0fe",
   "metadata": {},
   "outputs": [
    {
     "name": "stdout",
     "output_type": "stream",
     "text": [
      "Additional_Number_of_Scoring,Review_Date,Average_Score,Reviewer_Nationality,Negative_Review,Review_Total_Negative_Word_Counts,Total_Number_of_Reviews,Positive_Review,Review_Total_Positive_Word_Counts,Total_Number_of_Reviews_Reviewer_Has_Given,Reviewer_Score,Tags,days_since_review,lat,lng,(' ',),(' Abkhazia Georgia ',),(' Albania ',),(' Algeria ',),(' Angola ',),(' Argentina ',),(' Armenia ',),(' Australia ',),(' Austria ',),(' Azerbaijan ',),(' Bahamas ',),(' Bahrain ',),(' Bangladesh ',),(' Barbados ',),(' Belarus ',),(' Belgium ',),(' Bermuda ',),(' Bosnia and Herzegovina ',),(' Botswana ',),(' Brazil ',),(' Brunei ',),(' Bulgaria ',),(' Canada ',),(' Cayman Islands ',),(' Chile ',),(' China ',),(' Colombia ',),(' Comoros ',),(' Costa Rica ',),(' Crimea ',),(' Croatia ',),(' Cyprus ',),(' Czech Republic ',),(' Denmark ',),(' Dominican Republic ',),(' Ecuador ',),(' Egypt ',),(' Equatorial Guinea ',),(' Estonia ',),(' Ethiopia ',),(' Fiji ',),(' Finland ',),(' France ',),(' Georgia ',),(' Germany ',),(' Ghana ',),(' Gibraltar ',),(' Greece ',),(' Guatemala ',),(' Guernsey ',),(' Honduras ',),(' Hong Kong ',),(' Hungary ',),(' Iceland ',),(' India ',),(' Indonesia ',),(' Iran ',),(' Iraq ',),(' Ireland ',),(' Isle of Man ',),(' Israel ',),(' Italy ',),(' Jamaica ',),(' Japan ',),(' Jersey ',),(' Jordan ',),(' Kazakhstan ',),(' Kenya ',),(' Kosovo ',),(' Kuwait ',),(' Latvia ',),(' Lebanon ',),(' Libya ',),(' Liechtenstein ',),(' Lithuania ',),(' Luxembourg ',),(' Macau ',),(' Macedonia ',),(' Malaysia ',),(' Maldives ',),(' Malta ',),(' Mauritius ',),(' Mexico ',),(' Monaco ',),(' Montenegro ',),(' Morocco ',),(' Mozambique ',),(' Namibia ',),(' Nepal ',),(' Netherlands ',),(' New Zealand ',),(' Nicaragua ',),(' Nigeria ',),(' Norway ',),(' Oman ',),(' Pakistan ',),(' Palestinian Territory ',),(' Panama ',),(' Peru ',),(' Philippines ',),(' Poland ',),(' Portugal ',),(' Puerto Rico ',),(' Qatar ',),(' Romania ',),(' Russia ',),(' Rwanda ',),(' Saudi Arabia ',),(' Serbia ',),(' Singapore ',),(' Slovakia ',),(' Slovenia ',),(' South Africa ',),(' South Korea ',),(' Spain ',),(' Sri Lanka ',),(' St Maarten ',),(' Sudan ',),(' Sweden ',),(' Switzerland ',),(' Taiwan ',),(' Tanzania ',),(' Thailand ',),(' Togo ',),(' Trinidad and Tobago ',),(' Turkey ',),(' Turks Caicos Islands ',),(' Uganda ',),(' Ukraine ',),(' United Arab Emirates ',),(' United Kingdom ',),(' United States Minor Outlying Islands ',),(' United States of America ',),(' Uruguay ',),(' Uzbekistan ',),(' Venezuela ',),(' Vietnam ',),(' Zambia ',),(' Zimbabwe ',),"
     ]
    }
   ],
   "source": [
    "for i in concatend_n.columns:\n",
    "    print(i, end=\",\")"
   ]
  },
  {
   "cell_type": "markdown",
   "id": "1e221220",
   "metadata": {},
   "source": [
    "The above code shows we have our original columns, plus the encoded columns with dummy binary values."
   ]
  },
  {
   "cell_type": "markdown",
   "id": "35346a2e",
   "metadata": {},
   "source": [
    "#### Converting the Days Since Review column to numeric"
   ]
  },
  {
   "cell_type": "markdown",
   "id": "5013bfd1",
   "metadata": {},
   "source": [
    "First let's take an initial glance at the column. Let's reaffirm the previous intuition to get rid of the word 'day' and 'days' from the column."
   ]
  },
  {
   "cell_type": "code",
   "execution_count": 382,
   "id": "cea84cfc",
   "metadata": {},
   "outputs": [
    {
     "data": {
      "text/plain": [
       "0         0 days\n",
       "1         0 days\n",
       "2         3 days\n",
       "3         3 days\n",
       "4        10 days\n",
       "          ...   \n",
       "19660    206 day\n",
       "19661    206 day\n",
       "19662    207 day\n",
       "19663    207 day\n",
       "19664    207 day\n",
       "Name: days_since_review, Length: 19665, dtype: object"
      ]
     },
     "execution_count": 382,
     "metadata": {},
     "output_type": "execute_result"
    }
   ],
   "source": [
    "concatend_n['days_since_review']"
   ]
  },
  {
   "cell_type": "markdown",
   "id": "7f71e934",
   "metadata": {},
   "source": [
    "This strategy to move forward (removing 'day' and 'days') seems like a good approach! I will create an empty list. Then iterate though every value in the column, and split it every time there is a place. Then only keep the numbers."
   ]
  },
  {
   "cell_type": "code",
   "execution_count": 383,
   "id": "c0c5308f",
   "metadata": {},
   "outputs": [],
   "source": [
    "dayss = []\n",
    "\n",
    "for i in range(len(concatend_n['days_since_review'])):\n",
    "    x = concatend_n['days_since_review'].iloc[i]\n",
    "    y = x.rsplit(' ', 1)\n",
    "    dayss.append(y[:1])"
   ]
  },
  {
   "cell_type": "code",
   "execution_count": 384,
   "id": "142e1a48",
   "metadata": {},
   "outputs": [
    {
     "name": "stdout",
     "output_type": "stream",
     "text": [
      "[['0'], ['0'], ['3'], ['3'], ['10'], ['10'], ['17'], ['17'], ['25'], ['26'], ['27'], ['28'], ['28'], ['30'], ['30'], ['31'], ['31'], ['34'], ['35'], ['44']]\n"
     ]
    }
   ],
   "source": [
    "print(dayss[0:20])"
   ]
  },
  {
   "cell_type": "markdown",
   "id": "f792451e",
   "metadata": {},
   "source": [
    "I see mulitdimentional data. Also, all the numbers are in quotation marks suggesting they are strings and not numerical yet. Next I will convert them to integers."
   ]
  },
  {
   "cell_type": "code",
   "execution_count": 385,
   "id": "bdbd3f1a",
   "metadata": {},
   "outputs": [],
   "source": [
    "dayss_int = []\n",
    "\n",
    "for d in dayss:\n",
    "    for i in d:\n",
    "        f = int(i)\n",
    "        dayss_int.append(f)"
   ]
  },
  {
   "cell_type": "markdown",
   "id": "4d598e39",
   "metadata": {},
   "source": [
    "Now that there is a list of integer values of days, I will add those to our overall dataframe after converting it to a pandas series."
   ]
  },
  {
   "cell_type": "code",
   "execution_count": 386,
   "id": "48846fbb",
   "metadata": {},
   "outputs": [],
   "source": [
    "concatend_n['Days_since_review'] = pd.Series(dayss_int)"
   ]
  },
  {
   "cell_type": "code",
   "execution_count": 387,
   "id": "4c4f7ff2",
   "metadata": {},
   "outputs": [
    {
     "name": "stdout",
     "output_type": "stream",
     "text": [
      "Additional_Number_of_Scoring,Review_Date,Average_Score,Reviewer_Nationality,Negative_Review,Review_Total_Negative_Word_Counts,Total_Number_of_Reviews,Positive_Review,Review_Total_Positive_Word_Counts,Total_Number_of_Reviews_Reviewer_Has_Given,Reviewer_Score,Tags,days_since_review,lat,lng,(' ',),(' Abkhazia Georgia ',),(' Albania ',),(' Algeria ',),(' Angola ',),(' Argentina ',),(' Armenia ',),(' Australia ',),(' Austria ',),(' Azerbaijan ',),(' Bahamas ',),(' Bahrain ',),(' Bangladesh ',),(' Barbados ',),(' Belarus ',),(' Belgium ',),(' Bermuda ',),(' Bosnia and Herzegovina ',),(' Botswana ',),(' Brazil ',),(' Brunei ',),(' Bulgaria ',),(' Canada ',),(' Cayman Islands ',),(' Chile ',),(' China ',),(' Colombia ',),(' Comoros ',),(' Costa Rica ',),(' Crimea ',),(' Croatia ',),(' Cyprus ',),(' Czech Republic ',),(' Denmark ',),(' Dominican Republic ',),(' Ecuador ',),(' Egypt ',),(' Equatorial Guinea ',),(' Estonia ',),(' Ethiopia ',),(' Fiji ',),(' Finland ',),(' France ',),(' Georgia ',),(' Germany ',),(' Ghana ',),(' Gibraltar ',),(' Greece ',),(' Guatemala ',),(' Guernsey ',),(' Honduras ',),(' Hong Kong ',),(' Hungary ',),(' Iceland ',),(' India ',),(' Indonesia ',),(' Iran ',),(' Iraq ',),(' Ireland ',),(' Isle of Man ',),(' Israel ',),(' Italy ',),(' Jamaica ',),(' Japan ',),(' Jersey ',),(' Jordan ',),(' Kazakhstan ',),(' Kenya ',),(' Kosovo ',),(' Kuwait ',),(' Latvia ',),(' Lebanon ',),(' Libya ',),(' Liechtenstein ',),(' Lithuania ',),(' Luxembourg ',),(' Macau ',),(' Macedonia ',),(' Malaysia ',),(' Maldives ',),(' Malta ',),(' Mauritius ',),(' Mexico ',),(' Monaco ',),(' Montenegro ',),(' Morocco ',),(' Mozambique ',),(' Namibia ',),(' Nepal ',),(' Netherlands ',),(' New Zealand ',),(' Nicaragua ',),(' Nigeria ',),(' Norway ',),(' Oman ',),(' Pakistan ',),(' Palestinian Territory ',),(' Panama ',),(' Peru ',),(' Philippines ',),(' Poland ',),(' Portugal ',),(' Puerto Rico ',),(' Qatar ',),(' Romania ',),(' Russia ',),(' Rwanda ',),(' Saudi Arabia ',),(' Serbia ',),(' Singapore ',),(' Slovakia ',),(' Slovenia ',),(' South Africa ',),(' South Korea ',),(' Spain ',),(' Sri Lanka ',),(' St Maarten ',),(' Sudan ',),(' Sweden ',),(' Switzerland ',),(' Taiwan ',),(' Tanzania ',),(' Thailand ',),(' Togo ',),(' Trinidad and Tobago ',),(' Turkey ',),(' Turks Caicos Islands ',),(' Uganda ',),(' Ukraine ',),(' United Arab Emirates ',),(' United Kingdom ',),(' United States Minor Outlying Islands ',),(' United States of America ',),(' Uruguay ',),(' Uzbekistan ',),(' Venezuela ',),(' Vietnam ',),(' Zambia ',),(' Zimbabwe ',),Days_since_review,"
     ]
    }
   ],
   "source": [
    "for i in concatend_n.columns:\n",
    "    print(i, end=',')"
   ]
  },
  {
   "cell_type": "code",
   "execution_count": 388,
   "id": "04ae2f18",
   "metadata": {},
   "outputs": [
    {
     "data": {
      "text/plain": [
       "0          0\n",
       "1          0\n",
       "2          3\n",
       "3          3\n",
       "4         10\n",
       "        ... \n",
       "19660    206\n",
       "19661    206\n",
       "19662    207\n",
       "19663    207\n",
       "19664    207\n",
       "Name: Days_since_review, Length: 19665, dtype: int64"
      ]
     },
     "execution_count": 388,
     "metadata": {},
     "output_type": "execute_result"
    }
   ],
   "source": [
    "concatend_n['Days_since_review']"
   ]
  },
  {
   "cell_type": "markdown",
   "id": "46ce35ff",
   "metadata": {},
   "source": [
    "Confirming that yes - this new column I am adding has datatypes of integer"
   ]
  },
  {
   "cell_type": "code",
   "execution_count": 389,
   "id": "9c7278e0",
   "metadata": {},
   "outputs": [
    {
     "data": {
      "text/plain": [
       "0         0 days\n",
       "1         0 days\n",
       "2         3 days\n",
       "3         3 days\n",
       "4        10 days\n",
       "          ...   \n",
       "19660    206 day\n",
       "19661    206 day\n",
       "19662    207 day\n",
       "19663    207 day\n",
       "19664    207 day\n",
       "Name: days_since_review, Length: 19665, dtype: object"
      ]
     },
     "execution_count": 389,
     "metadata": {},
     "output_type": "execute_result"
    }
   ],
   "source": [
    "concatend_n['days_since_review']"
   ]
  },
  {
   "cell_type": "markdown",
   "id": "e905a90e",
   "metadata": {},
   "source": [
    "The old column is still an object now I will drop it."
   ]
  },
  {
   "cell_type": "code",
   "execution_count": 390,
   "id": "373a482a",
   "metadata": {},
   "outputs": [],
   "source": [
    "concatend_n = concatend_n.drop(columns = 'days_since_review')"
   ]
  },
  {
   "cell_type": "code",
   "execution_count": 391,
   "id": "0253ccec",
   "metadata": {},
   "outputs": [
    {
     "data": {
      "text/plain": [
       "Index([              'Additional_Number_of_Scoring',\n",
       "                                      'Review_Date',\n",
       "                                    'Average_Score',\n",
       "                             'Reviewer_Nationality',\n",
       "                                  'Negative_Review',\n",
       "                'Review_Total_Negative_Word_Counts',\n",
       "                          'Total_Number_of_Reviews',\n",
       "                                  'Positive_Review',\n",
       "                'Review_Total_Positive_Word_Counts',\n",
       "       'Total_Number_of_Reviews_Reviewer_Has_Given',\n",
       "       ...\n",
       "                              (' United Kingdom ',),\n",
       "        (' United States Minor Outlying Islands ',),\n",
       "                    (' United States of America ',),\n",
       "                                     (' Uruguay ',),\n",
       "                                  (' Uzbekistan ',),\n",
       "                                   (' Venezuela ',),\n",
       "                                     (' Vietnam ',),\n",
       "                                      (' Zambia ',),\n",
       "                                    (' Zimbabwe ',),\n",
       "                                'Days_since_review'],\n",
       "      dtype='object', length=154)"
      ]
     },
     "execution_count": 391,
     "metadata": {},
     "output_type": "execute_result"
    }
   ],
   "source": [
    "concatend_n.columns"
   ]
  },
  {
   "cell_type": "markdown",
   "id": "7bd2cae7",
   "metadata": {},
   "source": [
    "I'm happy this is giving an error! This means it is dropped."
   ]
  },
  {
   "cell_type": "code",
   "execution_count": 392,
   "id": "358f63d3",
   "metadata": {},
   "outputs": [
    {
     "name": "stdout",
     "output_type": "stream",
     "text": [
      "<class 'pandas.core.frame.DataFrame'>\n",
      "Int64Index: 19665 entries, 0 to 19664\n",
      "Columns: 154 entries, Additional_Number_of_Scoring to Days_since_review\n",
      "dtypes: datetime64[ns](1), float64(3), int32(140), int64(6), object(4)\n",
      "memory usage: 12.8+ MB\n"
     ]
    }
   ],
   "source": [
    "concatend_n.info()"
   ]
  },
  {
   "cell_type": "markdown",
   "id": "991b48ad",
   "metadata": {},
   "source": [
    "#### Revisiting why we're dropping the Tags column and dropping it"
   ]
  },
  {
   "cell_type": "code",
   "execution_count": 393,
   "id": "9d6902b9",
   "metadata": {},
   "outputs": [
    {
     "data": {
      "text/plain": [
       "0        [' Leisure trip ', ' Couple ', ' Duplex Double...\n",
       "1        [' Leisure trip ', ' Couple ', ' Duplex Double...\n",
       "2        [' Leisure trip ', ' Family with young childre...\n",
       "3        [' Leisure trip ', ' Solo traveler ', ' Duplex...\n",
       "4        [' Leisure trip ', ' Couple ', ' Suite ', ' St...\n",
       "                               ...                        \n",
       "19660    [' Leisure trip ', ' Group ', ' Superior Doubl...\n",
       "19661    [' Leisure trip ', ' Couple ', ' Superior Doub...\n",
       "19662    [' Leisure trip ', ' Group ', ' Superior Twin ...\n",
       "19663    [' Leisure trip ', ' Couple ', ' Superior Doub...\n",
       "19664    [' Leisure trip ', ' Couple ', ' Superior Doub...\n",
       "Name: Tags, Length: 19665, dtype: object"
      ]
     },
     "execution_count": 393,
     "metadata": {},
     "output_type": "execute_result"
    }
   ],
   "source": [
    "concatend_n['Tags']"
   ]
  },
  {
   "cell_type": "markdown",
   "id": "22d45bd0",
   "metadata": {},
   "source": [
    "It's too variable and will take too long. I am going to drop it. Further explanation in EDA of the report."
   ]
  },
  {
   "cell_type": "code",
   "execution_count": 394,
   "id": "a8bb2c79",
   "metadata": {},
   "outputs": [],
   "source": [
    "concatend_n = concatend_n.drop(columns = ['Tags'])"
   ]
  },
  {
   "cell_type": "markdown",
   "id": "f1076e05",
   "metadata": {},
   "source": [
    "Now finally all the non-numeric columns have been converted to numeric, except for Tags. Also, positive and negative reviews columns have been kept."
   ]
  },
  {
   "cell_type": "markdown",
   "id": "8b394d17",
   "metadata": {},
   "source": [
    "### Split the data into train and test sets."
   ]
  },
  {
   "cell_type": "code",
   "execution_count": 395,
   "id": "f30884ad",
   "metadata": {},
   "outputs": [
    {
     "data": {
      "text/plain": [
       "Index([              'Additional_Number_of_Scoring',\n",
       "                                      'Review_Date',\n",
       "                                    'Average_Score',\n",
       "                             'Reviewer_Nationality',\n",
       "                                  'Negative_Review',\n",
       "                'Review_Total_Negative_Word_Counts',\n",
       "                          'Total_Number_of_Reviews',\n",
       "                                  'Positive_Review',\n",
       "                'Review_Total_Positive_Word_Counts',\n",
       "       'Total_Number_of_Reviews_Reviewer_Has_Given',\n",
       "       ...\n",
       "                              (' United Kingdom ',),\n",
       "        (' United States Minor Outlying Islands ',),\n",
       "                    (' United States of America ',),\n",
       "                                     (' Uruguay ',),\n",
       "                                  (' Uzbekistan ',),\n",
       "                                   (' Venezuela ',),\n",
       "                                     (' Vietnam ',),\n",
       "                                      (' Zambia ',),\n",
       "                                    (' Zimbabwe ',),\n",
       "                                'Days_since_review'],\n",
       "      dtype='object', length=153)"
      ]
     },
     "execution_count": 395,
     "metadata": {},
     "output_type": "execute_result"
    }
   ],
   "source": [
    "concatend_n.columns"
   ]
  },
  {
   "cell_type": "code",
   "execution_count": 396,
   "id": "ed2d6d86",
   "metadata": {},
   "outputs": [],
   "source": [
    "#forgot to drop nationality column before when I one hot encoded it. Doing so now!\n",
    "concatend_n = concatend_n.drop(columns=[\"Reviewer_Nationality\"])"
   ]
  },
  {
   "cell_type": "code",
   "execution_count": 397,
   "id": "7368ac55",
   "metadata": {},
   "outputs": [],
   "source": [
    "y = concatend_n['Reviewer_Score']\n",
    "X = concatend_n.drop(columns='Reviewer_Score')"
   ]
  },
  {
   "cell_type": "markdown",
   "id": "d3d51431",
   "metadata": {},
   "source": [
    "Finally splitting the data into train and test"
   ]
  },
  {
   "cell_type": "code",
   "execution_count": 398,
   "id": "c56e9e19",
   "metadata": {},
   "outputs": [],
   "source": [
    "from sklearn.model_selection import train_test_split\n",
    "\n",
    "X_train, X_test, y_train, y_test = train_test_split(X, y, test_size = .30)"
   ]
  },
  {
   "cell_type": "markdown",
   "id": "268bafdc",
   "metadata": {},
   "source": [
    "I am choosing a test size of 30% of the data. This is because my sample is quite small, and I want the training data to be diverse and well distributed. This is why I didn't got for an even smaller training size."
   ]
  },
  {
   "cell_type": "markdown",
   "id": "3b41dee4",
   "metadata": {},
   "source": [
    "### Use a count vectorizer to combine Positive_Review and Negative_Review with the numeric data (notice that this is done AFTER the train/test split). You should vectorize each column separately, ending up with two sparse matrixes, and then combine the three matrixes (numeric data, positive matrix, negative matrix). You may have to adjust the min_df parameter."
   ]
  },
  {
   "cell_type": "markdown",
   "id": "b54a0321",
   "metadata": {},
   "source": [
    "I want to see the impact of the min_df paramater while using CountVectorizer. So I am trying different values."
   ]
  },
  {
   "cell_type": "code",
   "execution_count": 399,
   "id": "9d63223a",
   "metadata": {
    "scrolled": true
   },
   "outputs": [
    {
     "name": "stdout",
     "output_type": "stream",
     "text": [
      "(13765, 6852)\n",
      "(13765, 3351)\n",
      "(13765, 2445)\n",
      "(13765, 1974)\n",
      "(13765, 1641)\n",
      "(13765, 1465)\n",
      "(13765, 1309)\n",
      "(13765, 1166)\n",
      "(13765, 1075)\n",
      "(13765, 983)\n",
      "(13765, 912)\n",
      "(13765, 846)\n",
      "(13765, 794)\n",
      "(13765, 749)\n"
     ]
    }
   ],
   "source": [
    "for i in range(1, 15):\n",
    "    PR_bagofwords = CountVectorizer(stop_words=\"english\", min_df=i, max_df=100)\n",
    "    PR_bagofwords.fit(X_train['Positive_Review'])\n",
    "\n",
    "    X_train_transformed = PR_bagofwords.transform(X_train['Positive_Review'])\n",
    "\n",
    "    print(X_train_transformed.shape)"
   ]
  },
  {
   "cell_type": "markdown",
   "id": "7083b30c",
   "metadata": {},
   "source": [
    "I'm going to ignore terms that apprear in less than 5 documents. This leaved me with a shape of 1641 columns."
   ]
  },
  {
   "cell_type": "code",
   "execution_count": 400,
   "id": "f78167e4",
   "metadata": {},
   "outputs": [
    {
     "data": {
      "text/plain": [
       "(13765, 1641)"
      ]
     },
     "execution_count": 400,
     "metadata": {},
     "output_type": "execute_result"
    }
   ],
   "source": [
    "\n",
    "PR_bagofwords = CountVectorizer(stop_words=\"english\", min_df=5, max_df=100)\n",
    "PR_bagofwords.fit(X_train['Positive_Review'])\n",
    "\n",
    "X_train_transformed = PR_bagofwords.transform(X_train['Positive_Review'])\n",
    "\n",
    "X_train_transformed.shape"
   ]
  },
  {
   "cell_type": "markdown",
   "id": "7d7a9eac",
   "metadata": {},
   "source": [
    "It looks like we lose a lot of columns as we adjust the min_df parameter. I'm not sure what do go with! Let's see negative reviews to decide as well."
   ]
  },
  {
   "cell_type": "code",
   "execution_count": 401,
   "id": "54366dab",
   "metadata": {},
   "outputs": [
    {
     "name": "stdout",
     "output_type": "stream",
     "text": [
      "(13765, 8949)\n",
      "(13765, 4551)\n",
      "(13765, 3319)\n",
      "(13765, 2683)\n",
      "(13765, 2248)\n",
      "(13765, 1976)\n",
      "(13765, 1774)\n",
      "(13765, 1610)\n",
      "(13765, 1473)\n",
      "(13765, 1360)\n",
      "(13765, 1268)\n",
      "(13765, 1189)\n",
      "(13765, 1103)\n",
      "(13765, 1027)\n"
     ]
    }
   ],
   "source": [
    "for i in range(1, 15):\n",
    "    NR_bagofwords = CountVectorizer(stop_words=\"english\", min_df=i, max_df=100)\n",
    "    NR_bagofwords.fit(X_train['Negative_Review'])\n",
    "\n",
    "    X_train_transformed_NR = NR_bagofwords.transform(X_train['Negative_Review'])\n",
    "\n",
    "    print(X_train_transformed_NR.shape)"
   ]
  },
  {
   "cell_type": "code",
   "execution_count": 415,
   "id": "5ca80f01",
   "metadata": {},
   "outputs": [
    {
     "data": {
      "text/plain": [
       "(13765, 1774)"
      ]
     },
     "execution_count": 415,
     "metadata": {},
     "output_type": "execute_result"
    }
   ],
   "source": [
    "NR_bagofwords = CountVectorizer(stop_words=\"english\", min_df=7, max_df=100)\n",
    "NR_bagofwords.fit(X_train['Negative_Review'])\n",
    "\n",
    "X_train_transformed_NR = NR_bagofwords.transform(X_train['Negative_Review'])\n",
    "\n",
    "X_train_transformed_NR.shape"
   ]
  },
  {
   "cell_type": "markdown",
   "id": "206ee68c",
   "metadata": {},
   "source": [
    "I'm going to ignore terms that apprear in less than 5 documents. This leaved me with a shape of 1774 columns. I chose this because it's similar to how I did it for the positive reviews - leaves less room for bias!"
   ]
  },
  {
   "cell_type": "markdown",
   "id": "17a19f07",
   "metadata": {},
   "source": [
    "Now I will convert the sparse matrices into dataframe. so i can add it to the overall large dataframe"
   ]
  },
  {
   "cell_type": "code",
   "execution_count": 403,
   "id": "c0af4df6",
   "metadata": {},
   "outputs": [
    {
     "name": "stderr",
     "output_type": "stream",
     "text": [
      "C:\\Users\\jsmba\\anaconda3\\lib\\site-packages\\sklearn\\utils\\deprecation.py:87: FutureWarning: Function get_feature_names is deprecated; get_feature_names is deprecated in 1.0 and will be removed in 1.2. Please use get_feature_names_out instead.\n",
      "  warnings.warn(msg, category=FutureWarning)\n"
     ]
    },
    {
     "data": {
      "text/html": [
       "<div>\n",
       "<style scoped>\n",
       "    .dataframe tbody tr th:only-of-type {\n",
       "        vertical-align: middle;\n",
       "    }\n",
       "\n",
       "    .dataframe tbody tr th {\n",
       "        vertical-align: top;\n",
       "    }\n",
       "\n",
       "    .dataframe thead th {\n",
       "        text-align: right;\n",
       "    }\n",
       "</style>\n",
       "<table border=\"1\" class=\"dataframe\">\n",
       "  <thead>\n",
       "    <tr style=\"text-align: right;\">\n",
       "      <th></th>\n",
       "      <th>00</th>\n",
       "      <th>02</th>\n",
       "      <th>100</th>\n",
       "      <th>10th</th>\n",
       "      <th>11</th>\n",
       "      <th>11th</th>\n",
       "      <th>12</th>\n",
       "      <th>12pm</th>\n",
       "      <th>13th</th>\n",
       "      <th>14</th>\n",
       "      <th>...</th>\n",
       "      <th>wouldn</th>\n",
       "      <th>wow</th>\n",
       "      <th>wrong</th>\n",
       "      <th>wrote</th>\n",
       "      <th>xx</th>\n",
       "      <th>year</th>\n",
       "      <th>years</th>\n",
       "      <th>yes</th>\n",
       "      <th>young</th>\n",
       "      <th>yummy</th>\n",
       "    </tr>\n",
       "  </thead>\n",
       "  <tbody>\n",
       "    <tr>\n",
       "      <th>0</th>\n",
       "      <td>0</td>\n",
       "      <td>0</td>\n",
       "      <td>0</td>\n",
       "      <td>0</td>\n",
       "      <td>0</td>\n",
       "      <td>0</td>\n",
       "      <td>0</td>\n",
       "      <td>0</td>\n",
       "      <td>0</td>\n",
       "      <td>0</td>\n",
       "      <td>...</td>\n",
       "      <td>0</td>\n",
       "      <td>0</td>\n",
       "      <td>0</td>\n",
       "      <td>0</td>\n",
       "      <td>0</td>\n",
       "      <td>0</td>\n",
       "      <td>0</td>\n",
       "      <td>0</td>\n",
       "      <td>0</td>\n",
       "      <td>0</td>\n",
       "    </tr>\n",
       "    <tr>\n",
       "      <th>1</th>\n",
       "      <td>0</td>\n",
       "      <td>0</td>\n",
       "      <td>0</td>\n",
       "      <td>0</td>\n",
       "      <td>0</td>\n",
       "      <td>0</td>\n",
       "      <td>0</td>\n",
       "      <td>0</td>\n",
       "      <td>0</td>\n",
       "      <td>0</td>\n",
       "      <td>...</td>\n",
       "      <td>0</td>\n",
       "      <td>0</td>\n",
       "      <td>0</td>\n",
       "      <td>0</td>\n",
       "      <td>0</td>\n",
       "      <td>0</td>\n",
       "      <td>0</td>\n",
       "      <td>0</td>\n",
       "      <td>0</td>\n",
       "      <td>0</td>\n",
       "    </tr>\n",
       "    <tr>\n",
       "      <th>2</th>\n",
       "      <td>0</td>\n",
       "      <td>0</td>\n",
       "      <td>0</td>\n",
       "      <td>0</td>\n",
       "      <td>0</td>\n",
       "      <td>0</td>\n",
       "      <td>0</td>\n",
       "      <td>0</td>\n",
       "      <td>0</td>\n",
       "      <td>0</td>\n",
       "      <td>...</td>\n",
       "      <td>0</td>\n",
       "      <td>0</td>\n",
       "      <td>0</td>\n",
       "      <td>0</td>\n",
       "      <td>0</td>\n",
       "      <td>0</td>\n",
       "      <td>0</td>\n",
       "      <td>0</td>\n",
       "      <td>0</td>\n",
       "      <td>0</td>\n",
       "    </tr>\n",
       "    <tr>\n",
       "      <th>3</th>\n",
       "      <td>0</td>\n",
       "      <td>0</td>\n",
       "      <td>0</td>\n",
       "      <td>0</td>\n",
       "      <td>0</td>\n",
       "      <td>0</td>\n",
       "      <td>0</td>\n",
       "      <td>0</td>\n",
       "      <td>0</td>\n",
       "      <td>0</td>\n",
       "      <td>...</td>\n",
       "      <td>0</td>\n",
       "      <td>0</td>\n",
       "      <td>0</td>\n",
       "      <td>0</td>\n",
       "      <td>0</td>\n",
       "      <td>0</td>\n",
       "      <td>0</td>\n",
       "      <td>0</td>\n",
       "      <td>0</td>\n",
       "      <td>0</td>\n",
       "    </tr>\n",
       "    <tr>\n",
       "      <th>4</th>\n",
       "      <td>0</td>\n",
       "      <td>0</td>\n",
       "      <td>0</td>\n",
       "      <td>0</td>\n",
       "      <td>0</td>\n",
       "      <td>0</td>\n",
       "      <td>0</td>\n",
       "      <td>0</td>\n",
       "      <td>0</td>\n",
       "      <td>0</td>\n",
       "      <td>...</td>\n",
       "      <td>0</td>\n",
       "      <td>0</td>\n",
       "      <td>0</td>\n",
       "      <td>0</td>\n",
       "      <td>0</td>\n",
       "      <td>0</td>\n",
       "      <td>0</td>\n",
       "      <td>0</td>\n",
       "      <td>0</td>\n",
       "      <td>0</td>\n",
       "    </tr>\n",
       "  </tbody>\n",
       "</table>\n",
       "<p>5 rows × 1641 columns</p>\n",
       "</div>"
      ],
      "text/plain": [
       "   00  02  100  10th  11  11th  12  12pm  13th  14  ...  wouldn  wow  wrong  \\\n",
       "0   0   0    0     0   0     0   0     0     0   0  ...       0    0      0   \n",
       "1   0   0    0     0   0     0   0     0     0   0  ...       0    0      0   \n",
       "2   0   0    0     0   0     0   0     0     0   0  ...       0    0      0   \n",
       "3   0   0    0     0   0     0   0     0     0   0  ...       0    0      0   \n",
       "4   0   0    0     0   0     0   0     0     0   0  ...       0    0      0   \n",
       "\n",
       "   wrote  xx  year  years  yes  young  yummy  \n",
       "0      0   0     0      0    0      0      0  \n",
       "1      0   0     0      0    0      0      0  \n",
       "2      0   0     0      0    0      0      0  \n",
       "3      0   0     0      0    0      0      0  \n",
       "4      0   0     0      0    0      0      0  \n",
       "\n",
       "[5 rows x 1641 columns]"
      ]
     },
     "execution_count": 403,
     "metadata": {},
     "output_type": "execute_result"
    }
   ],
   "source": [
    "posrevs_df = pd.DataFrame(columns=PR_bagofwords.get_feature_names(), data=X_train_transformed.toarray())\n",
    "posrevs_df.head()"
   ]
  },
  {
   "cell_type": "code",
   "execution_count": 404,
   "id": "462aaf03",
   "metadata": {},
   "outputs": [
    {
     "name": "stderr",
     "output_type": "stream",
     "text": [
      "C:\\Users\\jsmba\\anaconda3\\lib\\site-packages\\sklearn\\utils\\deprecation.py:87: FutureWarning: Function get_feature_names is deprecated; get_feature_names is deprecated in 1.0 and will be removed in 1.2. Please use get_feature_names_out instead.\n",
      "  warnings.warn(msg, category=FutureWarning)\n"
     ]
    },
    {
     "data": {
      "text/html": [
       "<div>\n",
       "<style scoped>\n",
       "    .dataframe tbody tr th:only-of-type {\n",
       "        vertical-align: middle;\n",
       "    }\n",
       "\n",
       "    .dataframe tbody tr th {\n",
       "        vertical-align: top;\n",
       "    }\n",
       "\n",
       "    .dataframe thead th {\n",
       "        text-align: right;\n",
       "    }\n",
       "</style>\n",
       "<table border=\"1\" class=\"dataframe\">\n",
       "  <thead>\n",
       "    <tr style=\"text-align: right;\">\n",
       "      <th></th>\n",
       "      <th>00</th>\n",
       "      <th>00am</th>\n",
       "      <th>00pm</th>\n",
       "      <th>02</th>\n",
       "      <th>100</th>\n",
       "      <th>10pm</th>\n",
       "      <th>11</th>\n",
       "      <th>11am</th>\n",
       "      <th>11pm</th>\n",
       "      <th>12</th>\n",
       "      <th>...</th>\n",
       "      <th>writing</th>\n",
       "      <th>written</th>\n",
       "      <th>wrong</th>\n",
       "      <th>yard</th>\n",
       "      <th>year</th>\n",
       "      <th>years</th>\n",
       "      <th>yellow</th>\n",
       "      <th>yes</th>\n",
       "      <th>young</th>\n",
       "      <th>zero</th>\n",
       "    </tr>\n",
       "  </thead>\n",
       "  <tbody>\n",
       "    <tr>\n",
       "      <th>0</th>\n",
       "      <td>0</td>\n",
       "      <td>0</td>\n",
       "      <td>0</td>\n",
       "      <td>0</td>\n",
       "      <td>0</td>\n",
       "      <td>0</td>\n",
       "      <td>0</td>\n",
       "      <td>0</td>\n",
       "      <td>0</td>\n",
       "      <td>0</td>\n",
       "      <td>...</td>\n",
       "      <td>0</td>\n",
       "      <td>0</td>\n",
       "      <td>0</td>\n",
       "      <td>0</td>\n",
       "      <td>0</td>\n",
       "      <td>0</td>\n",
       "      <td>0</td>\n",
       "      <td>0</td>\n",
       "      <td>0</td>\n",
       "      <td>0</td>\n",
       "    </tr>\n",
       "    <tr>\n",
       "      <th>1</th>\n",
       "      <td>0</td>\n",
       "      <td>0</td>\n",
       "      <td>0</td>\n",
       "      <td>0</td>\n",
       "      <td>0</td>\n",
       "      <td>0</td>\n",
       "      <td>0</td>\n",
       "      <td>0</td>\n",
       "      <td>0</td>\n",
       "      <td>0</td>\n",
       "      <td>...</td>\n",
       "      <td>0</td>\n",
       "      <td>0</td>\n",
       "      <td>0</td>\n",
       "      <td>0</td>\n",
       "      <td>0</td>\n",
       "      <td>0</td>\n",
       "      <td>0</td>\n",
       "      <td>0</td>\n",
       "      <td>0</td>\n",
       "      <td>0</td>\n",
       "    </tr>\n",
       "    <tr>\n",
       "      <th>2</th>\n",
       "      <td>0</td>\n",
       "      <td>0</td>\n",
       "      <td>0</td>\n",
       "      <td>0</td>\n",
       "      <td>0</td>\n",
       "      <td>0</td>\n",
       "      <td>0</td>\n",
       "      <td>0</td>\n",
       "      <td>0</td>\n",
       "      <td>0</td>\n",
       "      <td>...</td>\n",
       "      <td>0</td>\n",
       "      <td>0</td>\n",
       "      <td>0</td>\n",
       "      <td>0</td>\n",
       "      <td>0</td>\n",
       "      <td>0</td>\n",
       "      <td>0</td>\n",
       "      <td>0</td>\n",
       "      <td>0</td>\n",
       "      <td>0</td>\n",
       "    </tr>\n",
       "    <tr>\n",
       "      <th>3</th>\n",
       "      <td>0</td>\n",
       "      <td>0</td>\n",
       "      <td>0</td>\n",
       "      <td>0</td>\n",
       "      <td>0</td>\n",
       "      <td>0</td>\n",
       "      <td>0</td>\n",
       "      <td>0</td>\n",
       "      <td>0</td>\n",
       "      <td>0</td>\n",
       "      <td>...</td>\n",
       "      <td>0</td>\n",
       "      <td>0</td>\n",
       "      <td>0</td>\n",
       "      <td>0</td>\n",
       "      <td>0</td>\n",
       "      <td>0</td>\n",
       "      <td>0</td>\n",
       "      <td>0</td>\n",
       "      <td>0</td>\n",
       "      <td>0</td>\n",
       "    </tr>\n",
       "    <tr>\n",
       "      <th>4</th>\n",
       "      <td>0</td>\n",
       "      <td>0</td>\n",
       "      <td>0</td>\n",
       "      <td>0</td>\n",
       "      <td>0</td>\n",
       "      <td>0</td>\n",
       "      <td>0</td>\n",
       "      <td>0</td>\n",
       "      <td>0</td>\n",
       "      <td>0</td>\n",
       "      <td>...</td>\n",
       "      <td>0</td>\n",
       "      <td>0</td>\n",
       "      <td>0</td>\n",
       "      <td>0</td>\n",
       "      <td>0</td>\n",
       "      <td>0</td>\n",
       "      <td>0</td>\n",
       "      <td>0</td>\n",
       "      <td>0</td>\n",
       "      <td>0</td>\n",
       "    </tr>\n",
       "  </tbody>\n",
       "</table>\n",
       "<p>5 rows × 2248 columns</p>\n",
       "</div>"
      ],
      "text/plain": [
       "   00  00am  00pm  02  100  10pm  11  11am  11pm  12  ...  writing  written  \\\n",
       "0   0     0     0   0    0     0   0     0     0   0  ...        0        0   \n",
       "1   0     0     0   0    0     0   0     0     0   0  ...        0        0   \n",
       "2   0     0     0   0    0     0   0     0     0   0  ...        0        0   \n",
       "3   0     0     0   0    0     0   0     0     0   0  ...        0        0   \n",
       "4   0     0     0   0    0     0   0     0     0   0  ...        0        0   \n",
       "\n",
       "   wrong  yard  year  years  yellow  yes  young  zero  \n",
       "0      0     0     0      0       0    0      0     0  \n",
       "1      0     0     0      0       0    0      0     0  \n",
       "2      0     0     0      0       0    0      0     0  \n",
       "3      0     0     0      0       0    0      0     0  \n",
       "4      0     0     0      0       0    0      0     0  \n",
       "\n",
       "[5 rows x 2248 columns]"
      ]
     },
     "execution_count": 404,
     "metadata": {},
     "output_type": "execute_result"
    }
   ],
   "source": [
    "negrevs_df = pd.DataFrame(columns=NR_bagofwords.get_feature_names(), data=X_train_transformed_NR.toarray())\n",
    "negrevs_df.head()"
   ]
  },
  {
   "cell_type": "code",
   "execution_count": null,
   "id": "92a19ad5",
   "metadata": {},
   "outputs": [],
   "source": []
  },
  {
   "cell_type": "markdown",
   "id": "643256b2",
   "metadata": {},
   "source": [
    "Joining the \"dummied\" dataset to the overall dataset."
   ]
  },
  {
   "cell_type": "code",
   "execution_count": 405,
   "id": "13c51a84",
   "metadata": {},
   "outputs": [],
   "source": [
    "almost_final_df = pd.concat([concatend_n, posrevs_df], axis=\"columns\")"
   ]
  },
  {
   "cell_type": "code",
   "execution_count": 410,
   "id": "b42d34be",
   "metadata": {},
   "outputs": [],
   "source": [
    "final_df = pd.concat([almost_final_df, negrevs_df], axis=\"columns\")"
   ]
  },
  {
   "cell_type": "code",
   "execution_count": 411,
   "id": "acdd1ac7",
   "metadata": {},
   "outputs": [
    {
     "name": "stdout",
     "output_type": "stream",
     "text": [
      "<class 'pandas.core.frame.DataFrame'>\n",
      "Int64Index: 19665 entries, 0 to 19664\n",
      "Columns: 4041 entries, Additional_Number_of_Scoring to zero\n",
      "dtypes: datetime64[ns](1), float64(3892), int32(140), int64(6), object(2)\n",
      "memory usage: 595.9+ MB\n"
     ]
    }
   ],
   "source": [
    "final_df.info()"
   ]
  },
  {
   "cell_type": "code",
   "execution_count": 414,
   "id": "c9cf0928",
   "metadata": {},
   "outputs": [
    {
     "name": "stdout",
     "output_type": "stream",
     "text": [
      "['Negative_Review', 'Positive_Review']\n"
     ]
    },
    {
     "name": "stderr",
     "output_type": "stream",
     "text": [
      "C:\\Users\\jsmba\\AppData\\Local\\Temp/ipykernel_37896/1998871600.py:2: DeprecationWarning: `np.object` is a deprecated alias for the builtin `object`. To silence this warning, use `object` by itself. Doing this will not modify any behavior and is safe. \n",
      "Deprecated in NumPy 1.20; for more details and guidance: https://numpy.org/devdocs/release/1.20.0-notes.html#deprecations\n",
      "  filteredColumns = final_df.dtypes[final_df.dtypes == np.object]\n"
     ]
    }
   ],
   "source": [
    "#support for this code: https://thispointer.com/how-to-get-check-data-types-of-dataframe-columns-in-python-pandas/\n",
    "filteredColumns = final_df.dtypes[final_df.dtypes == np.object]\n",
    "# list of columns whose data type is object i.e. string\n",
    "listOfColumnNames = list(filteredColumns.index)\n",
    "print(listOfColumnNames)"
   ]
  },
  {
   "cell_type": "markdown",
   "id": "6a0ce039",
   "metadata": {},
   "source": [
    "We can see that the requirement is met, - we used \"a count vectorizer to combine Positive_Review and Negative_Review with the numeric data\". This can be found in dinal_df"
   ]
  },
  {
   "cell_type": "markdown",
   "id": "98084772",
   "metadata": {},
   "source": [
    "### What does the min_df parameter do?"
   ]
  },
  {
   "cell_type": "markdown",
   "id": "40c063bb",
   "metadata": {},
   "source": [
    "The min_df parameter removes words used too frequently. For example 'the', 'of' and many others. We only care about quality words that would give us meaningful insights about what would lead to a specific review score.<br> If we put the number 30, for example, it will ignore words that come up in less than 30 documents. We can also put a floating value for this paraemeter. So if min_df = 0.05, we will ignore words that show up in less than 5% of all the reviews."
   ]
  },
  {
   "cell_type": "markdown",
   "id": "bdf7453f",
   "metadata": {},
   "source": [
    "Re-showinf earlier code:"
   ]
  },
  {
   "attachments": {
    "image.png": {
     "image/png": "[encoded data removed]"
    }
   },
   "cell_type": "markdown",
   "id": "79f90473",
   "metadata": {},
   "source": [
    "![image.png](attachment:image.png)"
   ]
  },
  {
   "cell_type": "markdown",
   "id": "e262e993",
   "metadata": {},
   "source": [
    "So in this example words are made into columns/dummies that appear in less than n number of reviews should be discarded, while all other words are kept. Words that appear less frequently may not be so important, which is why we ignore those infrequent words using the min_df parameter."
   ]
  },
  {
   "cell_type": "markdown",
   "id": "8ebb45e4",
   "metadata": {},
   "source": [
    "Citation - class jupyter notebooks"
   ]
  }
 ],
 "metadata": {
  "kernelspec": {
   "display_name": "Python 3 (ipykernel)",
   "language": "python",
   "name": "python3"
  },
  "language_info": {
   "codemirror_mode": {
    "name": "ipython",
    "version": 3
   },
   "file_extension": ".py",
   "mimetype": "text/x-python",
   "name": "python",
   "nbconvert_exporter": "python",
   "pygments_lexer": "ipython3",
   "version": "3.9.7"
  }
 },
 "nbformat": 4,
 "nbformat_minor": 5
}
