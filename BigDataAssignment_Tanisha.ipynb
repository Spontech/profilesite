{
 "cells": [
  {
   "cell_type": "code",
   "execution_count": 1,
   "id": "0bb6ae46",
   "metadata": {},
   "outputs": [],
   "source": [
    "import pandas as pd"
   ]
  },
  {
   "cell_type": "code",
   "execution_count": 9,
   "id": "c35b86bf",
   "metadata": {},
   "outputs": [
    {
     "name": "stdout",
     "output_type": "stream",
     "text": [
      "Requirement already satisfied: s3fs in c:\\users\\jsmba\\anaconda3\\lib\\site-packages (2022.5.0)\n",
      "Requirement already satisfied: fsspec==2022.5.0 in c:\\users\\jsmba\\anaconda3\\lib\\site-packages (from s3fs) (2022.5.0)\n",
      "Requirement already satisfied: aiohttp<=4 in c:\\users\\jsmba\\anaconda3\\lib\\site-packages (from s3fs) (3.8.1)\n",
      "Requirement already satisfied: aiobotocore~=2.3.0 in c:\\users\\jsmba\\anaconda3\\lib\\site-packages (from s3fs) (2.3.3)\n",
      "Requirement already satisfied: wrapt>=1.10.10 in c:\\users\\jsmba\\anaconda3\\lib\\site-packages (from aiobotocore~=2.3.0->s3fs) (1.12.1)\n",
      "Requirement already satisfied: botocore<1.24.22,>=1.24.21 in c:\\users\\jsmba\\anaconda3\\lib\\site-packages (from aiobotocore~=2.3.0->s3fs) (1.24.21)\n",
      "Requirement already satisfied: aioitertools>=0.5.1 in c:\\users\\jsmba\\anaconda3\\lib\\site-packages (from aiobotocore~=2.3.0->s3fs) (0.10.0)\n",
      "Requirement already satisfied: attrs>=17.3.0 in c:\\users\\jsmba\\anaconda3\\lib\\site-packages (from aiohttp<=4->s3fs) (21.2.0)\n",
      "Requirement already satisfied: aiosignal>=1.1.2 in c:\\users\\jsmba\\anaconda3\\lib\\site-packages (from aiohttp<=4->s3fs) (1.2.0)\n",
      "Requirement already satisfied: async-timeout<5.0,>=4.0.0a3 in c:\\users\\jsmba\\anaconda3\\lib\\site-packages (from aiohttp<=4->s3fs) (4.0.2)\n",
      "Requirement already satisfied: multidict<7.0,>=4.5 in c:\\users\\jsmba\\anaconda3\\lib\\site-packages (from aiohttp<=4->s3fs) (6.0.2)\n",
      "Requirement already satisfied: charset-normalizer<3.0,>=2.0 in c:\\users\\jsmba\\anaconda3\\lib\\site-packages (from aiohttp<=4->s3fs) (2.0.4)\n",
      "Requirement already satisfied: frozenlist>=1.1.1 in c:\\users\\jsmba\\anaconda3\\lib\\site-packages (from aiohttp<=4->s3fs) (1.3.0)\n",
      "Requirement already satisfied: yarl<2.0,>=1.0 in c:\\users\\jsmba\\anaconda3\\lib\\site-packages (from aiohttp<=4->s3fs) (1.7.2)Note: you may need to restart the kernel to use updated packages.\n",
      "\n",
      "Requirement already satisfied: typing_extensions>=4.0 in c:\\users\\jsmba\\anaconda3\\lib\\site-packages (from aioitertools>=0.5.1->aiobotocore~=2.3.0->s3fs) (4.2.0)\n",
      "Requirement already satisfied: jmespath<2.0.0,>=0.7.1 in c:\\users\\jsmba\\anaconda3\\lib\\site-packages (from botocore<1.24.22,>=1.24.21->aiobotocore~=2.3.0->s3fs) (1.0.1)\n",
      "Requirement already satisfied: python-dateutil<3.0.0,>=2.1 in c:\\users\\jsmba\\anaconda3\\lib\\site-packages (from botocore<1.24.22,>=1.24.21->aiobotocore~=2.3.0->s3fs) (2.8.2)\n",
      "Requirement already satisfied: urllib3<1.27,>=1.25.4 in c:\\users\\jsmba\\anaconda3\\lib\\site-packages (from botocore<1.24.22,>=1.24.21->aiobotocore~=2.3.0->s3fs) (1.26.7)\n",
      "Requirement already satisfied: six>=1.5 in c:\\users\\jsmba\\anaconda3\\lib\\site-packages (from python-dateutil<3.0.0,>=2.1->botocore<1.24.22,>=1.24.21->aiobotocore~=2.3.0->s3fs) (1.16.0)\n",
      "Requirement already satisfied: idna>=2.0 in c:\\users\\jsmba\\anaconda3\\lib\\site-packages (from yarl<2.0,>=1.0->aiohttp<=4->s3fs) (3.2)\n"
     ]
    }
   ],
   "source": [
    "pip install s3fs"
   ]
  },
  {
   "cell_type": "code",
   "execution_count": 6,
   "id": "4130bec9",
   "metadata": {},
   "outputs": [],
   "source": [
    "df = pd.read_csv('s3://gngrams123/Result_NGrams/results.csv/part-00023-a72be857-52c7-4327-b4e1-0abae834e615-c000.csv')"
   ]
  },
  {
   "cell_type": "code",
   "execution_count": 7,
   "id": "beea5299",
   "metadata": {},
   "outputs": [
    {
     "data": {
      "text/html": [
       "<div>\n",
       "<style scoped>\n",
       "    .dataframe tbody tr th:only-of-type {\n",
       "        vertical-align: middle;\n",
       "    }\n",
       "\n",
       "    .dataframe tbody tr th {\n",
       "        vertical-align: top;\n",
       "    }\n",
       "\n",
       "    .dataframe thead th {\n",
       "        text-align: right;\n",
       "    }\n",
       "</style>\n",
       "<table border=\"1\" class=\"dataframe\">\n",
       "  <thead>\n",
       "    <tr style=\"text-align: right;\">\n",
       "      <th></th>\n",
       "      <th>data</th>\n",
       "      <th>1584</th>\n",
       "      <th>16</th>\n",
       "      <th>14</th>\n",
       "      <th>1</th>\n",
       "    </tr>\n",
       "  </thead>\n",
       "  <tbody>\n",
       "    <tr>\n",
       "      <th>0</th>\n",
       "      <td>data</td>\n",
       "      <td>1614</td>\n",
       "      <td>3</td>\n",
       "      <td>2</td>\n",
       "      <td>1</td>\n",
       "    </tr>\n",
       "    <tr>\n",
       "      <th>1</th>\n",
       "      <td>data</td>\n",
       "      <td>1627</td>\n",
       "      <td>1</td>\n",
       "      <td>1</td>\n",
       "      <td>1</td>\n",
       "    </tr>\n",
       "    <tr>\n",
       "      <th>2</th>\n",
       "      <td>data</td>\n",
       "      <td>1631</td>\n",
       "      <td>22</td>\n",
       "      <td>18</td>\n",
       "      <td>1</td>\n",
       "    </tr>\n",
       "    <tr>\n",
       "      <th>3</th>\n",
       "      <td>data</td>\n",
       "      <td>1637</td>\n",
       "      <td>1</td>\n",
       "      <td>1</td>\n",
       "      <td>1</td>\n",
       "    </tr>\n",
       "    <tr>\n",
       "      <th>4</th>\n",
       "      <td>data</td>\n",
       "      <td>1638</td>\n",
       "      <td>2</td>\n",
       "      <td>2</td>\n",
       "      <td>1</td>\n",
       "    </tr>\n",
       "  </tbody>\n",
       "</table>\n",
       "</div>"
      ],
      "text/plain": [
       "   data  1584  16  14  1\n",
       "0  data  1614   3   2  1\n",
       "1  data  1627   1   1  1\n",
       "2  data  1631  22  18  1\n",
       "3  data  1637   1   1  1\n",
       "4  data  1638   2   2  1"
      ]
     },
     "execution_count": 7,
     "metadata": {},
     "output_type": "execute_result"
    }
   ],
   "source": [
    "df.head()"
   ]
  },
  {
   "cell_type": "code",
   "execution_count": 11,
   "id": "a6bf666a",
   "metadata": {},
   "outputs": [],
   "source": [
    "new_df = df = pd.read_csv('s3://gngrams123/Result_NGrams/results.csv/part-00023-a72be857-52c7-4327-b4e1-0abae834e615-c000.csv',names = ['token', 'year', 'frequency','pages','books'])"
   ]
  },
  {
   "cell_type": "code",
   "execution_count": 12,
   "id": "bbcae0be",
   "metadata": {},
   "outputs": [
    {
     "data": {
      "text/html": [
       "<div>\n",
       "<style scoped>\n",
       "    .dataframe tbody tr th:only-of-type {\n",
       "        vertical-align: middle;\n",
       "    }\n",
       "\n",
       "    .dataframe tbody tr th {\n",
       "        vertical-align: top;\n",
       "    }\n",
       "\n",
       "    .dataframe thead th {\n",
       "        text-align: right;\n",
       "    }\n",
       "</style>\n",
       "<table border=\"1\" class=\"dataframe\">\n",
       "  <thead>\n",
       "    <tr style=\"text-align: right;\">\n",
       "      <th></th>\n",
       "      <th>token</th>\n",
       "      <th>year</th>\n",
       "      <th>frequency</th>\n",
       "      <th>pages</th>\n",
       "      <th>books</th>\n",
       "    </tr>\n",
       "  </thead>\n",
       "  <tbody>\n",
       "    <tr>\n",
       "      <th>0</th>\n",
       "      <td>data</td>\n",
       "      <td>1584</td>\n",
       "      <td>16</td>\n",
       "      <td>14</td>\n",
       "      <td>1</td>\n",
       "    </tr>\n",
       "    <tr>\n",
       "      <th>1</th>\n",
       "      <td>data</td>\n",
       "      <td>1614</td>\n",
       "      <td>3</td>\n",
       "      <td>2</td>\n",
       "      <td>1</td>\n",
       "    </tr>\n",
       "    <tr>\n",
       "      <th>2</th>\n",
       "      <td>data</td>\n",
       "      <td>1627</td>\n",
       "      <td>1</td>\n",
       "      <td>1</td>\n",
       "      <td>1</td>\n",
       "    </tr>\n",
       "    <tr>\n",
       "      <th>3</th>\n",
       "      <td>data</td>\n",
       "      <td>1631</td>\n",
       "      <td>22</td>\n",
       "      <td>18</td>\n",
       "      <td>1</td>\n",
       "    </tr>\n",
       "    <tr>\n",
       "      <th>4</th>\n",
       "      <td>data</td>\n",
       "      <td>1637</td>\n",
       "      <td>1</td>\n",
       "      <td>1</td>\n",
       "      <td>1</td>\n",
       "    </tr>\n",
       "  </tbody>\n",
       "</table>\n",
       "</div>"
      ],
      "text/plain": [
       "  token  year  frequency  pages  books\n",
       "0  data  1584         16     14      1\n",
       "1  data  1614          3      2      1\n",
       "2  data  1627          1      1      1\n",
       "3  data  1631         22     18      1\n",
       "4  data  1637          1      1      1"
      ]
     },
     "execution_count": 12,
     "metadata": {},
     "output_type": "execute_result"
    }
   ],
   "source": [
    "new_df.head()"
   ]
  },
  {
   "attachments": {
    "image.png": {
     "image/png": "[encoded data removed]"
    }
   },
   "cell_type": "markdown",
   "id": "d45e102a",
   "metadata": {},
   "source": [
    "![image.png](attachment:image.png)"
   ]
  },
  {
   "cell_type": "code",
   "execution_count": 43,
   "id": "de041304",
   "metadata": {},
   "outputs": [
    {
     "name": "stdout",
     "output_type": "stream",
     "text": [
      "<class 'pandas.core.frame.DataFrame'>\n",
      "RangeIndex: 316 entries, 0 to 315\n",
      "Data columns (total 5 columns):\n",
      " #   Column     Non-Null Count  Dtype \n",
      "---  ------     --------------  ----- \n",
      " 0   token      316 non-null    object\n",
      " 1   year       316 non-null    int64 \n",
      " 2   frequency  316 non-null    int64 \n",
      " 3   pages      316 non-null    int64 \n",
      " 4   books      316 non-null    int64 \n",
      "dtypes: int64(4), object(1)\n",
      "memory usage: 12.5+ KB\n"
     ]
    }
   ],
   "source": [
    "new_df.info()"
   ]
  },
  {
   "cell_type": "code",
   "execution_count": 46,
   "id": "82924bfd",
   "metadata": {},
   "outputs": [
    {
     "name": "stdout",
     "output_type": "stream",
     "text": [
      "2008\n",
      "<class 'int'>\n"
     ]
    }
   ],
   "source": [
    "maxx = new_df['year'].max()\n",
    "print(maxx)\n",
    "print(type(maxx))"
   ]
  },
  {
   "cell_type": "code",
   "execution_count": 48,
   "id": "3f25db6f",
   "metadata": {},
   "outputs": [
    {
     "name": "stdout",
     "output_type": "stream",
     "text": [
      "1584\n",
      "<class 'int'>\n"
     ]
    }
   ],
   "source": [
    "minn = new_df['year'].min()\n",
    "print(minn)\n",
    "print(type(minn))"
   ]
  },
  {
   "cell_type": "code",
   "execution_count": 59,
   "id": "0ca8f9d2",
   "metadata": {},
   "outputs": [],
   "source": [
    "import numpy as np"
   ]
  },
  {
   "cell_type": "code",
   "execution_count": 60,
   "id": "69b3310a",
   "metadata": {},
   "outputs": [
    {
     "data": {
      "image/png": "[encoded data removed]",
      "text/plain": [
       "<Figure size 432x288 with 1 Axes>"
      ]
     },
     "metadata": {
      "needs_background": "light"
     },
     "output_type": "display_data"
    }
   ],
   "source": [
    "plt.figure()\n",
    "plt.bar(new_df['year'],new_df['frequency'], color = \"b\")\n",
    "plt.xticks(rotation='vertical')\n",
    "plt.xticks(np.arange(minn,maxx,step=50))\n",
    "plt.xlabel('Years')\n",
    "plt.ylabel('Frequency')\n",
    "#plt.yticks(rotation = 10)\n",
    "plt.title('Frequency of \"data\" token over the years')\n",
    "plt.show()"
   ]
  },
  {
   "cell_type": "code",
   "execution_count": null,
   "id": "7539d74d",
   "metadata": {},
   "outputs": [],
   "source": []
  },
  {
   "cell_type": "code",
   "execution_count": null,
   "id": "a6528058",
   "metadata": {},
   "outputs": [],
   "source": []
  },
  {
   "cell_type": "code",
   "execution_count": null,
   "id": "a4443cd5",
   "metadata": {},
   "outputs": [],
   "source": []
  },
  {
   "cell_type": "code",
   "execution_count": null,
   "id": "5db45920",
   "metadata": {},
   "outputs": [],
   "source": []
  }
 ],
 "metadata": {
  "kernelspec": {
   "display_name": "cloud_lab",
   "language": "python",
   "name": "cloud_lab"
  },
  "language_info": {
   "codemirror_mode": {
    "name": "ipython",
    "version": 3
   },
   "file_extension": ".py",
   "mimetype": "text/x-python",
   "name": "python",
   "nbconvert_exporter": "python",
   "pygments_lexer": "ipython3",
   "version": "3.9.7"
  }
 },
 "nbformat": 4,
 "nbformat_minor": 5
}
